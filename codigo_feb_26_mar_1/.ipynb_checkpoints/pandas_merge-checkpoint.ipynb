{
 "cells": [
  {
   "cell_type": "markdown",
   "id": "56935548",
   "metadata": {},
   "source": [
    "## Mezcla de 3 DF con la función merge"
   ]
  },
  {
   "cell_type": "code",
   "execution_count": 1,
   "id": "910a9c75",
   "metadata": {},
   "outputs": [],
   "source": [
    "import pandas as pd"
   ]
  },
  {
   "cell_type": "code",
   "execution_count": 4,
   "id": "4ac0dfd9",
   "metadata": {},
   "outputs": [],
   "source": [
    "path = \"../../practicas/avanzado2/pandas/merge/\""
   ]
  },
  {
   "cell_type": "code",
   "execution_count": 5,
   "id": "df11e7fa",
   "metadata": {},
   "outputs": [
    {
     "data": {
      "text/html": [
       "<div>\n",
       "<style scoped>\n",
       "    .dataframe tbody tr th:only-of-type {\n",
       "        vertical-align: middle;\n",
       "    }\n",
       "\n",
       "    .dataframe tbody tr th {\n",
       "        vertical-align: top;\n",
       "    }\n",
       "\n",
       "    .dataframe thead th {\n",
       "        text-align: right;\n",
       "    }\n",
       "</style>\n",
       "<table border=\"1\" class=\"dataframe\">\n",
       "  <thead>\n",
       "    <tr style=\"text-align: right;\">\n",
       "      <th></th>\n",
       "      <th>idpedido</th>\n",
       "      <th>cliente</th>\n",
       "      <th>idempleado</th>\n",
       "      <th>idempresa</th>\n",
       "      <th>importe</th>\n",
       "      <th>pais</th>\n",
       "    </tr>\n",
       "  </thead>\n",
       "  <tbody>\n",
       "    <tr>\n",
       "      <th>0</th>\n",
       "      <td>10248</td>\n",
       "      <td>WILMK</td>\n",
       "      <td>5</td>\n",
       "      <td>3</td>\n",
       "      <td>32.38</td>\n",
       "      <td>Finlandia</td>\n",
       "    </tr>\n",
       "    <tr>\n",
       "      <th>1</th>\n",
       "      <td>10249</td>\n",
       "      <td>TOMSP</td>\n",
       "      <td>6</td>\n",
       "      <td>1</td>\n",
       "      <td>11.61</td>\n",
       "      <td>Alemania</td>\n",
       "    </tr>\n",
       "    <tr>\n",
       "      <th>2</th>\n",
       "      <td>10250</td>\n",
       "      <td>HANAR</td>\n",
       "      <td>4</td>\n",
       "      <td>2</td>\n",
       "      <td>65.83</td>\n",
       "      <td>Brasil</td>\n",
       "    </tr>\n",
       "    <tr>\n",
       "      <th>3</th>\n",
       "      <td>10251</td>\n",
       "      <td>VICTE</td>\n",
       "      <td>3</td>\n",
       "      <td>1</td>\n",
       "      <td>41.34</td>\n",
       "      <td>Francia</td>\n",
       "    </tr>\n",
       "    <tr>\n",
       "      <th>4</th>\n",
       "      <td>10252</td>\n",
       "      <td>SUPRD</td>\n",
       "      <td>4</td>\n",
       "      <td>2</td>\n",
       "      <td>51.30</td>\n",
       "      <td>Belgica</td>\n",
       "    </tr>\n",
       "  </tbody>\n",
       "</table>\n",
       "</div>"
      ],
      "text/plain": [
       "   idpedido cliente  idempleado  idempresa  importe       pais\n",
       "0     10248   WILMK           5          3    32.38  Finlandia\n",
       "1     10249   TOMSP           6          1    11.61   Alemania\n",
       "2     10250   HANAR           4          2    65.83     Brasil\n",
       "3     10251   VICTE           3          1    41.34    Francia\n",
       "4     10252   SUPRD           4          2    51.30    Belgica"
      ]
     },
     "execution_count": 5,
     "metadata": {},
     "output_type": "execute_result"
    }
   ],
   "source": [
    "dfPed = pd.read_csv(path+\"Pedidos.txt\", sep=\";\")\n",
    "dfPed.head()"
   ]
  },
  {
   "cell_type": "code",
   "execution_count": 6,
   "id": "26ef28fc",
   "metadata": {},
   "outputs": [
    {
     "data": {
      "text/html": [
       "<div>\n",
       "<style scoped>\n",
       "    .dataframe tbody tr th:only-of-type {\n",
       "        vertical-align: middle;\n",
       "    }\n",
       "\n",
       "    .dataframe tbody tr th {\n",
       "        vertical-align: top;\n",
       "    }\n",
       "\n",
       "    .dataframe thead th {\n",
       "        text-align: right;\n",
       "    }\n",
       "</style>\n",
       "<table border=\"1\" class=\"dataframe\">\n",
       "  <thead>\n",
       "    <tr style=\"text-align: right;\">\n",
       "      <th></th>\n",
       "      <th>id</th>\n",
       "      <th>empresa</th>\n",
       "    </tr>\n",
       "  </thead>\n",
       "  <tbody>\n",
       "    <tr>\n",
       "      <th>0</th>\n",
       "      <td>1</td>\n",
       "      <td>Speedy Express</td>\n",
       "    </tr>\n",
       "    <tr>\n",
       "      <th>1</th>\n",
       "      <td>2</td>\n",
       "      <td>United Package</td>\n",
       "    </tr>\n",
       "    <tr>\n",
       "      <th>2</th>\n",
       "      <td>3</td>\n",
       "      <td>Federal Shipping</td>\n",
       "    </tr>\n",
       "  </tbody>\n",
       "</table>\n",
       "</div>"
      ],
      "text/plain": [
       "   id           empresa\n",
       "0   1    Speedy Express\n",
       "1   2    United Package\n",
       "2   3  Federal Shipping"
      ]
     },
     "execution_count": 6,
     "metadata": {},
     "output_type": "execute_result"
    }
   ],
   "source": [
    "dfEmpr = pd.read_csv(path+\"Empresas.txt\", sep=\";\")\n",
    "dfEmpr.head()"
   ]
  },
  {
   "cell_type": "code",
   "execution_count": 7,
   "id": "24d0612d",
   "metadata": {},
   "outputs": [
    {
     "data": {
      "text/html": [
       "<div>\n",
       "<style scoped>\n",
       "    .dataframe tbody tr th:only-of-type {\n",
       "        vertical-align: middle;\n",
       "    }\n",
       "\n",
       "    .dataframe tbody tr th {\n",
       "        vertical-align: top;\n",
       "    }\n",
       "\n",
       "    .dataframe thead th {\n",
       "        text-align: right;\n",
       "    }\n",
       "</style>\n",
       "<table border=\"1\" class=\"dataframe\">\n",
       "  <thead>\n",
       "    <tr style=\"text-align: right;\">\n",
       "      <th></th>\n",
       "      <th>id</th>\n",
       "      <th>nombre</th>\n",
       "      <th>cargo</th>\n",
       "    </tr>\n",
       "  </thead>\n",
       "  <tbody>\n",
       "    <tr>\n",
       "      <th>0</th>\n",
       "      <td>1</td>\n",
       "      <td>Davolio</td>\n",
       "      <td>Representante de ventas</td>\n",
       "    </tr>\n",
       "    <tr>\n",
       "      <th>1</th>\n",
       "      <td>2</td>\n",
       "      <td>Fuller</td>\n",
       "      <td>Vicepresidente comercial</td>\n",
       "    </tr>\n",
       "    <tr>\n",
       "      <th>2</th>\n",
       "      <td>3</td>\n",
       "      <td>Leverling</td>\n",
       "      <td>Representante de ventas</td>\n",
       "    </tr>\n",
       "    <tr>\n",
       "      <th>3</th>\n",
       "      <td>4</td>\n",
       "      <td>Peacock</td>\n",
       "      <td>Representante de ventas</td>\n",
       "    </tr>\n",
       "    <tr>\n",
       "      <th>4</th>\n",
       "      <td>5</td>\n",
       "      <td>Buchanan</td>\n",
       "      <td>Gerente de ventas</td>\n",
       "    </tr>\n",
       "  </tbody>\n",
       "</table>\n",
       "</div>"
      ],
      "text/plain": [
       "   id     nombre                     cargo\n",
       "0   1    Davolio   Representante de ventas\n",
       "1   2     Fuller  Vicepresidente comercial\n",
       "2   3  Leverling   Representante de ventas\n",
       "3   4    Peacock   Representante de ventas\n",
       "4   5   Buchanan         Gerente de ventas"
      ]
     },
     "execution_count": 7,
     "metadata": {},
     "output_type": "execute_result"
    }
   ],
   "source": [
    "dfEmpl = pd.read_csv(path+\"Empleados.txt\", sep=\";\")\n",
    "dfEmpl.head()"
   ]
  },
  {
   "cell_type": "code",
   "execution_count": 8,
   "id": "3ebb99fd",
   "metadata": {},
   "outputs": [
    {
     "data": {
      "text/html": [
       "<div>\n",
       "<style scoped>\n",
       "    .dataframe tbody tr th:only-of-type {\n",
       "        vertical-align: middle;\n",
       "    }\n",
       "\n",
       "    .dataframe tbody tr th {\n",
       "        vertical-align: top;\n",
       "    }\n",
       "\n",
       "    .dataframe thead th {\n",
       "        text-align: right;\n",
       "    }\n",
       "</style>\n",
       "<table border=\"1\" class=\"dataframe\">\n",
       "  <thead>\n",
       "    <tr style=\"text-align: right;\">\n",
       "      <th></th>\n",
       "      <th>idpedido</th>\n",
       "      <th>cliente</th>\n",
       "      <th>idempleado</th>\n",
       "      <th>idempresa</th>\n",
       "      <th>importe</th>\n",
       "      <th>pais</th>\n",
       "      <th>id</th>\n",
       "      <th>empresa</th>\n",
       "    </tr>\n",
       "  </thead>\n",
       "  <tbody>\n",
       "    <tr>\n",
       "      <th>0</th>\n",
       "      <td>10248</td>\n",
       "      <td>WILMK</td>\n",
       "      <td>5</td>\n",
       "      <td>3</td>\n",
       "      <td>32.38</td>\n",
       "      <td>Finlandia</td>\n",
       "      <td>3</td>\n",
       "      <td>Federal Shipping</td>\n",
       "    </tr>\n",
       "    <tr>\n",
       "      <th>1</th>\n",
       "      <td>10255</td>\n",
       "      <td>RICSU</td>\n",
       "      <td>9</td>\n",
       "      <td>3</td>\n",
       "      <td>148.33</td>\n",
       "      <td>Suiza</td>\n",
       "      <td>3</td>\n",
       "      <td>Federal Shipping</td>\n",
       "    </tr>\n",
       "    <tr>\n",
       "      <th>2</th>\n",
       "      <td>10257</td>\n",
       "      <td>HILAA</td>\n",
       "      <td>4</td>\n",
       "      <td>3</td>\n",
       "      <td>81.91</td>\n",
       "      <td>Venezuela</td>\n",
       "      <td>3</td>\n",
       "      <td>Federal Shipping</td>\n",
       "    </tr>\n",
       "    <tr>\n",
       "      <th>3</th>\n",
       "      <td>10259</td>\n",
       "      <td>CENTC</td>\n",
       "      <td>4</td>\n",
       "      <td>3</td>\n",
       "      <td>3.25</td>\n",
       "      <td>Mexico</td>\n",
       "      <td>3</td>\n",
       "      <td>Federal Shipping</td>\n",
       "    </tr>\n",
       "    <tr>\n",
       "      <th>4</th>\n",
       "      <td>10262</td>\n",
       "      <td>RATTC</td>\n",
       "      <td>8</td>\n",
       "      <td>3</td>\n",
       "      <td>48.29</td>\n",
       "      <td>Estados Unidos</td>\n",
       "      <td>3</td>\n",
       "      <td>Federal Shipping</td>\n",
       "    </tr>\n",
       "  </tbody>\n",
       "</table>\n",
       "</div>"
      ],
      "text/plain": [
       "   idpedido cliente  idempleado  idempresa  importe            pais  id  \\\n",
       "0     10248   WILMK           5          3    32.38       Finlandia   3   \n",
       "1     10255   RICSU           9          3   148.33           Suiza   3   \n",
       "2     10257   HILAA           4          3    81.91       Venezuela   3   \n",
       "3     10259   CENTC           4          3     3.25          Mexico   3   \n",
       "4     10262   RATTC           8          3    48.29  Estados Unidos   3   \n",
       "\n",
       "            empresa  \n",
       "0  Federal Shipping  \n",
       "1  Federal Shipping  \n",
       "2  Federal Shipping  \n",
       "3  Federal Shipping  \n",
       "4  Federal Shipping  "
      ]
     },
     "execution_count": 8,
     "metadata": {},
     "output_type": "execute_result"
    }
   ],
   "source": [
    "dfTotal = pd.merge(dfPed, dfEmpr, left_on=\"idempresa\", right_on=\"id\")\n",
    "dfTotal.head()"
   ]
  },
  {
   "cell_type": "code",
   "execution_count": 9,
   "id": "2bfabd68",
   "metadata": {},
   "outputs": [
    {
     "data": {
      "text/html": [
       "<div>\n",
       "<style scoped>\n",
       "    .dataframe tbody tr th:only-of-type {\n",
       "        vertical-align: middle;\n",
       "    }\n",
       "\n",
       "    .dataframe tbody tr th {\n",
       "        vertical-align: top;\n",
       "    }\n",
       "\n",
       "    .dataframe thead th {\n",
       "        text-align: right;\n",
       "    }\n",
       "</style>\n",
       "<table border=\"1\" class=\"dataframe\">\n",
       "  <thead>\n",
       "    <tr style=\"text-align: right;\">\n",
       "      <th></th>\n",
       "      <th>idpedido</th>\n",
       "      <th>cliente</th>\n",
       "      <th>idempleado</th>\n",
       "      <th>idempresa</th>\n",
       "      <th>importe</th>\n",
       "      <th>pais</th>\n",
       "      <th>id_x</th>\n",
       "      <th>empresa</th>\n",
       "      <th>id_y</th>\n",
       "      <th>nombre</th>\n",
       "      <th>cargo</th>\n",
       "    </tr>\n",
       "  </thead>\n",
       "  <tbody>\n",
       "    <tr>\n",
       "      <th>0</th>\n",
       "      <td>10248</td>\n",
       "      <td>WILMK</td>\n",
       "      <td>5</td>\n",
       "      <td>3</td>\n",
       "      <td>32.38</td>\n",
       "      <td>Finlandia</td>\n",
       "      <td>3</td>\n",
       "      <td>Federal Shipping</td>\n",
       "      <td>5</td>\n",
       "      <td>Buchanan</td>\n",
       "      <td>Gerente de ventas</td>\n",
       "    </tr>\n",
       "    <tr>\n",
       "      <th>1</th>\n",
       "      <td>10320</td>\n",
       "      <td>WARTH</td>\n",
       "      <td>5</td>\n",
       "      <td>3</td>\n",
       "      <td>34.57</td>\n",
       "      <td>Finlandia</td>\n",
       "      <td>3</td>\n",
       "      <td>Federal Shipping</td>\n",
       "      <td>5</td>\n",
       "      <td>Buchanan</td>\n",
       "      <td>Gerente de ventas</td>\n",
       "    </tr>\n",
       "    <tr>\n",
       "      <th>2</th>\n",
       "      <td>10333</td>\n",
       "      <td>WARTH</td>\n",
       "      <td>5</td>\n",
       "      <td>3</td>\n",
       "      <td>0.59</td>\n",
       "      <td>Finlandia</td>\n",
       "      <td>3</td>\n",
       "      <td>Federal Shipping</td>\n",
       "      <td>5</td>\n",
       "      <td>Buchanan</td>\n",
       "      <td>Gerente de ventas</td>\n",
       "    </tr>\n",
       "    <tr>\n",
       "      <th>3</th>\n",
       "      <td>10359</td>\n",
       "      <td>SEVES</td>\n",
       "      <td>5</td>\n",
       "      <td>3</td>\n",
       "      <td>288.43</td>\n",
       "      <td>Reino Unido</td>\n",
       "      <td>3</td>\n",
       "      <td>Federal Shipping</td>\n",
       "      <td>5</td>\n",
       "      <td>Buchanan</td>\n",
       "      <td>Gerente de ventas</td>\n",
       "    </tr>\n",
       "    <tr>\n",
       "      <th>4</th>\n",
       "      <td>10378</td>\n",
       "      <td>FOLKO</td>\n",
       "      <td>5</td>\n",
       "      <td>3</td>\n",
       "      <td>5.44</td>\n",
       "      <td>Suecia</td>\n",
       "      <td>3</td>\n",
       "      <td>Federal Shipping</td>\n",
       "      <td>5</td>\n",
       "      <td>Buchanan</td>\n",
       "      <td>Gerente de ventas</td>\n",
       "    </tr>\n",
       "  </tbody>\n",
       "</table>\n",
       "</div>"
      ],
      "text/plain": [
       "   idpedido cliente  idempleado  idempresa  importe         pais  id_x  \\\n",
       "0     10248   WILMK           5          3    32.38    Finlandia     3   \n",
       "1     10320   WARTH           5          3    34.57    Finlandia     3   \n",
       "2     10333   WARTH           5          3     0.59    Finlandia     3   \n",
       "3     10359   SEVES           5          3   288.43  Reino Unido     3   \n",
       "4     10378   FOLKO           5          3     5.44       Suecia     3   \n",
       "\n",
       "            empresa  id_y    nombre              cargo  \n",
       "0  Federal Shipping     5  Buchanan  Gerente de ventas  \n",
       "1  Federal Shipping     5  Buchanan  Gerente de ventas  \n",
       "2  Federal Shipping     5  Buchanan  Gerente de ventas  \n",
       "3  Federal Shipping     5  Buchanan  Gerente de ventas  \n",
       "4  Federal Shipping     5  Buchanan  Gerente de ventas  "
      ]
     },
     "execution_count": 9,
     "metadata": {},
     "output_type": "execute_result"
    }
   ],
   "source": [
    "dfTotal = pd.merge(dfTotal, dfEmpl, left_on=\"idempleado\", right_on=\"id\")\n",
    "dfTotal.head()"
   ]
  },
  {
   "cell_type": "code",
   "execution_count": 12,
   "id": "3edd3475",
   "metadata": {},
   "outputs": [
    {
     "data": {
      "text/html": [
       "<div>\n",
       "<style scoped>\n",
       "    .dataframe tbody tr th:only-of-type {\n",
       "        vertical-align: middle;\n",
       "    }\n",
       "\n",
       "    .dataframe tbody tr th {\n",
       "        vertical-align: top;\n",
       "    }\n",
       "\n",
       "    .dataframe thead th {\n",
       "        text-align: right;\n",
       "    }\n",
       "</style>\n",
       "<table border=\"1\" class=\"dataframe\">\n",
       "  <thead>\n",
       "    <tr style=\"text-align: right;\">\n",
       "      <th></th>\n",
       "      <th>idpedido</th>\n",
       "      <th>cliente</th>\n",
       "      <th>importe</th>\n",
       "      <th>pais</th>\n",
       "      <th>empresa</th>\n",
       "      <th>empleado</th>\n",
       "      <th>puesto</th>\n",
       "    </tr>\n",
       "  </thead>\n",
       "  <tbody>\n",
       "    <tr>\n",
       "      <th>0</th>\n",
       "      <td>10248</td>\n",
       "      <td>WILMK</td>\n",
       "      <td>32.38</td>\n",
       "      <td>Finlandia</td>\n",
       "      <td>Federal Shipping</td>\n",
       "      <td>Buchanan</td>\n",
       "      <td>Gerente de ventas</td>\n",
       "    </tr>\n",
       "    <tr>\n",
       "      <th>1</th>\n",
       "      <td>10320</td>\n",
       "      <td>WARTH</td>\n",
       "      <td>34.57</td>\n",
       "      <td>Finlandia</td>\n",
       "      <td>Federal Shipping</td>\n",
       "      <td>Buchanan</td>\n",
       "      <td>Gerente de ventas</td>\n",
       "    </tr>\n",
       "    <tr>\n",
       "      <th>2</th>\n",
       "      <td>10333</td>\n",
       "      <td>WARTH</td>\n",
       "      <td>0.59</td>\n",
       "      <td>Finlandia</td>\n",
       "      <td>Federal Shipping</td>\n",
       "      <td>Buchanan</td>\n",
       "      <td>Gerente de ventas</td>\n",
       "    </tr>\n",
       "    <tr>\n",
       "      <th>3</th>\n",
       "      <td>10359</td>\n",
       "      <td>SEVES</td>\n",
       "      <td>288.43</td>\n",
       "      <td>Reino Unido</td>\n",
       "      <td>Federal Shipping</td>\n",
       "      <td>Buchanan</td>\n",
       "      <td>Gerente de ventas</td>\n",
       "    </tr>\n",
       "    <tr>\n",
       "      <th>4</th>\n",
       "      <td>10378</td>\n",
       "      <td>FOLKO</td>\n",
       "      <td>5.44</td>\n",
       "      <td>Suecia</td>\n",
       "      <td>Federal Shipping</td>\n",
       "      <td>Buchanan</td>\n",
       "      <td>Gerente de ventas</td>\n",
       "    </tr>\n",
       "  </tbody>\n",
       "</table>\n",
       "</div>"
      ],
      "text/plain": [
       "   idpedido cliente  importe         pais           empresa  empleado  \\\n",
       "0     10248   WILMK    32.38    Finlandia  Federal Shipping  Buchanan   \n",
       "1     10320   WARTH    34.57    Finlandia  Federal Shipping  Buchanan   \n",
       "2     10333   WARTH     0.59    Finlandia  Federal Shipping  Buchanan   \n",
       "3     10359   SEVES   288.43  Reino Unido  Federal Shipping  Buchanan   \n",
       "4     10378   FOLKO     5.44       Suecia  Federal Shipping  Buchanan   \n",
       "\n",
       "              puesto  \n",
       "0  Gerente de ventas  \n",
       "1  Gerente de ventas  \n",
       "2  Gerente de ventas  \n",
       "3  Gerente de ventas  \n",
       "4  Gerente de ventas  "
      ]
     },
     "execution_count": 12,
     "metadata": {},
     "output_type": "execute_result"
    }
   ],
   "source": [
    "dfTotal.rename(columns={\"nombre\":\"empleado\", \"cargo\":\"puesto\"}, inplace=True)\n",
    "dfTotal.drop(columns=['idempleado','idempresa','id_x','id_y'], inplace=True)\n",
    "dfTotal.head()"
   ]
  },
  {
   "cell_type": "code",
   "execution_count": 14,
   "id": "0c6c568c",
   "metadata": {},
   "outputs": [],
   "source": [
    "dfTotal.to_excel(\"../ficheros/pedidos_total.xlsx\", index=False)"
   ]
  },
  {
   "cell_type": "markdown",
   "id": "e9bccc8d",
   "metadata": {},
   "source": [
    "### Agrupar datos con groupby"
   ]
  },
  {
   "cell_type": "code",
   "execution_count": 15,
   "id": "b4efb81f",
   "metadata": {},
   "outputs": [
    {
     "data": {
      "text/plain": [
       "pandas.core.groupby.generic.SeriesGroupBy"
      ]
     },
     "execution_count": 15,
     "metadata": {},
     "output_type": "execute_result"
    }
   ],
   "source": [
    "grupo1 = dfTotal.importe.groupby(dfTotal.pais)\n",
    "type(grupo1)"
   ]
  },
  {
   "cell_type": "code",
   "execution_count": 17,
   "id": "beb20f0f",
   "metadata": {},
   "outputs": [
    {
     "data": {
      "text/plain": [
       "pandas.core.series.Series"
      ]
     },
     "execution_count": 17,
     "metadata": {},
     "output_type": "execute_result"
    }
   ],
   "source": [
    "# Importe medio de los pedidos por país\n",
    "media = grupo1.mean()\n",
    "type(media)"
   ]
  },
  {
   "cell_type": "code",
   "execution_count": 18,
   "id": "bf6d0553",
   "metadata": {},
   "outputs": [
    {
     "data": {
      "text/plain": [
       "pais\n",
       "Alemania      92.485902\n",
       "Argentina     37.411250\n",
       "Austria      184.787500\n",
       "Belgica       67.375789\n",
       "Brasil        58.797470\n",
       "Name: importe, dtype: float64"
      ]
     },
     "execution_count": 18,
     "metadata": {},
     "output_type": "execute_result"
    }
   ],
   "source": [
    "media[:5]"
   ]
  },
  {
   "cell_type": "code",
   "execution_count": 19,
   "id": "8af9c264",
   "metadata": {},
   "outputs": [
    {
     "data": {
      "text/plain": [
       "184.7875"
      ]
     },
     "execution_count": 19,
     "metadata": {},
     "output_type": "execute_result"
    }
   ],
   "source": [
    "media['Austria']"
   ]
  },
  {
   "cell_type": "code",
   "execution_count": null,
   "id": "ad0c80e9",
   "metadata": {},
   "outputs": [],
   "source": []
  }
 ],
 "metadata": {
  "kernelspec": {
   "display_name": "Python 3 (ipykernel)",
   "language": "python",
   "name": "python3"
  },
  "language_info": {
   "codemirror_mode": {
    "name": "ipython",
    "version": 3
   },
   "file_extension": ".py",
   "mimetype": "text/x-python",
   "name": "python",
   "nbconvert_exporter": "python",
   "pygments_lexer": "ipython3",
   "version": "3.8.5"
  }
 },
 "nbformat": 4,
 "nbformat_minor": 5
}

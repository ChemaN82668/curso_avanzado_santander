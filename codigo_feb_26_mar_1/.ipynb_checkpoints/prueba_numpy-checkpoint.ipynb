{
 "cells": [
  {
   "cell_type": "markdown",
   "id": "85db5019",
   "metadata": {},
   "source": [
    "## Pruebas con la librería numpy"
   ]
  },
  {
   "cell_type": "markdown",
   "id": "60c07f6a",
   "metadata": {},
   "source": [
    "Objeto ndarray de numpy, función array, arrays multidimensionales, funciones de numpy, entrada/salida"
   ]
  },
  {
   "cell_type": "code",
   "execution_count": 3,
   "id": "a570aee4",
   "metadata": {},
   "outputs": [],
   "source": [
    "import numpy as np"
   ]
  },
  {
   "cell_type": "code",
   "execution_count": 2,
   "id": "06ed6774",
   "metadata": {},
   "outputs": [],
   "source": [
    "import random"
   ]
  },
  {
   "cell_type": "code",
   "execution_count": 8,
   "id": "c736a833",
   "metadata": {},
   "outputs": [
    {
     "data": {
      "text/plain": [
       "'1.21.0'"
      ]
     },
     "execution_count": 8,
     "metadata": {},
     "output_type": "execute_result"
    }
   ],
   "source": [
    "np.__version__"
   ]
  },
  {
   "cell_type": "code",
   "execution_count": 9,
   "id": "231d5797",
   "metadata": {},
   "outputs": [
    {
     "name": "stdout",
     "output_type": "stream",
     "text": [
      "727 ms ± 32.4 ms per loop (mean ± std. dev. of 7 runs, 1 loop each)\n"
     ]
    }
   ],
   "source": [
    "%%timeit\n",
    "# Ejecución con la lista\n",
    "L = list(range(1000000))\n",
    "for _ in range(10): L = [x*2 for x in L]"
   ]
  },
  {
   "cell_type": "code",
   "execution_count": 10,
   "id": "1c69a5aa",
   "metadata": {},
   "outputs": [
    {
     "name": "stdout",
     "output_type": "stream",
     "text": [
      "16.1 ms ± 576 µs per loop (mean ± std. dev. of 7 runs, 100 loops each)\n"
     ]
    }
   ],
   "source": [
    "%%timeit\n",
    "# Ejecución con array de numpy\n",
    "arr = np.arange(1000000)\n",
    "for _ in range(10): arr = arr * 2"
   ]
  },
  {
   "cell_type": "code",
   "execution_count": 11,
   "id": "fed30d83",
   "metadata": {},
   "outputs": [
    {
     "data": {
      "text/plain": [
       "array([ 1,  2,  3, 45,  6])"
      ]
     },
     "execution_count": 11,
     "metadata": {},
     "output_type": "execute_result"
    }
   ],
   "source": [
    "arr1 = np.array([1,2,3,45,6])\n",
    "arr1"
   ]
  },
  {
   "cell_type": "code",
   "execution_count": 12,
   "id": "b2ab027c",
   "metadata": {},
   "outputs": [
    {
     "data": {
      "text/plain": [
       "dtype('int32')"
      ]
     },
     "execution_count": 12,
     "metadata": {},
     "output_type": "execute_result"
    }
   ],
   "source": [
    "arr1.dtype"
   ]
  },
  {
   "cell_type": "code",
   "execution_count": 13,
   "id": "91a8781a",
   "metadata": {},
   "outputs": [
    {
     "data": {
      "text/plain": [
       "array([12.8,  5. ,  4. ,  2. ,  7.7])"
      ]
     },
     "execution_count": 13,
     "metadata": {},
     "output_type": "execute_result"
    }
   ],
   "source": [
    "arr2 = np.array((12.8, 5, 4, 2, 7.7))\n",
    "arr2"
   ]
  },
  {
   "cell_type": "code",
   "execution_count": 14,
   "id": "c8ed51f7",
   "metadata": {},
   "outputs": [
    {
     "data": {
      "text/plain": [
       "dtype('float64')"
      ]
     },
     "execution_count": 14,
     "metadata": {},
     "output_type": "execute_result"
    }
   ],
   "source": [
    "arr2.dtype"
   ]
  },
  {
   "cell_type": "code",
   "execution_count": 15,
   "id": "01079468",
   "metadata": {},
   "outputs": [
    {
     "data": {
      "text/plain": [
       "array([12.8+0.j,  5. +0.j,  4. +0.j,  2. +0.j,  7.7+0.j,  6. +8.j])"
      ]
     },
     "execution_count": 15,
     "metadata": {},
     "output_type": "execute_result"
    }
   ],
   "source": [
    "arr3 = np.array((12.8, 5, 4, 2, 7.7, 6+8j))\n",
    "arr3"
   ]
  },
  {
   "cell_type": "code",
   "execution_count": 17,
   "id": "9dee7578",
   "metadata": {},
   "outputs": [
    {
     "data": {
      "text/plain": [
       "dtype('complex128')"
      ]
     },
     "execution_count": 17,
     "metadata": {},
     "output_type": "execute_result"
    }
   ],
   "source": [
    "arr3.dtype"
   ]
  },
  {
   "cell_type": "code",
   "execution_count": 18,
   "id": "7021c037",
   "metadata": {},
   "outputs": [
    {
     "data": {
      "text/plain": [
       "(array([55, 66, 23,  9], dtype=uint8), dtype('uint8'))"
      ]
     },
     "execution_count": 18,
     "metadata": {},
     "output_type": "execute_result"
    }
   ],
   "source": [
    "arr4 = np.array(['55','66','23','9'], dtype=np.uint8)\n",
    "arr4, arr4.dtype"
   ]
  },
  {
   "cell_type": "code",
   "execution_count": 19,
   "id": "7c172c98",
   "metadata": {},
   "outputs": [
    {
     "data": {
      "text/plain": [
       "array([12.8,  5. ,  4. ,  2. ,  7.7], dtype=float32)"
      ]
     },
     "execution_count": 19,
     "metadata": {},
     "output_type": "execute_result"
    }
   ],
   "source": [
    "arr5 = arr2.astype(np.float32)\n",
    "arr5"
   ]
  },
  {
   "cell_type": "code",
   "execution_count": 20,
   "id": "26d1eac6",
   "metadata": {},
   "outputs": [
    {
     "data": {
      "text/plain": [
       "array([12.8,  5. ,  4. ,  2. ,  7.7], dtype=float32)"
      ]
     },
     "execution_count": 20,
     "metadata": {},
     "output_type": "execute_result"
    }
   ],
   "source": [
    "arr5"
   ]
  },
  {
   "cell_type": "code",
   "execution_count": 30,
   "id": "41e49587",
   "metadata": {},
   "outputs": [],
   "source": [
    "arr5[1] = '11'"
   ]
  },
  {
   "cell_type": "code",
   "execution_count": 25,
   "id": "73022765",
   "metadata": {},
   "outputs": [
    {
     "data": {
      "text/plain": [
       "array([11. , 11. ,  4. ,  2. ,  7.7], dtype=float32)"
      ]
     },
     "execution_count": 25,
     "metadata": {},
     "output_type": "execute_result"
    }
   ],
   "source": [
    "arr5"
   ]
  },
  {
   "cell_type": "code",
   "execution_count": 27,
   "id": "05c1980b",
   "metadata": {},
   "outputs": [
    {
     "data": {
      "text/plain": [
       "array([[[ 0,  1],\n",
       "        [ 2,  3],\n",
       "        [ 4,  5],\n",
       "        [ 6,  7],\n",
       "        [ 8,  9],\n",
       "        [10, 11]],\n",
       "\n",
       "       [[12, 13],\n",
       "        [14, 15],\n",
       "        [16, 17],\n",
       "        [18, 19],\n",
       "        [20, 21],\n",
       "        [22, 23]]])"
      ]
     },
     "execution_count": 27,
     "metadata": {},
     "output_type": "execute_result"
    }
   ],
   "source": [
    "m = np.arange(24).reshape(2,6,-1)\n",
    "m"
   ]
  },
  {
   "cell_type": "code",
   "execution_count": 28,
   "id": "379f75cc",
   "metadata": {},
   "outputs": [
    {
     "data": {
      "text/plain": [
       "array([[[ 5,  6],\n",
       "        [ 7,  8],\n",
       "        [ 9, 10],\n",
       "        [11, 12],\n",
       "        [13, 14],\n",
       "        [15, 16]],\n",
       "\n",
       "       [[17, 18],\n",
       "        [19, 20],\n",
       "        [21, 22],\n",
       "        [23, 24],\n",
       "        [25, 26],\n",
       "        [27, 28]]])"
      ]
     },
     "execution_count": 28,
     "metadata": {},
     "output_type": "execute_result"
    }
   ],
   "source": [
    "m = m + 5\n",
    "m"
   ]
  },
  {
   "cell_type": "code",
   "execution_count": 33,
   "id": "1dead3ed",
   "metadata": {},
   "outputs": [
    {
     "data": {
      "text/plain": [
       "(2, 6, 2)"
      ]
     },
     "execution_count": 33,
     "metadata": {},
     "output_type": "execute_result"
    }
   ],
   "source": [
    "m.shape"
   ]
  },
  {
   "cell_type": "code",
   "execution_count": 32,
   "id": "a091e451",
   "metadata": {},
   "outputs": [
    {
     "data": {
      "text/plain": [
       "(array([55, 66, 23,  9], dtype=uint16), dtype('uint16'))"
      ]
     },
     "execution_count": 32,
     "metadata": {},
     "output_type": "execute_result"
    }
   ],
   "source": [
    "arr6 = np.array(['55','66','23','9'], dtype=\"u2\")\n",
    "arr6, arr6.dtype"
   ]
  },
  {
   "cell_type": "code",
   "execution_count": 34,
   "id": "242f1282",
   "metadata": {},
   "outputs": [
    {
     "data": {
      "text/plain": [
       "numpy.ndarray"
      ]
     },
     "execution_count": 34,
     "metadata": {},
     "output_type": "execute_result"
    }
   ],
   "source": [
    "type(arr6)"
   ]
  },
  {
   "cell_type": "code",
   "execution_count": 35,
   "id": "1d4c1d1e",
   "metadata": {},
   "outputs": [
    {
     "data": {
      "text/plain": [
       "array([[9.02914713e-312, 9.03941405e-312, 0.00000000e+000,\n",
       "        0.00000000e+000, 1.60218763e-306, 5.02034658e+175],\n",
       "       [9.44182489e+164, 3.88516746e-057, 1.90147343e-052,\n",
       "        1.72483760e-047, 1.47763641e+248, 1.16096346e-028],\n",
       "       [7.69165785e+218, 1.35617292e+248, 9.37868238e-047,\n",
       "        2.48565090e+184, 1.08467507e-042, 1.21097151e-071],\n",
       "       [4.30514846e-096, 6.32299154e+233, 6.48224638e+170,\n",
       "        5.22411352e+257, 5.74020278e+180, 8.37174974e-144],\n",
       "       [1.41529402e+161, 6.00736899e-067, 5.16823469e+097,\n",
       "        7.72504235e-043, 4.26724339e+126, 2.62459060e-306]])"
      ]
     },
     "execution_count": 35,
     "metadata": {},
     "output_type": "execute_result"
    }
   ],
   "source": [
    "m2 = np.empty((5,6))\n",
    "m2"
   ]
  },
  {
   "cell_type": "code",
   "execution_count": 36,
   "id": "918e1a6f",
   "metadata": {},
   "outputs": [
    {
     "data": {
      "text/plain": [
       "array([[1., 1., 1., 1., 1., 1.],\n",
       "       [1., 1., 1., 1., 1., 1.],\n",
       "       [1., 1., 1., 1., 1., 1.],\n",
       "       [1., 1., 1., 1., 1., 1.],\n",
       "       [1., 1., 1., 1., 1., 1.]])"
      ]
     },
     "execution_count": 36,
     "metadata": {},
     "output_type": "execute_result"
    }
   ],
   "source": [
    "n3 = np.ones_like(m2)\n",
    "n3"
   ]
  },
  {
   "cell_type": "code",
   "execution_count": 37,
   "id": "40ff108b",
   "metadata": {},
   "outputs": [
    {
     "data": {
      "text/plain": [
       "array([[1., 0., 0., 0., 0., 0.],\n",
       "       [0., 1., 0., 0., 0., 0.],\n",
       "       [0., 0., 1., 0., 0., 0.],\n",
       "       [0., 0., 0., 1., 0., 0.],\n",
       "       [0., 0., 0., 0., 1., 0.],\n",
       "       [0., 0., 0., 0., 0., 1.]])"
      ]
     },
     "execution_count": 37,
     "metadata": {},
     "output_type": "execute_result"
    }
   ],
   "source": [
    "m = np.eye(6)\n",
    "m"
   ]
  },
  {
   "cell_type": "code",
   "execution_count": 38,
   "id": "f0b4495c",
   "metadata": {},
   "outputs": [
    {
     "data": {
      "text/plain": [
       "array([26, 20,  5,  1, 18,  6,  5, 14, 18, 28, 24, 15, 14, 21, 14, 23,  5,\n",
       "       14, 15, 12])"
      ]
     },
     "execution_count": 38,
     "metadata": {},
     "output_type": "execute_result"
    }
   ],
   "source": [
    "arr = np.random.randint(1,30,20)\n",
    "arr"
   ]
  },
  {
   "cell_type": "code",
   "execution_count": 39,
   "id": "0db96009",
   "metadata": {},
   "outputs": [
    {
     "data": {
      "text/plain": [
       "array([ True, False, False, False, False, False, False, False, False,\n",
       "        True,  True, False, False,  True, False,  True, False, False,\n",
       "       False, False])"
      ]
     },
     "execution_count": 39,
     "metadata": {},
     "output_type": "execute_result"
    }
   ],
   "source": [
    "arr > 20"
   ]
  },
  {
   "cell_type": "code",
   "execution_count": 40,
   "id": "3b5d73b5",
   "metadata": {},
   "outputs": [
    {
     "data": {
      "text/plain": [
       "array([26, 28, 24, 21, 23])"
      ]
     },
     "execution_count": 40,
     "metadata": {},
     "output_type": "execute_result"
    }
   ],
   "source": [
    "arr[arr > 20]"
   ]
  },
  {
   "cell_type": "code",
   "execution_count": 41,
   "id": "445af42a",
   "metadata": {},
   "outputs": [
    {
     "data": {
      "text/plain": [
       "array([20, 20,  5,  1, 18,  6,  5, 14, 18, 20, 20, 15, 14, 20, 14, 20,  5,\n",
       "       14, 15, 12])"
      ]
     },
     "execution_count": 41,
     "metadata": {},
     "output_type": "execute_result"
    }
   ],
   "source": [
    "arr[arr > 20] = 20\n",
    "arr"
   ]
  },
  {
   "cell_type": "code",
   "execution_count": 42,
   "id": "b43d15dc",
   "metadata": {},
   "outputs": [
    {
     "data": {
      "text/plain": [
       "array([20, 20, 18, 18, 20, 20, 15, 20, 20, 15])"
      ]
     },
     "execution_count": 42,
     "metadata": {},
     "output_type": "execute_result"
    }
   ],
   "source": [
    "arr[(arr >= 15) & (arr <= 20)]"
   ]
  },
  {
   "cell_type": "code",
   "execution_count": 43,
   "id": "4710b775",
   "metadata": {},
   "outputs": [
    {
     "data": {
      "text/plain": [
       "array([20, 20,  5,  1, 18,  6,  5, 18, 20, 20, 20, 20,  5])"
      ]
     },
     "execution_count": 43,
     "metadata": {},
     "output_type": "execute_result"
    }
   ],
   "source": [
    "arr[(arr < 10) | (arr > 15)]"
   ]
  },
  {
   "cell_type": "code",
   "execution_count": 46,
   "id": "fc40c9a9",
   "metadata": {},
   "outputs": [
    {
     "data": {
      "text/plain": [
       "array([23, 32, 31, 42,  9, 19, 26, 35, 33, 25, 33, 24, 30, 46, 35, 21, 46,\n",
       "       53, 19, 44])"
      ]
     },
     "execution_count": 46,
     "metadata": {},
     "output_type": "execute_result"
    }
   ],
   "source": [
    "arr1 = np.random.randint(1,30,20)\n",
    "arr2 = np.random.randint(1,30,20)\n",
    "arr1 + arr2"
   ]
  },
  {
   "cell_type": "code",
   "execution_count": 47,
   "id": "b3f1a3d1",
   "metadata": {},
   "outputs": [
    {
     "data": {
      "text/plain": [
       "array([[ 5, 21, 17, 12,  4, 24,  2],\n",
       "       [23, 23, 24, 27, 20, 17,  9],\n",
       "       [ 9, 20,  9,  2, 26, 28,  9],\n",
       "       [ 7, 10, 29, 21, 23, 12, 13],\n",
       "       [25, 26,  2, 10, 17, 27, 17],\n",
       "       [20, 18, 10, 28,  8, 10, 21],\n",
       "       [ 8,  9, 13,  7, 16,  4, 29]])"
      ]
     },
     "execution_count": 47,
     "metadata": {},
     "output_type": "execute_result"
    }
   ],
   "source": [
    "# Generar una matriz cuadrada de 7 x 7 y quitar todo el contorno de la matriz: 5x5\n",
    "m = np.random.randint(1,30,(7,7))\n",
    "m"
   ]
  },
  {
   "cell_type": "code",
   "execution_count": 48,
   "id": "aa12941c",
   "metadata": {},
   "outputs": [
    {
     "data": {
      "text/plain": [
       "array([[23, 24, 27, 20, 17],\n",
       "       [20,  9,  2, 26, 28],\n",
       "       [10, 29, 21, 23, 12],\n",
       "       [26,  2, 10, 17, 27],\n",
       "       [18, 10, 28,  8, 10]])"
      ]
     },
     "execution_count": 48,
     "metadata": {},
     "output_type": "execute_result"
    }
   ],
   "source": [
    "m[1:-1,1:-1]"
   ]
  },
  {
   "cell_type": "code",
   "execution_count": 49,
   "id": "40f5a847",
   "metadata": {},
   "outputs": [
    {
     "data": {
      "text/plain": [
       "array([ 5, 21, 17, 12,  4, 24,  2])"
      ]
     },
     "execution_count": 49,
     "metadata": {},
     "output_type": "execute_result"
    }
   ],
   "source": [
    "m[0]"
   ]
  },
  {
   "cell_type": "code",
   "execution_count": 50,
   "id": "6fb31fe9",
   "metadata": {},
   "outputs": [
    {
     "data": {
      "text/plain": [
       "array([[ 5, 21, 17, 12,  4, 24,  2],\n",
       "       [ 7, 10, 29, 21, 23, 12, 13],\n",
       "       [ 9, 20,  9,  2, 26, 28,  9]])"
      ]
     },
     "execution_count": 50,
     "metadata": {},
     "output_type": "execute_result"
    }
   ],
   "source": [
    "m[[0,3,2]]"
   ]
  },
  {
   "cell_type": "code",
   "execution_count": 51,
   "id": "7b78662b",
   "metadata": {},
   "outputs": [
    {
     "data": {
      "text/plain": [
       "5"
      ]
     },
     "execution_count": 51,
     "metadata": {},
     "output_type": "execute_result"
    }
   ],
   "source": [
    "m[0][0]"
   ]
  },
  {
   "cell_type": "code",
   "execution_count": 52,
   "id": "01d9bb52",
   "metadata": {},
   "outputs": [
    {
     "data": {
      "text/plain": [
       "array([[ 5, 21, 17, 12,  4, 24,  2],\n",
       "       [23, 23, 24, 27, 20, 17,  9],\n",
       "       [25, 26,  2, 10, 17, 27, 17],\n",
       "       [ 8,  9, 13,  7, 16,  4, 29]])"
      ]
     },
     "execution_count": 52,
     "metadata": {},
     "output_type": "execute_result"
    }
   ],
   "source": [
    "ind = [True, True, False, False, True, False, True]\n",
    "m[ind]"
   ]
  },
  {
   "cell_type": "code",
   "execution_count": 53,
   "id": "c7f3f07c",
   "metadata": {},
   "outputs": [
    {
     "data": {
      "text/plain": [
       "array([[  5,  21,  17,  12,   4,  24,   2],\n",
       "       [100, 100, 100, 100, 100, 100, 100],\n",
       "       [  9,  20,   9,   2,  26,  28,   9],\n",
       "       [  7,  10,  29,  21,  23,  12,  13],\n",
       "       [ 25,  26,   2,  10,  17,  27,  17],\n",
       "       [ 20,  18,  10,  28,   8,  10,  21],\n",
       "       [  8,   9,  13,   7,  16,   4,  29]])"
      ]
     },
     "execution_count": 53,
     "metadata": {},
     "output_type": "execute_result"
    }
   ],
   "source": [
    "m[1] = 100\n",
    "m"
   ]
  },
  {
   "cell_type": "code",
   "execution_count": 54,
   "id": "660df5e3",
   "metadata": {},
   "outputs": [
    {
     "data": {
      "text/plain": [
       "array([[0, 0, 0, 0, 0, 0, 0],\n",
       "       [1, 1, 1, 1, 1, 1, 1],\n",
       "       [2, 2, 2, 2, 2, 2, 2],\n",
       "       [3, 3, 3, 3, 3, 3, 3],\n",
       "       [4, 4, 4, 4, 4, 4, 4],\n",
       "       [5, 5, 5, 5, 5, 5, 5],\n",
       "       [6, 6, 6, 6, 6, 6, 6]])"
      ]
     },
     "execution_count": 54,
     "metadata": {},
     "output_type": "execute_result"
    }
   ],
   "source": [
    "for i in range(7):\n",
    "    m[i] = i\n",
    "m"
   ]
  },
  {
   "cell_type": "code",
   "execution_count": 55,
   "id": "90b4cc77",
   "metadata": {},
   "outputs": [
    {
     "data": {
      "text/plain": [
       "array([[100,   0,   0,   0,   0,   0,   0],\n",
       "       [100,   1,   1,   1,   1,   1,   1],\n",
       "       [100,   2,   2,   2,   2,   2,   2],\n",
       "       [100,   3,   3,   3,   3,   3,   3],\n",
       "       [100,   4,   4,   4,   4,   4,   4],\n",
       "       [100,   5,   5,   5,   5,   5,   5],\n",
       "       [100,   6,   6,   6,   6,   6,   6]])"
      ]
     },
     "execution_count": 55,
     "metadata": {},
     "output_type": "execute_result"
    }
   ],
   "source": [
    "m.T[0]=100\n",
    "m"
   ]
  },
  {
   "cell_type": "code",
   "execution_count": 56,
   "id": "b1af066d",
   "metadata": {},
   "outputs": [
    {
     "data": {
      "text/plain": [
       "array([[100, 100, 100, 100, 100, 100, 100],\n",
       "       [  0,   1,   2,   3,   4,   5,   6],\n",
       "       [  0,   1,   2,   3,   4,   5,   6],\n",
       "       [  0,   1,   2,   3,   4,   5,   6],\n",
       "       [  0,   1,   2,   3,   4,   5,   6],\n",
       "       [  0,   1,   2,   3,   4,   5,   6],\n",
       "       [  0,   1,   2,   3,   4,   5,   6]])"
      ]
     },
     "execution_count": 56,
     "metadata": {},
     "output_type": "execute_result"
    }
   ],
   "source": [
    "m.T"
   ]
  },
  {
   "cell_type": "code",
   "execution_count": 57,
   "id": "6676d467",
   "metadata": {},
   "outputs": [
    {
     "data": {
      "text/plain": [
       "array([   54.59815003,   148.4131591 ,   403.42879349, 22026.46579481])"
      ]
     },
     "execution_count": 57,
     "metadata": {},
     "output_type": "execute_result"
    }
   ],
   "source": [
    "a = np.exp([4,5,6,10])\n",
    "a"
   ]
  },
  {
   "cell_type": "code",
   "execution_count": 58,
   "id": "01260878",
   "metadata": {},
   "outputs": [
    {
     "data": {
      "text/plain": [
       "array([ 2980.95798704,   148.4131591 ,   403.42879349, 22026.46579481])"
      ]
     },
     "execution_count": 58,
     "metadata": {},
     "output_type": "execute_result"
    }
   ],
   "source": [
    "b = np.exp((8,5,6,10))\n",
    "b"
   ]
  },
  {
   "cell_type": "code",
   "execution_count": 59,
   "id": "cbe1ac1a",
   "metadata": {},
   "outputs": [
    {
     "name": "stdout",
     "output_type": "stream",
     "text": [
      "[26 28 16 11  7  8  2 17 23 15 22  6 20 18 22]\n",
      "[29 27 25 24 21 24 25  5  7  5 26  1  9  5 20]\n",
      "[29 28 25 24 21 24 25 17 23 15 26  6 20 18 22]\n"
     ]
    }
   ],
   "source": [
    "a = np.random.randint(1,30, 15)\n",
    "b = np.random.randint(1,30, 15)\n",
    "print(a)\n",
    "print(b)\n",
    "print(np.maximum(a,b))"
   ]
  },
  {
   "cell_type": "code",
   "execution_count": 60,
   "id": "e7859b38",
   "metadata": {},
   "outputs": [
    {
     "name": "stdout",
     "output_type": "stream",
     "text": [
      "[26 27 16 11  7  8  2  5  7  5 22  1  9  5 20]\n"
     ]
    }
   ],
   "source": [
    "print(np.minimum(a,b))"
   ]
  },
  {
   "cell_type": "code",
   "execution_count": 63,
   "id": "55d86f9c",
   "metadata": {},
   "outputs": [
    {
     "data": {
      "text/plain": [
       "array([[-13.6596552 ,  -9.18066629, -13.5229567 ,  19.87547546],\n",
       "       [  4.45752535, -18.0477379 ,  -6.62089039,   7.12489051],\n",
       "       [ -4.46574287,   7.41710014,   4.75730049,  -0.70296655],\n",
       "       [  0.39078893,  -7.74833515, -15.82484832, -10.68552718],\n",
       "       [ 12.16789155,  -6.39043896,  -4.53185646,  -3.24411944]])"
      ]
     },
     "execution_count": 63,
     "metadata": {},
     "output_type": "execute_result"
    }
   ],
   "source": [
    "m = np.random.randn(20).reshape(5,4)\n",
    "m = m * 10\n",
    "m"
   ]
  },
  {
   "cell_type": "code",
   "execution_count": 64,
   "id": "5868abe9",
   "metadata": {},
   "outputs": [
    {
     "data": {
      "text/plain": [
       "array([[ 0.        ,  0.        ,  0.        , 19.87547546],\n",
       "       [ 4.45752535,  0.        ,  0.        ,  7.12489051],\n",
       "       [ 0.        ,  7.41710014,  4.75730049,  0.        ],\n",
       "       [ 0.39078893,  0.        ,  0.        ,  0.        ],\n",
       "       [12.16789155,  0.        ,  0.        ,  0.        ]])"
      ]
     },
     "execution_count": 64,
     "metadata": {},
     "output_type": "execute_result"
    }
   ],
   "source": [
    "m2 = np.where(m > 0, m, 0)\n",
    "m2"
   ]
  },
  {
   "cell_type": "code",
   "execution_count": 65,
   "id": "1d70b8b4",
   "metadata": {},
   "outputs": [
    {
     "data": {
      "text/plain": [
       "array([[ 0.        ,  0.        ,  0.        ,  0.        ],\n",
       "       [ 4.45752535,  0.        ,  0.        ,  0.        ],\n",
       "       [-4.46574287,  0.        ,  4.75730049, -0.70296655],\n",
       "       [ 0.39078893,  0.        ,  0.        ,  0.        ],\n",
       "       [ 0.        ,  0.        , -4.53185646, -3.24411944]])"
      ]
     },
     "execution_count": 65,
     "metadata": {},
     "output_type": "execute_result"
    }
   ],
   "source": [
    "m2 = np.where((m > -5) & (m < 5), m, 0)\n",
    "m2"
   ]
  },
  {
   "cell_type": "code",
   "execution_count": 66,
   "id": "0dcd8d92",
   "metadata": {},
   "outputs": [
    {
     "data": {
      "text/plain": [
       "array([[ 8,  6, 48, 36, 10, 41, 30],\n",
       "       [22,  3, 43, 11,  4, 37, 33],\n",
       "       [49, 13, 14, 14, 29, 12, 15],\n",
       "       [34, 47,  3, 20, 47, 44, 27],\n",
       "       [36,  6, 11, 27, 14, 47, 42]])"
      ]
     },
     "execution_count": 66,
     "metadata": {},
     "output_type": "execute_result"
    }
   ],
   "source": [
    "m = np.random.randint(1,50, (5,7))\n",
    "m"
   ]
  },
  {
   "cell_type": "code",
   "execution_count": 67,
   "id": "311b88b5",
   "metadata": {},
   "outputs": [
    {
     "data": {
      "text/plain": [
       "25.228571428571428"
      ]
     },
     "execution_count": 67,
     "metadata": {},
     "output_type": "execute_result"
    }
   ],
   "source": [
    "m.mean()"
   ]
  },
  {
   "cell_type": "code",
   "execution_count": 69,
   "id": "d6ca50c9",
   "metadata": {},
   "outputs": [
    {
     "data": {
      "text/plain": [
       "array([25.57142857, 21.85714286, 20.85714286, 31.71428571, 26.14285714])"
      ]
     },
     "execution_count": 69,
     "metadata": {},
     "output_type": "execute_result"
    }
   ],
   "source": [
    "m.mean(axis=1)"
   ]
  },
  {
   "cell_type": "code",
   "execution_count": 68,
   "id": "08e359fa",
   "metadata": {},
   "outputs": [
    {
     "data": {
      "text/plain": [
       "3.8"
      ]
     },
     "execution_count": 68,
     "metadata": {},
     "output_type": "execute_result"
    }
   ],
   "source": [
    "np.mean([1,3,4,5,6])"
   ]
  },
  {
   "cell_type": "code",
   "execution_count": 70,
   "id": "647b24f0",
   "metadata": {},
   "outputs": [
    {
     "data": {
      "text/plain": [
       "719"
      ]
     },
     "execution_count": 70,
     "metadata": {},
     "output_type": "execute_result"
    }
   ],
   "source": [
    "# Sumar valores mayores de 20\n",
    "m[m > 20].sum()"
   ]
  },
  {
   "cell_type": "code",
   "execution_count": 71,
   "id": "bf1eda1b",
   "metadata": {},
   "outputs": [
    {
     "data": {
      "text/plain": [
       "19"
      ]
     },
     "execution_count": 71,
     "metadata": {},
     "output_type": "execute_result"
    }
   ],
   "source": [
    "# Contar valores mayores de 20\n",
    "(m > 20).sum()"
   ]
  },
  {
   "cell_type": "code",
   "execution_count": 78,
   "id": "6256f29f",
   "metadata": {},
   "outputs": [
    {
     "data": {
      "image/png": "[encoded data removed]",
      "text/plain": [
       "<Figure size 432x288 with 1 Axes>"
      ]
     },
     "metadata": {
      "needs_background": "light"
     },
     "output_type": "display_data"
    }
   ],
   "source": [
    "import matplotlib.pyplot as plt\n",
    "np.random.seed(1)\n",
    "# 1000 random integers between 0 and 50\n",
    "x = np.random.randint (0, 50,1000)\n",
    "y = x + np.random.normal (0, 10, 1000)\n",
    "plt.scatter(x,y, color=\"blue\")\n",
    "c = np.corrcoef (x, y)\n",
    "plt.show()"
   ]
  },
  {
   "cell_type": "code",
   "execution_count": 73,
   "id": "0eb4c1ec",
   "metadata": {},
   "outputs": [
    {
     "data": {
      "text/plain": [
       "array([[1.        , 0.81543901],\n",
       "       [0.81543901, 1.        ]])"
      ]
     },
     "execution_count": 73,
     "metadata": {},
     "output_type": "execute_result"
    }
   ],
   "source": [
    "c"
   ]
  },
  {
   "cell_type": "code",
   "execution_count": 74,
   "id": "8547f419",
   "metadata": {},
   "outputs": [
    {
     "data": {
      "text/plain": [
       "81.54"
      ]
     },
     "execution_count": 74,
     "metadata": {},
     "output_type": "execute_result"
    }
   ],
   "source": [
    "round(c[0][1] * 100, 2)"
   ]
  },
  {
   "cell_type": "code",
   "execution_count": 100,
   "id": "3f2b050d",
   "metadata": {},
   "outputs": [
    {
     "data": {
      "image/png": "[encoded data removed]",
      "text/plain": [
       "<Figure size 432x288 with 1 Axes>"
      ]
     },
     "metadata": {
      "needs_background": "light"
     },
     "output_type": "display_data"
    }
   ],
   "source": [
    "x = np.random.randint (0, 20,1000)\n",
    "index = np.arange(0,20)\n",
    "val, i = np.histogram(x, index)\n",
    "plt.bar(i[:-1], val)\n",
    "plt.show()"
   ]
  },
  {
   "cell_type": "code",
   "execution_count": 94,
   "id": "8fbe7153",
   "metadata": {},
   "outputs": [
    {
     "data": {
      "text/plain": [
       "(19,)"
      ]
     },
     "execution_count": 94,
     "metadata": {},
     "output_type": "execute_result"
    }
   ],
   "source": [
    "val.shape"
   ]
  },
  {
   "cell_type": "code",
   "execution_count": 95,
   "id": "6e0c90e0",
   "metadata": {},
   "outputs": [
    {
     "data": {
      "text/plain": [
       "(20,)"
      ]
     },
     "execution_count": 95,
     "metadata": {},
     "output_type": "execute_result"
    }
   ],
   "source": [
    "i.shape"
   ]
  },
  {
   "cell_type": "code",
   "execution_count": 96,
   "id": "2e099ebf",
   "metadata": {},
   "outputs": [
    {
     "data": {
      "text/plain": [
       "(1000,)"
      ]
     },
     "execution_count": 96,
     "metadata": {},
     "output_type": "execute_result"
    }
   ],
   "source": [
    "x.shape"
   ]
  },
  {
   "cell_type": "code",
   "execution_count": 88,
   "id": "6fda9fc6",
   "metadata": {},
   "outputs": [
    {
     "data": {
      "text/plain": [
       "array([28, 27, 15,  9, 49, 30, 31,  6, 44, 36, 49, 41, 21,  2, 37, 33,  7,\n",
       "       27, 31, 26])"
      ]
     },
     "execution_count": 88,
     "metadata": {},
     "output_type": "execute_result"
    }
   ],
   "source": [
    "x[:20]"
   ]
  },
  {
   "cell_type": "code",
   "execution_count": 83,
   "id": "e4f13b78",
   "metadata": {},
   "outputs": [
    {
     "data": {
      "text/plain": [
       "{0: 22,\n",
       " 1: 14,\n",
       " 2: 21,\n",
       " 3: 19,\n",
       " 4: 21,\n",
       " 5: 22,\n",
       " 6: 28,\n",
       " 7: 23,\n",
       " 8: 15,\n",
       " 9: 27,\n",
       " 10: 17,\n",
       " 11: 22,\n",
       " 12: 22,\n",
       " 13: 24,\n",
       " 14: 28,\n",
       " 15: 25,\n",
       " 16: 20,\n",
       " 17: 18,\n",
       " 18: 22,\n",
       " 19: 25,\n",
       " 20: 17,\n",
       " 21: 16,\n",
       " 22: 25,\n",
       " 23: 21,\n",
       " 24: 19,\n",
       " 25: 23,\n",
       " 26: 19,\n",
       " 27: 16,\n",
       " 28: 12,\n",
       " 29: 15,\n",
       " 30: 21,\n",
       " 31: 20,\n",
       " 32: 22,\n",
       " 33: 14,\n",
       " 34: 21,\n",
       " 35: 14,\n",
       " 36: 18,\n",
       " 37: 25,\n",
       " 38: 20,\n",
       " 39: 17,\n",
       " 40: 22,\n",
       " 41: 16,\n",
       " 42: 12,\n",
       " 43: 19,\n",
       " 44: 23,\n",
       " 45: 17,\n",
       " 46: 27,\n",
       " 47: 19,\n",
       " 48: 35}"
      ]
     },
     "execution_count": 83,
     "metadata": {},
     "output_type": "execute_result"
    }
   ],
   "source": [
    "d = dict(zip(i, val))\n",
    "d"
   ]
  },
  {
   "cell_type": "code",
   "execution_count": null,
   "id": "897d00f2",
   "metadata": {},
   "outputs": [],
   "source": [
    "m = np.random.randint(1,51, (10, 20))\n",
    "np.savetxt(\"../ficheros/matriz.csv\", m, delimiter=';', fmt=\"%d\")"
   ]
  },
  {
   "cell_type": "markdown",
   "id": "0cc5e276",
   "metadata": {},
   "source": [
    "- %6.2f\n",
    "- 6 todo: parte entera y decimales\n",
    "- 2 decimales"
   ]
  },
  {
   "cell_type": "code",
   "execution_count": 106,
   "id": "041fd3dd",
   "metadata": {},
   "outputs": [
    {
     "ename": "ValueError",
     "evalue": "unsupported format character ',' (0x2c) at index 1",
     "output_type": "error",
     "traceback": [
      "\u001b[1;31m---------------------------------------------------------------------------\u001b[0m",
      "\u001b[1;31mValueError\u001b[0m                                Traceback (most recent call last)",
      "\u001b[1;32m<ipython-input-106-af11d30b0e35>\u001b[0m in \u001b[0;36m<module>\u001b[1;34m\u001b[0m\n\u001b[0;32m      1\u001b[0m \u001b[0mm\u001b[0m \u001b[1;33m=\u001b[0m \u001b[0mnp\u001b[0m\u001b[1;33m.\u001b[0m\u001b[0mrandom\u001b[0m\u001b[1;33m.\u001b[0m\u001b[0mrandn\u001b[0m\u001b[1;33m(\u001b[0m\u001b[1;36m10\u001b[0m\u001b[1;33m,\u001b[0m \u001b[1;36m20\u001b[0m\u001b[1;33m)\u001b[0m\u001b[1;33m\u001b[0m\u001b[1;33m\u001b[0m\u001b[0m\n\u001b[0;32m      2\u001b[0m \u001b[0mm\u001b[0m \u001b[1;33m=\u001b[0m \u001b[0mm\u001b[0m \u001b[1;33m*\u001b[0m \u001b[1;36m100\u001b[0m\u001b[1;33m\u001b[0m\u001b[1;33m\u001b[0m\u001b[0m\n\u001b[1;32m----> 3\u001b[1;33m \u001b[0mnp\u001b[0m\u001b[1;33m.\u001b[0m\u001b[0msavetxt\u001b[0m\u001b[1;33m(\u001b[0m\u001b[1;34m\"../ficheros/matriz2.csv\"\u001b[0m\u001b[1;33m,\u001b[0m \u001b[0mm\u001b[0m\u001b[1;33m,\u001b[0m \u001b[0mdelimiter\u001b[0m\u001b[1;33m=\u001b[0m\u001b[1;34m';'\u001b[0m\u001b[1;33m,\u001b[0m \u001b[0mfmt\u001b[0m\u001b[1;33m=\u001b[0m\u001b[1;34m\"%,2f\"\u001b[0m\u001b[1;33m)\u001b[0m\u001b[1;33m\u001b[0m\u001b[1;33m\u001b[0m\u001b[0m\n\u001b[0m",
      "\u001b[1;32m<__array_function__ internals>\u001b[0m in \u001b[0;36msavetxt\u001b[1;34m(*args, **kwargs)\u001b[0m\n",
      "\u001b[1;32mc:\\python38\\lib\\site-packages\\numpy\\lib\\npyio.py\u001b[0m in \u001b[0;36msavetxt\u001b[1;34m(fname, X, fmt, delimiter, newline, header, footer, comments, encoding)\u001b[0m\n\u001b[0;32m   1433\u001b[0m             \u001b[1;32mfor\u001b[0m \u001b[0mrow\u001b[0m \u001b[1;32min\u001b[0m \u001b[0mX\u001b[0m\u001b[1;33m:\u001b[0m\u001b[1;33m\u001b[0m\u001b[1;33m\u001b[0m\u001b[0m\n\u001b[0;32m   1434\u001b[0m                 \u001b[1;32mtry\u001b[0m\u001b[1;33m:\u001b[0m\u001b[1;33m\u001b[0m\u001b[1;33m\u001b[0m\u001b[0m\n\u001b[1;32m-> 1435\u001b[1;33m                     \u001b[0mv\u001b[0m \u001b[1;33m=\u001b[0m \u001b[0mformat\u001b[0m \u001b[1;33m%\u001b[0m \u001b[0mtuple\u001b[0m\u001b[1;33m(\u001b[0m\u001b[0mrow\u001b[0m\u001b[1;33m)\u001b[0m \u001b[1;33m+\u001b[0m \u001b[0mnewline\u001b[0m\u001b[1;33m\u001b[0m\u001b[1;33m\u001b[0m\u001b[0m\n\u001b[0m\u001b[0;32m   1436\u001b[0m                 \u001b[1;32mexcept\u001b[0m \u001b[0mTypeError\u001b[0m \u001b[1;32mas\u001b[0m \u001b[0me\u001b[0m\u001b[1;33m:\u001b[0m\u001b[1;33m\u001b[0m\u001b[1;33m\u001b[0m\u001b[0m\n\u001b[0;32m   1437\u001b[0m                     raise TypeError(\"Mismatch between array dtype ('%s') and \"\n",
      "\u001b[1;31mValueError\u001b[0m: unsupported format character ',' (0x2c) at index 1"
     ]
    }
   ],
   "source": [
    "m = np.random.randn(10, 20)\n",
    "m = m * 100\n",
    "np.savetxt(\"../ficheros/matriz2.csv\", m, delimiter=';', fmt=\"%.2f\")"
   ]
  },
  {
   "cell_type": "code",
   "execution_count": null,
   "id": "1b64d806",
   "metadata": {},
   "outputs": [],
   "source": []
  }
 ],
 "metadata": {
  "kernelspec": {
   "display_name": "Python 3 (ipykernel)",
   "language": "python",
   "name": "python3"
  },
  "language_info": {
   "codemirror_mode": {
    "name": "ipython",
    "version": 3
   },
   "file_extension": ".py",
   "mimetype": "text/x-python",
   "name": "python",
   "nbconvert_exporter": "python",
   "pygments_lexer": "ipython3",
   "version": "3.8.5"
  }
 },
 "nbformat": 4,
 "nbformat_minor": 5
}

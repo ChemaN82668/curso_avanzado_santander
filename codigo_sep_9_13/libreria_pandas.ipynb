{
 "cells": [
  {
   "cell_type": "markdown",
   "id": "88261801",
   "metadata": {},
   "source": [
    "## Librería pandas"
   ]
  },
  {
   "cell_type": "code",
   "execution_count": 29,
   "id": "b32903bf",
   "metadata": {},
   "outputs": [],
   "source": [
    "import numpy as np\n",
    "import pandas as pd\n",
    "from random import randint\n",
    "from pandas import Series, DataFrame"
   ]
  },
  {
   "cell_type": "markdown",
   "id": "a9f7fed7",
   "metadata": {},
   "source": [
    "#### Objeto Series"
   ]
  },
  {
   "cell_type": "code",
   "execution_count": 4,
   "id": "7d3498c5",
   "metadata": {},
   "outputs": [],
   "source": [
    "s1 = Series(np.arange(5))\n",
    "s2 = Series([1,2,3,4,5])"
   ]
  },
  {
   "cell_type": "code",
   "execution_count": 5,
   "id": "7ff1bcc6",
   "metadata": {},
   "outputs": [
    {
     "data": {
      "text/plain": [
       "0    0\n",
       "1    1\n",
       "2    2\n",
       "3    3\n",
       "4    4\n",
       "dtype: int32"
      ]
     },
     "execution_count": 5,
     "metadata": {},
     "output_type": "execute_result"
    }
   ],
   "source": [
    "s1"
   ]
  },
  {
   "cell_type": "code",
   "execution_count": 6,
   "id": "e8565fcc",
   "metadata": {},
   "outputs": [
    {
     "data": {
      "text/plain": [
       "0    1\n",
       "1    2\n",
       "2    3\n",
       "3    4\n",
       "4    5\n",
       "dtype: int64"
      ]
     },
     "execution_count": 6,
     "metadata": {},
     "output_type": "execute_result"
    }
   ],
   "source": [
    "s2"
   ]
  },
  {
   "cell_type": "code",
   "execution_count": 7,
   "id": "86a9d655",
   "metadata": {},
   "outputs": [
    {
     "data": {
      "text/plain": [
       "0    100\n",
       "1      1\n",
       "2      2\n",
       "3      3\n",
       "4      4\n",
       "dtype: int32"
      ]
     },
     "execution_count": 7,
     "metadata": {},
     "output_type": "execute_result"
    }
   ],
   "source": [
    "s1[0] = 100\n",
    "s1"
   ]
  },
  {
   "cell_type": "code",
   "execution_count": 9,
   "id": "40e88eea",
   "metadata": {},
   "outputs": [
    {
     "data": {
      "text/plain": [
       "a    1\n",
       "b    2\n",
       "c    3\n",
       "d    4\n",
       "e    5\n",
       "dtype: int64"
      ]
     },
     "execution_count": 9,
     "metadata": {},
     "output_type": "execute_result"
    }
   ],
   "source": [
    "s3 = Series([1,2,3,4,5], index=list('abcde'))\n",
    "s3"
   ]
  },
  {
   "cell_type": "code",
   "execution_count": 10,
   "id": "fb2a9b10",
   "metadata": {},
   "outputs": [
    {
     "name": "stdout",
     "output_type": "stream",
     "text": [
      "1\n",
      "1\n"
     ]
    }
   ],
   "source": [
    "print(s3['a'])\n",
    "print(s3[0])"
   ]
  },
  {
   "cell_type": "code",
   "execution_count": 11,
   "id": "8acb51f2",
   "metadata": {},
   "outputs": [
    {
     "data": {
      "text/plain": [
       "a    10\n",
       "d    22\n",
       "i    13\n",
       "o    34\n",
       "s    55\n",
       "dtype: int64"
      ]
     },
     "execution_count": 11,
     "metadata": {},
     "output_type": "execute_result"
    }
   ],
   "source": [
    "s4 = Series([10,22,13,34,55], index=list('adios'))\n",
    "s4"
   ]
  },
  {
   "cell_type": "code",
   "execution_count": 12,
   "id": "6a9de1bd",
   "metadata": {},
   "outputs": [
    {
     "data": {
      "text/plain": [
       "a    11.0\n",
       "b     NaN\n",
       "c     NaN\n",
       "d    26.0\n",
       "e     NaN\n",
       "i     NaN\n",
       "o     NaN\n",
       "s     NaN\n",
       "dtype: float64"
      ]
     },
     "execution_count": 12,
     "metadata": {},
     "output_type": "execute_result"
    }
   ],
   "source": [
    "s3 + s4"
   ]
  },
  {
   "cell_type": "code",
   "execution_count": 14,
   "id": "fe81f48a",
   "metadata": {},
   "outputs": [
    {
     "data": {
      "text/plain": [
       "a    11.0\n",
       "b     2.0\n",
       "c     3.0\n",
       "d    26.0\n",
       "e     5.0\n",
       "i    13.0\n",
       "o    34.0\n",
       "s    55.0\n",
       "dtype: float64"
      ]
     },
     "execution_count": 14,
     "metadata": {},
     "output_type": "execute_result"
    }
   ],
   "source": [
    "suma=s3.add(s4, fill_value=0)\n",
    "suma"
   ]
  },
  {
   "cell_type": "code",
   "execution_count": 15,
   "id": "19842d4d",
   "metadata": {},
   "outputs": [
    {
     "data": {
      "text/plain": [
       "a    11.0\n",
       "c     3.0\n",
       "s    55.0\n",
       "dtype: float64"
      ]
     },
     "execution_count": 15,
     "metadata": {},
     "output_type": "execute_result"
    }
   ],
   "source": [
    "suma[['a','c','s']]"
   ]
  },
  {
   "cell_type": "code",
   "execution_count": 16,
   "id": "8e8a60d7",
   "metadata": {},
   "outputs": [
    {
     "data": {
      "text/plain": [
       "149.0"
      ]
     },
     "execution_count": 16,
     "metadata": {},
     "output_type": "execute_result"
    }
   ],
   "source": [
    "suma.sum()"
   ]
  },
  {
   "cell_type": "code",
   "execution_count": 17,
   "id": "dfe9253e",
   "metadata": {},
   "outputs": [
    {
     "data": {
      "text/plain": [
       "a    11.0\n",
       "d    26.0\n",
       "i    13.0\n",
       "o    34.0\n",
       "s    55.0\n",
       "dtype: float64"
      ]
     },
     "execution_count": 17,
     "metadata": {},
     "output_type": "execute_result"
    }
   ],
   "source": [
    "suma[suma > 10]"
   ]
  },
  {
   "cell_type": "code",
   "execution_count": 18,
   "id": "049fd96a",
   "metadata": {},
   "outputs": [
    {
     "data": {
      "text/plain": [
       "139.0"
      ]
     },
     "execution_count": 18,
     "metadata": {},
     "output_type": "execute_result"
    }
   ],
   "source": [
    "suma[suma > 10].sum()"
   ]
  },
  {
   "cell_type": "code",
   "execution_count": 19,
   "id": "ecaefc94",
   "metadata": {},
   "outputs": [
    {
     "data": {
      "text/plain": [
       "a     True\n",
       "b    False\n",
       "c    False\n",
       "d     True\n",
       "e    False\n",
       "i     True\n",
       "o     True\n",
       "s     True\n",
       "dtype: bool"
      ]
     },
     "execution_count": 19,
     "metadata": {},
     "output_type": "execute_result"
    }
   ],
   "source": [
    "suma > 10"
   ]
  },
  {
   "cell_type": "code",
   "execution_count": 20,
   "id": "7a9bb4c3",
   "metadata": {},
   "outputs": [
    {
     "data": {
      "text/plain": [
       "a    11.0\n",
       "i    13.0\n",
       "dtype: float64"
      ]
     },
     "execution_count": 20,
     "metadata": {},
     "output_type": "execute_result"
    }
   ],
   "source": [
    "suma[(suma > 10) & (suma < 20)]"
   ]
  },
  {
   "cell_type": "code",
   "execution_count": 21,
   "id": "8d1920b6",
   "metadata": {},
   "outputs": [
    {
     "data": {
      "text/plain": [
       "5"
      ]
     },
     "execution_count": 21,
     "metadata": {},
     "output_type": "execute_result"
    }
   ],
   "source": [
    "(suma > 10).sum()"
   ]
  },
  {
   "cell_type": "code",
   "execution_count": null,
   "id": "b544a0f2",
   "metadata": {},
   "outputs": [],
   "source": [
    "        "
   ]
  },
  {
   "cell_type": "code",
   "execution_count": 27,
   "id": "154dba64",
   "metadata": {},
   "outputs": [
    {
     "data": {
      "text/plain": [
       "a    22.0\n",
       "e    44.0\n",
       "i    -1.0\n",
       "o    15.0\n",
       "u    78.0\n",
       "y     9.0\n",
       "dtype: float64"
      ]
     },
     "execution_count": 27,
     "metadata": {},
     "output_type": "execute_result"
    }
   ],
   "source": [
    "a = Series([22,44,-1,5,8], index=list(\"aeiou\"))\n",
    "b = Series([0,4,-10,15,78,9], index=list(\"aeiouy\"))\n",
    " \n",
    "np.fmax(a,b)"
   ]
  },
  {
   "cell_type": "code",
   "execution_count": 26,
   "id": "781df193",
   "metadata": {},
   "outputs": [
    {
     "data": {
      "text/plain": [
       "a    22.0\n",
       "e    44.0\n",
       "i    -1.0\n",
       "o    15.0\n",
       "u    78.0\n",
       "y     NaN\n",
       "dtype: float64"
      ]
     },
     "execution_count": 26,
     "metadata": {},
     "output_type": "execute_result"
    }
   ],
   "source": [
    "a = Series([22,44,-1,5,8], index=list('aeiou'))\n",
    "b = Series([0,4,-10,15,78,9], index=list('aeiouy'))\n",
    "\n",
    "np.maximum(a,b)\n"
   ]
  },
  {
   "cell_type": "code",
   "execution_count": 23,
   "id": "28d5d808",
   "metadata": {},
   "outputs": [
    {
     "data": {
      "text/plain": [
       "a    False\n",
       "b    False\n",
       "c    False\n",
       "d    False\n",
       "e    False\n",
       "i    False\n",
       "o    False\n",
       "s    False\n",
       "dtype: bool"
      ]
     },
     "execution_count": 23,
     "metadata": {},
     "output_type": "execute_result"
    }
   ],
   "source": [
    "suma.isnull()"
   ]
  },
  {
   "cell_type": "code",
   "execution_count": 24,
   "id": "959eada8",
   "metadata": {},
   "outputs": [
    {
     "data": {
      "text/plain": [
       "a    False\n",
       "b    False\n",
       "c    False\n",
       "d    False\n",
       "e    False\n",
       "i    False\n",
       "o    False\n",
       "s    False\n",
       "dtype: bool"
      ]
     },
     "execution_count": 24,
     "metadata": {},
     "output_type": "execute_result"
    }
   ],
   "source": [
    "pd.isnull(suma)"
   ]
  },
  {
   "cell_type": "markdown",
   "id": "8dd1ce05",
   "metadata": {},
   "source": [
    "#### Dataframe"
   ]
  },
  {
   "cell_type": "code",
   "execution_count": 28,
   "id": "7d519693",
   "metadata": {},
   "outputs": [
    {
     "data": {
      "text/html": [
       "<div>\n",
       "<style scoped>\n",
       "    .dataframe tbody tr th:only-of-type {\n",
       "        vertical-align: middle;\n",
       "    }\n",
       "\n",
       "    .dataframe tbody tr th {\n",
       "        vertical-align: top;\n",
       "    }\n",
       "\n",
       "    .dataframe thead th {\n",
       "        text-align: right;\n",
       "    }\n",
       "</style>\n",
       "<table border=\"1\" class=\"dataframe\">\n",
       "  <thead>\n",
       "    <tr style=\"text-align: right;\">\n",
       "      <th></th>\n",
       "      <th>0</th>\n",
       "      <th>1</th>\n",
       "      <th>2</th>\n",
       "      <th>3</th>\n",
       "      <th>4</th>\n",
       "    </tr>\n",
       "  </thead>\n",
       "  <tbody>\n",
       "    <tr>\n",
       "      <th>0</th>\n",
       "      <td>0</td>\n",
       "      <td>1</td>\n",
       "      <td>2</td>\n",
       "      <td>3</td>\n",
       "      <td>4</td>\n",
       "    </tr>\n",
       "    <tr>\n",
       "      <th>1</th>\n",
       "      <td>5</td>\n",
       "      <td>6</td>\n",
       "      <td>7</td>\n",
       "      <td>8</td>\n",
       "      <td>9</td>\n",
       "    </tr>\n",
       "    <tr>\n",
       "      <th>2</th>\n",
       "      <td>10</td>\n",
       "      <td>11</td>\n",
       "      <td>12</td>\n",
       "      <td>13</td>\n",
       "      <td>14</td>\n",
       "    </tr>\n",
       "    <tr>\n",
       "      <th>3</th>\n",
       "      <td>15</td>\n",
       "      <td>16</td>\n",
       "      <td>17</td>\n",
       "      <td>18</td>\n",
       "      <td>19</td>\n",
       "    </tr>\n",
       "    <tr>\n",
       "      <th>4</th>\n",
       "      <td>20</td>\n",
       "      <td>21</td>\n",
       "      <td>22</td>\n",
       "      <td>23</td>\n",
       "      <td>24</td>\n",
       "    </tr>\n",
       "  </tbody>\n",
       "</table>\n",
       "</div>"
      ],
      "text/plain": [
       "    0   1   2   3   4\n",
       "0   0   1   2   3   4\n",
       "1   5   6   7   8   9\n",
       "2  10  11  12  13  14\n",
       "3  15  16  17  18  19\n",
       "4  20  21  22  23  24"
      ]
     },
     "execution_count": 28,
     "metadata": {},
     "output_type": "execute_result"
    }
   ],
   "source": [
    "m = np.arange(25).reshape(5,5)\n",
    "df1 = DataFrame(m)\n",
    "df1"
   ]
  },
  {
   "cell_type": "code",
   "execution_count": null,
   "id": "436d443c",
   "metadata": {},
   "outputs": [],
   "source": [
    "d = {letra:[] }"
   ]
  }
 ],
 "metadata": {
  "kernelspec": {
   "display_name": "Python 3 (ipykernel)",
   "language": "python",
   "name": "python3"
  },
  "language_info": {
   "codemirror_mode": {
    "name": "ipython",
    "version": 3
   },
   "file_extension": ".py",
   "mimetype": "text/x-python",
   "name": "python",
   "nbconvert_exporter": "python",
   "pygments_lexer": "ipython3",
   "version": "3.8.5"
  }
 },
 "nbformat": 4,
 "nbformat_minor": 5
}

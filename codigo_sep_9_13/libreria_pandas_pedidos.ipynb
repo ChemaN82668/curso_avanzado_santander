{
 "cells": [
  {
   "cell_type": "markdown",
   "id": "0c07cfe5",
   "metadata": {},
   "source": [
    "### Pandas: fichero de pedidos"
   ]
  },
  {
   "cell_type": "markdown",
   "id": "d9789b01",
   "metadata": {},
   "source": [
    "Filtros por pais y separar el fichero de pedidos en varios ficheros. Uno fichero por cada pais"
   ]
  },
  {
   "cell_type": "code",
   "execution_count": 1,
   "id": "3e00ef33",
   "metadata": {},
   "outputs": [],
   "source": [
    "import pandas as pd"
   ]
  },
  {
   "cell_type": "code",
   "execution_count": 3,
   "id": "b3b94f47",
   "metadata": {},
   "outputs": [
    {
     "data": {
      "text/html": [
       "<div>\n",
       "<style scoped>\n",
       "    .dataframe tbody tr th:only-of-type {\n",
       "        vertical-align: middle;\n",
       "    }\n",
       "\n",
       "    .dataframe tbody tr th {\n",
       "        vertical-align: top;\n",
       "    }\n",
       "\n",
       "    .dataframe thead th {\n",
       "        text-align: right;\n",
       "    }\n",
       "</style>\n",
       "<table border=\"1\" class=\"dataframe\">\n",
       "  <thead>\n",
       "    <tr style=\"text-align: right;\">\n",
       "      <th></th>\n",
       "      <th>idpedido</th>\n",
       "      <th>cliente</th>\n",
       "      <th>importe</th>\n",
       "      <th>iva</th>\n",
       "      <th>total</th>\n",
       "      <th>pais</th>\n",
       "    </tr>\n",
       "  </thead>\n",
       "  <tbody>\n",
       "    <tr>\n",
       "      <th>0</th>\n",
       "      <td>10248</td>\n",
       "      <td>WILMK</td>\n",
       "      <td>32.38</td>\n",
       "      <td>6.80</td>\n",
       "      <td>39.18</td>\n",
       "      <td>Finlandia</td>\n",
       "    </tr>\n",
       "    <tr>\n",
       "      <th>1</th>\n",
       "      <td>10249</td>\n",
       "      <td>TOMSP</td>\n",
       "      <td>11.61</td>\n",
       "      <td>2.44</td>\n",
       "      <td>14.05</td>\n",
       "      <td>Alemania</td>\n",
       "    </tr>\n",
       "    <tr>\n",
       "      <th>2</th>\n",
       "      <td>10250</td>\n",
       "      <td>HANAR</td>\n",
       "      <td>65.83</td>\n",
       "      <td>13.82</td>\n",
       "      <td>79.65</td>\n",
       "      <td>Brasil</td>\n",
       "    </tr>\n",
       "    <tr>\n",
       "      <th>3</th>\n",
       "      <td>10251</td>\n",
       "      <td>VICTE</td>\n",
       "      <td>41.34</td>\n",
       "      <td>8.68</td>\n",
       "      <td>50.02</td>\n",
       "      <td>Francia</td>\n",
       "    </tr>\n",
       "    <tr>\n",
       "      <th>4</th>\n",
       "      <td>10252</td>\n",
       "      <td>SUPRD</td>\n",
       "      <td>51.30</td>\n",
       "      <td>10.77</td>\n",
       "      <td>62.07</td>\n",
       "      <td>Belgica</td>\n",
       "    </tr>\n",
       "  </tbody>\n",
       "</table>\n",
       "</div>"
      ],
      "text/plain": [
       "   idpedido cliente  importe    iva  total       pais\n",
       "0     10248   WILMK    32.38   6.80  39.18  Finlandia\n",
       "1     10249   TOMSP    11.61   2.44  14.05   Alemania\n",
       "2     10250   HANAR    65.83  13.82  79.65     Brasil\n",
       "3     10251   VICTE    41.34   8.68  50.02    Francia\n",
       "4     10252   SUPRD    51.30  10.77  62.07    Belgica"
      ]
     },
     "execution_count": 3,
     "metadata": {},
     "output_type": "execute_result"
    }
   ],
   "source": [
    "df = pd.read_excel(\"../ficheros_curso/Pedidos_total.xlsx\")\n",
    "df.head()"
   ]
  },
  {
   "cell_type": "code",
   "execution_count": 7,
   "id": "c8c79255",
   "metadata": {},
   "outputs": [
    {
     "data": {
      "text/html": [
       "<div>\n",
       "<style scoped>\n",
       "    .dataframe tbody tr th:only-of-type {\n",
       "        vertical-align: middle;\n",
       "    }\n",
       "\n",
       "    .dataframe tbody tr th {\n",
       "        vertical-align: top;\n",
       "    }\n",
       "\n",
       "    .dataframe thead th {\n",
       "        text-align: right;\n",
       "    }\n",
       "</style>\n",
       "<table border=\"1\" class=\"dataframe\">\n",
       "  <thead>\n",
       "    <tr style=\"text-align: right;\">\n",
       "      <th></th>\n",
       "      <th>idpedido</th>\n",
       "      <th>cliente</th>\n",
       "      <th>importe</th>\n",
       "      <th>iva</th>\n",
       "      <th>total</th>\n",
       "      <th>pais</th>\n",
       "    </tr>\n",
       "  </thead>\n",
       "  <tbody>\n",
       "    <tr>\n",
       "      <th>7</th>\n",
       "      <td>10255</td>\n",
       "      <td>RICSU</td>\n",
       "      <td>148.33</td>\n",
       "      <td>31.15</td>\n",
       "      <td>179.48</td>\n",
       "      <td>Suiza</td>\n",
       "    </tr>\n",
       "    <tr>\n",
       "      <th>171</th>\n",
       "      <td>10419</td>\n",
       "      <td>RICSU</td>\n",
       "      <td>137.35</td>\n",
       "      <td>28.84</td>\n",
       "      <td>166.19</td>\n",
       "      <td>Suiza</td>\n",
       "    </tr>\n",
       "    <tr>\n",
       "      <th>271</th>\n",
       "      <td>10519</td>\n",
       "      <td>CHOPS</td>\n",
       "      <td>91.76</td>\n",
       "      <td>19.27</td>\n",
       "      <td>111.03</td>\n",
       "      <td>Suiza</td>\n",
       "    </tr>\n",
       "    <tr>\n",
       "      <th>418</th>\n",
       "      <td>10666</td>\n",
       "      <td>RICSU</td>\n",
       "      <td>232.42</td>\n",
       "      <td>48.81</td>\n",
       "      <td>281.23</td>\n",
       "      <td>Suiza</td>\n",
       "    </tr>\n",
       "    <tr>\n",
       "      <th>483</th>\n",
       "      <td>10731</td>\n",
       "      <td>CHOPS</td>\n",
       "      <td>96.65</td>\n",
       "      <td>20.30</td>\n",
       "      <td>116.95</td>\n",
       "      <td>Suiza</td>\n",
       "    </tr>\n",
       "    <tr>\n",
       "      <th>503</th>\n",
       "      <td>10751</td>\n",
       "      <td>RICSU</td>\n",
       "      <td>130.79</td>\n",
       "      <td>27.47</td>\n",
       "      <td>158.26</td>\n",
       "      <td>Suiza</td>\n",
       "    </tr>\n",
       "    <tr>\n",
       "      <th>510</th>\n",
       "      <td>10758</td>\n",
       "      <td>RICSU</td>\n",
       "      <td>138.17</td>\n",
       "      <td>29.02</td>\n",
       "      <td>167.19</td>\n",
       "      <td>Suiza</td>\n",
       "    </tr>\n",
       "    <tr>\n",
       "      <th>785</th>\n",
       "      <td>11033</td>\n",
       "      <td>RICSU</td>\n",
       "      <td>84.74</td>\n",
       "      <td>17.80</td>\n",
       "      <td>102.54</td>\n",
       "      <td>Suiza</td>\n",
       "    </tr>\n",
       "  </tbody>\n",
       "</table>\n",
       "</div>"
      ],
      "text/plain": [
       "     idpedido cliente  importe    iva   total   pais\n",
       "7       10255   RICSU   148.33  31.15  179.48  Suiza\n",
       "171     10419   RICSU   137.35  28.84  166.19  Suiza\n",
       "271     10519   CHOPS    91.76  19.27  111.03  Suiza\n",
       "418     10666   RICSU   232.42  48.81  281.23  Suiza\n",
       "483     10731   CHOPS    96.65  20.30  116.95  Suiza\n",
       "503     10751   RICSU   130.79  27.47  158.26  Suiza\n",
       "510     10758   RICSU   138.17  29.02  167.19  Suiza\n",
       "785     11033   RICSU    84.74  17.80  102.54  Suiza"
      ]
     },
     "execution_count": 7,
     "metadata": {},
     "output_type": "execute_result"
    }
   ],
   "source": [
    "df[(df.pais=='Suiza') & (df.total > 100)]"
   ]
  },
  {
   "cell_type": "code",
   "execution_count": 9,
   "id": "6bdf8803",
   "metadata": {},
   "outputs": [
    {
     "data": {
      "text/plain": [
       "['Alemania',\n",
       " 'Argentina',\n",
       " 'Austria',\n",
       " 'Belgica',\n",
       " 'Brasil',\n",
       " 'Canada',\n",
       " 'Dinamarca',\n",
       " 'Espanya',\n",
       " 'Estados Unidos',\n",
       " 'Finlandia',\n",
       " 'Francia',\n",
       " 'Irlanda',\n",
       " 'Italia',\n",
       " 'Mexico',\n",
       " 'Noruega',\n",
       " 'Polonia',\n",
       " 'Portugal',\n",
       " 'Reino Unido',\n",
       " 'Suecia',\n",
       " 'Suiza',\n",
       " 'Venezuela']"
      ]
     },
     "execution_count": 9,
     "metadata": {},
     "output_type": "execute_result"
    }
   ],
   "source": [
    "paises = sorted(df.pais.unique())\n",
    "paises"
   ]
  },
  {
   "cell_type": "code",
   "execution_count": 10,
   "id": "9101726c",
   "metadata": {},
   "outputs": [
    {
     "data": {
      "text/plain": [
       "21"
      ]
     },
     "execution_count": 10,
     "metadata": {},
     "output_type": "execute_result"
    }
   ],
   "source": [
    "len(paises)"
   ]
  },
  {
   "cell_type": "code",
   "execution_count": null,
   "id": "ca48c3d4",
   "metadata": {},
   "outputs": [],
   "source": []
  }
 ],
 "metadata": {
  "kernelspec": {
   "display_name": "Python 3 (ipykernel)",
   "language": "python",
   "name": "python3"
  },
  "language_info": {
   "codemirror_mode": {
    "name": "ipython",
    "version": 3
   },
   "file_extension": ".py",
   "mimetype": "text/x-python",
   "name": "python",
   "nbconvert_exporter": "python",
   "pygments_lexer": "ipython3",
   "version": "3.8.5"
  }
 },
 "nbformat": 4,
 "nbformat_minor": 5
}

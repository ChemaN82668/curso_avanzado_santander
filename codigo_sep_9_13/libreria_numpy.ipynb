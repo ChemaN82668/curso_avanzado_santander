{
 "cells": [
  {
   "cell_type": "markdown",
   "id": "641af754",
   "metadata": {},
   "source": [
    "## Pruebas con la librería numpy"
   ]
  },
  {
   "cell_type": "code",
   "execution_count": 1,
   "id": "c7b1dc2a",
   "metadata": {},
   "outputs": [],
   "source": [
    "import numpy as np"
   ]
  },
  {
   "cell_type": "code",
   "execution_count": 2,
   "id": "a7800e0d",
   "metadata": {},
   "outputs": [
    {
     "data": {
      "text/plain": [
       "'1.21.0'"
      ]
     },
     "execution_count": 2,
     "metadata": {},
     "output_type": "execute_result"
    }
   ],
   "source": [
    "np.__version__"
   ]
  },
  {
   "cell_type": "code",
   "execution_count": null,
   "id": "72efec9b",
   "metadata": {},
   "outputs": [],
   "source": [
    "%%timeit\n",
    "# Ejecución con una lista\n",
    "L = list(range(1000000))\n",
    "for _ in range(10): L = [x * 2 for x in L]"
   ]
  },
  {
   "cell_type": "code",
   "execution_count": null,
   "id": "8d69d4a4",
   "metadata": {},
   "outputs": [],
   "source": [
    "%%timeit\n",
    "# Ejecución con un array de numpy\n",
    "arr = np.arange(1000000)\n",
    "for _ in range(10): arr = arr * 2"
   ]
  }
 ],
 "metadata": {
  "kernelspec": {
   "display_name": "Python 3 (ipykernel)",
   "language": "python",
   "name": "python3"
  },
  "language_info": {
   "codemirror_mode": {
    "name": "ipython",
    "version": 3
   },
   "file_extension": ".py",
   "mimetype": "text/x-python",
   "name": "python",
   "nbconvert_exporter": "python",
   "pygments_lexer": "ipython3",
   "version": "3.8.5"
  }
 },
 "nbformat": 4,
 "nbformat_minor": 5
}

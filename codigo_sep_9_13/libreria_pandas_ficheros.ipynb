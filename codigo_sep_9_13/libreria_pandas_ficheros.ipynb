{
 "cells": [
  {
   "cell_type": "markdown",
   "id": "9fe3f9af",
   "metadata": {},
   "source": [
    "### Librería pandas ficheros"
   ]
  },
  {
   "cell_type": "code",
   "execution_count": 1,
   "id": "e91019f5",
   "metadata": {},
   "outputs": [],
   "source": [
    "import pandas as pd\n",
    "import numpy as np"
   ]
  },
  {
   "cell_type": "code",
   "execution_count": 2,
   "id": "cc4ed9e3",
   "metadata": {},
   "outputs": [],
   "source": [
    "path = \"../ficheros_curso/merge/Pedidos.txt\""
   ]
  },
  {
   "cell_type": "code",
   "execution_count": 4,
   "id": "c034425e",
   "metadata": {},
   "outputs": [
    {
     "data": {
      "text/html": [
       "<div>\n",
       "<style scoped>\n",
       "    .dataframe tbody tr th:only-of-type {\n",
       "        vertical-align: middle;\n",
       "    }\n",
       "\n",
       "    .dataframe tbody tr th {\n",
       "        vertical-align: top;\n",
       "    }\n",
       "\n",
       "    .dataframe thead th {\n",
       "        text-align: right;\n",
       "    }\n",
       "</style>\n",
       "<table border=\"1\" class=\"dataframe\">\n",
       "  <thead>\n",
       "    <tr style=\"text-align: right;\">\n",
       "      <th></th>\n",
       "      <th>idpedido</th>\n",
       "      <th>cliente</th>\n",
       "      <th>idempleado</th>\n",
       "      <th>idempresa</th>\n",
       "      <th>importe</th>\n",
       "      <th>pais</th>\n",
       "    </tr>\n",
       "  </thead>\n",
       "  <tbody>\n",
       "    <tr>\n",
       "      <th>0</th>\n",
       "      <td>10248</td>\n",
       "      <td>WILMK</td>\n",
       "      <td>5</td>\n",
       "      <td>3</td>\n",
       "      <td>32.38</td>\n",
       "      <td>Finlandia</td>\n",
       "    </tr>\n",
       "    <tr>\n",
       "      <th>1</th>\n",
       "      <td>10249</td>\n",
       "      <td>TOMSP</td>\n",
       "      <td>6</td>\n",
       "      <td>1</td>\n",
       "      <td>11.61</td>\n",
       "      <td>Alemania</td>\n",
       "    </tr>\n",
       "    <tr>\n",
       "      <th>2</th>\n",
       "      <td>10250</td>\n",
       "      <td>HANAR</td>\n",
       "      <td>4</td>\n",
       "      <td>2</td>\n",
       "      <td>65.83</td>\n",
       "      <td>Brasil</td>\n",
       "    </tr>\n",
       "    <tr>\n",
       "      <th>3</th>\n",
       "      <td>10251</td>\n",
       "      <td>VICTE</td>\n",
       "      <td>3</td>\n",
       "      <td>1</td>\n",
       "      <td>41.34</td>\n",
       "      <td>Francia</td>\n",
       "    </tr>\n",
       "    <tr>\n",
       "      <th>4</th>\n",
       "      <td>10252</td>\n",
       "      <td>SUPRD</td>\n",
       "      <td>4</td>\n",
       "      <td>2</td>\n",
       "      <td>51.30</td>\n",
       "      <td>Belgica</td>\n",
       "    </tr>\n",
       "  </tbody>\n",
       "</table>\n",
       "</div>"
      ],
      "text/plain": [
       "   idpedido cliente  idempleado  idempresa  importe       pais\n",
       "0     10248   WILMK           5          3    32.38  Finlandia\n",
       "1     10249   TOMSP           6          1    11.61   Alemania\n",
       "2     10250   HANAR           4          2    65.83     Brasil\n",
       "3     10251   VICTE           3          1    41.34    Francia\n",
       "4     10252   SUPRD           4          2    51.30    Belgica"
      ]
     },
     "execution_count": 4,
     "metadata": {},
     "output_type": "execute_result"
    }
   ],
   "source": [
    "df = pd.read_csv(path, sep=';')\n",
    "df.head()"
   ]
  },
  {
   "cell_type": "code",
   "execution_count": null,
   "id": "7bc4993e",
   "metadata": {},
   "outputs": [],
   "source": []
  }
 ],
 "metadata": {
  "kernelspec": {
   "display_name": "Python 3 (ipykernel)",
   "language": "python",
   "name": "python3"
  },
  "language_info": {
   "codemirror_mode": {
    "name": "ipython",
    "version": 3
   },
   "file_extension": ".py",
   "mimetype": "text/x-python",
   "name": "python",
   "nbconvert_exporter": "python",
   "pygments_lexer": "ipython3",
   "version": "3.8.5"
  }
 },
 "nbformat": 4,
 "nbformat_minor": 5
}

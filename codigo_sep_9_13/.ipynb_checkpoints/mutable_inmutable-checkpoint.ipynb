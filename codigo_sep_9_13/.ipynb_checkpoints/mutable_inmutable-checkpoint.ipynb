{
 "cells": [
  {
   "cell_type": "markdown",
   "id": "a780d974",
   "metadata": {},
   "source": [
    "### Copia de colecciones mutables"
   ]
  },
  {
   "cell_type": "code",
   "execution_count": 1,
   "id": "70fb6fdd",
   "metadata": {},
   "outputs": [
    {
     "name": "stdout",
     "output_type": "stream",
     "text": [
      "L1 [1000, 3, 4, 3, 1, 2, 4, 9] 2648126051840\n",
      "L2 [1000, 3, 4, 3, 1, 2, 4, 9] 2648126051840\n"
     ]
    }
   ],
   "source": [
    "# Ojo crea una referencia\n",
    "L1 = [1,3,4,3,1,2,4,9]\n",
    "L2 = L1\n",
    "L1[0] = 1000\n",
    "\n",
    "print('L1',L1, id(L1))\n",
    "print('L2',L2, id(L2))\n"
   ]
  },
  {
   "cell_type": "code",
   "execution_count": 2,
   "id": "95e7c566",
   "metadata": {},
   "outputs": [
    {
     "name": "stdout",
     "output_type": "stream",
     "text": [
      "L1 [1000, 3, 4, 3, 1, 2, 4, 9] 2648126051648\n",
      "L2 [1, 3, 4, 3, 1, 2, 4, 9] 2648126063936\n"
     ]
    }
   ],
   "source": [
    "# copy (ojo los elementos son inmutables)\n",
    "L1 = [1,3,4,3,1,2,4,9]\n",
    "L2 = L1.copy()\n",
    "L1[0] = 1000\n",
    "\n",
    "print('L1',L1, id(L1))\n",
    "print('L2',L2, id(L2))"
   ]
  },
  {
   "cell_type": "code",
   "execution_count": 3,
   "id": "d3ecd9c4",
   "metadata": {},
   "outputs": [
    {
     "name": "stdout",
     "output_type": "stream",
     "text": [
      "L1 [1000, [4, 3, 1], [2, 4, 9, 2000]] 2648126065344\n",
      "L2 [[1, 3], [4, 3, 1], [2, 4, 9, 2000]] 2648126064192\n"
     ]
    }
   ],
   "source": [
    "# copy (ojo los elementos son mutables)\n",
    "L1 = [[1,3],[4,3,1],[2,4,9]]\n",
    "L2 = L1.copy()\n",
    "L1[0] = 1000\n",
    "L1[-1].append(2000)\n",
    "\n",
    "print('L1',L1, id(L1))\n",
    "print('L2',L2, id(L2))"
   ]
  },
  {
   "cell_type": "code",
   "execution_count": 4,
   "id": "efa20bfa",
   "metadata": {},
   "outputs": [
    {
     "name": "stdout",
     "output_type": "stream",
     "text": [
      "L1 [1000, [4, 3, 1], [2, 4, 9, 2000]] 2648126065216\n",
      "L2 [[1, 3], [4, 3, 1], [2, 4, 9]] 2648126063936\n"
     ]
    }
   ],
   "source": [
    "import copy\n",
    "L1 = [[1,3],[4,3,1],[2,4,9]]\n",
    "L2 = copy.deepcopy(L1)\n",
    "L1[0] = 1000\n",
    "L1[-1].append(2000)\n",
    "\n",
    "print('L1',L1, id(L1))\n",
    "print('L2',L2, id(L2))"
   ]
  },
  {
   "cell_type": "code",
   "execution_count": null,
   "id": "fa1b92da",
   "metadata": {},
   "outputs": [],
   "source": []
  }
 ],
 "metadata": {
  "kernelspec": {
   "display_name": "Python 3 (ipykernel)",
   "language": "python",
   "name": "python3"
  },
  "language_info": {
   "codemirror_mode": {
    "name": "ipython",
    "version": 3
   },
   "file_extension": ".py",
   "mimetype": "text/x-python",
   "name": "python",
   "nbconvert_exporter": "python",
   "pygments_lexer": "ipython3",
   "version": "3.9.13"
  }
 },
 "nbformat": 4,
 "nbformat_minor": 5
}

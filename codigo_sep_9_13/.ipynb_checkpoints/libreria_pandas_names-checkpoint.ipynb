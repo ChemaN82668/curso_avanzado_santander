{
 "cells": [
  {
   "cell_type": "markdown",
   "id": "32d59aa7",
   "metadata": {},
   "source": [
    "### Pandas: operaciones con DataFrames"
   ]
  },
  {
   "cell_type": "code",
   "execution_count": 1,
   "id": "06ff0a86",
   "metadata": {},
   "outputs": [],
   "source": [
    "import pandas as pd"
   ]
  },
  {
   "cell_type": "code",
   "execution_count": null,
   "id": "f5fa4c20",
   "metadata": {},
   "outputs": [],
   "source": [
    "def cargaDF(path):\n",
    "    df = pd.read_csv(path, header=None, names=['nombre','sexo','total'])\n",
    "    return df"
   ]
  }
 ],
 "metadata": {
  "kernelspec": {
   "display_name": "Python 3 (ipykernel)",
   "language": "python",
   "name": "python3"
  },
  "language_info": {
   "codemirror_mode": {
    "name": "ipython",
    "version": 3
   },
   "file_extension": ".py",
   "mimetype": "text/x-python",
   "name": "python",
   "nbconvert_exporter": "python",
   "pygments_lexer": "ipython3",
   "version": "3.8.5"
  }
 },
 "nbformat": 4,
 "nbformat_minor": 5
}

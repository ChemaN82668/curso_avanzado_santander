{
 "cells": [
  {
   "cell_type": "markdown",
   "id": "31a6c4a0",
   "metadata": {},
   "source": [
    "### Pandas: operaciones con DataFrames"
   ]
  },
  {
   "cell_type": "code",
   "execution_count": 1,
   "id": "621753c4",
   "metadata": {},
   "outputs": [],
   "source": [
    "import pandas as pd"
   ]
  },
  {
   "cell_type": "code",
   "execution_count": null,
   "id": "efbf3179",
   "metadata": {},
   "outputs": [],
   "source": [
    "carpeta = \"../ficheros_curso\""
   ]
  },
  {
   "cell_type": "code",
   "execution_count": 2,
   "id": "52b45147",
   "metadata": {},
   "outputs": [],
   "source": [
    "def cargaDF(path):\n",
    "    df = pd.read_csv(path, header=None, names=['nombre','sexo','total'])\n",
    "    return df"
   ]
  },
  {
   "cell_type": "code",
   "execution_count": null,
   "id": "23528444",
   "metadata": {},
   "outputs": [],
   "source": [
    "df2000 = cargaDF()"
   ]
  }
 ],
 "metadata": {
  "kernelspec": {
   "display_name": "Python 3 (ipykernel)",
   "language": "python",
   "name": "python3"
  },
  "language_info": {
   "codemirror_mode": {
    "name": "ipython",
    "version": 3
   },
   "file_extension": ".py",
   "mimetype": "text/x-python",
   "name": "python",
   "nbconvert_exporter": "python",
   "pygments_lexer": "ipython3",
   "version": "3.8.5"
  }
 },
 "nbformat": 4,
 "nbformat_minor": 5
}

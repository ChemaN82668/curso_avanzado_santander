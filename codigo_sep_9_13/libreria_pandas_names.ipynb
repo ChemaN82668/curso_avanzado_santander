{
 "cells": [
  {
   "cell_type": "markdown",
   "id": "fa90e698",
   "metadata": {},
   "source": [
    "### Pandas: operaciones con DataFrames"
   ]
  },
  {
   "cell_type": "code",
   "execution_count": 1,
   "id": "adeece90",
   "metadata": {},
   "outputs": [],
   "source": [
    "import pandas as pd"
   ]
  },
  {
   "cell_type": "code",
   "execution_count": 2,
   "id": "529afd38",
   "metadata": {},
   "outputs": [],
   "source": [
    "carpeta = \"../ficheros_curso/names/\""
   ]
  },
  {
   "cell_type": "code",
   "execution_count": 3,
   "id": "66df3c85",
   "metadata": {},
   "outputs": [],
   "source": [
    "def cargaDF(path):\n",
    "    df = pd.read_csv(path, header=None, names=['nombre','sexo','total'])\n",
    "    df.set_index([\"nombre\",\"sexo\"], inplace=True)\n",
    "    return df"
   ]
  },
  {
   "cell_type": "code",
   "execution_count": 15,
   "id": "b10560d7",
   "metadata": {},
   "outputs": [],
   "source": [
    "def sumarDF(path1, path2):\n",
    "    df1 = cargaDF(path1)\n",
    "    df2 = cargaDF(path2)\n",
    "    \n",
    "    suma = df2000.add(df2001, fill_value=0)\n",
    "    suma.sort_values(\"total\", ascending=False, inplace=True)\n",
    "    return suma\n",
    "    "
   ]
  },
  {
   "cell_type": "code",
   "execution_count": 4,
   "id": "9e653054",
   "metadata": {},
   "outputs": [
    {
     "data": {
      "text/html": [
       "<div>\n",
       "<style scoped>\n",
       "    .dataframe tbody tr th:only-of-type {\n",
       "        vertical-align: middle;\n",
       "    }\n",
       "\n",
       "    .dataframe tbody tr th {\n",
       "        vertical-align: top;\n",
       "    }\n",
       "\n",
       "    .dataframe thead th {\n",
       "        text-align: right;\n",
       "    }\n",
       "</style>\n",
       "<table border=\"1\" class=\"dataframe\">\n",
       "  <thead>\n",
       "    <tr style=\"text-align: right;\">\n",
       "      <th></th>\n",
       "      <th></th>\n",
       "      <th>total</th>\n",
       "    </tr>\n",
       "    <tr>\n",
       "      <th>nombre</th>\n",
       "      <th>sexo</th>\n",
       "      <th></th>\n",
       "    </tr>\n",
       "  </thead>\n",
       "  <tbody>\n",
       "    <tr>\n",
       "      <th>Emily</th>\n",
       "      <th>F</th>\n",
       "      <td>25953</td>\n",
       "    </tr>\n",
       "    <tr>\n",
       "      <th>Hannah</th>\n",
       "      <th>F</th>\n",
       "      <td>23078</td>\n",
       "    </tr>\n",
       "    <tr>\n",
       "      <th>Madison</th>\n",
       "      <th>F</th>\n",
       "      <td>19967</td>\n",
       "    </tr>\n",
       "    <tr>\n",
       "      <th>Ashley</th>\n",
       "      <th>F</th>\n",
       "      <td>17996</td>\n",
       "    </tr>\n",
       "    <tr>\n",
       "      <th>Sarah</th>\n",
       "      <th>F</th>\n",
       "      <td>17691</td>\n",
       "    </tr>\n",
       "  </tbody>\n",
       "</table>\n",
       "</div>"
      ],
      "text/plain": [
       "              total\n",
       "nombre  sexo       \n",
       "Emily   F     25953\n",
       "Hannah  F     23078\n",
       "Madison F     19967\n",
       "Ashley  F     17996\n",
       "Sarah   F     17691"
      ]
     },
     "execution_count": 4,
     "metadata": {},
     "output_type": "execute_result"
    }
   ],
   "source": [
    "df2000 = cargaDF(carpeta+\"yob2000.txt\")\n",
    "df2000.head()"
   ]
  },
  {
   "cell_type": "code",
   "execution_count": 5,
   "id": "b190d9d7",
   "metadata": {},
   "outputs": [
    {
     "data": {
      "text/html": [
       "<div>\n",
       "<style scoped>\n",
       "    .dataframe tbody tr th:only-of-type {\n",
       "        vertical-align: middle;\n",
       "    }\n",
       "\n",
       "    .dataframe tbody tr th {\n",
       "        vertical-align: top;\n",
       "    }\n",
       "\n",
       "    .dataframe thead th {\n",
       "        text-align: right;\n",
       "    }\n",
       "</style>\n",
       "<table border=\"1\" class=\"dataframe\">\n",
       "  <thead>\n",
       "    <tr style=\"text-align: right;\">\n",
       "      <th></th>\n",
       "      <th></th>\n",
       "      <th>total</th>\n",
       "    </tr>\n",
       "    <tr>\n",
       "      <th>nombre</th>\n",
       "      <th>sexo</th>\n",
       "      <th></th>\n",
       "    </tr>\n",
       "  </thead>\n",
       "  <tbody>\n",
       "    <tr>\n",
       "      <th>Emily</th>\n",
       "      <th>F</th>\n",
       "      <td>25054</td>\n",
       "    </tr>\n",
       "    <tr>\n",
       "      <th>Madison</th>\n",
       "      <th>F</th>\n",
       "      <td>22162</td>\n",
       "    </tr>\n",
       "    <tr>\n",
       "      <th>Hannah</th>\n",
       "      <th>F</th>\n",
       "      <td>20709</td>\n",
       "    </tr>\n",
       "    <tr>\n",
       "      <th>Ashley</th>\n",
       "      <th>F</th>\n",
       "      <td>16526</td>\n",
       "    </tr>\n",
       "    <tr>\n",
       "      <th>Alexis</th>\n",
       "      <th>F</th>\n",
       "      <td>16399</td>\n",
       "    </tr>\n",
       "  </tbody>\n",
       "</table>\n",
       "</div>"
      ],
      "text/plain": [
       "              total\n",
       "nombre  sexo       \n",
       "Emily   F     25054\n",
       "Madison F     22162\n",
       "Hannah  F     20709\n",
       "Ashley  F     16526\n",
       "Alexis  F     16399"
      ]
     },
     "execution_count": 5,
     "metadata": {},
     "output_type": "execute_result"
    }
   ],
   "source": [
    "df2001 = cargaDF(carpeta+\"yob2001.txt\")\n",
    "df2001.head()"
   ]
  },
  {
   "cell_type": "code",
   "execution_count": 6,
   "id": "4d263def",
   "metadata": {},
   "outputs": [
    {
     "data": {
      "text/html": [
       "<div>\n",
       "<style scoped>\n",
       "    .dataframe tbody tr th:only-of-type {\n",
       "        vertical-align: middle;\n",
       "    }\n",
       "\n",
       "    .dataframe tbody tr th {\n",
       "        vertical-align: top;\n",
       "    }\n",
       "\n",
       "    .dataframe thead th {\n",
       "        text-align: right;\n",
       "    }\n",
       "</style>\n",
       "<table border=\"1\" class=\"dataframe\">\n",
       "  <thead>\n",
       "    <tr style=\"text-align: right;\">\n",
       "      <th></th>\n",
       "      <th></th>\n",
       "      <th>total</th>\n",
       "    </tr>\n",
       "    <tr>\n",
       "      <th>nombre</th>\n",
       "      <th>sexo</th>\n",
       "      <th></th>\n",
       "    </tr>\n",
       "  </thead>\n",
       "  <tbody>\n",
       "    <tr>\n",
       "      <th>Aadam</th>\n",
       "      <th>M</th>\n",
       "      <td>NaN</td>\n",
       "    </tr>\n",
       "    <tr>\n",
       "      <th>Aadarsh</th>\n",
       "      <th>M</th>\n",
       "      <td>12.0</td>\n",
       "    </tr>\n",
       "    <tr>\n",
       "      <th>Aaden</th>\n",
       "      <th>M</th>\n",
       "      <td>NaN</td>\n",
       "    </tr>\n",
       "    <tr>\n",
       "      <th>Aadil</th>\n",
       "      <th>M</th>\n",
       "      <td>16.0</td>\n",
       "    </tr>\n",
       "    <tr>\n",
       "      <th>Aaditya</th>\n",
       "      <th>M</th>\n",
       "      <td>25.0</td>\n",
       "    </tr>\n",
       "    <tr>\n",
       "      <th>Aahil</th>\n",
       "      <th>M</th>\n",
       "      <td>11.0</td>\n",
       "    </tr>\n",
       "    <tr>\n",
       "      <th>Aailyah</th>\n",
       "      <th>F</th>\n",
       "      <td>18.0</td>\n",
       "    </tr>\n",
       "    <tr>\n",
       "      <th>Aaisha</th>\n",
       "      <th>F</th>\n",
       "      <td>13.0</td>\n",
       "    </tr>\n",
       "    <tr>\n",
       "      <th>Aajaylah</th>\n",
       "      <th>F</th>\n",
       "      <td>NaN</td>\n",
       "    </tr>\n",
       "    <tr>\n",
       "      <th>Aakanksha</th>\n",
       "      <th>F</th>\n",
       "      <td>NaN</td>\n",
       "    </tr>\n",
       "  </tbody>\n",
       "</table>\n",
       "</div>"
      ],
      "text/plain": [
       "                total\n",
       "nombre    sexo       \n",
       "Aadam     M       NaN\n",
       "Aadarsh   M      12.0\n",
       "Aaden     M       NaN\n",
       "Aadil     M      16.0\n",
       "Aaditya   M      25.0\n",
       "Aahil     M      11.0\n",
       "Aailyah   F      18.0\n",
       "Aaisha    F      13.0\n",
       "Aajaylah  F       NaN\n",
       "Aakanksha F       NaN"
      ]
     },
     "execution_count": 6,
     "metadata": {},
     "output_type": "execute_result"
    }
   ],
   "source": [
    "suma = df2000 + df2001\n",
    "suma.head(10)"
   ]
  },
  {
   "cell_type": "code",
   "execution_count": 12,
   "id": "f4d159fb",
   "metadata": {},
   "outputs": [
    {
     "data": {
      "text/plain": [
       "total    22162\n",
       "Name: (Madison, F), dtype: int64"
      ]
     },
     "execution_count": 12,
     "metadata": {},
     "output_type": "execute_result"
    }
   ],
   "source": [
    "df2001.loc[\"Madison\",\"F\"]"
   ]
  },
  {
   "cell_type": "code",
   "execution_count": 16,
   "id": "1e6ec02f",
   "metadata": {},
   "outputs": [],
   "source": [
    "suma2 = sumarDF(carpeta+\"yob2000.txt\", carpeta+\"yob2001.txt\")"
   ]
  },
  {
   "cell_type": "code",
   "execution_count": 17,
   "id": "0c6df895",
   "metadata": {},
   "outputs": [
    {
     "data": {
      "text/html": [
       "<div>\n",
       "<style scoped>\n",
       "    .dataframe tbody tr th:only-of-type {\n",
       "        vertical-align: middle;\n",
       "    }\n",
       "\n",
       "    .dataframe tbody tr th {\n",
       "        vertical-align: top;\n",
       "    }\n",
       "\n",
       "    .dataframe thead th {\n",
       "        text-align: right;\n",
       "    }\n",
       "</style>\n",
       "<table border=\"1\" class=\"dataframe\">\n",
       "  <thead>\n",
       "    <tr style=\"text-align: right;\">\n",
       "      <th></th>\n",
       "      <th></th>\n",
       "      <th>total</th>\n",
       "    </tr>\n",
       "    <tr>\n",
       "      <th>nombre</th>\n",
       "      <th>sexo</th>\n",
       "      <th></th>\n",
       "    </tr>\n",
       "  </thead>\n",
       "  <tbody>\n",
       "    <tr>\n",
       "      <th>Jacob</th>\n",
       "      <th>M</th>\n",
       "      <td>67006.0</td>\n",
       "    </tr>\n",
       "    <tr>\n",
       "      <th>Michael</th>\n",
       "      <th>M</th>\n",
       "      <td>61712.0</td>\n",
       "    </tr>\n",
       "    <tr>\n",
       "      <th>Matthew</th>\n",
       "      <th>M</th>\n",
       "      <td>55376.0</td>\n",
       "    </tr>\n",
       "    <tr>\n",
       "      <th>Joshua</th>\n",
       "      <th>M</th>\n",
       "      <td>53547.0</td>\n",
       "    </tr>\n",
       "    <tr>\n",
       "      <th>Emily</th>\n",
       "      <th>F</th>\n",
       "      <td>51007.0</td>\n",
       "    </tr>\n",
       "  </tbody>\n",
       "</table>\n",
       "</div>"
      ],
      "text/plain": [
       "                total\n",
       "nombre  sexo         \n",
       "Jacob   M     67006.0\n",
       "Michael M     61712.0\n",
       "Matthew M     55376.0\n",
       "Joshua  M     53547.0\n",
       "Emily   F     51007.0"
      ]
     },
     "execution_count": 17,
     "metadata": {},
     "output_type": "execute_result"
    }
   ],
   "source": [
    "suma2.head()"
   ]
  },
  {
   "cell_type": "code",
   "execution_count": null,
   "id": "d919c5a2",
   "metadata": {},
   "outputs": [],
   "source": []
  }
 ],
 "metadata": {
  "kernelspec": {
   "display_name": "Python 3 (ipykernel)",
   "language": "python",
   "name": "python3"
  },
  "language_info": {
   "codemirror_mode": {
    "name": "ipython",
    "version": 3
   },
   "file_extension": ".py",
   "mimetype": "text/x-python",
   "name": "python",
   "nbconvert_exporter": "python",
   "pygments_lexer": "ipython3",
   "version": "3.8.5"
  }
 },
 "nbformat": 4,
 "nbformat_minor": 5
}

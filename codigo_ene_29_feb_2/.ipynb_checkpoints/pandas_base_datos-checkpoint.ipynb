{
 "cells": [
  {
   "cell_type": "markdown",
   "id": "246ce954",
   "metadata": {},
   "source": [
    "## Pandas: conectar con la BD"
   ]
  },
  {
   "cell_type": "code",
   "execution_count": 14,
   "id": "a35a537f",
   "metadata": {},
   "outputs": [],
   "source": [
    "import sqlite3 as dbapi\n",
    "import pandas as pd\n",
    "from pandas import DataFrame\n",
    "from os.path import isfile\n",
    "import matplotlib.pyplot as plt"
   ]
  },
  {
   "cell_type": "code",
   "execution_count": 3,
   "id": "e51d70f0",
   "metadata": {},
   "outputs": [],
   "source": [
    "path = \"../../BBDD/empresa3.db\""
   ]
  },
  {
   "cell_type": "code",
   "execution_count": 4,
   "id": "959ed1ee",
   "metadata": {},
   "outputs": [],
   "source": [
    "def cargaSQL(path, sql):\n",
    "    if not isfile(path):\n",
    "        raise FileNotFoundError(f\"No existe el fichero: {path}\")\n",
    "        \n",
    "    else:\n",
    "        con = None\n",
    "        try:\n",
    "            con = dbapi.connect(path)\n",
    "            df = pd.read_sql(sql, con)\n",
    "            return df\n",
    "        except Exception as e:\n",
    "            print(e)\n",
    "        finally:\n",
    "            if con: con.close()"
   ]
  },
  {
   "cell_type": "code",
   "execution_count": 5,
   "id": "79d8d331",
   "metadata": {},
   "outputs": [],
   "source": [
    "sql = \"\"\"select pais, count(idpedido) as cuenta\n",
    "from pedidos\n",
    "group by pais\n",
    "order by 2 desc\"\"\""
   ]
  },
  {
   "cell_type": "code",
   "execution_count": 10,
   "id": "2aef11a3",
   "metadata": {},
   "outputs": [
    {
     "data": {
      "text/html": [
       "<div>\n",
       "<style scoped>\n",
       "    .dataframe tbody tr th:only-of-type {\n",
       "        vertical-align: middle;\n",
       "    }\n",
       "\n",
       "    .dataframe tbody tr th {\n",
       "        vertical-align: top;\n",
       "    }\n",
       "\n",
       "    .dataframe thead th {\n",
       "        text-align: right;\n",
       "    }\n",
       "</style>\n",
       "<table border=\"1\" class=\"dataframe\">\n",
       "  <thead>\n",
       "    <tr style=\"text-align: right;\">\n",
       "      <th></th>\n",
       "      <th>pais</th>\n",
       "      <th>cuenta</th>\n",
       "    </tr>\n",
       "  </thead>\n",
       "  <tbody>\n",
       "    <tr>\n",
       "      <th>0</th>\n",
       "      <td>Estados Unidos</td>\n",
       "      <td>123</td>\n",
       "    </tr>\n",
       "    <tr>\n",
       "      <th>1</th>\n",
       "      <td>Alemania</td>\n",
       "      <td>122</td>\n",
       "    </tr>\n",
       "    <tr>\n",
       "      <th>2</th>\n",
       "      <td>Brasil</td>\n",
       "      <td>83</td>\n",
       "    </tr>\n",
       "    <tr>\n",
       "      <th>3</th>\n",
       "      <td>Francia</td>\n",
       "      <td>76</td>\n",
       "    </tr>\n",
       "    <tr>\n",
       "      <th>4</th>\n",
       "      <td>Reino Unido</td>\n",
       "      <td>55</td>\n",
       "    </tr>\n",
       "  </tbody>\n",
       "</table>\n",
       "</div>"
      ],
      "text/plain": [
       "             pais  cuenta\n",
       "0  Estados Unidos     123\n",
       "1        Alemania     122\n",
       "2          Brasil      83\n",
       "3         Francia      76\n",
       "4     Reino Unido      55"
      ]
     },
     "execution_count": 10,
     "metadata": {},
     "output_type": "execute_result"
    }
   ],
   "source": [
    "df = cargaSQL(path, sql)\n",
    "df.head()"
   ]
  },
  {
   "cell_type": "code",
   "execution_count": 11,
   "id": "b77b4230",
   "metadata": {},
   "outputs": [
    {
     "data": {
      "text/plain": [
       "(5, 2)"
      ]
     },
     "execution_count": 11,
     "metadata": {},
     "output_type": "execute_result"
    }
   ],
   "source": [
    "dfTop5 = df.loc[0:4] # OJO incluye el cuarto\n",
    "dfTop5.shape"
   ]
  },
  {
   "cell_type": "code",
   "execution_count": 12,
   "id": "1c5abc93",
   "metadata": {},
   "outputs": [
    {
     "data": {
      "text/html": [
       "<div>\n",
       "<style scoped>\n",
       "    .dataframe tbody tr th:only-of-type {\n",
       "        vertical-align: middle;\n",
       "    }\n",
       "\n",
       "    .dataframe tbody tr th {\n",
       "        vertical-align: top;\n",
       "    }\n",
       "\n",
       "    .dataframe thead th {\n",
       "        text-align: right;\n",
       "    }\n",
       "</style>\n",
       "<table border=\"1\" class=\"dataframe\">\n",
       "  <thead>\n",
       "    <tr style=\"text-align: right;\">\n",
       "      <th></th>\n",
       "      <th>pais</th>\n",
       "      <th>cuenta</th>\n",
       "    </tr>\n",
       "  </thead>\n",
       "  <tbody>\n",
       "    <tr>\n",
       "      <th>0</th>\n",
       "      <td>Estados Unidos</td>\n",
       "      <td>123</td>\n",
       "    </tr>\n",
       "    <tr>\n",
       "      <th>1</th>\n",
       "      <td>Alemania</td>\n",
       "      <td>122</td>\n",
       "    </tr>\n",
       "    <tr>\n",
       "      <th>2</th>\n",
       "      <td>Brasil</td>\n",
       "      <td>83</td>\n",
       "    </tr>\n",
       "    <tr>\n",
       "      <th>3</th>\n",
       "      <td>Francia</td>\n",
       "      <td>76</td>\n",
       "    </tr>\n",
       "    <tr>\n",
       "      <th>4</th>\n",
       "      <td>Reino Unido</td>\n",
       "      <td>55</td>\n",
       "    </tr>\n",
       "  </tbody>\n",
       "</table>\n",
       "</div>"
      ],
      "text/plain": [
       "             pais  cuenta\n",
       "0  Estados Unidos     123\n",
       "1        Alemania     122\n",
       "2          Brasil      83\n",
       "3         Francia      76\n",
       "4     Reino Unido      55"
      ]
     },
     "execution_count": 12,
     "metadata": {},
     "output_type": "execute_result"
    }
   ],
   "source": [
    "dfTop5.tail()"
   ]
  },
  {
   "cell_type": "code",
   "execution_count": 16,
   "id": "585ce7da",
   "metadata": {},
   "outputs": [
    {
     "data": {
      "image/png": "[encoded data removed]",
      "text/plain": [
       "<Figure size 432x288 with 1 Axes>"
      ]
     },
     "metadata": {},
     "output_type": "display_data"
    }
   ],
   "source": [
    "plt.pie(dfTop5.cuenta, labels=dfTop5.pais)\n",
    "plt.title(\"TOP 5 número de pedidos por país\")\n",
    "plt.show()"
   ]
  },
  {
   "cell_type": "code",
   "execution_count": 19,
   "id": "8ead7255",
   "metadata": {},
   "outputs": [],
   "source": [
    "df.to_json(\"../../practicas/avanzado2/pandas/merge/csv/pedidos.json\", indent=4, orient=\"records\")"
   ]
  },
  {
   "cell_type": "code",
   "execution_count": 21,
   "id": "7b42669f",
   "metadata": {},
   "outputs": [],
   "source": [
    "with open('../../practicas/avanzado2/pandas/merge/csv/pedidos.json', 'w', encoding='utf-8') as file:\n",
    "    df.to_json(file, force_ascii=False, indent=4, orient=\"records\")"
   ]
  },
  {
   "cell_type": "code",
   "execution_count": null,
   "id": "aede7593",
   "metadata": {},
   "outputs": [],
   "source": [
    "df.to_html(\"../../practicas/avanzado2/pandas/merge/csv/pedidos.html\")"
   ]
  }
 ],
 "metadata": {
  "kernelspec": {
   "display_name": "Python 3 (ipykernel)",
   "language": "python",
   "name": "python3"
  },
  "language_info": {
   "codemirror_mode": {
    "name": "ipython",
    "version": 3
   },
   "file_extension": ".py",
   "mimetype": "text/x-python",
   "name": "python",
   "nbconvert_exporter": "python",
   "pygments_lexer": "ipython3",
   "version": "3.8.5"
  }
 },
 "nbformat": 4,
 "nbformat_minor": 5
}

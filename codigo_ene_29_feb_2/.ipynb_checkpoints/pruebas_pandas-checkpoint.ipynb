{
 "cells": [
  {
   "cell_type": "markdown",
   "id": "5fa15896",
   "metadata": {},
   "source": [
    "## Pruebas con pandas"
   ]
  },
  {
   "cell_type": "markdown",
   "id": "9074f2f8",
   "metadata": {},
   "source": [
    "### Series"
   ]
  },
  {
   "cell_type": "code",
   "execution_count": 1,
   "id": "6d976ec6",
   "metadata": {},
   "outputs": [],
   "source": [
    "import pandas as pd\n",
    "import numpy as np\n",
    "from pandas import Series, DataFrame\n",
    "from random import randint"
   ]
  },
  {
   "cell_type": "code",
   "execution_count": 2,
   "id": "fcdbf545",
   "metadata": {},
   "outputs": [],
   "source": [
    "s1 = Series([1,4,5,6,9])\n",
    "s2 = Series(np.arange(10))"
   ]
  },
  {
   "cell_type": "code",
   "execution_count": 3,
   "id": "f8931672",
   "metadata": {},
   "outputs": [
    {
     "data": {
      "text/plain": [
       "0    1\n",
       "1    4\n",
       "2    5\n",
       "3    6\n",
       "4    9\n",
       "dtype: int64"
      ]
     },
     "execution_count": 3,
     "metadata": {},
     "output_type": "execute_result"
    }
   ],
   "source": [
    "s1"
   ]
  },
  {
   "cell_type": "code",
   "execution_count": 4,
   "id": "52c20df5",
   "metadata": {},
   "outputs": [
    {
     "data": {
      "text/plain": [
       "a    1\n",
       "b    2\n",
       "c    3\n",
       "d    4\n",
       "e    5\n",
       "dtype: int64"
      ]
     },
     "execution_count": 4,
     "metadata": {},
     "output_type": "execute_result"
    }
   ],
   "source": [
    "s3 = Series([1,2,3,4,5], index=list('abcde'))\n",
    "s3"
   ]
  },
  {
   "cell_type": "code",
   "execution_count": 5,
   "id": "bf20cfba",
   "metadata": {},
   "outputs": [
    {
     "data": {
      "text/plain": [
       "(1, 1, 1)"
      ]
     },
     "execution_count": 5,
     "metadata": {},
     "output_type": "execute_result"
    }
   ],
   "source": [
    "s3['a'], s3[0], s3[-5]"
   ]
  },
  {
   "cell_type": "code",
   "execution_count": 6,
   "id": "0067df49",
   "metadata": {},
   "outputs": [
    {
     "data": {
      "text/plain": [
       "a    1\n",
       "b    2\n",
       "d    4\n",
       "dtype: int64"
      ]
     },
     "execution_count": 6,
     "metadata": {},
     "output_type": "execute_result"
    }
   ],
   "source": [
    "s4 = s3[['a','b','d']]\n",
    "s4"
   ]
  },
  {
   "cell_type": "code",
   "execution_count": 7,
   "id": "fd8ed6cf",
   "metadata": {},
   "outputs": [
    {
     "data": {
      "text/plain": [
       "a    False\n",
       "b    False\n",
       "d     True\n",
       "dtype: bool"
      ]
     },
     "execution_count": 7,
     "metadata": {},
     "output_type": "execute_result"
    }
   ],
   "source": [
    "s4 > 2"
   ]
  },
  {
   "cell_type": "code",
   "execution_count": 8,
   "id": "02fb0895",
   "metadata": {},
   "outputs": [
    {
     "data": {
      "text/plain": [
       "a    10\n",
       "b    20\n",
       "d    40\n",
       "dtype: int64"
      ]
     },
     "execution_count": 8,
     "metadata": {},
     "output_type": "execute_result"
    }
   ],
   "source": [
    "s4 * 10"
   ]
  },
  {
   "cell_type": "code",
   "execution_count": 9,
   "id": "f804e7c0",
   "metadata": {},
   "outputs": [
    {
     "data": {
      "text/plain": [
       "a    1\n",
       "b    2\n",
       "c    3\n",
       "d    4\n",
       "e    5\n",
       "dtype: int64"
      ]
     },
     "execution_count": 9,
     "metadata": {},
     "output_type": "execute_result"
    }
   ],
   "source": [
    "s3"
   ]
  },
  {
   "cell_type": "code",
   "execution_count": 10,
   "id": "c6733fb9",
   "metadata": {},
   "outputs": [
    {
     "data": {
      "text/plain": [
       "a    10\n",
       "e    20\n",
       "i    30\n",
       "o    40\n",
       "u    50\n",
       "dtype: int64"
      ]
     },
     "execution_count": 10,
     "metadata": {},
     "output_type": "execute_result"
    }
   ],
   "source": [
    "s4 = Series([10,20,30,40,50], index=list('aeiou'))\n",
    "s4"
   ]
  },
  {
   "cell_type": "code",
   "execution_count": 11,
   "id": "64d2963b",
   "metadata": {},
   "outputs": [
    {
     "data": {
      "text/plain": [
       "a    11.0\n",
       "b     NaN\n",
       "c     NaN\n",
       "d     NaN\n",
       "e    25.0\n",
       "i     NaN\n",
       "o     NaN\n",
       "u     NaN\n",
       "dtype: float64"
      ]
     },
     "execution_count": 11,
     "metadata": {},
     "output_type": "execute_result"
    }
   ],
   "source": [
    "suma = s3 + s4\n",
    "suma"
   ]
  },
  {
   "cell_type": "code",
   "execution_count": 12,
   "id": "efb09710",
   "metadata": {},
   "outputs": [
    {
     "data": {
      "text/plain": [
       "a    11.0\n",
       "b     2.0\n",
       "c     3.0\n",
       "d     4.0\n",
       "e    25.0\n",
       "i    30.0\n",
       "o    40.0\n",
       "u    50.0\n",
       "dtype: float64"
      ]
     },
     "execution_count": 12,
     "metadata": {},
     "output_type": "execute_result"
    }
   ],
   "source": [
    "suma = s3.add(s4, fill_value=0)\n",
    "suma"
   ]
  },
  {
   "cell_type": "code",
   "execution_count": 13,
   "id": "5e83578f",
   "metadata": {},
   "outputs": [
    {
     "data": {
      "text/plain": [
       "a     2\n",
       "b     4\n",
       "c     6\n",
       "d     8\n",
       "e    10\n",
       "dtype: int64"
      ]
     },
     "execution_count": 13,
     "metadata": {},
     "output_type": "execute_result"
    }
   ],
   "source": [
    "s3 + s3"
   ]
  },
  {
   "cell_type": "code",
   "execution_count": 14,
   "id": "2066beb4",
   "metadata": {},
   "outputs": [
    {
     "data": {
      "text/plain": [
       "a    False\n",
       "b    False\n",
       "c    False\n",
       "d    False\n",
       "e    False\n",
       "dtype: bool"
      ]
     },
     "execution_count": 14,
     "metadata": {},
     "output_type": "execute_result"
    }
   ],
   "source": [
    "s3 < s3"
   ]
  },
  {
   "cell_type": "code",
   "execution_count": 15,
   "id": "4327ba20",
   "metadata": {},
   "outputs": [
    {
     "data": {
      "text/plain": [
       "a    11.0\n",
       "e    25.0\n",
       "i    30.0\n",
       "o    40.0\n",
       "u    50.0\n",
       "dtype: float64"
      ]
     },
     "execution_count": 15,
     "metadata": {},
     "output_type": "execute_result"
    }
   ],
   "source": [
    "suma[suma > 5]"
   ]
  },
  {
   "cell_type": "code",
   "execution_count": 16,
   "id": "7cd8dbaf",
   "metadata": {},
   "outputs": [
    {
     "data": {
      "text/plain": [
       "a    False\n",
       "b    False\n",
       "c    False\n",
       "d    False\n",
       "e    False\n",
       "i    False\n",
       "o    False\n",
       "u    False\n",
       "dtype: bool"
      ]
     },
     "execution_count": 16,
     "metadata": {},
     "output_type": "execute_result"
    }
   ],
   "source": [
    "suma.isnull()"
   ]
  },
  {
   "cell_type": "markdown",
   "id": "98c6c29f",
   "metadata": {},
   "source": [
    "### Dataframe"
   ]
  },
  {
   "cell_type": "code",
   "execution_count": 17,
   "id": "c3fae7fe",
   "metadata": {},
   "outputs": [
    {
     "data": {
      "text/html": [
       "<div>\n",
       "<style scoped>\n",
       "    .dataframe tbody tr th:only-of-type {\n",
       "        vertical-align: middle;\n",
       "    }\n",
       "\n",
       "    .dataframe tbody tr th {\n",
       "        vertical-align: top;\n",
       "    }\n",
       "\n",
       "    .dataframe thead th {\n",
       "        text-align: right;\n",
       "    }\n",
       "</style>\n",
       "<table border=\"1\" class=\"dataframe\">\n",
       "  <thead>\n",
       "    <tr style=\"text-align: right;\">\n",
       "      <th></th>\n",
       "      <th>0</th>\n",
       "      <th>1</th>\n",
       "      <th>2</th>\n",
       "      <th>3</th>\n",
       "      <th>4</th>\n",
       "    </tr>\n",
       "  </thead>\n",
       "  <tbody>\n",
       "    <tr>\n",
       "      <th>0</th>\n",
       "      <td>0</td>\n",
       "      <td>1</td>\n",
       "      <td>2</td>\n",
       "      <td>3</td>\n",
       "      <td>4</td>\n",
       "    </tr>\n",
       "    <tr>\n",
       "      <th>1</th>\n",
       "      <td>5</td>\n",
       "      <td>6</td>\n",
       "      <td>7</td>\n",
       "      <td>8</td>\n",
       "      <td>9</td>\n",
       "    </tr>\n",
       "    <tr>\n",
       "      <th>2</th>\n",
       "      <td>10</td>\n",
       "      <td>11</td>\n",
       "      <td>12</td>\n",
       "      <td>13</td>\n",
       "      <td>14</td>\n",
       "    </tr>\n",
       "    <tr>\n",
       "      <th>3</th>\n",
       "      <td>15</td>\n",
       "      <td>16</td>\n",
       "      <td>17</td>\n",
       "      <td>18</td>\n",
       "      <td>19</td>\n",
       "    </tr>\n",
       "    <tr>\n",
       "      <th>4</th>\n",
       "      <td>20</td>\n",
       "      <td>21</td>\n",
       "      <td>22</td>\n",
       "      <td>23</td>\n",
       "      <td>24</td>\n",
       "    </tr>\n",
       "  </tbody>\n",
       "</table>\n",
       "</div>"
      ],
      "text/plain": [
       "    0   1   2   3   4\n",
       "0   0   1   2   3   4\n",
       "1   5   6   7   8   9\n",
       "2  10  11  12  13  14\n",
       "3  15  16  17  18  19\n",
       "4  20  21  22  23  24"
      ]
     },
     "execution_count": 17,
     "metadata": {},
     "output_type": "execute_result"
    }
   ],
   "source": [
    "df1 = DataFrame(np.arange(25).reshape(5,5))\n",
    "df1"
   ]
  },
  {
   "cell_type": "code",
   "execution_count": 18,
   "id": "76fb4f3c",
   "metadata": {},
   "outputs": [
    {
     "data": {
      "text/html": [
       "<div>\n",
       "<style scoped>\n",
       "    .dataframe tbody tr th:only-of-type {\n",
       "        vertical-align: middle;\n",
       "    }\n",
       "\n",
       "    .dataframe tbody tr th {\n",
       "        vertical-align: top;\n",
       "    }\n",
       "\n",
       "    .dataframe thead th {\n",
       "        text-align: right;\n",
       "    }\n",
       "</style>\n",
       "<table border=\"1\" class=\"dataframe\">\n",
       "  <thead>\n",
       "    <tr style=\"text-align: right;\">\n",
       "      <th></th>\n",
       "      <th>a</th>\n",
       "      <th>b</th>\n",
       "      <th>c</th>\n",
       "      <th>d</th>\n",
       "      <th>e</th>\n",
       "    </tr>\n",
       "  </thead>\n",
       "  <tbody>\n",
       "    <tr>\n",
       "      <th>0</th>\n",
       "      <td>0</td>\n",
       "      <td>1</td>\n",
       "      <td>2</td>\n",
       "      <td>3</td>\n",
       "      <td>4</td>\n",
       "    </tr>\n",
       "    <tr>\n",
       "      <th>1</th>\n",
       "      <td>5</td>\n",
       "      <td>6</td>\n",
       "      <td>7</td>\n",
       "      <td>8</td>\n",
       "      <td>9</td>\n",
       "    </tr>\n",
       "    <tr>\n",
       "      <th>2</th>\n",
       "      <td>10</td>\n",
       "      <td>11</td>\n",
       "      <td>12</td>\n",
       "      <td>13</td>\n",
       "      <td>14</td>\n",
       "    </tr>\n",
       "    <tr>\n",
       "      <th>3</th>\n",
       "      <td>15</td>\n",
       "      <td>16</td>\n",
       "      <td>17</td>\n",
       "      <td>18</td>\n",
       "      <td>19</td>\n",
       "    </tr>\n",
       "    <tr>\n",
       "      <th>4</th>\n",
       "      <td>20</td>\n",
       "      <td>21</td>\n",
       "      <td>22</td>\n",
       "      <td>23</td>\n",
       "      <td>24</td>\n",
       "    </tr>\n",
       "  </tbody>\n",
       "</table>\n",
       "</div>"
      ],
      "text/plain": [
       "    a   b   c   d   e\n",
       "0   0   1   2   3   4\n",
       "1   5   6   7   8   9\n",
       "2  10  11  12  13  14\n",
       "3  15  16  17  18  19\n",
       "4  20  21  22  23  24"
      ]
     },
     "execution_count": 18,
     "metadata": {},
     "output_type": "execute_result"
    }
   ],
   "source": [
    "df2 = DataFrame(np.arange(25).reshape(5,5), columns=list('abcde'))\n",
    "df2"
   ]
  },
  {
   "cell_type": "code",
   "execution_count": 19,
   "id": "817d8ea5",
   "metadata": {},
   "outputs": [
    {
     "data": {
      "text/plain": [
       "0     0\n",
       "1     5\n",
       "2    10\n",
       "3    15\n",
       "4    20\n",
       "Name: a, dtype: int32"
      ]
     },
     "execution_count": 19,
     "metadata": {},
     "output_type": "execute_result"
    }
   ],
   "source": [
    "# Una columna:\n",
    "df2['a']"
   ]
  },
  {
   "cell_type": "code",
   "execution_count": 20,
   "id": "a2ee8d1f",
   "metadata": {},
   "outputs": [
    {
     "data": {
      "text/plain": [
       "pandas.core.series.Series"
      ]
     },
     "execution_count": 20,
     "metadata": {},
     "output_type": "execute_result"
    }
   ],
   "source": [
    "type(df2['a'])"
   ]
  },
  {
   "cell_type": "code",
   "execution_count": 21,
   "id": "e534e6a1",
   "metadata": {},
   "outputs": [
    {
     "data": {
      "text/plain": [
       "0     0\n",
       "1     5\n",
       "2    10\n",
       "3    15\n",
       "4    20\n",
       "Name: a, dtype: int32"
      ]
     },
     "execution_count": 21,
     "metadata": {},
     "output_type": "execute_result"
    }
   ],
   "source": [
    "df2.a"
   ]
  },
  {
   "cell_type": "code",
   "execution_count": 22,
   "id": "6201d250",
   "metadata": {},
   "outputs": [
    {
     "data": {
      "text/plain": [
       "a    10\n",
       "b    11\n",
       "c    12\n",
       "d    13\n",
       "e    14\n",
       "Name: 2, dtype: int32"
      ]
     },
     "execution_count": 22,
     "metadata": {},
     "output_type": "execute_result"
    }
   ],
   "source": [
    "df2.loc[2]"
   ]
  },
  {
   "cell_type": "code",
   "execution_count": 23,
   "id": "fa01367b",
   "metadata": {},
   "outputs": [
    {
     "data": {
      "text/plain": [
       "24"
      ]
     },
     "execution_count": 23,
     "metadata": {},
     "output_type": "execute_result"
    }
   ],
   "source": [
    "# Celda\n",
    "df2['e'][4]"
   ]
  },
  {
   "cell_type": "code",
   "execution_count": 24,
   "id": "1ec3acdf",
   "metadata": {},
   "outputs": [
    {
     "data": {
      "text/plain": [
       "24"
      ]
     },
     "execution_count": 24,
     "metadata": {},
     "output_type": "execute_result"
    }
   ],
   "source": [
    "df2.loc[4]['e']"
   ]
  },
  {
   "cell_type": "code",
   "execution_count": 25,
   "id": "81977bcd",
   "metadata": {},
   "outputs": [
    {
     "data": {
      "text/html": [
       "<div>\n",
       "<style scoped>\n",
       "    .dataframe tbody tr th:only-of-type {\n",
       "        vertical-align: middle;\n",
       "    }\n",
       "\n",
       "    .dataframe tbody tr th {\n",
       "        vertical-align: top;\n",
       "    }\n",
       "\n",
       "    .dataframe thead th {\n",
       "        text-align: right;\n",
       "    }\n",
       "</style>\n",
       "<table border=\"1\" class=\"dataframe\">\n",
       "  <thead>\n",
       "    <tr style=\"text-align: right;\">\n",
       "      <th></th>\n",
       "      <th>b</th>\n",
       "      <th>d</th>\n",
       "    </tr>\n",
       "  </thead>\n",
       "  <tbody>\n",
       "    <tr>\n",
       "      <th>0</th>\n",
       "      <td>1</td>\n",
       "      <td>3</td>\n",
       "    </tr>\n",
       "    <tr>\n",
       "      <th>1</th>\n",
       "      <td>6</td>\n",
       "      <td>8</td>\n",
       "    </tr>\n",
       "    <tr>\n",
       "      <th>2</th>\n",
       "      <td>11</td>\n",
       "      <td>13</td>\n",
       "    </tr>\n",
       "    <tr>\n",
       "      <th>3</th>\n",
       "      <td>16</td>\n",
       "      <td>18</td>\n",
       "    </tr>\n",
       "    <tr>\n",
       "      <th>4</th>\n",
       "      <td>21</td>\n",
       "      <td>23</td>\n",
       "    </tr>\n",
       "  </tbody>\n",
       "</table>\n",
       "</div>"
      ],
      "text/plain": [
       "    b   d\n",
       "0   1   3\n",
       "1   6   8\n",
       "2  11  13\n",
       "3  16  18\n",
       "4  21  23"
      ]
     },
     "execution_count": 25,
     "metadata": {},
     "output_type": "execute_result"
    }
   ],
   "source": [
    "df2[['b','d']]"
   ]
  },
  {
   "cell_type": "code",
   "execution_count": 26,
   "id": "9b93bc0f",
   "metadata": {},
   "outputs": [
    {
     "data": {
      "text/plain": [
       "pandas.core.frame.DataFrame"
      ]
     },
     "execution_count": 26,
     "metadata": {},
     "output_type": "execute_result"
    }
   ],
   "source": [
    "type(df2[['b','d']])"
   ]
  },
  {
   "cell_type": "code",
   "execution_count": 27,
   "id": "cad53c2e",
   "metadata": {},
   "outputs": [
    {
     "name": "stdout",
     "output_type": "stream",
     "text": [
      "a [4, 6, 5, 1, 8, 8, 6, 7]\n",
      "e [4, 3, 7, 5, 2, 3, 8, 8]\n",
      "i [5, 1, 4, 8, 10, 9, 7, 1]\n",
      "o [8, 5, 10, 1, 3, 2, 9, 3]\n",
      "u [9, 8, 3, 2, 1, 4, 8, 10]\n"
     ]
    }
   ],
   "source": [
    "d = {letra:[randint(1,10) for _ in range(8)] for letra in \"aeiou\"}\n",
    "for k,L in d.items():\n",
    "    print(k, L)"
   ]
  },
  {
   "cell_type": "code",
   "execution_count": 28,
   "id": "d6a18bb3",
   "metadata": {},
   "outputs": [
    {
     "data": {
      "text/html": [
       "<div>\n",
       "<style scoped>\n",
       "    .dataframe tbody tr th:only-of-type {\n",
       "        vertical-align: middle;\n",
       "    }\n",
       "\n",
       "    .dataframe tbody tr th {\n",
       "        vertical-align: top;\n",
       "    }\n",
       "\n",
       "    .dataframe thead th {\n",
       "        text-align: right;\n",
       "    }\n",
       "</style>\n",
       "<table border=\"1\" class=\"dataframe\">\n",
       "  <thead>\n",
       "    <tr style=\"text-align: right;\">\n",
       "      <th></th>\n",
       "      <th>a</th>\n",
       "      <th>e</th>\n",
       "      <th>i</th>\n",
       "      <th>o</th>\n",
       "      <th>u</th>\n",
       "    </tr>\n",
       "  </thead>\n",
       "  <tbody>\n",
       "    <tr>\n",
       "      <th>0</th>\n",
       "      <td>4</td>\n",
       "      <td>4</td>\n",
       "      <td>5</td>\n",
       "      <td>8</td>\n",
       "      <td>9</td>\n",
       "    </tr>\n",
       "    <tr>\n",
       "      <th>1</th>\n",
       "      <td>6</td>\n",
       "      <td>3</td>\n",
       "      <td>1</td>\n",
       "      <td>5</td>\n",
       "      <td>8</td>\n",
       "    </tr>\n",
       "    <tr>\n",
       "      <th>2</th>\n",
       "      <td>5</td>\n",
       "      <td>7</td>\n",
       "      <td>4</td>\n",
       "      <td>10</td>\n",
       "      <td>3</td>\n",
       "    </tr>\n",
       "    <tr>\n",
       "      <th>3</th>\n",
       "      <td>1</td>\n",
       "      <td>5</td>\n",
       "      <td>8</td>\n",
       "      <td>1</td>\n",
       "      <td>2</td>\n",
       "    </tr>\n",
       "    <tr>\n",
       "      <th>4</th>\n",
       "      <td>8</td>\n",
       "      <td>2</td>\n",
       "      <td>10</td>\n",
       "      <td>3</td>\n",
       "      <td>1</td>\n",
       "    </tr>\n",
       "    <tr>\n",
       "      <th>5</th>\n",
       "      <td>8</td>\n",
       "      <td>3</td>\n",
       "      <td>9</td>\n",
       "      <td>2</td>\n",
       "      <td>4</td>\n",
       "    </tr>\n",
       "    <tr>\n",
       "      <th>6</th>\n",
       "      <td>6</td>\n",
       "      <td>8</td>\n",
       "      <td>7</td>\n",
       "      <td>9</td>\n",
       "      <td>8</td>\n",
       "    </tr>\n",
       "    <tr>\n",
       "      <th>7</th>\n",
       "      <td>7</td>\n",
       "      <td>8</td>\n",
       "      <td>1</td>\n",
       "      <td>3</td>\n",
       "      <td>10</td>\n",
       "    </tr>\n",
       "  </tbody>\n",
       "</table>\n",
       "</div>"
      ],
      "text/plain": [
       "   a  e   i   o   u\n",
       "0  4  4   5   8   9\n",
       "1  6  3   1   5   8\n",
       "2  5  7   4  10   3\n",
       "3  1  5   8   1   2\n",
       "4  8  2  10   3   1\n",
       "5  8  3   9   2   4\n",
       "6  6  8   7   9   8\n",
       "7  7  8   1   3  10"
      ]
     },
     "execution_count": 28,
     "metadata": {},
     "output_type": "execute_result"
    }
   ],
   "source": [
    "df2 = DataFrame(d)\n",
    "df2"
   ]
  },
  {
   "cell_type": "markdown",
   "id": "47e6dd60",
   "metadata": {},
   "source": [
    "### DataFrame desde ficheros, funciones típicas"
   ]
  },
  {
   "cell_type": "code",
   "execution_count": 29,
   "id": "b5be4541",
   "metadata": {},
   "outputs": [],
   "source": [
    "path = \"../../practicas/avanzado2/pandas/merge/Pedidos.txt\""
   ]
  },
  {
   "cell_type": "code",
   "execution_count": 30,
   "id": "e29256c8",
   "metadata": {},
   "outputs": [
    {
     "data": {
      "text/html": [
       "<div>\n",
       "<style scoped>\n",
       "    .dataframe tbody tr th:only-of-type {\n",
       "        vertical-align: middle;\n",
       "    }\n",
       "\n",
       "    .dataframe tbody tr th {\n",
       "        vertical-align: top;\n",
       "    }\n",
       "\n",
       "    .dataframe thead th {\n",
       "        text-align: right;\n",
       "    }\n",
       "</style>\n",
       "<table border=\"1\" class=\"dataframe\">\n",
       "  <thead>\n",
       "    <tr style=\"text-align: right;\">\n",
       "      <th></th>\n",
       "      <th>idpedido</th>\n",
       "      <th>cliente</th>\n",
       "      <th>idempleado</th>\n",
       "      <th>idempresa</th>\n",
       "      <th>importe</th>\n",
       "      <th>pais</th>\n",
       "    </tr>\n",
       "  </thead>\n",
       "  <tbody>\n",
       "    <tr>\n",
       "      <th>0</th>\n",
       "      <td>10248</td>\n",
       "      <td>WILMK</td>\n",
       "      <td>5</td>\n",
       "      <td>3</td>\n",
       "      <td>32.38</td>\n",
       "      <td>Finlandia</td>\n",
       "    </tr>\n",
       "    <tr>\n",
       "      <th>1</th>\n",
       "      <td>10249</td>\n",
       "      <td>TOMSP</td>\n",
       "      <td>6</td>\n",
       "      <td>1</td>\n",
       "      <td>11.61</td>\n",
       "      <td>Alemania</td>\n",
       "    </tr>\n",
       "    <tr>\n",
       "      <th>2</th>\n",
       "      <td>10250</td>\n",
       "      <td>HANAR</td>\n",
       "      <td>4</td>\n",
       "      <td>2</td>\n",
       "      <td>65.83</td>\n",
       "      <td>Brasil</td>\n",
       "    </tr>\n",
       "    <tr>\n",
       "      <th>3</th>\n",
       "      <td>10251</td>\n",
       "      <td>VICTE</td>\n",
       "      <td>3</td>\n",
       "      <td>1</td>\n",
       "      <td>41.34</td>\n",
       "      <td>Francia</td>\n",
       "    </tr>\n",
       "    <tr>\n",
       "      <th>4</th>\n",
       "      <td>10252</td>\n",
       "      <td>SUPRD</td>\n",
       "      <td>4</td>\n",
       "      <td>2</td>\n",
       "      <td>51.30</td>\n",
       "      <td>Belgica</td>\n",
       "    </tr>\n",
       "    <tr>\n",
       "      <th>...</th>\n",
       "      <td>...</td>\n",
       "      <td>...</td>\n",
       "      <td>...</td>\n",
       "      <td>...</td>\n",
       "      <td>...</td>\n",
       "      <td>...</td>\n",
       "    </tr>\n",
       "    <tr>\n",
       "      <th>825</th>\n",
       "      <td>11073</td>\n",
       "      <td>PERIC</td>\n",
       "      <td>2</td>\n",
       "      <td>2</td>\n",
       "      <td>24.95</td>\n",
       "      <td>Mexico</td>\n",
       "    </tr>\n",
       "    <tr>\n",
       "      <th>826</th>\n",
       "      <td>11074</td>\n",
       "      <td>SIMOB</td>\n",
       "      <td>7</td>\n",
       "      <td>2</td>\n",
       "      <td>18.44</td>\n",
       "      <td>Dinamarca</td>\n",
       "    </tr>\n",
       "    <tr>\n",
       "      <th>827</th>\n",
       "      <td>11075</td>\n",
       "      <td>RICSU</td>\n",
       "      <td>8</td>\n",
       "      <td>2</td>\n",
       "      <td>6.19</td>\n",
       "      <td>Suiza</td>\n",
       "    </tr>\n",
       "    <tr>\n",
       "      <th>828</th>\n",
       "      <td>11076</td>\n",
       "      <td>BONAP</td>\n",
       "      <td>4</td>\n",
       "      <td>2</td>\n",
       "      <td>38.28</td>\n",
       "      <td>Francia</td>\n",
       "    </tr>\n",
       "    <tr>\n",
       "      <th>829</th>\n",
       "      <td>11077</td>\n",
       "      <td>RATTC</td>\n",
       "      <td>1</td>\n",
       "      <td>2</td>\n",
       "      <td>8.53</td>\n",
       "      <td>Estados Unidos</td>\n",
       "    </tr>\n",
       "  </tbody>\n",
       "</table>\n",
       "<p>830 rows × 6 columns</p>\n",
       "</div>"
      ],
      "text/plain": [
       "     idpedido cliente  idempleado  idempresa  importe            pais\n",
       "0       10248   WILMK           5          3    32.38       Finlandia\n",
       "1       10249   TOMSP           6          1    11.61        Alemania\n",
       "2       10250   HANAR           4          2    65.83          Brasil\n",
       "3       10251   VICTE           3          1    41.34         Francia\n",
       "4       10252   SUPRD           4          2    51.30         Belgica\n",
       "..        ...     ...         ...        ...      ...             ...\n",
       "825     11073   PERIC           2          2    24.95          Mexico\n",
       "826     11074   SIMOB           7          2    18.44       Dinamarca\n",
       "827     11075   RICSU           8          2     6.19           Suiza\n",
       "828     11076   BONAP           4          2    38.28         Francia\n",
       "829     11077   RATTC           1          2     8.53  Estados Unidos\n",
       "\n",
       "[830 rows x 6 columns]"
      ]
     },
     "execution_count": 30,
     "metadata": {},
     "output_type": "execute_result"
    }
   ],
   "source": [
    "df = pd.read_csv(path, sep=';')\n",
    "df"
   ]
  },
  {
   "cell_type": "code",
   "execution_count": 31,
   "id": "7fac157a",
   "metadata": {},
   "outputs": [
    {
     "data": {
      "text/html": [
       "<div>\n",
       "<style scoped>\n",
       "    .dataframe tbody tr th:only-of-type {\n",
       "        vertical-align: middle;\n",
       "    }\n",
       "\n",
       "    .dataframe tbody tr th {\n",
       "        vertical-align: top;\n",
       "    }\n",
       "\n",
       "    .dataframe thead th {\n",
       "        text-align: right;\n",
       "    }\n",
       "</style>\n",
       "<table border=\"1\" class=\"dataframe\">\n",
       "  <thead>\n",
       "    <tr style=\"text-align: right;\">\n",
       "      <th></th>\n",
       "      <th>idpedido</th>\n",
       "      <th>cliente</th>\n",
       "      <th>idempleado</th>\n",
       "      <th>idempresa</th>\n",
       "      <th>importe</th>\n",
       "      <th>pais</th>\n",
       "    </tr>\n",
       "  </thead>\n",
       "  <tbody>\n",
       "    <tr>\n",
       "      <th>0</th>\n",
       "      <td>10248</td>\n",
       "      <td>WILMK</td>\n",
       "      <td>5</td>\n",
       "      <td>3</td>\n",
       "      <td>32.38</td>\n",
       "      <td>Finlandia</td>\n",
       "    </tr>\n",
       "    <tr>\n",
       "      <th>1</th>\n",
       "      <td>10249</td>\n",
       "      <td>TOMSP</td>\n",
       "      <td>6</td>\n",
       "      <td>1</td>\n",
       "      <td>11.61</td>\n",
       "      <td>Alemania</td>\n",
       "    </tr>\n",
       "    <tr>\n",
       "      <th>2</th>\n",
       "      <td>10250</td>\n",
       "      <td>HANAR</td>\n",
       "      <td>4</td>\n",
       "      <td>2</td>\n",
       "      <td>65.83</td>\n",
       "      <td>Brasil</td>\n",
       "    </tr>\n",
       "  </tbody>\n",
       "</table>\n",
       "</div>"
      ],
      "text/plain": [
       "   idpedido cliente  idempleado  idempresa  importe       pais\n",
       "0     10248   WILMK           5          3    32.38  Finlandia\n",
       "1     10249   TOMSP           6          1    11.61   Alemania\n",
       "2     10250   HANAR           4          2    65.83     Brasil"
      ]
     },
     "execution_count": 31,
     "metadata": {},
     "output_type": "execute_result"
    }
   ],
   "source": [
    "df.head(3)"
   ]
  },
  {
   "cell_type": "code",
   "execution_count": 32,
   "id": "994d2e92",
   "metadata": {},
   "outputs": [
    {
     "data": {
      "text/html": [
       "<div>\n",
       "<style scoped>\n",
       "    .dataframe tbody tr th:only-of-type {\n",
       "        vertical-align: middle;\n",
       "    }\n",
       "\n",
       "    .dataframe tbody tr th {\n",
       "        vertical-align: top;\n",
       "    }\n",
       "\n",
       "    .dataframe thead th {\n",
       "        text-align: right;\n",
       "    }\n",
       "</style>\n",
       "<table border=\"1\" class=\"dataframe\">\n",
       "  <thead>\n",
       "    <tr style=\"text-align: right;\">\n",
       "      <th></th>\n",
       "      <th>idpedido</th>\n",
       "      <th>cliente</th>\n",
       "      <th>idempleado</th>\n",
       "      <th>idempresa</th>\n",
       "      <th>importe</th>\n",
       "      <th>pais</th>\n",
       "    </tr>\n",
       "  </thead>\n",
       "  <tbody>\n",
       "    <tr>\n",
       "      <th>825</th>\n",
       "      <td>11073</td>\n",
       "      <td>PERIC</td>\n",
       "      <td>2</td>\n",
       "      <td>2</td>\n",
       "      <td>24.95</td>\n",
       "      <td>Mexico</td>\n",
       "    </tr>\n",
       "    <tr>\n",
       "      <th>826</th>\n",
       "      <td>11074</td>\n",
       "      <td>SIMOB</td>\n",
       "      <td>7</td>\n",
       "      <td>2</td>\n",
       "      <td>18.44</td>\n",
       "      <td>Dinamarca</td>\n",
       "    </tr>\n",
       "    <tr>\n",
       "      <th>827</th>\n",
       "      <td>11075</td>\n",
       "      <td>RICSU</td>\n",
       "      <td>8</td>\n",
       "      <td>2</td>\n",
       "      <td>6.19</td>\n",
       "      <td>Suiza</td>\n",
       "    </tr>\n",
       "    <tr>\n",
       "      <th>828</th>\n",
       "      <td>11076</td>\n",
       "      <td>BONAP</td>\n",
       "      <td>4</td>\n",
       "      <td>2</td>\n",
       "      <td>38.28</td>\n",
       "      <td>Francia</td>\n",
       "    </tr>\n",
       "    <tr>\n",
       "      <th>829</th>\n",
       "      <td>11077</td>\n",
       "      <td>RATTC</td>\n",
       "      <td>1</td>\n",
       "      <td>2</td>\n",
       "      <td>8.53</td>\n",
       "      <td>Estados Unidos</td>\n",
       "    </tr>\n",
       "  </tbody>\n",
       "</table>\n",
       "</div>"
      ],
      "text/plain": [
       "     idpedido cliente  idempleado  idempresa  importe            pais\n",
       "825     11073   PERIC           2          2    24.95          Mexico\n",
       "826     11074   SIMOB           7          2    18.44       Dinamarca\n",
       "827     11075   RICSU           8          2     6.19           Suiza\n",
       "828     11076   BONAP           4          2    38.28         Francia\n",
       "829     11077   RATTC           1          2     8.53  Estados Unidos"
      ]
     },
     "execution_count": 32,
     "metadata": {},
     "output_type": "execute_result"
    }
   ],
   "source": [
    "df.tail(5)"
   ]
  },
  {
   "cell_type": "code",
   "execution_count": 33,
   "id": "67fa00fa",
   "metadata": {},
   "outputs": [
    {
     "data": {
      "text/plain": [
       "(830, 6)"
      ]
     },
     "execution_count": 33,
     "metadata": {},
     "output_type": "execute_result"
    }
   ],
   "source": [
    "df.shape"
   ]
  },
  {
   "cell_type": "code",
   "execution_count": 34,
   "id": "41a51851",
   "metadata": {},
   "outputs": [
    {
     "data": {
      "text/plain": [
       "830"
      ]
     },
     "execution_count": 34,
     "metadata": {},
     "output_type": "execute_result"
    }
   ],
   "source": [
    "filas, cols = df.shape\n",
    "filas"
   ]
  },
  {
   "cell_type": "code",
   "execution_count": 35,
   "id": "13aab747",
   "metadata": {},
   "outputs": [
    {
     "name": "stdout",
     "output_type": "stream",
     "text": [
      "<class 'pandas.core.frame.DataFrame'>\n",
      "RangeIndex: 830 entries, 0 to 829\n",
      "Data columns (total 6 columns):\n",
      " #   Column      Non-Null Count  Dtype  \n",
      "---  ------      --------------  -----  \n",
      " 0   idpedido    830 non-null    int64  \n",
      " 1   cliente     830 non-null    object \n",
      " 2   idempleado  830 non-null    int64  \n",
      " 3   idempresa   830 non-null    int64  \n",
      " 4   importe     830 non-null    float64\n",
      " 5   pais        830 non-null    object \n",
      "dtypes: float64(1), int64(3), object(2)\n",
      "memory usage: 39.0+ KB\n"
     ]
    }
   ],
   "source": [
    "df.info()"
   ]
  },
  {
   "cell_type": "code",
   "execution_count": 36,
   "id": "0548cc30",
   "metadata": {},
   "outputs": [
    {
     "data": {
      "text/html": [
       "<div>\n",
       "<style scoped>\n",
       "    .dataframe tbody tr th:only-of-type {\n",
       "        vertical-align: middle;\n",
       "    }\n",
       "\n",
       "    .dataframe tbody tr th {\n",
       "        vertical-align: top;\n",
       "    }\n",
       "\n",
       "    .dataframe thead th {\n",
       "        text-align: right;\n",
       "    }\n",
       "</style>\n",
       "<table border=\"1\" class=\"dataframe\">\n",
       "  <thead>\n",
       "    <tr style=\"text-align: right;\">\n",
       "      <th></th>\n",
       "      <th>idpedido</th>\n",
       "      <th>idempleado</th>\n",
       "      <th>idempresa</th>\n",
       "      <th>importe</th>\n",
       "    </tr>\n",
       "  </thead>\n",
       "  <tbody>\n",
       "    <tr>\n",
       "      <th>count</th>\n",
       "      <td>830.000000</td>\n",
       "      <td>830.000000</td>\n",
       "      <td>830.000000</td>\n",
       "      <td>830.000000</td>\n",
       "    </tr>\n",
       "    <tr>\n",
       "      <th>mean</th>\n",
       "      <td>10662.500000</td>\n",
       "      <td>4.403614</td>\n",
       "      <td>2.008434</td>\n",
       "      <td>78.244205</td>\n",
       "    </tr>\n",
       "    <tr>\n",
       "      <th>std</th>\n",
       "      <td>239.744656</td>\n",
       "      <td>2.499648</td>\n",
       "      <td>0.778899</td>\n",
       "      <td>116.779294</td>\n",
       "    </tr>\n",
       "    <tr>\n",
       "      <th>min</th>\n",
       "      <td>10248.000000</td>\n",
       "      <td>1.000000</td>\n",
       "      <td>1.000000</td>\n",
       "      <td>0.020000</td>\n",
       "    </tr>\n",
       "    <tr>\n",
       "      <th>25%</th>\n",
       "      <td>10455.250000</td>\n",
       "      <td>2.000000</td>\n",
       "      <td>1.000000</td>\n",
       "      <td>13.380000</td>\n",
       "    </tr>\n",
       "    <tr>\n",
       "      <th>50%</th>\n",
       "      <td>10662.500000</td>\n",
       "      <td>4.000000</td>\n",
       "      <td>2.000000</td>\n",
       "      <td>41.360000</td>\n",
       "    </tr>\n",
       "    <tr>\n",
       "      <th>75%</th>\n",
       "      <td>10869.750000</td>\n",
       "      <td>7.000000</td>\n",
       "      <td>3.000000</td>\n",
       "      <td>91.430000</td>\n",
       "    </tr>\n",
       "    <tr>\n",
       "      <th>max</th>\n",
       "      <td>11077.000000</td>\n",
       "      <td>9.000000</td>\n",
       "      <td>3.000000</td>\n",
       "      <td>1007.640000</td>\n",
       "    </tr>\n",
       "  </tbody>\n",
       "</table>\n",
       "</div>"
      ],
      "text/plain": [
       "           idpedido  idempleado   idempresa      importe\n",
       "count    830.000000  830.000000  830.000000   830.000000\n",
       "mean   10662.500000    4.403614    2.008434    78.244205\n",
       "std      239.744656    2.499648    0.778899   116.779294\n",
       "min    10248.000000    1.000000    1.000000     0.020000\n",
       "25%    10455.250000    2.000000    1.000000    13.380000\n",
       "50%    10662.500000    4.000000    2.000000    41.360000\n",
       "75%    10869.750000    7.000000    3.000000    91.430000\n",
       "max    11077.000000    9.000000    3.000000  1007.640000"
      ]
     },
     "execution_count": 36,
     "metadata": {},
     "output_type": "execute_result"
    }
   ],
   "source": [
    "df.describe()"
   ]
  },
  {
   "cell_type": "markdown",
   "id": "556e2c99",
   "metadata": {},
   "source": [
    "#### Agrupar y operar con columnas"
   ]
  },
  {
   "cell_type": "code",
   "execution_count": 37,
   "id": "21077eb0",
   "metadata": {},
   "outputs": [
    {
     "data": {
      "text/plain": [
       "pais\n",
       "Estados Unidos    123\n",
       "Alemania          122\n",
       "Brasil             83\n",
       "Francia            76\n",
       "Reino Unido        55\n",
       "Venezuela          46\n",
       "Austria            40\n",
       "Suecia             38\n",
       "Canada             30\n",
       "Mexico             28\n",
       "Italia             28\n",
       "Espanya            23\n",
       "Finlandia          23\n",
       "Irlanda            19\n",
       "Belgica            19\n",
       "Suiza              18\n",
       "Dinamarca          18\n",
       "Argentina          16\n",
       "Portugal           13\n",
       "Polonia             6\n",
       "Noruega             6\n",
       "Name: count, dtype: int64"
      ]
     },
     "execution_count": 37,
     "metadata": {},
     "output_type": "execute_result"
    }
   ],
   "source": [
    "df.pais.value_counts()"
   ]
  },
  {
   "cell_type": "code",
   "execution_count": 59,
   "id": "a8344802",
   "metadata": {},
   "outputs": [
    {
     "data": {
      "text/plain": [
       "cliente\n",
       "SAVEA    31\n",
       "ERNSH    30\n",
       "QUICK    28\n",
       "HUNGO    19\n",
       "BERGS    19\n",
       "         ..\n",
       "THECR     3\n",
       "FRANR     3\n",
       "LAZYK     2\n",
       "GROSR     2\n",
       "CENTC     1\n",
       "Name: count, Length: 89, dtype: int64"
      ]
     },
     "execution_count": 59,
     "metadata": {},
     "output_type": "execute_result"
    }
   ],
   "source": [
    "df.cliente.value_counts()"
   ]
  },
  {
   "cell_type": "markdown",
   "id": "9720f31b",
   "metadata": {},
   "source": [
    "##### Group by"
   ]
  },
  {
   "cell_type": "code",
   "execution_count": 60,
   "id": "a4516d41",
   "metadata": {},
   "outputs": [
    {
     "data": {
      "text/plain": [
       "<pandas.core.groupby.generic.SeriesGroupBy object at 0x000001EAB19DA970>"
      ]
     },
     "execution_count": 60,
     "metadata": {},
     "output_type": "execute_result"
    }
   ],
   "source": [
    "grupo1 = df.importe.groupby(df.pais)\n",
    "grupo1"
   ]
  },
  {
   "cell_type": "code",
   "execution_count": 61,
   "id": "ea385075",
   "metadata": {},
   "outputs": [
    {
     "name": "stdout",
     "output_type": "stream",
     "text": [
      "La media: \n"
     ]
    },
    {
     "data": {
      "text/plain": [
       "pais\n",
       "Alemania           92.485902\n",
       "Argentina          37.411250\n",
       "Austria           184.787500\n",
       "Belgica            67.375789\n",
       "Brasil             58.797470\n",
       "Canada             73.269667\n",
       "Dinamarca          77.566111\n",
       "Espanya            37.473478\n",
       "Estados Unidos    112.059593\n",
       "Finlandia          41.011739\n",
       "Francia            55.335000\n",
       "Irlanda           145.012632\n",
       "Italia             30.872857\n",
       "Mexico             40.099286\n",
       "Noruega            45.916667\n",
       "Polonia            27.283333\n",
       "Portugal           49.502308\n",
       "Reino Unido        53.514727\n",
       "Suecia             85.488421\n",
       "Suiza              76.029444\n",
       "Venezuela          59.460435\n",
       "Name: importe, dtype: float64"
      ]
     },
     "execution_count": 61,
     "metadata": {},
     "output_type": "execute_result"
    }
   ],
   "source": [
    "print('La media: ')\n",
    "grupo1.mean()"
   ]
  },
  {
   "cell_type": "code",
   "execution_count": 66,
   "id": "28a5e787",
   "metadata": {
    "scrolled": true
   },
   "outputs": [
    {
     "name": "stdout",
     "output_type": "stream",
     "text": [
      "0.15\n",
      "[ 0.15  0.33  5.29  0.17  0.14  0.94  2.92  1.25  0.2   0.59  0.02 16.74\n",
      "  0.48  0.4   4.62  3.94  1.27  0.9   1.23  1.17  0.12]\n",
      "Index(['Alemania', 'Argentina', 'Austria', 'Belgica', 'Brasil', 'Canada',\n",
      "       'Dinamarca', 'Espanya', 'Estados Unidos', 'Finlandia', 'Francia',\n",
      "       'Irlanda', 'Italia', 'Mexico', 'Noruega', 'Polonia', 'Portugal',\n",
      "       'Reino Unido', 'Suecia', 'Suiza', 'Venezuela'],\n",
      "      dtype='object', name='pais')\n"
     ]
    }
   ],
   "source": [
    "# Mínimo de cada país:\n",
    "minimo = grupo1.min()\n",
    "print(minimo['Alemania'])\n",
    "print(minimo.values)\n",
    "print(minimo.index)"
   ]
  },
  {
   "cell_type": "code",
   "execution_count": 69,
   "id": "a7bc1382",
   "metadata": {},
   "outputs": [
    {
     "data": {
      "text/plain": [
       "pais       cliente\n",
       "Alemania   ALFKI       37.596667\n",
       "           BLAUS       24.037143\n",
       "           DRACD       51.006667\n",
       "           FRANK       93.562667\n",
       "           KOENE       58.120000\n",
       "                         ...    \n",
       "Suiza      RICSU      100.129000\n",
       "Venezuela  GROSR       33.900000\n",
       "           HILAA       69.953333\n",
       "           LILAS       52.457857\n",
       "           LINOD       56.150833\n",
       "Name: importe, Length: 89, dtype: float64"
      ]
     },
     "execution_count": 69,
     "metadata": {},
     "output_type": "execute_result"
    }
   ],
   "source": [
    "grupo2 = df.importe.groupby([df.pais, df.cliente])\n",
    "grupo2.mean()"
   ]
  },
  {
   "cell_type": "code",
   "execution_count": 73,
   "id": "1053d4d9",
   "metadata": {},
   "outputs": [
    {
     "data": {
      "text/plain": [
       "{('Alemania', 'ALFKI'): array([395, 444, 454, 587, 704, 763], dtype=int64),\n",
       " ('Alemania',\n",
       "  'BLAUS'): array([253, 261, 334, 366, 605, 708, 810], dtype=int64),\n",
       " ('Alemania', 'DRACD'): array([115, 143, 549, 577, 788, 819], dtype=int64),\n",
       " ('Alemania',\n",
       "  'FRANK'): array([ 19,  89,  94, 148, 240, 312, 375, 405, 422, 427, 469, 543, 611,\n",
       "        681, 764], dtype=int64),\n",
       " ('Alemania',\n",
       "  'KOENE'): array([ 75,  77, 208, 209, 220, 258, 294, 382, 470, 551, 569, 601, 645,\n",
       "        780], dtype=int64),\n",
       " ('Alemania',\n",
       "  'LEHMS'): array([ 31,  36,  95, 249, 274, 286, 288, 309, 344, 345, 524, 614, 643,\n",
       "        686, 822], dtype=int64),\n",
       " ('Alemania', 'MORGK'): array([ 29, 327, 451, 531, 697], dtype=int64),\n",
       " ('Alemania',\n",
       "  'OTTIK'): array([ 12, 159, 260, 306, 332, 436, 518, 585, 751, 772], dtype=int64),\n",
       " ('Alemania',\n",
       "  'QUICK'): array([ 25,  37,  38,  65,  97, 113, 170, 203, 267, 279, 292, 301, 340,\n",
       "        410, 443, 446, 473, 497, 517, 540, 597, 617, 630, 690, 714, 743,\n",
       "        748, 773], dtype=int64),\n",
       " ('Alemania', 'TOMSP'): array([  1, 190, 198, 300, 360, 719], dtype=int64),\n",
       " ('Alemania',\n",
       "  'WANDK'): array([ 53,  64, 100, 108, 265, 384, 392, 403, 420, 798], dtype=int64),\n",
       " ('Argentina', 'CACTU'): array([273, 534, 571, 633, 689, 806], dtype=int64),\n",
       " ('Argentina', 'OCEAN'): array([161, 283, 650, 710, 738], dtype=int64),\n",
       " ('Argentina', 'RANCH'): array([200, 468, 580, 668, 771], dtype=int64),\n",
       " ('Austria',\n",
       "  'ERNSH'): array([ 10,  15, 103, 120, 134, 142, 154, 155, 182, 194, 266, 323, 347,\n",
       "        385, 419, 450, 516, 523, 525, 528, 547, 588, 606, 647, 720, 731,\n",
       "        742, 760, 769, 824], dtype=int64),\n",
       " ('Austria',\n",
       "  'PICCO'): array([105, 144, 179, 241, 282, 349, 438, 499, 596, 805], dtype=int64),\n",
       " ('Belgica', 'MAISD'): array([281, 401, 512, 644, 648, 730, 756], dtype=int64),\n",
       " ('Belgica',\n",
       "  'SUPRD'): array([  4,  54, 210, 215, 227, 519, 593, 598, 637, 682, 787, 790],\n",
       "       dtype=int64),\n",
       " ('Brasil', 'COMMI'): array([ 42, 218, 246, 721, 794], dtype=int64),\n",
       " ('Brasil', 'FAMIA'): array([ 99, 138, 166, 264, 333, 402, 477], dtype=int64),\n",
       " ('Brasil',\n",
       "  'GOURL'): array([175, 404, 437, 461, 486, 529, 542, 711, 801], dtype=int64),\n",
       " ('Brasil',\n",
       "  'HANAR'): array([  2,   5, 293, 397, 442, 522, 535, 638, 655, 674, 677, 733, 774,\n",
       "        804], dtype=int64),\n",
       " ('Brasil',\n",
       "  'QUEDE'): array([ 13,  43, 131, 173, 339, 399, 472, 546, 741], dtype=int64),\n",
       " ('Brasil',\n",
       "  'QUEEN'): array([124, 158, 239, 389, 411, 456, 480, 538, 620, 665, 666, 713, 820],\n",
       "       dtype=int64),\n",
       " ('Brasil',\n",
       "  'RICAR'): array([ 39,  51, 199, 233, 315, 374, 400, 565, 603, 629, 811], dtype=int64),\n",
       " ('Brasil', 'TRADH'): array([ 44, 248, 358, 582, 586, 591], dtype=int64),\n",
       " ('Brasil',\n",
       "  'WELLI'): array([  8, 172, 337, 396, 555, 561, 652, 657, 687], dtype=int64),\n",
       " ('Canada',\n",
       "  'BOTTM'): array([141, 162, 163, 183, 244, 494, 670, 696, 701, 727, 734, 779, 797,\n",
       "        800], dtype=int64),\n",
       " ('Canada', 'LAUGB'): array([247, 372, 562], dtype=int64),\n",
       " ('Canada',\n",
       "  'MEREP'): array([ 84,  91, 128, 176, 191, 257, 317, 322, 342, 357, 370, 371, 476],\n",
       "       dtype=int64),\n",
       " ('Dinamarca',\n",
       "  'SIMOB'): array([ 93, 169, 308, 394, 421, 554, 826], dtype=int64),\n",
       " ('Dinamarca',\n",
       "  'VAFFE'): array([119, 151, 217, 343, 354, 440, 496, 521, 673, 698, 746], dtype=int64),\n",
       " ('Espanya', 'BOLID'): array([ 78, 553, 722], dtype=int64),\n",
       " ('Espanya', 'GALED'): array([118, 178, 320, 639, 680], dtype=int64),\n",
       " ('Espanya',\n",
       "  'GODOS'): array([ 55, 302, 381, 624, 626, 640, 663, 700, 761, 789], dtype=int64),\n",
       " ('Espanya', 'ROMEY'): array([ 33,  34,  58, 669, 765], dtype=int64),\n",
       " ('Estados Unidos',\n",
       "  'GREAL'): array([280, 341, 368, 369, 408, 433, 568, 688, 758, 792, 813], dtype=int64),\n",
       " ('Estados Unidos', 'HUNGC'): array([127, 146, 167, 352, 412], dtype=int64),\n",
       " ('Estados Unidos', 'LAZYK'): array([234, 297], dtype=int64),\n",
       " ('Estados Unidos', 'LETSS'): array([331, 471, 487, 636], dtype=int64),\n",
       " ('Estados Unidos',\n",
       "  'LONEP'): array([ 59,  69, 296, 414, 417, 619, 635, 770], dtype=int64),\n",
       " ('Estados Unidos',\n",
       "  'OLDWO'): array([ 57,  90, 193, 346, 432, 458, 560, 607, 717, 786], dtype=int64),\n",
       " ('Estados Unidos',\n",
       "  'RATTC'): array([ 14,  24,  46,  66,  68,  98, 153, 231, 316, 321, 350, 513, 572,\n",
       "        604, 641, 740, 752, 829], dtype=int64),\n",
       " ('Estados Unidos',\n",
       "  'SAVEA'): array([ 76, 145, 150, 192, 204, 262, 307, 355, 359, 364, 379, 409, 430,\n",
       "        452, 463, 465, 466, 474, 500, 509, 567, 599, 634, 646, 693, 735,\n",
       "        736, 754, 782, 783, 816], dtype=int64),\n",
       " ('Estados Unidos',\n",
       "  'SPLIR'): array([ 23,  81, 101, 121, 137, 184, 508, 573, 726], dtype=int64),\n",
       " ('Estados Unidos', 'THEBI'): array([ 62, 460, 557, 744], dtype=int64),\n",
       " ('Estados Unidos', 'THECR'): array([376, 527, 755], dtype=int64),\n",
       " ('Estados Unidos', 'TRAIH'): array([326, 329, 574], dtype=int64),\n",
       " ('Estados Unidos',\n",
       "  'WHITC'): array([ 21,  96, 221, 235, 256, 348, 445, 448, 475, 492, 613, 622, 656,\n",
       "        784, 818], dtype=int64),\n",
       " ('Finlandia',\n",
       "  'WARTH'): array([ 18,  22,  72,  85, 164, 168, 189, 207, 278, 305, 335, 388, 502,\n",
       "        533, 777], dtype=int64),\n",
       " ('Finlandia',\n",
       "  'WILMK'): array([  0, 367, 425, 447, 625, 631, 662, 757], dtype=int64),\n",
       " ('Francia',\n",
       "  'BLONP'): array([ 17,  49, 112, 188, 201, 311, 318, 336, 380, 431, 578], dtype=int64),\n",
       " ('Francia',\n",
       "  'BONAP'): array([ 83,  92, 114, 222, 263, 277, 415, 467, 482, 484, 507, 579, 623,\n",
       "        628, 684, 692, 828], dtype=int64),\n",
       " ('Francia', 'DUMON'): array([ 63, 361, 435, 642], dtype=int64),\n",
       " ('Francia', 'FOLIG'): array([160, 232, 386, 515, 541], dtype=int64),\n",
       " ('Francia', 'FRANR'): array([423, 612, 723], dtype=int64),\n",
       " ('Francia', 'LACOR'): array([610, 679, 724, 725], dtype=int64),\n",
       " ('Francia',\n",
       "  'LAMAI'): array([102, 110, 123, 165, 177, 206, 245, 252, 362, 383, 539, 584, 675,\n",
       "        803], dtype=int64),\n",
       " ('Francia', 'SPECD'): array([490, 659, 716, 795], dtype=int64),\n",
       " ('Francia',\n",
       "  'VICTE'): array([  3,  86, 202, 211, 230, 298, 558, 566, 595, 602], dtype=int64),\n",
       " ('Francia', 'VINET'): array([ 26,  47, 489, 491], dtype=int64),\n",
       " ('Irlanda',\n",
       "  'HUNGO'): array([ 50,  61,  87, 125, 132, 181, 255, 268, 319, 398, 413, 439, 453,\n",
       "        464, 488, 649, 664, 737, 815], dtype=int64),\n",
       " ('Italia', 'FRANS'): array([174, 462, 505, 559, 778, 812], dtype=int64),\n",
       " ('Italia',\n",
       "  'MAGAA'): array([ 27,  52, 156, 219, 387, 506, 536, 570, 691, 702], dtype=int64),\n",
       " ('Italia',\n",
       "  'REGGC'): array([ 40, 180, 195, 314, 338, 407, 479, 564, 660, 694, 762, 814],\n",
       "       dtype=int64),\n",
       " ('Mexico', 'ANATR'): array([ 60, 377, 511, 678], dtype=int64),\n",
       " ('Mexico', 'ANTON'): array([117, 259, 287, 325, 429, 434, 608], dtype=int64),\n",
       " ('Mexico', 'CENTC'): array([11], dtype=int64),\n",
       " ('Mexico', 'PERIC'): array([ 74, 106, 226, 254, 747, 825], dtype=int64),\n",
       " ('Mexico',\n",
       "  'TORTU'): array([ 28,  45,  56,  71, 270, 328, 428, 594, 667, 821], dtype=int64),\n",
       " ('Noruega', 'SANTG'): array([139, 272, 391, 583, 661, 767], dtype=int64),\n",
       " ('Polonia', 'WOLZA'): array([126, 363, 544, 658, 750, 796], dtype=int64),\n",
       " ('Portugal',\n",
       "  'FURIB'): array([ 80, 104, 216, 243, 303, 356, 416, 715], dtype=int64),\n",
       " ('Portugal', 'PRINI'): array([ 88, 149, 185, 229, 759], dtype=int64),\n",
       " ('Reino Unido',\n",
       "  'AROUT'): array([107, 135, 205, 310, 459, 495, 520, 545, 616, 672, 705, 768],\n",
       "       dtype=int64),\n",
       " ('Reino Unido',\n",
       "  'BSBEV'): array([ 41, 223, 236, 290, 291, 330, 351, 695, 699, 775], dtype=int64),\n",
       " ('Reino Unido', 'CONSH'): array([187, 214, 600], dtype=int64),\n",
       " ('Reino Unido',\n",
       "  'EASTC'): array([116, 152, 284, 478, 739, 776, 799, 808], dtype=int64),\n",
       " ('Reino Unido',\n",
       "  'ISLAT'): array([ 67,  70,  73, 225, 373, 426, 501, 550, 581, 685], dtype=int64),\n",
       " ('Reino Unido', 'NORTS'): array([269, 504, 809], dtype=int64),\n",
       " ('Reino Unido',\n",
       "  'SEVES'): array([111, 129, 140, 224, 275, 299, 552, 556, 621], dtype=int64),\n",
       " ('Suecia',\n",
       "  'BERGS'): array([ 30,  32, 136, 196, 197, 276, 324, 378, 406, 424, 441, 485, 493,\n",
       "        530, 589, 609, 618, 627, 676], dtype=int64),\n",
       " ('Suecia',\n",
       "  'FOLKO'): array([ 16,  79, 130, 186, 212, 285, 313, 455, 514, 526, 576, 632, 654,\n",
       "        707, 729, 732, 745, 753, 802], dtype=int64),\n",
       " ('Suiza',\n",
       "  'CHOPS'): array([  6, 122, 271, 483, 498, 718, 781, 793], dtype=int64),\n",
       " ('Suiza',\n",
       "  'RICSU'): array([  7, 171, 289, 418, 503, 510, 683, 703, 785, 827], dtype=int64),\n",
       " ('Venezuela', 'GROSR'): array([ 20, 537], dtype=int64),\n",
       " ('Venezuela',\n",
       "  'HILAA'): array([  9, 147, 228, 238, 242, 250, 304, 353, 365, 393, 457, 548, 615,\n",
       "        653, 709, 712, 728, 807], dtype=int64),\n",
       " ('Venezuela',\n",
       "  'LILAS'): array([ 35,  48,  82, 109, 133, 213, 251, 295, 532, 575, 651, 749, 817,\n",
       "        823], dtype=int64),\n",
       " ('Venezuela',\n",
       "  'LINOD'): array([157, 237, 390, 449, 481, 563, 590, 592, 671, 706, 766, 791],\n",
       "       dtype=int64)}"
      ]
     },
     "execution_count": 73,
     "metadata": {},
     "output_type": "execute_result"
    }
   ],
   "source": [
    "grupo2.indices"
   ]
  },
  {
   "cell_type": "markdown",
   "id": "e1739b21",
   "metadata": {},
   "source": [
    "Crear columnas y operar:"
   ]
  },
  {
   "cell_type": "code",
   "execution_count": 38,
   "id": "40e9820c",
   "metadata": {},
   "outputs": [
    {
     "data": {
      "text/html": [
       "<div>\n",
       "<style scoped>\n",
       "    .dataframe tbody tr th:only-of-type {\n",
       "        vertical-align: middle;\n",
       "    }\n",
       "\n",
       "    .dataframe tbody tr th {\n",
       "        vertical-align: top;\n",
       "    }\n",
       "\n",
       "    .dataframe thead th {\n",
       "        text-align: right;\n",
       "    }\n",
       "</style>\n",
       "<table border=\"1\" class=\"dataframe\">\n",
       "  <thead>\n",
       "    <tr style=\"text-align: right;\">\n",
       "      <th></th>\n",
       "      <th>idpedido</th>\n",
       "      <th>cliente</th>\n",
       "      <th>idempleado</th>\n",
       "      <th>idempresa</th>\n",
       "      <th>importe</th>\n",
       "      <th>pais</th>\n",
       "    </tr>\n",
       "  </thead>\n",
       "  <tbody>\n",
       "    <tr>\n",
       "      <th>0</th>\n",
       "      <td>10248</td>\n",
       "      <td>WILMK</td>\n",
       "      <td>5</td>\n",
       "      <td>3</td>\n",
       "      <td>32.38</td>\n",
       "      <td>Finlandia</td>\n",
       "    </tr>\n",
       "    <tr>\n",
       "      <th>1</th>\n",
       "      <td>10249</td>\n",
       "      <td>TOMSP</td>\n",
       "      <td>6</td>\n",
       "      <td>1</td>\n",
       "      <td>11.61</td>\n",
       "      <td>Alemania</td>\n",
       "    </tr>\n",
       "    <tr>\n",
       "      <th>2</th>\n",
       "      <td>10250</td>\n",
       "      <td>HANAR</td>\n",
       "      <td>4</td>\n",
       "      <td>2</td>\n",
       "      <td>65.83</td>\n",
       "      <td>Brasil</td>\n",
       "    </tr>\n",
       "    <tr>\n",
       "      <th>3</th>\n",
       "      <td>10251</td>\n",
       "      <td>VICTE</td>\n",
       "      <td>3</td>\n",
       "      <td>1</td>\n",
       "      <td>41.34</td>\n",
       "      <td>Francia</td>\n",
       "    </tr>\n",
       "    <tr>\n",
       "      <th>4</th>\n",
       "      <td>10252</td>\n",
       "      <td>SUPRD</td>\n",
       "      <td>4</td>\n",
       "      <td>2</td>\n",
       "      <td>51.30</td>\n",
       "      <td>Belgica</td>\n",
       "    </tr>\n",
       "  </tbody>\n",
       "</table>\n",
       "</div>"
      ],
      "text/plain": [
       "   idpedido cliente  idempleado  idempresa  importe       pais\n",
       "0     10248   WILMK           5          3    32.38  Finlandia\n",
       "1     10249   TOMSP           6          1    11.61   Alemania\n",
       "2     10250   HANAR           4          2    65.83     Brasil\n",
       "3     10251   VICTE           3          1    41.34    Francia\n",
       "4     10252   SUPRD           4          2    51.30    Belgica"
      ]
     },
     "execution_count": 38,
     "metadata": {},
     "output_type": "execute_result"
    }
   ],
   "source": [
    "df.head()"
   ]
  },
  {
   "cell_type": "code",
   "execution_count": 39,
   "id": "79092552",
   "metadata": {},
   "outputs": [],
   "source": [
    "df['porc_iva'] = 21.0"
   ]
  },
  {
   "cell_type": "code",
   "execution_count": 40,
   "id": "ad427d05",
   "metadata": {},
   "outputs": [
    {
     "data": {
      "text/html": [
       "<div>\n",
       "<style scoped>\n",
       "    .dataframe tbody tr th:only-of-type {\n",
       "        vertical-align: middle;\n",
       "    }\n",
       "\n",
       "    .dataframe tbody tr th {\n",
       "        vertical-align: top;\n",
       "    }\n",
       "\n",
       "    .dataframe thead th {\n",
       "        text-align: right;\n",
       "    }\n",
       "</style>\n",
       "<table border=\"1\" class=\"dataframe\">\n",
       "  <thead>\n",
       "    <tr style=\"text-align: right;\">\n",
       "      <th></th>\n",
       "      <th>idpedido</th>\n",
       "      <th>cliente</th>\n",
       "      <th>idempleado</th>\n",
       "      <th>idempresa</th>\n",
       "      <th>importe</th>\n",
       "      <th>pais</th>\n",
       "      <th>porc_iva</th>\n",
       "    </tr>\n",
       "  </thead>\n",
       "  <tbody>\n",
       "    <tr>\n",
       "      <th>0</th>\n",
       "      <td>10248</td>\n",
       "      <td>WILMK</td>\n",
       "      <td>5</td>\n",
       "      <td>3</td>\n",
       "      <td>32.38</td>\n",
       "      <td>Finlandia</td>\n",
       "      <td>21.0</td>\n",
       "    </tr>\n",
       "    <tr>\n",
       "      <th>1</th>\n",
       "      <td>10249</td>\n",
       "      <td>TOMSP</td>\n",
       "      <td>6</td>\n",
       "      <td>1</td>\n",
       "      <td>11.61</td>\n",
       "      <td>Alemania</td>\n",
       "      <td>21.0</td>\n",
       "    </tr>\n",
       "    <tr>\n",
       "      <th>2</th>\n",
       "      <td>10250</td>\n",
       "      <td>HANAR</td>\n",
       "      <td>4</td>\n",
       "      <td>2</td>\n",
       "      <td>65.83</td>\n",
       "      <td>Brasil</td>\n",
       "      <td>21.0</td>\n",
       "    </tr>\n",
       "    <tr>\n",
       "      <th>3</th>\n",
       "      <td>10251</td>\n",
       "      <td>VICTE</td>\n",
       "      <td>3</td>\n",
       "      <td>1</td>\n",
       "      <td>41.34</td>\n",
       "      <td>Francia</td>\n",
       "      <td>21.0</td>\n",
       "    </tr>\n",
       "    <tr>\n",
       "      <th>4</th>\n",
       "      <td>10252</td>\n",
       "      <td>SUPRD</td>\n",
       "      <td>4</td>\n",
       "      <td>2</td>\n",
       "      <td>51.30</td>\n",
       "      <td>Belgica</td>\n",
       "      <td>21.0</td>\n",
       "    </tr>\n",
       "  </tbody>\n",
       "</table>\n",
       "</div>"
      ],
      "text/plain": [
       "   idpedido cliente  idempleado  idempresa  importe       pais  porc_iva\n",
       "0     10248   WILMK           5          3    32.38  Finlandia      21.0\n",
       "1     10249   TOMSP           6          1    11.61   Alemania      21.0\n",
       "2     10250   HANAR           4          2    65.83     Brasil      21.0\n",
       "3     10251   VICTE           3          1    41.34    Francia      21.0\n",
       "4     10252   SUPRD           4          2    51.30    Belgica      21.0"
      ]
     },
     "execution_count": 40,
     "metadata": {},
     "output_type": "execute_result"
    }
   ],
   "source": [
    "df.head()"
   ]
  },
  {
   "cell_type": "code",
   "execution_count": 41,
   "id": "24f5a8ad",
   "metadata": {},
   "outputs": [],
   "source": [
    "df['iva'] = round(df.importe * df.porc_iva / 100, 2)"
   ]
  },
  {
   "cell_type": "code",
   "execution_count": 42,
   "id": "6aa1eb39",
   "metadata": {},
   "outputs": [],
   "source": [
    "df['total'] = round(df.iva + df.importe, 2)"
   ]
  },
  {
   "cell_type": "code",
   "execution_count": 43,
   "id": "3419b9f8",
   "metadata": {},
   "outputs": [
    {
     "data": {
      "text/html": [
       "<div>\n",
       "<style scoped>\n",
       "    .dataframe tbody tr th:only-of-type {\n",
       "        vertical-align: middle;\n",
       "    }\n",
       "\n",
       "    .dataframe tbody tr th {\n",
       "        vertical-align: top;\n",
       "    }\n",
       "\n",
       "    .dataframe thead th {\n",
       "        text-align: right;\n",
       "    }\n",
       "</style>\n",
       "<table border=\"1\" class=\"dataframe\">\n",
       "  <thead>\n",
       "    <tr style=\"text-align: right;\">\n",
       "      <th></th>\n",
       "      <th>idpedido</th>\n",
       "      <th>cliente</th>\n",
       "      <th>idempleado</th>\n",
       "      <th>idempresa</th>\n",
       "      <th>importe</th>\n",
       "      <th>pais</th>\n",
       "      <th>porc_iva</th>\n",
       "      <th>iva</th>\n",
       "      <th>total</th>\n",
       "    </tr>\n",
       "  </thead>\n",
       "  <tbody>\n",
       "    <tr>\n",
       "      <th>0</th>\n",
       "      <td>10248</td>\n",
       "      <td>WILMK</td>\n",
       "      <td>5</td>\n",
       "      <td>3</td>\n",
       "      <td>32.38</td>\n",
       "      <td>Finlandia</td>\n",
       "      <td>21.0</td>\n",
       "      <td>6.80</td>\n",
       "      <td>39.18</td>\n",
       "    </tr>\n",
       "    <tr>\n",
       "      <th>1</th>\n",
       "      <td>10249</td>\n",
       "      <td>TOMSP</td>\n",
       "      <td>6</td>\n",
       "      <td>1</td>\n",
       "      <td>11.61</td>\n",
       "      <td>Alemania</td>\n",
       "      <td>21.0</td>\n",
       "      <td>2.44</td>\n",
       "      <td>14.05</td>\n",
       "    </tr>\n",
       "    <tr>\n",
       "      <th>2</th>\n",
       "      <td>10250</td>\n",
       "      <td>HANAR</td>\n",
       "      <td>4</td>\n",
       "      <td>2</td>\n",
       "      <td>65.83</td>\n",
       "      <td>Brasil</td>\n",
       "      <td>21.0</td>\n",
       "      <td>13.82</td>\n",
       "      <td>79.65</td>\n",
       "    </tr>\n",
       "    <tr>\n",
       "      <th>3</th>\n",
       "      <td>10251</td>\n",
       "      <td>VICTE</td>\n",
       "      <td>3</td>\n",
       "      <td>1</td>\n",
       "      <td>41.34</td>\n",
       "      <td>Francia</td>\n",
       "      <td>21.0</td>\n",
       "      <td>8.68</td>\n",
       "      <td>50.02</td>\n",
       "    </tr>\n",
       "    <tr>\n",
       "      <th>4</th>\n",
       "      <td>10252</td>\n",
       "      <td>SUPRD</td>\n",
       "      <td>4</td>\n",
       "      <td>2</td>\n",
       "      <td>51.30</td>\n",
       "      <td>Belgica</td>\n",
       "      <td>21.0</td>\n",
       "      <td>10.77</td>\n",
       "      <td>62.07</td>\n",
       "    </tr>\n",
       "  </tbody>\n",
       "</table>\n",
       "</div>"
      ],
      "text/plain": [
       "   idpedido cliente  idempleado  idempresa  importe       pais  porc_iva  \\\n",
       "0     10248   WILMK           5          3    32.38  Finlandia      21.0   \n",
       "1     10249   TOMSP           6          1    11.61   Alemania      21.0   \n",
       "2     10250   HANAR           4          2    65.83     Brasil      21.0   \n",
       "3     10251   VICTE           3          1    41.34    Francia      21.0   \n",
       "4     10252   SUPRD           4          2    51.30    Belgica      21.0   \n",
       "\n",
       "     iva  total  \n",
       "0   6.80  39.18  \n",
       "1   2.44  14.05  \n",
       "2  13.82  79.65  \n",
       "3   8.68  50.02  \n",
       "4  10.77  62.07  "
      ]
     },
     "execution_count": 43,
     "metadata": {},
     "output_type": "execute_result"
    }
   ],
   "source": [
    "df.head()"
   ]
  },
  {
   "cell_type": "code",
   "execution_count": 44,
   "id": "4be34628",
   "metadata": {},
   "outputs": [
    {
     "data": {
      "text/html": [
       "<div>\n",
       "<style scoped>\n",
       "    .dataframe tbody tr th:only-of-type {\n",
       "        vertical-align: middle;\n",
       "    }\n",
       "\n",
       "    .dataframe tbody tr th {\n",
       "        vertical-align: top;\n",
       "    }\n",
       "\n",
       "    .dataframe thead th {\n",
       "        text-align: right;\n",
       "    }\n",
       "</style>\n",
       "<table border=\"1\" class=\"dataframe\">\n",
       "  <thead>\n",
       "    <tr style=\"text-align: right;\">\n",
       "      <th></th>\n",
       "      <th>idpedido</th>\n",
       "      <th>cliente</th>\n",
       "      <th>importe</th>\n",
       "      <th>porc_iva</th>\n",
       "      <th>iva</th>\n",
       "      <th>total</th>\n",
       "      <th>pais</th>\n",
       "    </tr>\n",
       "  </thead>\n",
       "  <tbody>\n",
       "    <tr>\n",
       "      <th>0</th>\n",
       "      <td>10248</td>\n",
       "      <td>WILMK</td>\n",
       "      <td>32.38</td>\n",
       "      <td>21.0</td>\n",
       "      <td>6.80</td>\n",
       "      <td>39.18</td>\n",
       "      <td>Finlandia</td>\n",
       "    </tr>\n",
       "    <tr>\n",
       "      <th>1</th>\n",
       "      <td>10249</td>\n",
       "      <td>TOMSP</td>\n",
       "      <td>11.61</td>\n",
       "      <td>21.0</td>\n",
       "      <td>2.44</td>\n",
       "      <td>14.05</td>\n",
       "      <td>Alemania</td>\n",
       "    </tr>\n",
       "    <tr>\n",
       "      <th>2</th>\n",
       "      <td>10250</td>\n",
       "      <td>HANAR</td>\n",
       "      <td>65.83</td>\n",
       "      <td>21.0</td>\n",
       "      <td>13.82</td>\n",
       "      <td>79.65</td>\n",
       "      <td>Brasil</td>\n",
       "    </tr>\n",
       "    <tr>\n",
       "      <th>3</th>\n",
       "      <td>10251</td>\n",
       "      <td>VICTE</td>\n",
       "      <td>41.34</td>\n",
       "      <td>21.0</td>\n",
       "      <td>8.68</td>\n",
       "      <td>50.02</td>\n",
       "      <td>Francia</td>\n",
       "    </tr>\n",
       "    <tr>\n",
       "      <th>4</th>\n",
       "      <td>10252</td>\n",
       "      <td>SUPRD</td>\n",
       "      <td>51.30</td>\n",
       "      <td>21.0</td>\n",
       "      <td>10.77</td>\n",
       "      <td>62.07</td>\n",
       "      <td>Belgica</td>\n",
       "    </tr>\n",
       "  </tbody>\n",
       "</table>\n",
       "</div>"
      ],
      "text/plain": [
       "   idpedido cliente  importe  porc_iva    iva  total       pais\n",
       "0     10248   WILMK    32.38      21.0   6.80  39.18  Finlandia\n",
       "1     10249   TOMSP    11.61      21.0   2.44  14.05   Alemania\n",
       "2     10250   HANAR    65.83      21.0  13.82  79.65     Brasil\n",
       "3     10251   VICTE    41.34      21.0   8.68  50.02    Francia\n",
       "4     10252   SUPRD    51.30      21.0  10.77  62.07    Belgica"
      ]
     },
     "execution_count": 44,
     "metadata": {},
     "output_type": "execute_result"
    }
   ],
   "source": [
    "df2 = df[['idpedido','cliente','importe','porc_iva','iva','total','pais']]\n",
    "df2.head()"
   ]
  },
  {
   "cell_type": "code",
   "execution_count": 45,
   "id": "2e3a21b4",
   "metadata": {},
   "outputs": [],
   "source": [
    "# Exportar a CSV (con Excel en español)\n",
    "path_salida = \"../../practicas/avanzado2/pandas/merge/csv\"\n",
    "df2.to_csv(path_salida+\"/Pedidos.csv\", sep=';', index=False, decimal=',')"
   ]
  },
  {
   "cell_type": "code",
   "execution_count": 46,
   "id": "f9616f36",
   "metadata": {},
   "outputs": [
    {
     "data": {
      "text/html": [
       "<div>\n",
       "<style scoped>\n",
       "    .dataframe tbody tr th:only-of-type {\n",
       "        vertical-align: middle;\n",
       "    }\n",
       "\n",
       "    .dataframe tbody tr th {\n",
       "        vertical-align: top;\n",
       "    }\n",
       "\n",
       "    .dataframe thead th {\n",
       "        text-align: right;\n",
       "    }\n",
       "</style>\n",
       "<table border=\"1\" class=\"dataframe\">\n",
       "  <thead>\n",
       "    <tr style=\"text-align: right;\">\n",
       "      <th></th>\n",
       "      <th>idpedido</th>\n",
       "      <th>cliente</th>\n",
       "      <th>importe</th>\n",
       "      <th>porc_iva</th>\n",
       "      <th>iva</th>\n",
       "      <th>total</th>\n",
       "      <th>pais</th>\n",
       "    </tr>\n",
       "  </thead>\n",
       "  <tbody>\n",
       "    <tr>\n",
       "      <th>7</th>\n",
       "      <td>10255</td>\n",
       "      <td>RICSU</td>\n",
       "      <td>148.33</td>\n",
       "      <td>21.0</td>\n",
       "      <td>31.15</td>\n",
       "      <td>179.48</td>\n",
       "      <td>Suiza</td>\n",
       "    </tr>\n",
       "    <tr>\n",
       "      <th>171</th>\n",
       "      <td>10419</td>\n",
       "      <td>RICSU</td>\n",
       "      <td>137.35</td>\n",
       "      <td>21.0</td>\n",
       "      <td>28.84</td>\n",
       "      <td>166.19</td>\n",
       "      <td>Suiza</td>\n",
       "    </tr>\n",
       "    <tr>\n",
       "      <th>271</th>\n",
       "      <td>10519</td>\n",
       "      <td>CHOPS</td>\n",
       "      <td>91.76</td>\n",
       "      <td>21.0</td>\n",
       "      <td>19.27</td>\n",
       "      <td>111.03</td>\n",
       "      <td>Suiza</td>\n",
       "    </tr>\n",
       "    <tr>\n",
       "      <th>418</th>\n",
       "      <td>10666</td>\n",
       "      <td>RICSU</td>\n",
       "      <td>232.42</td>\n",
       "      <td>21.0</td>\n",
       "      <td>48.81</td>\n",
       "      <td>281.23</td>\n",
       "      <td>Suiza</td>\n",
       "    </tr>\n",
       "    <tr>\n",
       "      <th>483</th>\n",
       "      <td>10731</td>\n",
       "      <td>CHOPS</td>\n",
       "      <td>96.65</td>\n",
       "      <td>21.0</td>\n",
       "      <td>20.30</td>\n",
       "      <td>116.95</td>\n",
       "      <td>Suiza</td>\n",
       "    </tr>\n",
       "    <tr>\n",
       "      <th>503</th>\n",
       "      <td>10751</td>\n",
       "      <td>RICSU</td>\n",
       "      <td>130.79</td>\n",
       "      <td>21.0</td>\n",
       "      <td>27.47</td>\n",
       "      <td>158.26</td>\n",
       "      <td>Suiza</td>\n",
       "    </tr>\n",
       "    <tr>\n",
       "      <th>510</th>\n",
       "      <td>10758</td>\n",
       "      <td>RICSU</td>\n",
       "      <td>138.17</td>\n",
       "      <td>21.0</td>\n",
       "      <td>29.02</td>\n",
       "      <td>167.19</td>\n",
       "      <td>Suiza</td>\n",
       "    </tr>\n",
       "    <tr>\n",
       "      <th>785</th>\n",
       "      <td>11033</td>\n",
       "      <td>RICSU</td>\n",
       "      <td>84.74</td>\n",
       "      <td>21.0</td>\n",
       "      <td>17.80</td>\n",
       "      <td>102.54</td>\n",
       "      <td>Suiza</td>\n",
       "    </tr>\n",
       "  </tbody>\n",
       "</table>\n",
       "</div>"
      ],
      "text/plain": [
       "     idpedido cliente  importe  porc_iva    iva   total   pais\n",
       "7       10255   RICSU   148.33      21.0  31.15  179.48  Suiza\n",
       "171     10419   RICSU   137.35      21.0  28.84  166.19  Suiza\n",
       "271     10519   CHOPS    91.76      21.0  19.27  111.03  Suiza\n",
       "418     10666   RICSU   232.42      21.0  48.81  281.23  Suiza\n",
       "483     10731   CHOPS    96.65      21.0  20.30  116.95  Suiza\n",
       "503     10751   RICSU   130.79      21.0  27.47  158.26  Suiza\n",
       "510     10758   RICSU   138.17      21.0  29.02  167.19  Suiza\n",
       "785     11033   RICSU    84.74      21.0  17.80  102.54  Suiza"
      ]
     },
     "execution_count": 46,
     "metadata": {},
     "output_type": "execute_result"
    }
   ],
   "source": [
    "# Para filtrar filas: Pedidos de Suiza \n",
    "dfSuiza = df2[(df2.pais == 'Suiza') & (df2.total > 100.0)]\n",
    "dfSuiza"
   ]
  },
  {
   "cell_type": "code",
   "execution_count": 47,
   "id": "67523e00",
   "metadata": {},
   "outputs": [
    {
     "data": {
      "text/plain": [
       "1282.87"
      ]
     },
     "execution_count": 47,
     "metadata": {},
     "output_type": "execute_result"
    }
   ],
   "source": [
    "np.sum(dfSuiza.total)"
   ]
  },
  {
   "cell_type": "code",
   "execution_count": 48,
   "id": "b1ee66ee",
   "metadata": {},
   "outputs": [
    {
     "data": {
      "text/plain": [
       "array(['Finlandia', 'Alemania', 'Brasil', 'Francia', 'Belgica', 'Suiza',\n",
       "       'Venezuela', 'Austria', 'Mexico', 'Estados Unidos', 'Suecia',\n",
       "       'Italia', 'Espanya', 'Reino Unido', 'Irlanda', 'Portugal',\n",
       "       'Canada', 'Dinamarca', 'Polonia', 'Noruega', 'Argentina'],\n",
       "      dtype=object)"
      ]
     },
     "execution_count": 48,
     "metadata": {},
     "output_type": "execute_result"
    }
   ],
   "source": [
    "# Valores únicos de una columna\n",
    "L = df.pais.unique()\n",
    "L"
   ]
  },
  {
   "cell_type": "code",
   "execution_count": 49,
   "id": "b438a798",
   "metadata": {},
   "outputs": [
    {
     "data": {
      "text/plain": [
       "21"
      ]
     },
     "execution_count": 49,
     "metadata": {},
     "output_type": "execute_result"
    }
   ],
   "source": [
    "len(L)"
   ]
  },
  {
   "cell_type": "markdown",
   "id": "c3c7444e",
   "metadata": {},
   "source": [
    "Práctica: Exportar los pedidos de cada país a un fichero distinto."
   ]
  },
  {
   "cell_type": "code",
   "execution_count": 50,
   "id": "e435bcd9",
   "metadata": {},
   "outputs": [
    {
     "name": "stdout",
     "output_type": "stream",
     "text": [
      "Generando fichero:  ../../practicas/avanzado2/pandas/merge/csv/Finlandia.xlsx\n",
      "(23, 9)\n",
      "\n",
      "Generando fichero:  ../../practicas/avanzado2/pandas/merge/csv/Alemania.xlsx\n",
      "(122, 9)\n",
      "\n",
      "Generando fichero:  ../../practicas/avanzado2/pandas/merge/csv/Brasil.xlsx\n",
      "(83, 9)\n",
      "\n",
      "Generando fichero:  ../../practicas/avanzado2/pandas/merge/csv/Francia.xlsx\n",
      "(76, 9)\n",
      "\n",
      "Generando fichero:  ../../practicas/avanzado2/pandas/merge/csv/Belgica.xlsx\n",
      "(19, 9)\n",
      "\n",
      "Generando fichero:  ../../practicas/avanzado2/pandas/merge/csv/Suiza.xlsx\n",
      "(18, 9)\n",
      "\n",
      "Generando fichero:  ../../practicas/avanzado2/pandas/merge/csv/Venezuela.xlsx\n",
      "(46, 9)\n",
      "\n",
      "Generando fichero:  ../../practicas/avanzado2/pandas/merge/csv/Austria.xlsx\n",
      "(40, 9)\n",
      "\n",
      "Generando fichero:  ../../practicas/avanzado2/pandas/merge/csv/Mexico.xlsx\n",
      "(28, 9)\n",
      "\n",
      "Generando fichero:  ../../practicas/avanzado2/pandas/merge/csv/Estados Unidos.xlsx\n",
      "(123, 9)\n",
      "\n",
      "Generando fichero:  ../../practicas/avanzado2/pandas/merge/csv/Suecia.xlsx\n",
      "(38, 9)\n",
      "\n",
      "Generando fichero:  ../../practicas/avanzado2/pandas/merge/csv/Italia.xlsx\n",
      "(28, 9)\n",
      "\n",
      "Generando fichero:  ../../practicas/avanzado2/pandas/merge/csv/Espanya.xlsx\n",
      "(23, 9)\n",
      "\n",
      "Generando fichero:  ../../practicas/avanzado2/pandas/merge/csv/Reino Unido.xlsx\n",
      "(55, 9)\n",
      "\n",
      "Generando fichero:  ../../practicas/avanzado2/pandas/merge/csv/Irlanda.xlsx\n",
      "(19, 9)\n",
      "\n",
      "Generando fichero:  ../../practicas/avanzado2/pandas/merge/csv/Portugal.xlsx\n",
      "(13, 9)\n",
      "\n",
      "Generando fichero:  ../../practicas/avanzado2/pandas/merge/csv/Canada.xlsx\n",
      "(30, 9)\n",
      "\n",
      "Generando fichero:  ../../practicas/avanzado2/pandas/merge/csv/Dinamarca.xlsx\n",
      "(18, 9)\n",
      "\n",
      "Generando fichero:  ../../practicas/avanzado2/pandas/merge/csv/Polonia.xlsx\n",
      "(6, 9)\n",
      "\n",
      "Generando fichero:  ../../practicas/avanzado2/pandas/merge/csv/Noruega.xlsx\n",
      "(6, 9)\n",
      "\n",
      "Generando fichero:  ../../practicas/avanzado2/pandas/merge/csv/Argentina.xlsx\n",
      "(16, 9)\n",
      "\n"
     ]
    }
   ],
   "source": [
    "for pais in L:\n",
    "    \n",
    "    # Generar la ruta del fichero destino\n",
    "    path_file = f\"../../practicas/avanzado2/pandas/merge/csv/{pais}.xlsx\"\n",
    "    print('Generando fichero: ', path_file)\n",
    "    \n",
    "    # Filtrar por países en Pedidos:\n",
    "    dfPais = df[df.pais==pais]\n",
    "    \n",
    "    # Obtener número de filas\n",
    "    print(dfPais.shape)\n",
    "    \n",
    "    # Grabar a Excel:\n",
    "    dfPais.to_excel(path_file, index=False)\n",
    "    print()"
   ]
  },
  {
   "cell_type": "markdown",
   "id": "f3685f4b",
   "metadata": {},
   "source": [
    "### Pandas merge"
   ]
  },
  {
   "cell_type": "markdown",
   "id": "275d4eb4",
   "metadata": {},
   "source": [
    "Montar un dataframe fusionando los ficheros de pedidos, empleados y empresas"
   ]
  },
  {
   "cell_type": "code",
   "execution_count": 51,
   "id": "f35dbcc3",
   "metadata": {},
   "outputs": [
    {
     "data": {
      "text/html": [
       "<div>\n",
       "<style scoped>\n",
       "    .dataframe tbody tr th:only-of-type {\n",
       "        vertical-align: middle;\n",
       "    }\n",
       "\n",
       "    .dataframe tbody tr th {\n",
       "        vertical-align: top;\n",
       "    }\n",
       "\n",
       "    .dataframe thead th {\n",
       "        text-align: right;\n",
       "    }\n",
       "</style>\n",
       "<table border=\"1\" class=\"dataframe\">\n",
       "  <thead>\n",
       "    <tr style=\"text-align: right;\">\n",
       "      <th></th>\n",
       "      <th>idpedido</th>\n",
       "      <th>cliente</th>\n",
       "      <th>idempleado</th>\n",
       "      <th>idempresa</th>\n",
       "      <th>importe</th>\n",
       "      <th>pais</th>\n",
       "    </tr>\n",
       "  </thead>\n",
       "  <tbody>\n",
       "    <tr>\n",
       "      <th>0</th>\n",
       "      <td>10248</td>\n",
       "      <td>WILMK</td>\n",
       "      <td>5</td>\n",
       "      <td>3</td>\n",
       "      <td>32.38</td>\n",
       "      <td>Finlandia</td>\n",
       "    </tr>\n",
       "    <tr>\n",
       "      <th>1</th>\n",
       "      <td>10249</td>\n",
       "      <td>TOMSP</td>\n",
       "      <td>6</td>\n",
       "      <td>1</td>\n",
       "      <td>11.61</td>\n",
       "      <td>Alemania</td>\n",
       "    </tr>\n",
       "    <tr>\n",
       "      <th>2</th>\n",
       "      <td>10250</td>\n",
       "      <td>HANAR</td>\n",
       "      <td>4</td>\n",
       "      <td>2</td>\n",
       "      <td>65.83</td>\n",
       "      <td>Brasil</td>\n",
       "    </tr>\n",
       "    <tr>\n",
       "      <th>3</th>\n",
       "      <td>10251</td>\n",
       "      <td>VICTE</td>\n",
       "      <td>3</td>\n",
       "      <td>1</td>\n",
       "      <td>41.34</td>\n",
       "      <td>Francia</td>\n",
       "    </tr>\n",
       "    <tr>\n",
       "      <th>4</th>\n",
       "      <td>10252</td>\n",
       "      <td>SUPRD</td>\n",
       "      <td>4</td>\n",
       "      <td>2</td>\n",
       "      <td>51.30</td>\n",
       "      <td>Belgica</td>\n",
       "    </tr>\n",
       "  </tbody>\n",
       "</table>\n",
       "</div>"
      ],
      "text/plain": [
       "   idpedido cliente  idempleado  idempresa  importe       pais\n",
       "0     10248   WILMK           5          3    32.38  Finlandia\n",
       "1     10249   TOMSP           6          1    11.61   Alemania\n",
       "2     10250   HANAR           4          2    65.83     Brasil\n",
       "3     10251   VICTE           3          1    41.34    Francia\n",
       "4     10252   SUPRD           4          2    51.30    Belgica"
      ]
     },
     "execution_count": 51,
     "metadata": {},
     "output_type": "execute_result"
    }
   ],
   "source": [
    "path = \"../../practicas/avanzado2/pandas/merge/\"\n",
    "dfPed = pd.read_csv(path+\"Pedidos.txt\", sep=';')\n",
    "dfPed.head()"
   ]
  },
  {
   "cell_type": "code",
   "execution_count": 52,
   "id": "19666cfa",
   "metadata": {},
   "outputs": [
    {
     "data": {
      "text/html": [
       "<div>\n",
       "<style scoped>\n",
       "    .dataframe tbody tr th:only-of-type {\n",
       "        vertical-align: middle;\n",
       "    }\n",
       "\n",
       "    .dataframe tbody tr th {\n",
       "        vertical-align: top;\n",
       "    }\n",
       "\n",
       "    .dataframe thead th {\n",
       "        text-align: right;\n",
       "    }\n",
       "</style>\n",
       "<table border=\"1\" class=\"dataframe\">\n",
       "  <thead>\n",
       "    <tr style=\"text-align: right;\">\n",
       "      <th></th>\n",
       "      <th>id</th>\n",
       "      <th>empresa</th>\n",
       "    </tr>\n",
       "  </thead>\n",
       "  <tbody>\n",
       "    <tr>\n",
       "      <th>0</th>\n",
       "      <td>1</td>\n",
       "      <td>Speedy Express</td>\n",
       "    </tr>\n",
       "    <tr>\n",
       "      <th>1</th>\n",
       "      <td>2</td>\n",
       "      <td>United Package</td>\n",
       "    </tr>\n",
       "    <tr>\n",
       "      <th>2</th>\n",
       "      <td>3</td>\n",
       "      <td>Federal Shipping</td>\n",
       "    </tr>\n",
       "  </tbody>\n",
       "</table>\n",
       "</div>"
      ],
      "text/plain": [
       "   id           empresa\n",
       "0   1    Speedy Express\n",
       "1   2    United Package\n",
       "2   3  Federal Shipping"
      ]
     },
     "execution_count": 52,
     "metadata": {},
     "output_type": "execute_result"
    }
   ],
   "source": [
    "dfEmpr = pd.read_csv(path+\"Empresas.txt\", sep=';')\n",
    "dfEmpr.head()"
   ]
  },
  {
   "cell_type": "code",
   "execution_count": 53,
   "id": "08028f3f",
   "metadata": {},
   "outputs": [
    {
     "data": {
      "text/html": [
       "<div>\n",
       "<style scoped>\n",
       "    .dataframe tbody tr th:only-of-type {\n",
       "        vertical-align: middle;\n",
       "    }\n",
       "\n",
       "    .dataframe tbody tr th {\n",
       "        vertical-align: top;\n",
       "    }\n",
       "\n",
       "    .dataframe thead th {\n",
       "        text-align: right;\n",
       "    }\n",
       "</style>\n",
       "<table border=\"1\" class=\"dataframe\">\n",
       "  <thead>\n",
       "    <tr style=\"text-align: right;\">\n",
       "      <th></th>\n",
       "      <th>id</th>\n",
       "      <th>nombre</th>\n",
       "      <th>cargo</th>\n",
       "    </tr>\n",
       "  </thead>\n",
       "  <tbody>\n",
       "    <tr>\n",
       "      <th>0</th>\n",
       "      <td>1</td>\n",
       "      <td>Davolio</td>\n",
       "      <td>Representante de ventas</td>\n",
       "    </tr>\n",
       "    <tr>\n",
       "      <th>1</th>\n",
       "      <td>2</td>\n",
       "      <td>Fuller</td>\n",
       "      <td>Vicepresidente comercial</td>\n",
       "    </tr>\n",
       "    <tr>\n",
       "      <th>2</th>\n",
       "      <td>3</td>\n",
       "      <td>Leverling</td>\n",
       "      <td>Representante de ventas</td>\n",
       "    </tr>\n",
       "    <tr>\n",
       "      <th>3</th>\n",
       "      <td>4</td>\n",
       "      <td>Peacock</td>\n",
       "      <td>Representante de ventas</td>\n",
       "    </tr>\n",
       "    <tr>\n",
       "      <th>4</th>\n",
       "      <td>5</td>\n",
       "      <td>Buchanan</td>\n",
       "      <td>Gerente de ventas</td>\n",
       "    </tr>\n",
       "  </tbody>\n",
       "</table>\n",
       "</div>"
      ],
      "text/plain": [
       "   id     nombre                     cargo\n",
       "0   1    Davolio   Representante de ventas\n",
       "1   2     Fuller  Vicepresidente comercial\n",
       "2   3  Leverling   Representante de ventas\n",
       "3   4    Peacock   Representante de ventas\n",
       "4   5   Buchanan         Gerente de ventas"
      ]
     },
     "execution_count": 53,
     "metadata": {},
     "output_type": "execute_result"
    }
   ],
   "source": [
    "dfEmpl = pd.read_csv(path+\"Empleados.txt\", sep=';')\n",
    "dfEmpl.head()"
   ]
  },
  {
   "cell_type": "code",
   "execution_count": 54,
   "id": "853dd148",
   "metadata": {},
   "outputs": [
    {
     "data": {
      "text/html": [
       "<div>\n",
       "<style scoped>\n",
       "    .dataframe tbody tr th:only-of-type {\n",
       "        vertical-align: middle;\n",
       "    }\n",
       "\n",
       "    .dataframe tbody tr th {\n",
       "        vertical-align: top;\n",
       "    }\n",
       "\n",
       "    .dataframe thead th {\n",
       "        text-align: right;\n",
       "    }\n",
       "</style>\n",
       "<table border=\"1\" class=\"dataframe\">\n",
       "  <thead>\n",
       "    <tr style=\"text-align: right;\">\n",
       "      <th></th>\n",
       "      <th>idpedido</th>\n",
       "      <th>cliente</th>\n",
       "      <th>idempleado</th>\n",
       "      <th>idempresa</th>\n",
       "      <th>importe</th>\n",
       "      <th>pais</th>\n",
       "      <th>id</th>\n",
       "      <th>empresa</th>\n",
       "    </tr>\n",
       "  </thead>\n",
       "  <tbody>\n",
       "    <tr>\n",
       "      <th>0</th>\n",
       "      <td>10248</td>\n",
       "      <td>WILMK</td>\n",
       "      <td>5</td>\n",
       "      <td>3</td>\n",
       "      <td>32.38</td>\n",
       "      <td>Finlandia</td>\n",
       "      <td>3</td>\n",
       "      <td>Federal Shipping</td>\n",
       "    </tr>\n",
       "    <tr>\n",
       "      <th>1</th>\n",
       "      <td>10255</td>\n",
       "      <td>RICSU</td>\n",
       "      <td>9</td>\n",
       "      <td>3</td>\n",
       "      <td>148.33</td>\n",
       "      <td>Suiza</td>\n",
       "      <td>3</td>\n",
       "      <td>Federal Shipping</td>\n",
       "    </tr>\n",
       "    <tr>\n",
       "      <th>2</th>\n",
       "      <td>10257</td>\n",
       "      <td>HILAA</td>\n",
       "      <td>4</td>\n",
       "      <td>3</td>\n",
       "      <td>81.91</td>\n",
       "      <td>Venezuela</td>\n",
       "      <td>3</td>\n",
       "      <td>Federal Shipping</td>\n",
       "    </tr>\n",
       "    <tr>\n",
       "      <th>3</th>\n",
       "      <td>10259</td>\n",
       "      <td>CENTC</td>\n",
       "      <td>4</td>\n",
       "      <td>3</td>\n",
       "      <td>3.25</td>\n",
       "      <td>Mexico</td>\n",
       "      <td>3</td>\n",
       "      <td>Federal Shipping</td>\n",
       "    </tr>\n",
       "    <tr>\n",
       "      <th>4</th>\n",
       "      <td>10262</td>\n",
       "      <td>RATTC</td>\n",
       "      <td>8</td>\n",
       "      <td>3</td>\n",
       "      <td>48.29</td>\n",
       "      <td>Estados Unidos</td>\n",
       "      <td>3</td>\n",
       "      <td>Federal Shipping</td>\n",
       "    </tr>\n",
       "  </tbody>\n",
       "</table>\n",
       "</div>"
      ],
      "text/plain": [
       "   idpedido cliente  idempleado  idempresa  importe            pais  id  \\\n",
       "0     10248   WILMK           5          3    32.38       Finlandia   3   \n",
       "1     10255   RICSU           9          3   148.33           Suiza   3   \n",
       "2     10257   HILAA           4          3    81.91       Venezuela   3   \n",
       "3     10259   CENTC           4          3     3.25          Mexico   3   \n",
       "4     10262   RATTC           8          3    48.29  Estados Unidos   3   \n",
       "\n",
       "            empresa  \n",
       "0  Federal Shipping  \n",
       "1  Federal Shipping  \n",
       "2  Federal Shipping  \n",
       "3  Federal Shipping  \n",
       "4  Federal Shipping  "
      ]
     },
     "execution_count": 54,
     "metadata": {},
     "output_type": "execute_result"
    }
   ],
   "source": [
    "dfPedEmpr = pd.merge(dfPed, dfEmpr, left_on=\"idempresa\", right_on=\"id\")\n",
    "dfPedEmpr.head()"
   ]
  },
  {
   "cell_type": "code",
   "execution_count": 55,
   "id": "91779402",
   "metadata": {},
   "outputs": [
    {
     "data": {
      "text/html": [
       "<div>\n",
       "<style scoped>\n",
       "    .dataframe tbody tr th:only-of-type {\n",
       "        vertical-align: middle;\n",
       "    }\n",
       "\n",
       "    .dataframe tbody tr th {\n",
       "        vertical-align: top;\n",
       "    }\n",
       "\n",
       "    .dataframe thead th {\n",
       "        text-align: right;\n",
       "    }\n",
       "</style>\n",
       "<table border=\"1\" class=\"dataframe\">\n",
       "  <thead>\n",
       "    <tr style=\"text-align: right;\">\n",
       "      <th></th>\n",
       "      <th>idpedido</th>\n",
       "      <th>cliente</th>\n",
       "      <th>idempleado</th>\n",
       "      <th>idempresa</th>\n",
       "      <th>importe</th>\n",
       "      <th>pais</th>\n",
       "      <th>id</th>\n",
       "      <th>empresa</th>\n",
       "    </tr>\n",
       "  </thead>\n",
       "  <tbody>\n",
       "    <tr>\n",
       "      <th>825</th>\n",
       "      <td>11073</td>\n",
       "      <td>PERIC</td>\n",
       "      <td>2</td>\n",
       "      <td>2</td>\n",
       "      <td>24.95</td>\n",
       "      <td>Mexico</td>\n",
       "      <td>2</td>\n",
       "      <td>United Package</td>\n",
       "    </tr>\n",
       "    <tr>\n",
       "      <th>826</th>\n",
       "      <td>11074</td>\n",
       "      <td>SIMOB</td>\n",
       "      <td>7</td>\n",
       "      <td>2</td>\n",
       "      <td>18.44</td>\n",
       "      <td>Dinamarca</td>\n",
       "      <td>2</td>\n",
       "      <td>United Package</td>\n",
       "    </tr>\n",
       "    <tr>\n",
       "      <th>827</th>\n",
       "      <td>11075</td>\n",
       "      <td>RICSU</td>\n",
       "      <td>8</td>\n",
       "      <td>2</td>\n",
       "      <td>6.19</td>\n",
       "      <td>Suiza</td>\n",
       "      <td>2</td>\n",
       "      <td>United Package</td>\n",
       "    </tr>\n",
       "    <tr>\n",
       "      <th>828</th>\n",
       "      <td>11076</td>\n",
       "      <td>BONAP</td>\n",
       "      <td>4</td>\n",
       "      <td>2</td>\n",
       "      <td>38.28</td>\n",
       "      <td>Francia</td>\n",
       "      <td>2</td>\n",
       "      <td>United Package</td>\n",
       "    </tr>\n",
       "    <tr>\n",
       "      <th>829</th>\n",
       "      <td>11077</td>\n",
       "      <td>RATTC</td>\n",
       "      <td>1</td>\n",
       "      <td>2</td>\n",
       "      <td>8.53</td>\n",
       "      <td>Estados Unidos</td>\n",
       "      <td>2</td>\n",
       "      <td>United Package</td>\n",
       "    </tr>\n",
       "  </tbody>\n",
       "</table>\n",
       "</div>"
      ],
      "text/plain": [
       "     idpedido cliente  idempleado  idempresa  importe            pais  id  \\\n",
       "825     11073   PERIC           2          2    24.95          Mexico   2   \n",
       "826     11074   SIMOB           7          2    18.44       Dinamarca   2   \n",
       "827     11075   RICSU           8          2     6.19           Suiza   2   \n",
       "828     11076   BONAP           4          2    38.28         Francia   2   \n",
       "829     11077   RATTC           1          2     8.53  Estados Unidos   2   \n",
       "\n",
       "            empresa  \n",
       "825  United Package  \n",
       "826  United Package  \n",
       "827  United Package  \n",
       "828  United Package  \n",
       "829  United Package  "
      ]
     },
     "execution_count": 55,
     "metadata": {},
     "output_type": "execute_result"
    }
   ],
   "source": [
    "dfPedEmpr.tail()"
   ]
  },
  {
   "cell_type": "code",
   "execution_count": 56,
   "id": "e6619e60",
   "metadata": {},
   "outputs": [
    {
     "data": {
      "text/html": [
       "<div>\n",
       "<style scoped>\n",
       "    .dataframe tbody tr th:only-of-type {\n",
       "        vertical-align: middle;\n",
       "    }\n",
       "\n",
       "    .dataframe tbody tr th {\n",
       "        vertical-align: top;\n",
       "    }\n",
       "\n",
       "    .dataframe thead th {\n",
       "        text-align: right;\n",
       "    }\n",
       "</style>\n",
       "<table border=\"1\" class=\"dataframe\">\n",
       "  <thead>\n",
       "    <tr style=\"text-align: right;\">\n",
       "      <th></th>\n",
       "      <th>idpedido</th>\n",
       "      <th>cliente</th>\n",
       "      <th>idempleado</th>\n",
       "      <th>idempresa</th>\n",
       "      <th>importe</th>\n",
       "      <th>pais</th>\n",
       "      <th>id_x</th>\n",
       "      <th>empresa</th>\n",
       "      <th>id_y</th>\n",
       "      <th>nombre</th>\n",
       "      <th>cargo</th>\n",
       "    </tr>\n",
       "  </thead>\n",
       "  <tbody>\n",
       "    <tr>\n",
       "      <th>0</th>\n",
       "      <td>10248</td>\n",
       "      <td>WILMK</td>\n",
       "      <td>5</td>\n",
       "      <td>3</td>\n",
       "      <td>32.38</td>\n",
       "      <td>Finlandia</td>\n",
       "      <td>3</td>\n",
       "      <td>Federal Shipping</td>\n",
       "      <td>5</td>\n",
       "      <td>Buchanan</td>\n",
       "      <td>Gerente de ventas</td>\n",
       "    </tr>\n",
       "    <tr>\n",
       "      <th>1</th>\n",
       "      <td>10320</td>\n",
       "      <td>WARTH</td>\n",
       "      <td>5</td>\n",
       "      <td>3</td>\n",
       "      <td>34.57</td>\n",
       "      <td>Finlandia</td>\n",
       "      <td>3</td>\n",
       "      <td>Federal Shipping</td>\n",
       "      <td>5</td>\n",
       "      <td>Buchanan</td>\n",
       "      <td>Gerente de ventas</td>\n",
       "    </tr>\n",
       "    <tr>\n",
       "      <th>2</th>\n",
       "      <td>10333</td>\n",
       "      <td>WARTH</td>\n",
       "      <td>5</td>\n",
       "      <td>3</td>\n",
       "      <td>0.59</td>\n",
       "      <td>Finlandia</td>\n",
       "      <td>3</td>\n",
       "      <td>Federal Shipping</td>\n",
       "      <td>5</td>\n",
       "      <td>Buchanan</td>\n",
       "      <td>Gerente de ventas</td>\n",
       "    </tr>\n",
       "    <tr>\n",
       "      <th>3</th>\n",
       "      <td>10359</td>\n",
       "      <td>SEVES</td>\n",
       "      <td>5</td>\n",
       "      <td>3</td>\n",
       "      <td>288.43</td>\n",
       "      <td>Reino Unido</td>\n",
       "      <td>3</td>\n",
       "      <td>Federal Shipping</td>\n",
       "      <td>5</td>\n",
       "      <td>Buchanan</td>\n",
       "      <td>Gerente de ventas</td>\n",
       "    </tr>\n",
       "    <tr>\n",
       "      <th>4</th>\n",
       "      <td>10378</td>\n",
       "      <td>FOLKO</td>\n",
       "      <td>5</td>\n",
       "      <td>3</td>\n",
       "      <td>5.44</td>\n",
       "      <td>Suecia</td>\n",
       "      <td>3</td>\n",
       "      <td>Federal Shipping</td>\n",
       "      <td>5</td>\n",
       "      <td>Buchanan</td>\n",
       "      <td>Gerente de ventas</td>\n",
       "    </tr>\n",
       "  </tbody>\n",
       "</table>\n",
       "</div>"
      ],
      "text/plain": [
       "   idpedido cliente  idempleado  idempresa  importe         pais  id_x  \\\n",
       "0     10248   WILMK           5          3    32.38    Finlandia     3   \n",
       "1     10320   WARTH           5          3    34.57    Finlandia     3   \n",
       "2     10333   WARTH           5          3     0.59    Finlandia     3   \n",
       "3     10359   SEVES           5          3   288.43  Reino Unido     3   \n",
       "4     10378   FOLKO           5          3     5.44       Suecia     3   \n",
       "\n",
       "            empresa  id_y    nombre              cargo  \n",
       "0  Federal Shipping     5  Buchanan  Gerente de ventas  \n",
       "1  Federal Shipping     5  Buchanan  Gerente de ventas  \n",
       "2  Federal Shipping     5  Buchanan  Gerente de ventas  \n",
       "3  Federal Shipping     5  Buchanan  Gerente de ventas  \n",
       "4  Federal Shipping     5  Buchanan  Gerente de ventas  "
      ]
     },
     "execution_count": 56,
     "metadata": {},
     "output_type": "execute_result"
    }
   ],
   "source": [
    "dfTotal = pd.merge(dfPedEmpr, dfEmpl, left_on=\"idempleado\", right_on=\"id\")\n",
    "dfTotal.head()"
   ]
  },
  {
   "cell_type": "code",
   "execution_count": 57,
   "id": "285acae8",
   "metadata": {},
   "outputs": [
    {
     "data": {
      "text/html": [
       "<div>\n",
       "<style scoped>\n",
       "    .dataframe tbody tr th:only-of-type {\n",
       "        vertical-align: middle;\n",
       "    }\n",
       "\n",
       "    .dataframe tbody tr th {\n",
       "        vertical-align: top;\n",
       "    }\n",
       "\n",
       "    .dataframe thead th {\n",
       "        text-align: right;\n",
       "    }\n",
       "</style>\n",
       "<table border=\"1\" class=\"dataframe\">\n",
       "  <thead>\n",
       "    <tr style=\"text-align: right;\">\n",
       "      <th></th>\n",
       "      <th>idpedido</th>\n",
       "      <th>cliente</th>\n",
       "      <th>importe</th>\n",
       "      <th>pais</th>\n",
       "      <th>empresa</th>\n",
       "      <th>nombre</th>\n",
       "      <th>cargo</th>\n",
       "    </tr>\n",
       "  </thead>\n",
       "  <tbody>\n",
       "    <tr>\n",
       "      <th>0</th>\n",
       "      <td>10248</td>\n",
       "      <td>WILMK</td>\n",
       "      <td>32.38</td>\n",
       "      <td>Finlandia</td>\n",
       "      <td>Federal Shipping</td>\n",
       "      <td>Buchanan</td>\n",
       "      <td>Gerente de ventas</td>\n",
       "    </tr>\n",
       "    <tr>\n",
       "      <th>1</th>\n",
       "      <td>10320</td>\n",
       "      <td>WARTH</td>\n",
       "      <td>34.57</td>\n",
       "      <td>Finlandia</td>\n",
       "      <td>Federal Shipping</td>\n",
       "      <td>Buchanan</td>\n",
       "      <td>Gerente de ventas</td>\n",
       "    </tr>\n",
       "    <tr>\n",
       "      <th>2</th>\n",
       "      <td>10333</td>\n",
       "      <td>WARTH</td>\n",
       "      <td>0.59</td>\n",
       "      <td>Finlandia</td>\n",
       "      <td>Federal Shipping</td>\n",
       "      <td>Buchanan</td>\n",
       "      <td>Gerente de ventas</td>\n",
       "    </tr>\n",
       "    <tr>\n",
       "      <th>3</th>\n",
       "      <td>10359</td>\n",
       "      <td>SEVES</td>\n",
       "      <td>288.43</td>\n",
       "      <td>Reino Unido</td>\n",
       "      <td>Federal Shipping</td>\n",
       "      <td>Buchanan</td>\n",
       "      <td>Gerente de ventas</td>\n",
       "    </tr>\n",
       "    <tr>\n",
       "      <th>4</th>\n",
       "      <td>10378</td>\n",
       "      <td>FOLKO</td>\n",
       "      <td>5.44</td>\n",
       "      <td>Suecia</td>\n",
       "      <td>Federal Shipping</td>\n",
       "      <td>Buchanan</td>\n",
       "      <td>Gerente de ventas</td>\n",
       "    </tr>\n",
       "  </tbody>\n",
       "</table>\n",
       "</div>"
      ],
      "text/plain": [
       "   idpedido cliente  importe         pais           empresa    nombre  \\\n",
       "0     10248   WILMK    32.38    Finlandia  Federal Shipping  Buchanan   \n",
       "1     10320   WARTH    34.57    Finlandia  Federal Shipping  Buchanan   \n",
       "2     10333   WARTH     0.59    Finlandia  Federal Shipping  Buchanan   \n",
       "3     10359   SEVES   288.43  Reino Unido  Federal Shipping  Buchanan   \n",
       "4     10378   FOLKO     5.44       Suecia  Federal Shipping  Buchanan   \n",
       "\n",
       "               cargo  \n",
       "0  Gerente de ventas  \n",
       "1  Gerente de ventas  \n",
       "2  Gerente de ventas  \n",
       "3  Gerente de ventas  \n",
       "4  Gerente de ventas  "
      ]
     },
     "execution_count": 57,
     "metadata": {},
     "output_type": "execute_result"
    }
   ],
   "source": [
    "# Borrar cols:\n",
    "dfTotal.drop(columns=['idempleado','idempresa','id_x','id_y'], inplace=True)\n",
    "dfTotal.head()"
   ]
  },
  {
   "cell_type": "code",
   "execution_count": 58,
   "id": "6733ff70",
   "metadata": {},
   "outputs": [
    {
     "data": {
      "text/html": [
       "<div>\n",
       "<style scoped>\n",
       "    .dataframe tbody tr th:only-of-type {\n",
       "        vertical-align: middle;\n",
       "    }\n",
       "\n",
       "    .dataframe tbody tr th {\n",
       "        vertical-align: top;\n",
       "    }\n",
       "\n",
       "    .dataframe thead th {\n",
       "        text-align: right;\n",
       "    }\n",
       "</style>\n",
       "<table border=\"1\" class=\"dataframe\">\n",
       "  <thead>\n",
       "    <tr style=\"text-align: right;\">\n",
       "      <th></th>\n",
       "      <th>idpedido</th>\n",
       "      <th>cliente</th>\n",
       "      <th>importe</th>\n",
       "      <th>pais</th>\n",
       "      <th>empresa</th>\n",
       "      <th>empleado</th>\n",
       "      <th>cargo</th>\n",
       "    </tr>\n",
       "  </thead>\n",
       "  <tbody>\n",
       "    <tr>\n",
       "      <th>0</th>\n",
       "      <td>10248</td>\n",
       "      <td>WILMK</td>\n",
       "      <td>32.38</td>\n",
       "      <td>Finlandia</td>\n",
       "      <td>Federal Shipping</td>\n",
       "      <td>Buchanan</td>\n",
       "      <td>Gerente de ventas</td>\n",
       "    </tr>\n",
       "    <tr>\n",
       "      <th>1</th>\n",
       "      <td>10320</td>\n",
       "      <td>WARTH</td>\n",
       "      <td>34.57</td>\n",
       "      <td>Finlandia</td>\n",
       "      <td>Federal Shipping</td>\n",
       "      <td>Buchanan</td>\n",
       "      <td>Gerente de ventas</td>\n",
       "    </tr>\n",
       "    <tr>\n",
       "      <th>2</th>\n",
       "      <td>10333</td>\n",
       "      <td>WARTH</td>\n",
       "      <td>0.59</td>\n",
       "      <td>Finlandia</td>\n",
       "      <td>Federal Shipping</td>\n",
       "      <td>Buchanan</td>\n",
       "      <td>Gerente de ventas</td>\n",
       "    </tr>\n",
       "    <tr>\n",
       "      <th>3</th>\n",
       "      <td>10359</td>\n",
       "      <td>SEVES</td>\n",
       "      <td>288.43</td>\n",
       "      <td>Reino Unido</td>\n",
       "      <td>Federal Shipping</td>\n",
       "      <td>Buchanan</td>\n",
       "      <td>Gerente de ventas</td>\n",
       "    </tr>\n",
       "    <tr>\n",
       "      <th>4</th>\n",
       "      <td>10378</td>\n",
       "      <td>FOLKO</td>\n",
       "      <td>5.44</td>\n",
       "      <td>Suecia</td>\n",
       "      <td>Federal Shipping</td>\n",
       "      <td>Buchanan</td>\n",
       "      <td>Gerente de ventas</td>\n",
       "    </tr>\n",
       "  </tbody>\n",
       "</table>\n",
       "</div>"
      ],
      "text/plain": [
       "   idpedido cliente  importe         pais           empresa  empleado  \\\n",
       "0     10248   WILMK    32.38    Finlandia  Federal Shipping  Buchanan   \n",
       "1     10320   WARTH    34.57    Finlandia  Federal Shipping  Buchanan   \n",
       "2     10333   WARTH     0.59    Finlandia  Federal Shipping  Buchanan   \n",
       "3     10359   SEVES   288.43  Reino Unido  Federal Shipping  Buchanan   \n",
       "4     10378   FOLKO     5.44       Suecia  Federal Shipping  Buchanan   \n",
       "\n",
       "               cargo  \n",
       "0  Gerente de ventas  \n",
       "1  Gerente de ventas  \n",
       "2  Gerente de ventas  \n",
       "3  Gerente de ventas  \n",
       "4  Gerente de ventas  "
      ]
     },
     "execution_count": 58,
     "metadata": {},
     "output_type": "execute_result"
    }
   ],
   "source": [
    "dfTotal.rename(columns={\"nombre\":\"empleado\"}, inplace=True)\n",
    "dfTotal.head()"
   ]
  },
  {
   "cell_type": "code",
   "execution_count": null,
   "id": "38bb3462",
   "metadata": {},
   "outputs": [],
   "source": []
  }
 ],
 "metadata": {
  "kernelspec": {
   "display_name": "Python 3 (ipykernel)",
   "language": "python",
   "name": "python3"
  },
  "language_info": {
   "codemirror_mode": {
    "name": "ipython",
    "version": 3
   },
   "file_extension": ".py",
   "mimetype": "text/x-python",
   "name": "python",
   "nbconvert_exporter": "python",
   "pygments_lexer": "ipython3",
   "version": "3.8.5"
  }
 },
 "nbformat": 4,
 "nbformat_minor": 5
}

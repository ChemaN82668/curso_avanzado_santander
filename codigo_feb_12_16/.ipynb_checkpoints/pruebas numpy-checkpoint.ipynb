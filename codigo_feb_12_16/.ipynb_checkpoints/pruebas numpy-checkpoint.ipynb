{
 "cells": [
  {
   "cell_type": "markdown",
   "id": "bf384daf",
   "metadata": {},
   "source": [
    "## Pruebas con numpy"
   ]
  },
  {
   "cell_type": "code",
   "execution_count": 2,
   "id": "f4d77a1e",
   "metadata": {},
   "outputs": [],
   "source": [
    "import numpy as np"
   ]
  },
  {
   "cell_type": "code",
   "execution_count": 3,
   "id": "21b979f5",
   "metadata": {},
   "outputs": [
    {
     "data": {
      "text/plain": [
       "array([0, 1, 2, 3, 4, 5, 6, 7, 8, 9])"
      ]
     },
     "execution_count": 3,
     "metadata": {},
     "output_type": "execute_result"
    }
   ],
   "source": [
    "arr= np.arange(10)\n",
    "arr"
   ]
  },
  {
   "cell_type": "code",
   "execution_count": 5,
   "id": "2182d8ff",
   "metadata": {},
   "outputs": [
    {
     "name": "stdout",
     "output_type": "stream",
     "text": [
      "16.9 ms ± 862 µs per loop (mean ± std. dev. of 7 runs, 100 loops each)\n"
     ]
    }
   ],
   "source": [
    "%%timeit\n",
    "my_arr = np.arange(1000000)\n",
    "for _ in range(10): my_arr2 = my_arr * 2"
   ]
  },
  {
   "cell_type": "code",
   "execution_count": 6,
   "id": "9cd22e99",
   "metadata": {},
   "outputs": [
    {
     "name": "stdout",
     "output_type": "stream",
     "text": [
      "54.4 ms ± 11.8 ms per loop (mean ± std. dev. of 7 runs, 10 loops each)\n"
     ]
    }
   ],
   "source": [
    "%%timeit\n",
    "my_list = list(range(100000))\n",
    "for _ in range(10): my_list2 = [x*2 for x in my_list]"
   ]
  },
  {
   "cell_type": "markdown",
   "id": "db4152aa",
   "metadata": {},
   "source": [
    "Inferencia de tipos"
   ]
  },
  {
   "cell_type": "code",
   "execution_count": 7,
   "id": "e7aa0f8c",
   "metadata": {},
   "outputs": [
    {
     "data": {
      "text/plain": [
       "array([1. +0.j, 2. +0.j, 3.4+0.j, 8. +3.j])"
      ]
     },
     "execution_count": 7,
     "metadata": {},
     "output_type": "execute_result"
    }
   ],
   "source": [
    "arr = np.array([1,2,3.4,8+3j])\n",
    "arr"
   ]
  },
  {
   "cell_type": "code",
   "execution_count": 8,
   "id": "ce3394e3",
   "metadata": {},
   "outputs": [
    {
     "data": {
      "text/plain": [
       "dtype('complex128')"
      ]
     },
     "execution_count": 8,
     "metadata": {},
     "output_type": "execute_result"
    }
   ],
   "source": [
    "arr.dtype"
   ]
  },
  {
   "cell_type": "code",
   "execution_count": 9,
   "id": "157ff3af",
   "metadata": {},
   "outputs": [
    {
     "data": {
      "text/plain": [
       "array([1, 2, 3, 8], dtype=uint8)"
      ]
     },
     "execution_count": 9,
     "metadata": {},
     "output_type": "execute_result"
    }
   ],
   "source": [
    "arr2 = np.array(['1','2','3','8'], dtype=\"u1\")\n",
    "arr2"
   ]
  },
  {
   "cell_type": "code",
   "execution_count": 12,
   "id": "c63c237e",
   "metadata": {},
   "outputs": [
    {
     "data": {
      "text/plain": [
       "array([1, 2, 3, 8], dtype=uint8)"
      ]
     },
     "execution_count": 12,
     "metadata": {},
     "output_type": "execute_result"
    }
   ],
   "source": [
    "arr3 = np.array(('1','2','3','8'), dtype=\"u1\")\n",
    "arr3"
   ]
  },
  {
   "cell_type": "code",
   "execution_count": 13,
   "id": "50aca58f",
   "metadata": {},
   "outputs": [
    {
     "data": {
      "text/plain": [
       "array([1, 2, 3, 8], dtype=int16)"
      ]
     },
     "execution_count": 13,
     "metadata": {},
     "output_type": "execute_result"
    }
   ],
   "source": [
    "arr4 = arr3.astype(np.int16)\n",
    "arr4"
   ]
  },
  {
   "cell_type": "code",
   "execution_count": 14,
   "id": "c0d8a868",
   "metadata": {},
   "outputs": [
    {
     "data": {
      "text/plain": [
       "array([[ 0,  1,  2,  3,  4],\n",
       "       [ 5,  6,  7,  8,  9],\n",
       "       [10, 11, 12, 13, 14],\n",
       "       [15, 16, 17, 18, 19],\n",
       "       [20, 21, 22, 23, 24]])"
      ]
     },
     "execution_count": 14,
     "metadata": {},
     "output_type": "execute_result"
    }
   ],
   "source": [
    "m = np.arange(25).reshape(5,-1)\n",
    "m"
   ]
  },
  {
   "cell_type": "code",
   "execution_count": 15,
   "id": "ab88745f",
   "metadata": {},
   "outputs": [
    {
     "data": {
      "text/plain": [
       "array([[[ 0,  1,  2,  3,  4],\n",
       "        [ 5,  6,  7,  8,  9],\n",
       "        [10, 11, 12, 13, 14],\n",
       "        [15, 16, 17, 18, 19],\n",
       "        [20, 21, 22, 23, 24]],\n",
       "\n",
       "       [[25, 26, 27, 28, 29],\n",
       "        [30, 31, 32, 33, 34],\n",
       "        [35, 36, 37, 38, 39],\n",
       "        [40, 41, 42, 43, 44],\n",
       "        [45, 46, 47, 48, 49]]])"
      ]
     },
     "execution_count": 15,
     "metadata": {},
     "output_type": "execute_result"
    }
   ],
   "source": [
    "m = np.arange(50).reshape(2,5,5)\n",
    "m"
   ]
  },
  {
   "cell_type": "code",
   "execution_count": 16,
   "id": "0c6465d5",
   "metadata": {},
   "outputs": [
    {
     "data": {
      "text/plain": [
       "(2, 5, 5)"
      ]
     },
     "execution_count": 16,
     "metadata": {},
     "output_type": "execute_result"
    }
   ],
   "source": [
    "m.shape"
   ]
  },
  {
   "cell_type": "code",
   "execution_count": 17,
   "id": "5794b819",
   "metadata": {},
   "outputs": [
    {
     "data": {
      "text/plain": [
       "3"
      ]
     },
     "execution_count": 17,
     "metadata": {},
     "output_type": "execute_result"
    }
   ],
   "source": [
    "m.ndim"
   ]
  },
  {
   "cell_type": "code",
   "execution_count": 19,
   "id": "5c5c9b4e",
   "metadata": {},
   "outputs": [
    {
     "data": {
      "text/plain": [
       "array([[[4128860, 6029375, 3801187, 7667804, 6619251],\n",
       "        [7536754, 6357084, 7602286, 7209071, 6357084],\n",
       "        [7340144, 6357092, 6357108, 7471196, 6357103],\n",
       "        [6881389, 6750318, 7340124, 7602297, 7274600],\n",
       "        [6029422, 7929968, 6815860, 7209071, 3670067]],\n",
       "\n",
       "       [[7536732, 7602281, 2949221, 6357104, 7012451],\n",
       "        [6750305, 7536741, 7602268, 6357106, 7602281],\n",
       "        [6619244, 7536756, 6488156, 7209071, 6881382],\n",
       "        [6029415, 6226015, 7209065, 7602281, 6226015],\n",
       "        [7340078,     121, 6946816, 7274611,     110]]])"
      ]
     },
     "execution_count": 19,
     "metadata": {},
     "output_type": "execute_result"
    }
   ],
   "source": [
    "m2 = np.empty_like(m)\n",
    "m2"
   ]
  },
  {
   "cell_type": "code",
   "execution_count": 20,
   "id": "35358b42",
   "metadata": {},
   "outputs": [
    {
     "data": {
      "text/plain": [
       "array([[1., 0., 0., 0., 0.],\n",
       "       [0., 1., 0., 0., 0.],\n",
       "       [0., 0., 1., 0., 0.],\n",
       "       [0., 0., 0., 1., 0.],\n",
       "       [0., 0., 0., 0., 1.]])"
      ]
     },
     "execution_count": 20,
     "metadata": {},
     "output_type": "execute_result"
    }
   ],
   "source": [
    "np.eye(5)"
   ]
  },
  {
   "cell_type": "code",
   "execution_count": 22,
   "id": "eebdec4e",
   "metadata": {},
   "outputs": [
    {
     "name": "stdout",
     "output_type": "stream",
     "text": [
      "[ 0  1  2  3  4  5  6  7  8  9 10 11]\n",
      "[ 0  2  4  6  8 10 12 14 16 18 20 22]\n"
     ]
    }
   ],
   "source": [
    "arr1 = np.arange(12)\n",
    "arr2 = np.arange(0,24,2)\n",
    "print(arr1)\n",
    "print(arr2)"
   ]
  },
  {
   "cell_type": "code",
   "execution_count": 23,
   "id": "a7c84b6d",
   "metadata": {},
   "outputs": [
    {
     "data": {
      "text/plain": [
       "array([ 0,  3,  6,  9, 12, 15, 18, 21, 24, 27, 30, 33])"
      ]
     },
     "execution_count": 23,
     "metadata": {},
     "output_type": "execute_result"
    }
   ],
   "source": [
    "arr1 + arr2"
   ]
  },
  {
   "cell_type": "code",
   "execution_count": 24,
   "id": "a65789a4",
   "metadata": {},
   "outputs": [
    {
     "data": {
      "text/plain": [
       "array([  0,  20,  40,  60,  80, 100, 120, 140, 160, 180, 200, 220])"
      ]
     },
     "execution_count": 24,
     "metadata": {},
     "output_type": "execute_result"
    }
   ],
   "source": [
    "arr3 = arr2 * 10\n",
    "arr3"
   ]
  },
  {
   "cell_type": "code",
   "execution_count": 28,
   "id": "dfa129c9",
   "metadata": {},
   "outputs": [
    {
     "data": {
      "text/plain": [
       "array([ 6,  8, 10])"
      ]
     },
     "execution_count": 28,
     "metadata": {},
     "output_type": "execute_result"
    }
   ],
   "source": [
    "arr2[(arr2 >= 5) & (arr2 <= 10)]"
   ]
  },
  {
   "cell_type": "code",
   "execution_count": 26,
   "id": "fe80edda",
   "metadata": {},
   "outputs": [
    {
     "data": {
      "text/plain": [
       "array([False, False, False,  True,  True,  True,  True,  True,  True,\n",
       "        True,  True,  True])"
      ]
     },
     "execution_count": 26,
     "metadata": {},
     "output_type": "execute_result"
    }
   ],
   "source": [
    "arr2 > 5"
   ]
  },
  {
   "cell_type": "code",
   "execution_count": 29,
   "id": "6aecc733",
   "metadata": {},
   "outputs": [
    {
     "data": {
      "text/plain": [
       "array([False,  True,  True,  True,  True,  True,  True,  True,  True,\n",
       "        True,  True,  True])"
      ]
     },
     "execution_count": 29,
     "metadata": {},
     "output_type": "execute_result"
    }
   ],
   "source": [
    "arr1 < arr2"
   ]
  },
  {
   "cell_type": "code",
   "execution_count": 30,
   "id": "8d9559a7",
   "metadata": {},
   "outputs": [
    {
     "data": {
      "text/plain": [
       "array([[ 0,  1,  2,  3,  4],\n",
       "       [ 5,  6,  7,  8,  9],\n",
       "       [10, 11, 12, 13, 14],\n",
       "       [15, 16, 17, 18, 19],\n",
       "       [20, 21, 22, 23, 24]])"
      ]
     },
     "execution_count": 30,
     "metadata": {},
     "output_type": "execute_result"
    }
   ],
   "source": [
    "m = np.arange(25).reshape(5,5)\n",
    "m"
   ]
  },
  {
   "cell_type": "code",
   "execution_count": 31,
   "id": "6f7dce27",
   "metadata": {},
   "outputs": [
    {
     "data": {
      "text/plain": [
       "array([[ 6,  7,  8],\n",
       "       [11, 12, 13],\n",
       "       [16, 17, 18]])"
      ]
     },
     "execution_count": 31,
     "metadata": {},
     "output_type": "execute_result"
    }
   ],
   "source": [
    "m[1:-1,1:-1]"
   ]
  },
  {
   "cell_type": "code",
   "execution_count": 32,
   "id": "894c84f8",
   "metadata": {},
   "outputs": [
    {
     "data": {
      "text/plain": [
       "array([0, 1, 2, 3, 4])"
      ]
     },
     "execution_count": 32,
     "metadata": {},
     "output_type": "execute_result"
    }
   ],
   "source": [
    "m[0]"
   ]
  },
  {
   "cell_type": "code",
   "execution_count": 33,
   "id": "40f0caee",
   "metadata": {},
   "outputs": [
    {
     "data": {
      "text/plain": [
       "array([[ 0,  1,  2,  3,  4],\n",
       "       [10, 11, 12, 13, 14],\n",
       "       [15, 16, 17, 18, 19]])"
      ]
     },
     "execution_count": 33,
     "metadata": {},
     "output_type": "execute_result"
    }
   ],
   "source": [
    "m[[0,2,3]]"
   ]
  },
  {
   "cell_type": "code",
   "execution_count": 34,
   "id": "d3d9035a",
   "metadata": {},
   "outputs": [
    {
     "data": {
      "text/plain": [
       "array([[15, 16, 17, 18, 19],\n",
       "       [10, 11, 12, 13, 14],\n",
       "       [ 5,  6,  7,  8,  9]])"
      ]
     },
     "execution_count": 34,
     "metadata": {},
     "output_type": "execute_result"
    }
   ],
   "source": [
    "m[[3,2,1]]"
   ]
  },
  {
   "cell_type": "code",
   "execution_count": 35,
   "id": "a584a3a8",
   "metadata": {},
   "outputs": [
    {
     "data": {
      "text/plain": [
       "array([[ 0,  5, 10, 15, 20],\n",
       "       [ 1,  6, 11, 16, 21],\n",
       "       [ 2,  7, 12, 17, 22],\n",
       "       [ 3,  8, 13, 18, 23],\n",
       "       [ 4,  9, 14, 19, 24]])"
      ]
     },
     "execution_count": 35,
     "metadata": {},
     "output_type": "execute_result"
    }
   ],
   "source": [
    "m.T"
   ]
  },
  {
   "cell_type": "code",
   "execution_count": 36,
   "id": "2523d56a",
   "metadata": {},
   "outputs": [
    {
     "data": {
      "text/plain": [
       "array([[ 0,  1,  2,  3,  4],\n",
       "       [10, 11, 12, 13, 14],\n",
       "       [20, 21, 22, 23, 24]])"
      ]
     },
     "execution_count": 36,
     "metadata": {},
     "output_type": "execute_result"
    }
   ],
   "source": [
    "m[[True,False,True,False,True]]"
   ]
  },
  {
   "cell_type": "code",
   "execution_count": 38,
   "id": "ced200ea",
   "metadata": {},
   "outputs": [
    {
     "data": {
      "text/plain": [
       "array([ -3.78069116, -10.90256958,   2.23597343,   8.1199112 ,\n",
       "        -7.33122886])"
      ]
     },
     "execution_count": 38,
     "metadata": {},
     "output_type": "execute_result"
    }
   ],
   "source": [
    "x = np.random.randn(5)\n",
    "x = x * 10\n",
    "x"
   ]
  },
  {
   "cell_type": "code",
   "execution_count": 39,
   "id": "c6cb7118",
   "metadata": {},
   "outputs": [
    {
     "data": {
      "text/plain": [
       "array([17, 12,  6,  5, 14])"
      ]
     },
     "execution_count": 39,
     "metadata": {},
     "output_type": "execute_result"
    }
   ],
   "source": [
    "y = np.random.randint(1,20,5)\n",
    "y"
   ]
  },
  {
   "cell_type": "code",
   "execution_count": 40,
   "id": "ee3ff917",
   "metadata": {},
   "outputs": [
    {
     "data": {
      "text/plain": [
       "array([17.       , 12.       ,  6.       ,  8.1199112, 14.       ])"
      ]
     },
     "execution_count": 40,
     "metadata": {},
     "output_type": "execute_result"
    }
   ],
   "source": [
    "np.maximum(x,y)"
   ]
  },
  {
   "cell_type": "code",
   "execution_count": 41,
   "id": "dddaefa7",
   "metadata": {},
   "outputs": [
    {
     "data": {
      "text/plain": [
       "array([2., 4., 7., 6.])"
      ]
     },
     "execution_count": 41,
     "metadata": {},
     "output_type": "execute_result"
    }
   ],
   "source": [
    "np.ceil([1.1,3.5,6.7,5.5])"
   ]
  },
  {
   "cell_type": "code",
   "execution_count": 44,
   "id": "44a6449b",
   "metadata": {},
   "outputs": [
    {
     "data": {
      "text/plain": [
       "array([2., 4., 7., 6.])"
      ]
     },
     "execution_count": 44,
     "metadata": {},
     "output_type": "execute_result"
    }
   ],
   "source": [
    "np.ceil((1.1,3.5,6.7,5.5))"
   ]
  },
  {
   "cell_type": "code",
   "execution_count": 45,
   "id": "b6363027",
   "metadata": {},
   "outputs": [
    {
     "ename": "TypeError",
     "evalue": "must be real number, not set",
     "output_type": "error",
     "traceback": [
      "\u001b[1;31m---------------------------------------------------------------------------\u001b[0m",
      "\u001b[1;31mTypeError\u001b[0m                                 Traceback (most recent call last)",
      "\u001b[1;32m<ipython-input-45-5aef8b5e47eb>\u001b[0m in \u001b[0;36m<module>\u001b[1;34m\u001b[0m\n\u001b[1;32m----> 1\u001b[1;33m \u001b[0mnp\u001b[0m\u001b[1;33m.\u001b[0m\u001b[0mceil\u001b[0m\u001b[1;33m(\u001b[0m\u001b[1;33m{\u001b[0m\u001b[1;36m1.1\u001b[0m\u001b[1;33m,\u001b[0m\u001b[1;36m3.5\u001b[0m\u001b[1;33m,\u001b[0m\u001b[1;36m6.7\u001b[0m\u001b[1;33m,\u001b[0m\u001b[1;36m5.5\u001b[0m\u001b[1;33m}\u001b[0m\u001b[1;33m)\u001b[0m\u001b[1;33m\u001b[0m\u001b[1;33m\u001b[0m\u001b[0m\n\u001b[0m",
      "\u001b[1;31mTypeError\u001b[0m: must be real number, not set"
     ]
    }
   ],
   "source": [
    "np.ceil({1.1,3.5,6.7,5.5})"
   ]
  },
  {
   "cell_type": "code",
   "execution_count": 52,
   "id": "fa3ed07b",
   "metadata": {},
   "outputs": [
    {
     "data": {
      "text/plain": [
       "array([[ 0.37528578,  0.13502269, -0.13337173,  1.36050938,  0.24342967,\n",
       "         0.08260636],\n",
       "       [-0.27371657,  0.97523714,  1.94609459, -0.52499824,  0.15164921,\n",
       "        -0.05779974],\n",
       "       [ 0.23424168, -0.28880191, -0.72932655, -0.18497337, -0.229325  ,\n",
       "        -2.00901138],\n",
       "       [-1.86532679, -0.54767533, -1.12379029,  0.47347775, -0.29840161,\n",
       "         1.03803224]])"
      ]
     },
     "execution_count": 52,
     "metadata": {},
     "output_type": "execute_result"
    }
   ],
   "source": [
    "matriz = np.random.randn(4,6)\n",
    "matriz"
   ]
  },
  {
   "cell_type": "code",
   "execution_count": 53,
   "id": "625ed59b",
   "metadata": {},
   "outputs": [
    {
     "data": {
      "text/plain": [
       "array([[0.37528578, 0.13502269, 0.        , 1.36050938, 0.24342967,\n",
       "        0.08260636],\n",
       "       [0.        , 0.97523714, 1.94609459, 0.        , 0.15164921,\n",
       "        0.        ],\n",
       "       [0.23424168, 0.        , 0.        , 0.        , 0.        ,\n",
       "        0.        ],\n",
       "       [0.        , 0.        , 0.        , 0.47347775, 0.        ,\n",
       "        1.03803224]])"
      ]
     },
     "execution_count": 53,
     "metadata": {},
     "output_type": "execute_result"
    }
   ],
   "source": [
    "m2 = np.where(matriz > 0, matriz, 0)\n",
    "m2"
   ]
  },
  {
   "cell_type": "code",
   "execution_count": 54,
   "id": "90aa3121",
   "metadata": {},
   "outputs": [
    {
     "data": {
      "text/plain": [
       "array([[ 0.37528578,  0.13502269, -0.13      ,  1.36050938,  0.24342967,\n",
       "         0.08260636],\n",
       "       [-0.27      ,  0.97523714,  1.94609459, -0.52      ,  0.15164921,\n",
       "        -0.06      ],\n",
       "       [ 0.23424168, -0.29      , -0.73      , -0.18      , -0.23      ,\n",
       "        -2.01      ],\n",
       "       [-1.87      , -0.55      , -1.12      ,  0.47347775, -0.3       ,\n",
       "         1.03803224]])"
      ]
     },
     "execution_count": 54,
     "metadata": {},
     "output_type": "execute_result"
    }
   ],
   "source": [
    "m2 = np.where(matriz > 0, matriz, np.round(matriz,2))\n",
    "m2"
   ]
  },
  {
   "cell_type": "code",
   "execution_count": 55,
   "id": "aab2fa83",
   "metadata": {},
   "outputs": [
    {
     "data": {
      "text/plain": [
       "-1.2444135269648424"
      ]
     },
     "execution_count": 55,
     "metadata": {},
     "output_type": "execute_result"
    }
   ],
   "source": [
    "m2.sum()"
   ]
  },
  {
   "cell_type": "code",
   "execution_count": 56,
   "id": "e9c53bf0",
   "metadata": {},
   "outputs": [
    {
     "data": {
      "text/plain": [
       "array([-1.53047255,  0.27025983, -0.03390541,  1.13398713, -0.13492112,\n",
       "       -0.9493614 ])"
      ]
     },
     "execution_count": 56,
     "metadata": {},
     "output_type": "execute_result"
    }
   ],
   "source": [
    "m2.sum(axis=0)"
   ]
  },
  {
   "cell_type": "code",
   "execution_count": 57,
   "id": "930043ba",
   "metadata": {},
   "outputs": [
    {
     "data": {
      "text/plain": [
       "array([ 2.06685387,  2.22298094, -3.20575832, -2.32849001])"
      ]
     },
     "execution_count": 57,
     "metadata": {},
     "output_type": "execute_result"
    }
   ],
   "source": [
    "m2.sum(axis=1)"
   ]
  },
  {
   "cell_type": "code",
   "execution_count": 59,
   "id": "eda33774",
   "metadata": {},
   "outputs": [
    {
     "data": {
      "text/plain": [
       "11"
      ]
     },
     "execution_count": 59,
     "metadata": {},
     "output_type": "execute_result"
    }
   ],
   "source": [
    "# Contar los valores mayores de cero\n",
    "(m2 > 0).sum()"
   ]
  },
  {
   "cell_type": "code",
   "execution_count": 62,
   "id": "3fc4618f",
   "metadata": {},
   "outputs": [
    {
     "data": {
      "text/plain": [
       "83.49378754701056"
      ]
     },
     "execution_count": 62,
     "metadata": {},
     "output_type": "execute_result"
    }
   ],
   "source": [
    "x = np.random.randint (0, 50,1000)\n",
    "y = x + np.random.normal (0, 10,1000)\n",
    "m = np.corrcoef(x,y)\n",
    "m[0][1] * 100"
   ]
  },
  {
   "cell_type": "code",
   "execution_count": 63,
   "id": "e367e90a",
   "metadata": {},
   "outputs": [
    {
     "data": {
      "text/plain": [
       "Counter({16: 52,\n",
       "         2: 69,\n",
       "         0: 40,\n",
       "         3: 46,\n",
       "         5: 48,\n",
       "         1: 50,\n",
       "         17: 45,\n",
       "         13: 54,\n",
       "         19: 41,\n",
       "         8: 39,\n",
       "         4: 52,\n",
       "         18: 53,\n",
       "         7: 60,\n",
       "         6: 46,\n",
       "         10: 54,\n",
       "         9: 45,\n",
       "         14: 52,\n",
       "         12: 50,\n",
       "         11: 50,\n",
       "         15: 54})"
      ]
     },
     "execution_count": 63,
     "metadata": {},
     "output_type": "execute_result"
    }
   ],
   "source": [
    "from collections import Counter\n",
    "\n",
    "x = np.random.randint (0, 20, 1000)\n",
    "c = Counter(x)\n",
    "c"
   ]
  },
  {
   "cell_type": "code",
   "execution_count": 64,
   "id": "6ddc0706",
   "metadata": {},
   "outputs": [
    {
     "data": {
      "text/plain": [
       "array([[ 0.37528578,  0.13502269, -0.13      ,  1.36050938,  0.24342967,\n",
       "         0.08260636],\n",
       "       [-0.27      ,  0.97523714,  1.94609459, -0.52      ,  0.15164921,\n",
       "        -0.06      ],\n",
       "       [ 0.23424168, -0.29      , -0.73      , -0.18      , -0.23      ,\n",
       "        -2.01      ],\n",
       "       [-1.87      , -0.55      , -1.12      ,  0.47347775, -0.3       ,\n",
       "         1.03803224]])"
      ]
     },
     "execution_count": 64,
     "metadata": {},
     "output_type": "execute_result"
    }
   ],
   "source": [
    "m2"
   ]
  },
  {
   "cell_type": "code",
   "execution_count": 65,
   "id": "5eb6051d",
   "metadata": {},
   "outputs": [
    {
     "data": {
      "text/plain": [
       "array([[ True, False, False,  True, False, False],\n",
       "       [False,  True,  True, False, False, False],\n",
       "       [False, False, False, False, False, False],\n",
       "       [False, False, False,  True, False,  True]])"
      ]
     },
     "execution_count": 65,
     "metadata": {},
     "output_type": "execute_result"
    }
   ],
   "source": [
    "r = m2 > 0.3\n",
    "r"
   ]
  },
  {
   "cell_type": "code",
   "execution_count": 66,
   "id": "a595b078",
   "metadata": {},
   "outputs": [
    {
     "data": {
      "text/plain": [
       "True"
      ]
     },
     "execution_count": 66,
     "metadata": {},
     "output_type": "execute_result"
    }
   ],
   "source": [
    "r.any()"
   ]
  },
  {
   "cell_type": "code",
   "execution_count": 67,
   "id": "da5ae937",
   "metadata": {},
   "outputs": [
    {
     "data": {
      "text/plain": [
       "array([ 0.15780983,  0.93558107, -0.12489463,  1.23786341, -1.00859287,\n",
       "        1.03843281, -0.563701  ,  2.31550318, -0.23414164, -0.4587266 ])"
      ]
     },
     "execution_count": 67,
     "metadata": {},
     "output_type": "execute_result"
    }
   ],
   "source": [
    "arr1 = np.random.randn(10)\n",
    "arr1"
   ]
  },
  {
   "cell_type": "code",
   "execution_count": 68,
   "id": "30466e0b",
   "metadata": {},
   "outputs": [
    {
     "data": {
      "text/plain": [
       "array([-1.00859287, -0.563701  , -0.4587266 , -0.23414164, -0.12489463,\n",
       "        0.15780983,  0.93558107,  1.03843281,  1.23786341,  2.31550318])"
      ]
     },
     "execution_count": 68,
     "metadata": {},
     "output_type": "execute_result"
    }
   ],
   "source": [
    "arr2 = np.sort(arr1)\n",
    "arr2"
   ]
  },
  {
   "cell_type": "code",
   "execution_count": 69,
   "id": "da6f99a3",
   "metadata": {},
   "outputs": [
    {
     "data": {
      "text/plain": [
       "array([ 0.15780983,  0.93558107, -0.12489463,  1.23786341, -1.00859287,\n",
       "        1.03843281, -0.563701  ,  2.31550318, -0.23414164, -0.4587266 ])"
      ]
     },
     "execution_count": 69,
     "metadata": {},
     "output_type": "execute_result"
    }
   ],
   "source": [
    "arr1"
   ]
  },
  {
   "cell_type": "code",
   "execution_count": 70,
   "id": "7640b693",
   "metadata": {},
   "outputs": [],
   "source": [
    "arr1.sort()"
   ]
  },
  {
   "cell_type": "code",
   "execution_count": 71,
   "id": "62e7bff8",
   "metadata": {},
   "outputs": [
    {
     "data": {
      "text/plain": [
       "array([-1.00859287, -0.563701  , -0.4587266 , -0.23414164, -0.12489463,\n",
       "        0.15780983,  0.93558107,  1.03843281,  1.23786341,  2.31550318])"
      ]
     },
     "execution_count": 71,
     "metadata": {},
     "output_type": "execute_result"
    }
   ],
   "source": [
    "arr1"
   ]
  },
  {
   "cell_type": "code",
   "execution_count": 74,
   "id": "3c13c381",
   "metadata": {},
   "outputs": [],
   "source": [
    "m = np.random.randint(1,50, (20, 25))\n",
    "m2 = np.random.randint(1,50, (40, 100))"
   ]
  },
  {
   "cell_type": "code",
   "execution_count": 75,
   "id": "abc49cef",
   "metadata": {},
   "outputs": [],
   "source": [
    "np.savez_compressed(\"ficheros/matrices.npz\", m=m, m2=m2)"
   ]
  },
  {
   "cell_type": "code",
   "execution_count": 76,
   "id": "62c2b7cd",
   "metadata": {},
   "outputs": [],
   "source": [
    "resul = np.load(\"ficheros/matrices.npz\")\n",
    "m2_2 = resul[\"m2\"]"
   ]
  },
  {
   "cell_type": "code",
   "execution_count": 77,
   "id": "f83dcce2",
   "metadata": {},
   "outputs": [
    {
     "data": {
      "text/plain": [
       "True"
      ]
     },
     "execution_count": 77,
     "metadata": {},
     "output_type": "execute_result"
    }
   ],
   "source": [
    "np.all(m2 == m2_2)"
   ]
  },
  {
   "cell_type": "code",
   "execution_count": 79,
   "id": "038456b0",
   "metadata": {},
   "outputs": [],
   "source": [
    "np.savetxt(\"ficheros/matrices.csv\", m2, delimiter=\";\", fmt=\"%d\")"
   ]
  },
  {
   "cell_type": "code",
   "execution_count": null,
   "id": "3119f517",
   "metadata": {},
   "outputs": [],
   "source": []
  }
 ],
 "metadata": {
  "kernelspec": {
   "display_name": "Python 3 (ipykernel)",
   "language": "python",
   "name": "python3"
  },
  "language_info": {
   "codemirror_mode": {
    "name": "ipython",
    "version": 3
   },
   "file_extension": ".py",
   "mimetype": "text/x-python",
   "name": "python",
   "nbconvert_exporter": "python",
   "pygments_lexer": "ipython3",
   "version": "3.8.5"
  }
 },
 "nbformat": 4,
 "nbformat_minor": 5
}

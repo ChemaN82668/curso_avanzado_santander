{
 "cells": [
  {
   "cell_type": "markdown",
   "id": "806a0c4b",
   "metadata": {},
   "source": [
    "## Datos agrupados con pandas: group_by"
   ]
  },
  {
   "cell_type": "code",
   "execution_count": 1,
   "id": "b7c06fdc",
   "metadata": {},
   "outputs": [],
   "source": [
    "import pandas as pd"
   ]
  },
  {
   "cell_type": "code",
   "execution_count": 5,
   "id": "16a052db",
   "metadata": {},
   "outputs": [
    {
     "data": {
      "text/html": [
       "<div>\n",
       "<style scoped>\n",
       "    .dataframe tbody tr th:only-of-type {\n",
       "        vertical-align: middle;\n",
       "    }\n",
       "\n",
       "    .dataframe tbody tr th {\n",
       "        vertical-align: top;\n",
       "    }\n",
       "\n",
       "    .dataframe thead th {\n",
       "        text-align: right;\n",
       "    }\n",
       "</style>\n",
       "<table border=\"1\" class=\"dataframe\">\n",
       "  <thead>\n",
       "    <tr style=\"text-align: right;\">\n",
       "      <th></th>\n",
       "      <th>idpedido</th>\n",
       "      <th>cliente</th>\n",
       "      <th>importe</th>\n",
       "      <th>pais</th>\n",
       "      <th>empleado</th>\n",
       "      <th>cargo</th>\n",
       "      <th>empresa</th>\n",
       "    </tr>\n",
       "  </thead>\n",
       "  <tbody>\n",
       "    <tr>\n",
       "      <th>0</th>\n",
       "      <td>10248</td>\n",
       "      <td>WILMK</td>\n",
       "      <td>32.38</td>\n",
       "      <td>Finlandia</td>\n",
       "      <td>Buchanan</td>\n",
       "      <td>Gerente de ventas</td>\n",
       "      <td>Federal Shipping</td>\n",
       "    </tr>\n",
       "    <tr>\n",
       "      <th>1</th>\n",
       "      <td>10320</td>\n",
       "      <td>WARTH</td>\n",
       "      <td>34.57</td>\n",
       "      <td>Finlandia</td>\n",
       "      <td>Buchanan</td>\n",
       "      <td>Gerente de ventas</td>\n",
       "      <td>Federal Shipping</td>\n",
       "    </tr>\n",
       "    <tr>\n",
       "      <th>2</th>\n",
       "      <td>10333</td>\n",
       "      <td>WARTH</td>\n",
       "      <td>0.59</td>\n",
       "      <td>Finlandia</td>\n",
       "      <td>Buchanan</td>\n",
       "      <td>Gerente de ventas</td>\n",
       "      <td>Federal Shipping</td>\n",
       "    </tr>\n",
       "    <tr>\n",
       "      <th>3</th>\n",
       "      <td>10359</td>\n",
       "      <td>SEVES</td>\n",
       "      <td>288.43</td>\n",
       "      <td>Reino Unido</td>\n",
       "      <td>Buchanan</td>\n",
       "      <td>Gerente de ventas</td>\n",
       "      <td>Federal Shipping</td>\n",
       "    </tr>\n",
       "    <tr>\n",
       "      <th>4</th>\n",
       "      <td>10378</td>\n",
       "      <td>FOLKO</td>\n",
       "      <td>5.44</td>\n",
       "      <td>Suecia</td>\n",
       "      <td>Buchanan</td>\n",
       "      <td>Gerente de ventas</td>\n",
       "      <td>Federal Shipping</td>\n",
       "    </tr>\n",
       "  </tbody>\n",
       "</table>\n",
       "</div>"
      ],
      "text/plain": [
       "   idpedido cliente  importe         pais  empleado              cargo  \\\n",
       "0     10248   WILMK    32.38    Finlandia  Buchanan  Gerente de ventas   \n",
       "1     10320   WARTH    34.57    Finlandia  Buchanan  Gerente de ventas   \n",
       "2     10333   WARTH     0.59    Finlandia  Buchanan  Gerente de ventas   \n",
       "3     10359   SEVES   288.43  Reino Unido  Buchanan  Gerente de ventas   \n",
       "4     10378   FOLKO     5.44       Suecia  Buchanan  Gerente de ventas   \n",
       "\n",
       "            empresa  \n",
       "0  Federal Shipping  \n",
       "1  Federal Shipping  \n",
       "2  Federal Shipping  \n",
       "3  Federal Shipping  \n",
       "4  Federal Shipping  "
      ]
     },
     "execution_count": 5,
     "metadata": {},
     "output_type": "execute_result"
    }
   ],
   "source": [
    "path = \"ficheros/Pedidos.html\"\n",
    "L = pd.read_html(path)\n",
    "df = L[0]\n",
    "df.head()"
   ]
  },
  {
   "cell_type": "code",
   "execution_count": 6,
   "id": "3c76c6f2",
   "metadata": {},
   "outputs": [
    {
     "data": {
      "text/plain": [
       "pandas.core.groupby.generic.SeriesGroupBy"
      ]
     },
     "execution_count": 6,
     "metadata": {},
     "output_type": "execute_result"
    }
   ],
   "source": [
    "paises = df.importe.groupby(df.pais)\n",
    "type(paises)"
   ]
  },
  {
   "cell_type": "code",
   "execution_count": 8,
   "id": "c46980e8",
   "metadata": {},
   "outputs": [
    {
     "data": {
      "text/plain": [
       "pais\n",
       "Alemania          11283.28\n",
       "Argentina           598.58\n",
       "Austria            7391.50\n",
       "Belgica            1280.14\n",
       "Brasil             4880.19\n",
       "Canada             2198.09\n",
       "Dinamarca          1396.19\n",
       "Espanya             861.89\n",
       "Estados Unidos    13783.33\n",
       "Finlandia           943.27\n",
       "Francia            4205.46\n",
       "Irlanda            2755.24\n",
       "Italia              864.44\n",
       "Mexico             1122.78\n",
       "Noruega             275.50\n",
       "Polonia             163.70\n",
       "Portugal            643.53\n",
       "Reino Unido        2943.31\n",
       "Suecia             3248.56\n",
       "Suiza              1368.53\n",
       "Venezuela          2735.18\n",
       "Name: importe, dtype: float64"
      ]
     },
     "execution_count": 8,
     "metadata": {},
     "output_type": "execute_result"
    }
   ],
   "source": [
    "paises.sum()"
   ]
  },
  {
   "cell_type": "code",
   "execution_count": 9,
   "id": "6c090887",
   "metadata": {},
   "outputs": [],
   "source": [
    "paises_empresas = df.importe.groupby([df.pais, df.empresa])"
   ]
  },
  {
   "cell_type": "code",
   "execution_count": 10,
   "id": "f3322fa6",
   "metadata": {},
   "outputs": [
    {
     "data": {
      "text/plain": [
       "pais       empresa         \n",
       "Alemania   Federal Shipping    130.249643\n",
       "           Speedy Express       91.062500\n",
       "           United Package       73.959074\n",
       "Argentina  Federal Shipping     13.885000\n",
       "           Speedy Express       26.394000\n",
       "                                  ...    \n",
       "Suiza      Speedy Express       62.632500\n",
       "           United Package       61.597500\n",
       "Venezuela  Federal Shipping     58.532308\n",
       "           Speedy Express       48.314118\n",
       "           United Package       72.057500\n",
       "Name: importe, Length: 63, dtype: float64"
      ]
     },
     "execution_count": 10,
     "metadata": {},
     "output_type": "execute_result"
    }
   ],
   "source": [
    "paises_empresas.mean()"
   ]
  },
  {
   "cell_type": "code",
   "execution_count": null,
   "id": "6db56b66",
   "metadata": {},
   "outputs": [],
   "source": []
  }
 ],
 "metadata": {
  "kernelspec": {
   "display_name": "Python 3 (ipykernel)",
   "language": "python",
   "name": "python3"
  },
  "language_info": {
   "codemirror_mode": {
    "name": "ipython",
    "version": 3
   },
   "file_extension": ".py",
   "mimetype": "text/x-python",
   "name": "python",
   "nbconvert_exporter": "python",
   "pygments_lexer": "ipython3",
   "version": "3.8.5"
  }
 },
 "nbformat": 4,
 "nbformat_minor": 5
}

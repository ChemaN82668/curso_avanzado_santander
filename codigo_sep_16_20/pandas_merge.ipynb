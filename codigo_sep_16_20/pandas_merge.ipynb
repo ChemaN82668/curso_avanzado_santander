{
 "cells": [
  {
   "cell_type": "markdown",
   "id": "607361f4",
   "metadata": {},
   "source": [
    "# Merge de 3 dataframes"
   ]
  },
  {
   "cell_type": "code",
   "execution_count": 1,
   "id": "a76f4472",
   "metadata": {},
   "outputs": [],
   "source": [
    "import pandas as pd"
   ]
  },
  {
   "cell_type": "code",
   "execution_count": 2,
   "id": "80b06797",
   "metadata": {},
   "outputs": [],
   "source": [
    "path=\"../ficheros_curso/merge/\""
   ]
  },
  {
   "cell_type": "code",
   "execution_count": 3,
   "id": "dafa54e3",
   "metadata": {},
   "outputs": [
    {
     "data": {
      "text/plain": [
       "(830, 6)"
      ]
     },
     "execution_count": 3,
     "metadata": {},
     "output_type": "execute_result"
    }
   ],
   "source": [
    "dfPed = pd.read_csv(path+\"Pedidos.txt\", sep=\";\")\n",
    "dfPed.shape"
   ]
  },
  {
   "cell_type": "code",
   "execution_count": 4,
   "id": "b01c92b1",
   "metadata": {},
   "outputs": [
    {
     "data": {
      "text/plain": [
       "(9, 3)"
      ]
     },
     "execution_count": 4,
     "metadata": {},
     "output_type": "execute_result"
    }
   ],
   "source": [
    "dfEmp = pd.read_csv(path+\"Empleados.txt\", sep=\";\")\n",
    "dfEmp.shape"
   ]
  },
  {
   "cell_type": "code",
   "execution_count": 5,
   "id": "23dd1166",
   "metadata": {},
   "outputs": [
    {
     "data": {
      "text/plain": [
       "(3, 2)"
      ]
     },
     "execution_count": 5,
     "metadata": {},
     "output_type": "execute_result"
    }
   ],
   "source": [
    "dfEmpr = pd.read_csv(path+\"Empresas.txt\", sep=\";\")\n",
    "dfEmpr.shape"
   ]
  },
  {
   "cell_type": "code",
   "execution_count": 6,
   "id": "9f997cb2",
   "metadata": {},
   "outputs": [
    {
     "data": {
      "text/html": [
       "<div>\n",
       "<style scoped>\n",
       "    .dataframe tbody tr th:only-of-type {\n",
       "        vertical-align: middle;\n",
       "    }\n",
       "\n",
       "    .dataframe tbody tr th {\n",
       "        vertical-align: top;\n",
       "    }\n",
       "\n",
       "    .dataframe thead th {\n",
       "        text-align: right;\n",
       "    }\n",
       "</style>\n",
       "<table border=\"1\" class=\"dataframe\">\n",
       "  <thead>\n",
       "    <tr style=\"text-align: right;\">\n",
       "      <th></th>\n",
       "      <th>idpedido</th>\n",
       "      <th>cliente</th>\n",
       "      <th>idempleado</th>\n",
       "      <th>idempresa</th>\n",
       "      <th>importe</th>\n",
       "      <th>pais</th>\n",
       "      <th>id</th>\n",
       "      <th>nombre</th>\n",
       "      <th>cargo</th>\n",
       "    </tr>\n",
       "  </thead>\n",
       "  <tbody>\n",
       "    <tr>\n",
       "      <th>0</th>\n",
       "      <td>10248</td>\n",
       "      <td>WILMK</td>\n",
       "      <td>5</td>\n",
       "      <td>3</td>\n",
       "      <td>32.38</td>\n",
       "      <td>Finlandia</td>\n",
       "      <td>5</td>\n",
       "      <td>Buchanan</td>\n",
       "      <td>Gerente de ventas</td>\n",
       "    </tr>\n",
       "    <tr>\n",
       "      <th>1</th>\n",
       "      <td>10254</td>\n",
       "      <td>CHOPS</td>\n",
       "      <td>5</td>\n",
       "      <td>2</td>\n",
       "      <td>22.98</td>\n",
       "      <td>Suiza</td>\n",
       "      <td>5</td>\n",
       "      <td>Buchanan</td>\n",
       "      <td>Gerente de ventas</td>\n",
       "    </tr>\n",
       "    <tr>\n",
       "      <th>2</th>\n",
       "      <td>10269</td>\n",
       "      <td>WHITC</td>\n",
       "      <td>5</td>\n",
       "      <td>1</td>\n",
       "      <td>4.56</td>\n",
       "      <td>Estados Unidos</td>\n",
       "      <td>5</td>\n",
       "      <td>Buchanan</td>\n",
       "      <td>Gerente de ventas</td>\n",
       "    </tr>\n",
       "    <tr>\n",
       "      <th>3</th>\n",
       "      <td>10297</td>\n",
       "      <td>BLONP</td>\n",
       "      <td>5</td>\n",
       "      <td>2</td>\n",
       "      <td>5.74</td>\n",
       "      <td>Francia</td>\n",
       "      <td>5</td>\n",
       "      <td>Buchanan</td>\n",
       "      <td>Gerente de ventas</td>\n",
       "    </tr>\n",
       "    <tr>\n",
       "      <th>4</th>\n",
       "      <td>10320</td>\n",
       "      <td>WARTH</td>\n",
       "      <td>5</td>\n",
       "      <td>3</td>\n",
       "      <td>34.57</td>\n",
       "      <td>Finlandia</td>\n",
       "      <td>5</td>\n",
       "      <td>Buchanan</td>\n",
       "      <td>Gerente de ventas</td>\n",
       "    </tr>\n",
       "  </tbody>\n",
       "</table>\n",
       "</div>"
      ],
      "text/plain": [
       "   idpedido cliente  idempleado  idempresa  importe            pais  id  \\\n",
       "0     10248   WILMK           5          3    32.38       Finlandia   5   \n",
       "1     10254   CHOPS           5          2    22.98           Suiza   5   \n",
       "2     10269   WHITC           5          1     4.56  Estados Unidos   5   \n",
       "3     10297   BLONP           5          2     5.74         Francia   5   \n",
       "4     10320   WARTH           5          3    34.57       Finlandia   5   \n",
       "\n",
       "     nombre              cargo  \n",
       "0  Buchanan  Gerente de ventas  \n",
       "1  Buchanan  Gerente de ventas  \n",
       "2  Buchanan  Gerente de ventas  \n",
       "3  Buchanan  Gerente de ventas  \n",
       "4  Buchanan  Gerente de ventas  "
      ]
     },
     "execution_count": 6,
     "metadata": {},
     "output_type": "execute_result"
    }
   ],
   "source": [
    "dfTotal = pd.merge(dfPed, dfEmp, left_on=\"idempleado\", right_on=\"id\")\n",
    "dfTotal.head()"
   ]
  },
  {
   "cell_type": "code",
   "execution_count": 7,
   "id": "6632718a",
   "metadata": {},
   "outputs": [
    {
     "data": {
      "text/html": [
       "<div>\n",
       "<style scoped>\n",
       "    .dataframe tbody tr th:only-of-type {\n",
       "        vertical-align: middle;\n",
       "    }\n",
       "\n",
       "    .dataframe tbody tr th {\n",
       "        vertical-align: top;\n",
       "    }\n",
       "\n",
       "    .dataframe thead th {\n",
       "        text-align: right;\n",
       "    }\n",
       "</style>\n",
       "<table border=\"1\" class=\"dataframe\">\n",
       "  <thead>\n",
       "    <tr style=\"text-align: right;\">\n",
       "      <th></th>\n",
       "      <th>idpedido</th>\n",
       "      <th>cliente</th>\n",
       "      <th>idempleado</th>\n",
       "      <th>idempresa</th>\n",
       "      <th>importe</th>\n",
       "      <th>pais</th>\n",
       "      <th>id_x</th>\n",
       "      <th>nombre</th>\n",
       "      <th>cargo</th>\n",
       "      <th>id_y</th>\n",
       "      <th>empresa</th>\n",
       "    </tr>\n",
       "  </thead>\n",
       "  <tbody>\n",
       "    <tr>\n",
       "      <th>0</th>\n",
       "      <td>10248</td>\n",
       "      <td>WILMK</td>\n",
       "      <td>5</td>\n",
       "      <td>3</td>\n",
       "      <td>32.38</td>\n",
       "      <td>Finlandia</td>\n",
       "      <td>5</td>\n",
       "      <td>Buchanan</td>\n",
       "      <td>Gerente de ventas</td>\n",
       "      <td>3</td>\n",
       "      <td>Federal Shipping</td>\n",
       "    </tr>\n",
       "    <tr>\n",
       "      <th>1</th>\n",
       "      <td>10320</td>\n",
       "      <td>WARTH</td>\n",
       "      <td>5</td>\n",
       "      <td>3</td>\n",
       "      <td>34.57</td>\n",
       "      <td>Finlandia</td>\n",
       "      <td>5</td>\n",
       "      <td>Buchanan</td>\n",
       "      <td>Gerente de ventas</td>\n",
       "      <td>3</td>\n",
       "      <td>Federal Shipping</td>\n",
       "    </tr>\n",
       "    <tr>\n",
       "      <th>2</th>\n",
       "      <td>10333</td>\n",
       "      <td>WARTH</td>\n",
       "      <td>5</td>\n",
       "      <td>3</td>\n",
       "      <td>0.59</td>\n",
       "      <td>Finlandia</td>\n",
       "      <td>5</td>\n",
       "      <td>Buchanan</td>\n",
       "      <td>Gerente de ventas</td>\n",
       "      <td>3</td>\n",
       "      <td>Federal Shipping</td>\n",
       "    </tr>\n",
       "    <tr>\n",
       "      <th>3</th>\n",
       "      <td>10359</td>\n",
       "      <td>SEVES</td>\n",
       "      <td>5</td>\n",
       "      <td>3</td>\n",
       "      <td>288.43</td>\n",
       "      <td>Reino Unido</td>\n",
       "      <td>5</td>\n",
       "      <td>Buchanan</td>\n",
       "      <td>Gerente de ventas</td>\n",
       "      <td>3</td>\n",
       "      <td>Federal Shipping</td>\n",
       "    </tr>\n",
       "    <tr>\n",
       "      <th>4</th>\n",
       "      <td>10378</td>\n",
       "      <td>FOLKO</td>\n",
       "      <td>5</td>\n",
       "      <td>3</td>\n",
       "      <td>5.44</td>\n",
       "      <td>Suecia</td>\n",
       "      <td>5</td>\n",
       "      <td>Buchanan</td>\n",
       "      <td>Gerente de ventas</td>\n",
       "      <td>3</td>\n",
       "      <td>Federal Shipping</td>\n",
       "    </tr>\n",
       "  </tbody>\n",
       "</table>\n",
       "</div>"
      ],
      "text/plain": [
       "   idpedido cliente  idempleado  idempresa  importe         pais  id_x  \\\n",
       "0     10248   WILMK           5          3    32.38    Finlandia     5   \n",
       "1     10320   WARTH           5          3    34.57    Finlandia     5   \n",
       "2     10333   WARTH           5          3     0.59    Finlandia     5   \n",
       "3     10359   SEVES           5          3   288.43  Reino Unido     5   \n",
       "4     10378   FOLKO           5          3     5.44       Suecia     5   \n",
       "\n",
       "     nombre              cargo  id_y           empresa  \n",
       "0  Buchanan  Gerente de ventas     3  Federal Shipping  \n",
       "1  Buchanan  Gerente de ventas     3  Federal Shipping  \n",
       "2  Buchanan  Gerente de ventas     3  Federal Shipping  \n",
       "3  Buchanan  Gerente de ventas     3  Federal Shipping  \n",
       "4  Buchanan  Gerente de ventas     3  Federal Shipping  "
      ]
     },
     "execution_count": 7,
     "metadata": {},
     "output_type": "execute_result"
    }
   ],
   "source": [
    "dfTotal = dfTotal.merge(dfEmpr, left_on='idempresa', right_on='id')\n",
    "dfTotal.head()"
   ]
  },
  {
   "cell_type": "code",
   "execution_count": 8,
   "id": "2403add1",
   "metadata": {},
   "outputs": [
    {
     "data": {
      "text/html": [
       "<div>\n",
       "<style scoped>\n",
       "    .dataframe tbody tr th:only-of-type {\n",
       "        vertical-align: middle;\n",
       "    }\n",
       "\n",
       "    .dataframe tbody tr th {\n",
       "        vertical-align: top;\n",
       "    }\n",
       "\n",
       "    .dataframe thead th {\n",
       "        text-align: right;\n",
       "    }\n",
       "</style>\n",
       "<table border=\"1\" class=\"dataframe\">\n",
       "  <thead>\n",
       "    <tr style=\"text-align: right;\">\n",
       "      <th></th>\n",
       "      <th>idpedido</th>\n",
       "      <th>cliente</th>\n",
       "      <th>idempleado</th>\n",
       "      <th>idempresa</th>\n",
       "      <th>importe</th>\n",
       "      <th>pais</th>\n",
       "      <th>id_x</th>\n",
       "      <th>empleado</th>\n",
       "      <th>cargo</th>\n",
       "      <th>id_y</th>\n",
       "      <th>empresa</th>\n",
       "    </tr>\n",
       "  </thead>\n",
       "  <tbody>\n",
       "    <tr>\n",
       "      <th>0</th>\n",
       "      <td>10248</td>\n",
       "      <td>WILMK</td>\n",
       "      <td>5</td>\n",
       "      <td>3</td>\n",
       "      <td>32.38</td>\n",
       "      <td>Finlandia</td>\n",
       "      <td>5</td>\n",
       "      <td>Buchanan</td>\n",
       "      <td>Gerente de ventas</td>\n",
       "      <td>3</td>\n",
       "      <td>Federal Shipping</td>\n",
       "    </tr>\n",
       "    <tr>\n",
       "      <th>1</th>\n",
       "      <td>10320</td>\n",
       "      <td>WARTH</td>\n",
       "      <td>5</td>\n",
       "      <td>3</td>\n",
       "      <td>34.57</td>\n",
       "      <td>Finlandia</td>\n",
       "      <td>5</td>\n",
       "      <td>Buchanan</td>\n",
       "      <td>Gerente de ventas</td>\n",
       "      <td>3</td>\n",
       "      <td>Federal Shipping</td>\n",
       "    </tr>\n",
       "    <tr>\n",
       "      <th>2</th>\n",
       "      <td>10333</td>\n",
       "      <td>WARTH</td>\n",
       "      <td>5</td>\n",
       "      <td>3</td>\n",
       "      <td>0.59</td>\n",
       "      <td>Finlandia</td>\n",
       "      <td>5</td>\n",
       "      <td>Buchanan</td>\n",
       "      <td>Gerente de ventas</td>\n",
       "      <td>3</td>\n",
       "      <td>Federal Shipping</td>\n",
       "    </tr>\n",
       "    <tr>\n",
       "      <th>3</th>\n",
       "      <td>10359</td>\n",
       "      <td>SEVES</td>\n",
       "      <td>5</td>\n",
       "      <td>3</td>\n",
       "      <td>288.43</td>\n",
       "      <td>Reino Unido</td>\n",
       "      <td>5</td>\n",
       "      <td>Buchanan</td>\n",
       "      <td>Gerente de ventas</td>\n",
       "      <td>3</td>\n",
       "      <td>Federal Shipping</td>\n",
       "    </tr>\n",
       "    <tr>\n",
       "      <th>4</th>\n",
       "      <td>10378</td>\n",
       "      <td>FOLKO</td>\n",
       "      <td>5</td>\n",
       "      <td>3</td>\n",
       "      <td>5.44</td>\n",
       "      <td>Suecia</td>\n",
       "      <td>5</td>\n",
       "      <td>Buchanan</td>\n",
       "      <td>Gerente de ventas</td>\n",
       "      <td>3</td>\n",
       "      <td>Federal Shipping</td>\n",
       "    </tr>\n",
       "  </tbody>\n",
       "</table>\n",
       "</div>"
      ],
      "text/plain": [
       "   idpedido cliente  idempleado  idempresa  importe         pais  id_x  \\\n",
       "0     10248   WILMK           5          3    32.38    Finlandia     5   \n",
       "1     10320   WARTH           5          3    34.57    Finlandia     5   \n",
       "2     10333   WARTH           5          3     0.59    Finlandia     5   \n",
       "3     10359   SEVES           5          3   288.43  Reino Unido     5   \n",
       "4     10378   FOLKO           5          3     5.44       Suecia     5   \n",
       "\n",
       "   empleado              cargo  id_y           empresa  \n",
       "0  Buchanan  Gerente de ventas     3  Federal Shipping  \n",
       "1  Buchanan  Gerente de ventas     3  Federal Shipping  \n",
       "2  Buchanan  Gerente de ventas     3  Federal Shipping  \n",
       "3  Buchanan  Gerente de ventas     3  Federal Shipping  \n",
       "4  Buchanan  Gerente de ventas     3  Federal Shipping  "
      ]
     },
     "execution_count": 8,
     "metadata": {},
     "output_type": "execute_result"
    }
   ],
   "source": [
    "dfTotal.rename(columns={\"nombre\":\"empleado\"}, inplace=True)\n",
    "dfTotal.head()"
   ]
  },
  {
   "cell_type": "code",
   "execution_count": 9,
   "id": "286fe47b",
   "metadata": {},
   "outputs": [
    {
     "data": {
      "text/html": [
       "<div>\n",
       "<style scoped>\n",
       "    .dataframe tbody tr th:only-of-type {\n",
       "        vertical-align: middle;\n",
       "    }\n",
       "\n",
       "    .dataframe tbody tr th {\n",
       "        vertical-align: top;\n",
       "    }\n",
       "\n",
       "    .dataframe thead th {\n",
       "        text-align: right;\n",
       "    }\n",
       "</style>\n",
       "<table border=\"1\" class=\"dataframe\">\n",
       "  <thead>\n",
       "    <tr style=\"text-align: right;\">\n",
       "      <th></th>\n",
       "      <th>cliente</th>\n",
       "      <th>empleado</th>\n",
       "      <th>empresa</th>\n",
       "      <th>pais</th>\n",
       "      <th>importe</th>\n",
       "    </tr>\n",
       "  </thead>\n",
       "  <tbody>\n",
       "    <tr>\n",
       "      <th>0</th>\n",
       "      <td>WILMK</td>\n",
       "      <td>Buchanan</td>\n",
       "      <td>Federal Shipping</td>\n",
       "      <td>Finlandia</td>\n",
       "      <td>32.38</td>\n",
       "    </tr>\n",
       "    <tr>\n",
       "      <th>1</th>\n",
       "      <td>WARTH</td>\n",
       "      <td>Buchanan</td>\n",
       "      <td>Federal Shipping</td>\n",
       "      <td>Finlandia</td>\n",
       "      <td>34.57</td>\n",
       "    </tr>\n",
       "    <tr>\n",
       "      <th>2</th>\n",
       "      <td>WARTH</td>\n",
       "      <td>Buchanan</td>\n",
       "      <td>Federal Shipping</td>\n",
       "      <td>Finlandia</td>\n",
       "      <td>0.59</td>\n",
       "    </tr>\n",
       "    <tr>\n",
       "      <th>3</th>\n",
       "      <td>SEVES</td>\n",
       "      <td>Buchanan</td>\n",
       "      <td>Federal Shipping</td>\n",
       "      <td>Reino Unido</td>\n",
       "      <td>288.43</td>\n",
       "    </tr>\n",
       "    <tr>\n",
       "      <th>4</th>\n",
       "      <td>FOLKO</td>\n",
       "      <td>Buchanan</td>\n",
       "      <td>Federal Shipping</td>\n",
       "      <td>Suecia</td>\n",
       "      <td>5.44</td>\n",
       "    </tr>\n",
       "  </tbody>\n",
       "</table>\n",
       "</div>"
      ],
      "text/plain": [
       "  cliente  empleado           empresa         pais  importe\n",
       "0   WILMK  Buchanan  Federal Shipping    Finlandia    32.38\n",
       "1   WARTH  Buchanan  Federal Shipping    Finlandia    34.57\n",
       "2   WARTH  Buchanan  Federal Shipping    Finlandia     0.59\n",
       "3   SEVES  Buchanan  Federal Shipping  Reino Unido   288.43\n",
       "4   FOLKO  Buchanan  Federal Shipping       Suecia     5.44"
      ]
     },
     "execution_count": 9,
     "metadata": {},
     "output_type": "execute_result"
    }
   ],
   "source": [
    "dfTotal = dfTotal[['cliente','empleado','empresa','pais','importe']]\n",
    "dfTotal.head()"
   ]
  },
  {
   "cell_type": "code",
   "execution_count": 11,
   "id": "a0322f5c",
   "metadata": {},
   "outputs": [
    {
     "data": {
      "text/plain": [
       "pais\n",
       "Alemania          11283.28\n",
       "Argentina           598.58\n",
       "Austria            7391.50\n",
       "Belgica            1280.14\n",
       "Brasil             4880.19\n",
       "Canada             2198.09\n",
       "Dinamarca          1396.19\n",
       "Espanya             861.89\n",
       "Estados Unidos    13783.33\n",
       "Finlandia           943.27\n",
       "Francia            4205.46\n",
       "Irlanda            2755.24\n",
       "Italia              864.44\n",
       "Mexico             1122.78\n",
       "Noruega             275.50\n",
       "Polonia             163.70\n",
       "Portugal            643.53\n",
       "Reino Unido        2943.31\n",
       "Suecia             3248.56\n",
       "Suiza              1368.53\n",
       "Venezuela          2735.18\n",
       "Name: importe, dtype: float64"
      ]
     },
     "execution_count": 11,
     "metadata": {},
     "output_type": "execute_result"
    }
   ],
   "source": [
    "dfTotal.importe.groupby(dfTotal.pais).sum()"
   ]
  },
  {
   "cell_type": "code",
   "execution_count": 12,
   "id": "e51df686",
   "metadata": {},
   "outputs": [
    {
     "data": {
      "text/plain": [
       "empresa           pais       \n",
       "Federal Shipping  Alemania       3646.99\n",
       "                  Argentina        55.54\n",
       "                  Austria        2107.10\n",
       "                  Belgica         279.73\n",
       "                  Brasil          823.84\n",
       "                                  ...   \n",
       "United Package    Portugal        319.77\n",
       "                  Reino Unido    1233.68\n",
       "                  Suecia         1746.91\n",
       "                  Suiza           492.78\n",
       "                  Venezuela      1152.92\n",
       "Name: importe, Length: 63, dtype: float64"
      ]
     },
     "execution_count": 12,
     "metadata": {},
     "output_type": "execute_result"
    }
   ],
   "source": [
    "dfTotal.importe.groupby([dfTotal.empresa,dfTotal.pais]).sum()"
   ]
  },
  {
   "cell_type": "code",
   "execution_count": null,
   "id": "4f4de168",
   "metadata": {},
   "outputs": [],
   "source": []
  }
 ],
 "metadata": {
  "kernelspec": {
   "display_name": "Python 3 (ipykernel)",
   "language": "python",
   "name": "python3"
  },
  "language_info": {
   "codemirror_mode": {
    "name": "ipython",
    "version": 3
   },
   "file_extension": ".py",
   "mimetype": "text/x-python",
   "name": "python",
   "nbconvert_exporter": "python",
   "pygments_lexer": "ipython3",
   "version": "3.8.5"
  }
 },
 "nbformat": 4,
 "nbformat_minor": 5
}

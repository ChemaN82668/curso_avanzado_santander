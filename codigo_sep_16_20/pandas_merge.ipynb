{
 "cells": [
  {
   "cell_type": "markdown",
   "id": "28b814d0",
   "metadata": {},
   "source": [
    "# Merge de 3 dataframes"
   ]
  },
  {
   "cell_type": "code",
   "execution_count": 1,
   "id": "45354979",
   "metadata": {},
   "outputs": [],
   "source": [
    "import pandas as pd"
   ]
  },
  {
   "cell_type": "code",
   "execution_count": 2,
   "id": "aa7d5dde",
   "metadata": {},
   "outputs": [],
   "source": [
    "path=\"../ficheros_curso/merge/\""
   ]
  },
  {
   "cell_type": "code",
   "execution_count": 3,
   "id": "5d52c98f",
   "metadata": {},
   "outputs": [
    {
     "data": {
      "text/plain": [
       "(830, 6)"
      ]
     },
     "execution_count": 3,
     "metadata": {},
     "output_type": "execute_result"
    }
   ],
   "source": [
    "dfPed = pd.read_csv(path+\"Pedidos.txt\", sep=\";\")\n",
    "dfPed.shape"
   ]
  },
  {
   "cell_type": "code",
   "execution_count": 4,
   "id": "c2c0b5be",
   "metadata": {},
   "outputs": [
    {
     "data": {
      "text/plain": [
       "(9, 3)"
      ]
     },
     "execution_count": 4,
     "metadata": {},
     "output_type": "execute_result"
    }
   ],
   "source": [
    "dfEmp = pd.read_csv(path+\"Empleados.txt\", sep=\";\")\n",
    "dfEmp.shape"
   ]
  },
  {
   "cell_type": "code",
   "execution_count": 5,
   "id": "bd576063",
   "metadata": {},
   "outputs": [
    {
     "data": {
      "text/plain": [
       "(3, 2)"
      ]
     },
     "execution_count": 5,
     "metadata": {},
     "output_type": "execute_result"
    }
   ],
   "source": [
    "dfEmpr = pd.read_csv(path+\"Empresas.txt\", sep=\";\")\n",
    "dfEmpr.shape"
   ]
  },
  {
   "cell_type": "code",
   "execution_count": 6,
   "id": "902577b8",
   "metadata": {},
   "outputs": [
    {
     "data": {
      "text/html": [
       "<div>\n",
       "<style scoped>\n",
       "    .dataframe tbody tr th:only-of-type {\n",
       "        vertical-align: middle;\n",
       "    }\n",
       "\n",
       "    .dataframe tbody tr th {\n",
       "        vertical-align: top;\n",
       "    }\n",
       "\n",
       "    .dataframe thead th {\n",
       "        text-align: right;\n",
       "    }\n",
       "</style>\n",
       "<table border=\"1\" class=\"dataframe\">\n",
       "  <thead>\n",
       "    <tr style=\"text-align: right;\">\n",
       "      <th></th>\n",
       "      <th>idpedido</th>\n",
       "      <th>cliente</th>\n",
       "      <th>idempleado</th>\n",
       "      <th>idempresa</th>\n",
       "      <th>importe</th>\n",
       "      <th>pais</th>\n",
       "      <th>id</th>\n",
       "      <th>nombre</th>\n",
       "      <th>cargo</th>\n",
       "    </tr>\n",
       "  </thead>\n",
       "  <tbody>\n",
       "    <tr>\n",
       "      <th>0</th>\n",
       "      <td>10248</td>\n",
       "      <td>WILMK</td>\n",
       "      <td>5</td>\n",
       "      <td>3</td>\n",
       "      <td>32.38</td>\n",
       "      <td>Finlandia</td>\n",
       "      <td>5</td>\n",
       "      <td>Buchanan</td>\n",
       "      <td>Gerente de ventas</td>\n",
       "    </tr>\n",
       "    <tr>\n",
       "      <th>1</th>\n",
       "      <td>10254</td>\n",
       "      <td>CHOPS</td>\n",
       "      <td>5</td>\n",
       "      <td>2</td>\n",
       "      <td>22.98</td>\n",
       "      <td>Suiza</td>\n",
       "      <td>5</td>\n",
       "      <td>Buchanan</td>\n",
       "      <td>Gerente de ventas</td>\n",
       "    </tr>\n",
       "    <tr>\n",
       "      <th>2</th>\n",
       "      <td>10269</td>\n",
       "      <td>WHITC</td>\n",
       "      <td>5</td>\n",
       "      <td>1</td>\n",
       "      <td>4.56</td>\n",
       "      <td>Estados Unidos</td>\n",
       "      <td>5</td>\n",
       "      <td>Buchanan</td>\n",
       "      <td>Gerente de ventas</td>\n",
       "    </tr>\n",
       "    <tr>\n",
       "      <th>3</th>\n",
       "      <td>10297</td>\n",
       "      <td>BLONP</td>\n",
       "      <td>5</td>\n",
       "      <td>2</td>\n",
       "      <td>5.74</td>\n",
       "      <td>Francia</td>\n",
       "      <td>5</td>\n",
       "      <td>Buchanan</td>\n",
       "      <td>Gerente de ventas</td>\n",
       "    </tr>\n",
       "    <tr>\n",
       "      <th>4</th>\n",
       "      <td>10320</td>\n",
       "      <td>WARTH</td>\n",
       "      <td>5</td>\n",
       "      <td>3</td>\n",
       "      <td>34.57</td>\n",
       "      <td>Finlandia</td>\n",
       "      <td>5</td>\n",
       "      <td>Buchanan</td>\n",
       "      <td>Gerente de ventas</td>\n",
       "    </tr>\n",
       "  </tbody>\n",
       "</table>\n",
       "</div>"
      ],
      "text/plain": [
       "   idpedido cliente  idempleado  idempresa  importe            pais  id  \\\n",
       "0     10248   WILMK           5          3    32.38       Finlandia   5   \n",
       "1     10254   CHOPS           5          2    22.98           Suiza   5   \n",
       "2     10269   WHITC           5          1     4.56  Estados Unidos   5   \n",
       "3     10297   BLONP           5          2     5.74         Francia   5   \n",
       "4     10320   WARTH           5          3    34.57       Finlandia   5   \n",
       "\n",
       "     nombre              cargo  \n",
       "0  Buchanan  Gerente de ventas  \n",
       "1  Buchanan  Gerente de ventas  \n",
       "2  Buchanan  Gerente de ventas  \n",
       "3  Buchanan  Gerente de ventas  \n",
       "4  Buchanan  Gerente de ventas  "
      ]
     },
     "execution_count": 6,
     "metadata": {},
     "output_type": "execute_result"
    }
   ],
   "source": [
    "dfTotal = pd.merge(dfPed, dfEmp, left_on=\"idempleado\", right_on=\"id\")\n",
    "dfTotal.head()"
   ]
  },
  {
   "cell_type": "code",
   "execution_count": 7,
   "id": "a6e1e88f",
   "metadata": {},
   "outputs": [
    {
     "data": {
      "text/html": [
       "<div>\n",
       "<style scoped>\n",
       "    .dataframe tbody tr th:only-of-type {\n",
       "        vertical-align: middle;\n",
       "    }\n",
       "\n",
       "    .dataframe tbody tr th {\n",
       "        vertical-align: top;\n",
       "    }\n",
       "\n",
       "    .dataframe thead th {\n",
       "        text-align: right;\n",
       "    }\n",
       "</style>\n",
       "<table border=\"1\" class=\"dataframe\">\n",
       "  <thead>\n",
       "    <tr style=\"text-align: right;\">\n",
       "      <th></th>\n",
       "      <th>idpedido</th>\n",
       "      <th>cliente</th>\n",
       "      <th>idempleado</th>\n",
       "      <th>idempresa</th>\n",
       "      <th>importe</th>\n",
       "      <th>pais</th>\n",
       "      <th>id_x</th>\n",
       "      <th>nombre</th>\n",
       "      <th>cargo</th>\n",
       "      <th>id_y</th>\n",
       "      <th>empresa</th>\n",
       "    </tr>\n",
       "  </thead>\n",
       "  <tbody>\n",
       "    <tr>\n",
       "      <th>0</th>\n",
       "      <td>10248</td>\n",
       "      <td>WILMK</td>\n",
       "      <td>5</td>\n",
       "      <td>3</td>\n",
       "      <td>32.38</td>\n",
       "      <td>Finlandia</td>\n",
       "      <td>5</td>\n",
       "      <td>Buchanan</td>\n",
       "      <td>Gerente de ventas</td>\n",
       "      <td>3</td>\n",
       "      <td>Federal Shipping</td>\n",
       "    </tr>\n",
       "    <tr>\n",
       "      <th>1</th>\n",
       "      <td>10320</td>\n",
       "      <td>WARTH</td>\n",
       "      <td>5</td>\n",
       "      <td>3</td>\n",
       "      <td>34.57</td>\n",
       "      <td>Finlandia</td>\n",
       "      <td>5</td>\n",
       "      <td>Buchanan</td>\n",
       "      <td>Gerente de ventas</td>\n",
       "      <td>3</td>\n",
       "      <td>Federal Shipping</td>\n",
       "    </tr>\n",
       "    <tr>\n",
       "      <th>2</th>\n",
       "      <td>10333</td>\n",
       "      <td>WARTH</td>\n",
       "      <td>5</td>\n",
       "      <td>3</td>\n",
       "      <td>0.59</td>\n",
       "      <td>Finlandia</td>\n",
       "      <td>5</td>\n",
       "      <td>Buchanan</td>\n",
       "      <td>Gerente de ventas</td>\n",
       "      <td>3</td>\n",
       "      <td>Federal Shipping</td>\n",
       "    </tr>\n",
       "    <tr>\n",
       "      <th>3</th>\n",
       "      <td>10359</td>\n",
       "      <td>SEVES</td>\n",
       "      <td>5</td>\n",
       "      <td>3</td>\n",
       "      <td>288.43</td>\n",
       "      <td>Reino Unido</td>\n",
       "      <td>5</td>\n",
       "      <td>Buchanan</td>\n",
       "      <td>Gerente de ventas</td>\n",
       "      <td>3</td>\n",
       "      <td>Federal Shipping</td>\n",
       "    </tr>\n",
       "    <tr>\n",
       "      <th>4</th>\n",
       "      <td>10378</td>\n",
       "      <td>FOLKO</td>\n",
       "      <td>5</td>\n",
       "      <td>3</td>\n",
       "      <td>5.44</td>\n",
       "      <td>Suecia</td>\n",
       "      <td>5</td>\n",
       "      <td>Buchanan</td>\n",
       "      <td>Gerente de ventas</td>\n",
       "      <td>3</td>\n",
       "      <td>Federal Shipping</td>\n",
       "    </tr>\n",
       "  </tbody>\n",
       "</table>\n",
       "</div>"
      ],
      "text/plain": [
       "   idpedido cliente  idempleado  idempresa  importe         pais  id_x  \\\n",
       "0     10248   WILMK           5          3    32.38    Finlandia     5   \n",
       "1     10320   WARTH           5          3    34.57    Finlandia     5   \n",
       "2     10333   WARTH           5          3     0.59    Finlandia     5   \n",
       "3     10359   SEVES           5          3   288.43  Reino Unido     5   \n",
       "4     10378   FOLKO           5          3     5.44       Suecia     5   \n",
       "\n",
       "     nombre              cargo  id_y           empresa  \n",
       "0  Buchanan  Gerente de ventas     3  Federal Shipping  \n",
       "1  Buchanan  Gerente de ventas     3  Federal Shipping  \n",
       "2  Buchanan  Gerente de ventas     3  Federal Shipping  \n",
       "3  Buchanan  Gerente de ventas     3  Federal Shipping  \n",
       "4  Buchanan  Gerente de ventas     3  Federal Shipping  "
      ]
     },
     "execution_count": 7,
     "metadata": {},
     "output_type": "execute_result"
    }
   ],
   "source": [
    "dfTotal = dfTotal.merge(dfEmpr, left_on='idempresa', right_on='id')\n",
    "dfTotal.head()"
   ]
  },
  {
   "cell_type": "code",
   "execution_count": 8,
   "id": "fd595280",
   "metadata": {},
   "outputs": [
    {
     "data": {
      "text/html": [
       "<div>\n",
       "<style scoped>\n",
       "    .dataframe tbody tr th:only-of-type {\n",
       "        vertical-align: middle;\n",
       "    }\n",
       "\n",
       "    .dataframe tbody tr th {\n",
       "        vertical-align: top;\n",
       "    }\n",
       "\n",
       "    .dataframe thead th {\n",
       "        text-align: right;\n",
       "    }\n",
       "</style>\n",
       "<table border=\"1\" class=\"dataframe\">\n",
       "  <thead>\n",
       "    <tr style=\"text-align: right;\">\n",
       "      <th></th>\n",
       "      <th>idpedido</th>\n",
       "      <th>cliente</th>\n",
       "      <th>idempleado</th>\n",
       "      <th>idempresa</th>\n",
       "      <th>importe</th>\n",
       "      <th>pais</th>\n",
       "      <th>id_x</th>\n",
       "      <th>empleado</th>\n",
       "      <th>cargo</th>\n",
       "      <th>id_y</th>\n",
       "      <th>empresa</th>\n",
       "    </tr>\n",
       "  </thead>\n",
       "  <tbody>\n",
       "    <tr>\n",
       "      <th>0</th>\n",
       "      <td>10248</td>\n",
       "      <td>WILMK</td>\n",
       "      <td>5</td>\n",
       "      <td>3</td>\n",
       "      <td>32.38</td>\n",
       "      <td>Finlandia</td>\n",
       "      <td>5</td>\n",
       "      <td>Buchanan</td>\n",
       "      <td>Gerente de ventas</td>\n",
       "      <td>3</td>\n",
       "      <td>Federal Shipping</td>\n",
       "    </tr>\n",
       "    <tr>\n",
       "      <th>1</th>\n",
       "      <td>10320</td>\n",
       "      <td>WARTH</td>\n",
       "      <td>5</td>\n",
       "      <td>3</td>\n",
       "      <td>34.57</td>\n",
       "      <td>Finlandia</td>\n",
       "      <td>5</td>\n",
       "      <td>Buchanan</td>\n",
       "      <td>Gerente de ventas</td>\n",
       "      <td>3</td>\n",
       "      <td>Federal Shipping</td>\n",
       "    </tr>\n",
       "    <tr>\n",
       "      <th>2</th>\n",
       "      <td>10333</td>\n",
       "      <td>WARTH</td>\n",
       "      <td>5</td>\n",
       "      <td>3</td>\n",
       "      <td>0.59</td>\n",
       "      <td>Finlandia</td>\n",
       "      <td>5</td>\n",
       "      <td>Buchanan</td>\n",
       "      <td>Gerente de ventas</td>\n",
       "      <td>3</td>\n",
       "      <td>Federal Shipping</td>\n",
       "    </tr>\n",
       "    <tr>\n",
       "      <th>3</th>\n",
       "      <td>10359</td>\n",
       "      <td>SEVES</td>\n",
       "      <td>5</td>\n",
       "      <td>3</td>\n",
       "      <td>288.43</td>\n",
       "      <td>Reino Unido</td>\n",
       "      <td>5</td>\n",
       "      <td>Buchanan</td>\n",
       "      <td>Gerente de ventas</td>\n",
       "      <td>3</td>\n",
       "      <td>Federal Shipping</td>\n",
       "    </tr>\n",
       "    <tr>\n",
       "      <th>4</th>\n",
       "      <td>10378</td>\n",
       "      <td>FOLKO</td>\n",
       "      <td>5</td>\n",
       "      <td>3</td>\n",
       "      <td>5.44</td>\n",
       "      <td>Suecia</td>\n",
       "      <td>5</td>\n",
       "      <td>Buchanan</td>\n",
       "      <td>Gerente de ventas</td>\n",
       "      <td>3</td>\n",
       "      <td>Federal Shipping</td>\n",
       "    </tr>\n",
       "  </tbody>\n",
       "</table>\n",
       "</div>"
      ],
      "text/plain": [
       "   idpedido cliente  idempleado  idempresa  importe         pais  id_x  \\\n",
       "0     10248   WILMK           5          3    32.38    Finlandia     5   \n",
       "1     10320   WARTH           5          3    34.57    Finlandia     5   \n",
       "2     10333   WARTH           5          3     0.59    Finlandia     5   \n",
       "3     10359   SEVES           5          3   288.43  Reino Unido     5   \n",
       "4     10378   FOLKO           5          3     5.44       Suecia     5   \n",
       "\n",
       "   empleado              cargo  id_y           empresa  \n",
       "0  Buchanan  Gerente de ventas     3  Federal Shipping  \n",
       "1  Buchanan  Gerente de ventas     3  Federal Shipping  \n",
       "2  Buchanan  Gerente de ventas     3  Federal Shipping  \n",
       "3  Buchanan  Gerente de ventas     3  Federal Shipping  \n",
       "4  Buchanan  Gerente de ventas     3  Federal Shipping  "
      ]
     },
     "execution_count": 8,
     "metadata": {},
     "output_type": "execute_result"
    }
   ],
   "source": [
    "dfTotal.rename(columns={\"nombre\":\"empleado\"}, inplace=True)\n",
    "dfTotal.head()"
   ]
  },
  {
   "cell_type": "code",
   "execution_count": 9,
   "id": "771de6dd",
   "metadata": {},
   "outputs": [
    {
     "data": {
      "text/html": [
       "<div>\n",
       "<style scoped>\n",
       "    .dataframe tbody tr th:only-of-type {\n",
       "        vertical-align: middle;\n",
       "    }\n",
       "\n",
       "    .dataframe tbody tr th {\n",
       "        vertical-align: top;\n",
       "    }\n",
       "\n",
       "    .dataframe thead th {\n",
       "        text-align: right;\n",
       "    }\n",
       "</style>\n",
       "<table border=\"1\" class=\"dataframe\">\n",
       "  <thead>\n",
       "    <tr style=\"text-align: right;\">\n",
       "      <th></th>\n",
       "      <th>cliente</th>\n",
       "      <th>empleado</th>\n",
       "      <th>empresa</th>\n",
       "      <th>pais</th>\n",
       "      <th>importe</th>\n",
       "    </tr>\n",
       "  </thead>\n",
       "  <tbody>\n",
       "    <tr>\n",
       "      <th>0</th>\n",
       "      <td>WILMK</td>\n",
       "      <td>Buchanan</td>\n",
       "      <td>Federal Shipping</td>\n",
       "      <td>Finlandia</td>\n",
       "      <td>32.38</td>\n",
       "    </tr>\n",
       "    <tr>\n",
       "      <th>1</th>\n",
       "      <td>WARTH</td>\n",
       "      <td>Buchanan</td>\n",
       "      <td>Federal Shipping</td>\n",
       "      <td>Finlandia</td>\n",
       "      <td>34.57</td>\n",
       "    </tr>\n",
       "    <tr>\n",
       "      <th>2</th>\n",
       "      <td>WARTH</td>\n",
       "      <td>Buchanan</td>\n",
       "      <td>Federal Shipping</td>\n",
       "      <td>Finlandia</td>\n",
       "      <td>0.59</td>\n",
       "    </tr>\n",
       "    <tr>\n",
       "      <th>3</th>\n",
       "      <td>SEVES</td>\n",
       "      <td>Buchanan</td>\n",
       "      <td>Federal Shipping</td>\n",
       "      <td>Reino Unido</td>\n",
       "      <td>288.43</td>\n",
       "    </tr>\n",
       "    <tr>\n",
       "      <th>4</th>\n",
       "      <td>FOLKO</td>\n",
       "      <td>Buchanan</td>\n",
       "      <td>Federal Shipping</td>\n",
       "      <td>Suecia</td>\n",
       "      <td>5.44</td>\n",
       "    </tr>\n",
       "  </tbody>\n",
       "</table>\n",
       "</div>"
      ],
      "text/plain": [
       "  cliente  empleado           empresa         pais  importe\n",
       "0   WILMK  Buchanan  Federal Shipping    Finlandia    32.38\n",
       "1   WARTH  Buchanan  Federal Shipping    Finlandia    34.57\n",
       "2   WARTH  Buchanan  Federal Shipping    Finlandia     0.59\n",
       "3   SEVES  Buchanan  Federal Shipping  Reino Unido   288.43\n",
       "4   FOLKO  Buchanan  Federal Shipping       Suecia     5.44"
      ]
     },
     "execution_count": 9,
     "metadata": {},
     "output_type": "execute_result"
    }
   ],
   "source": [
    "dfTotal = dfTotal[['cliente','empleado','empresa','pais','importe']]\n",
    "dfTotal.head()"
   ]
  },
  {
   "cell_type": "code",
   "execution_count": 15,
   "id": "5432c3f2",
   "metadata": {},
   "outputs": [
    {
     "data": {
      "text/plain": [
       "pandas.core.groupby.generic.SeriesGroupBy"
      ]
     },
     "execution_count": 15,
     "metadata": {},
     "output_type": "execute_result"
    }
   ],
   "source": [
    "grupo = dfTotal.importe.groupby(dfTotal.pais)\n",
    "type(grupo)"
   ]
  },
  {
   "cell_type": "code",
   "execution_count": 16,
   "id": "64a94af9",
   "metadata": {},
   "outputs": [
    {
     "data": {
      "text/plain": [
       "pais\n",
       "Alemania           92.485902\n",
       "Argentina          37.411250\n",
       "Austria           184.787500\n",
       "Belgica            67.375789\n",
       "Brasil             58.797470\n",
       "Canada             73.269667\n",
       "Dinamarca          77.566111\n",
       "Espanya            37.473478\n",
       "Estados Unidos    112.059593\n",
       "Finlandia          41.011739\n",
       "Francia            55.335000\n",
       "Irlanda           145.012632\n",
       "Italia             30.872857\n",
       "Mexico             40.099286\n",
       "Noruega            45.916667\n",
       "Polonia            27.283333\n",
       "Portugal           49.502308\n",
       "Reino Unido        53.514727\n",
       "Suecia             85.488421\n",
       "Suiza              76.029444\n",
       "Venezuela          59.460435\n",
       "Name: importe, dtype: float64"
      ]
     },
     "execution_count": 16,
     "metadata": {},
     "output_type": "execute_result"
    }
   ],
   "source": [
    "grupo.mean()"
   ]
  },
  {
   "cell_type": "code",
   "execution_count": 11,
   "id": "3ed1f0cb",
   "metadata": {},
   "outputs": [
    {
     "data": {
      "text/plain": [
       "pais\n",
       "Alemania          11283.28\n",
       "Argentina           598.58\n",
       "Austria            7391.50\n",
       "Belgica            1280.14\n",
       "Brasil             4880.19\n",
       "Canada             2198.09\n",
       "Dinamarca          1396.19\n",
       "Espanya             861.89\n",
       "Estados Unidos    13783.33\n",
       "Finlandia           943.27\n",
       "Francia            4205.46\n",
       "Irlanda            2755.24\n",
       "Italia              864.44\n",
       "Mexico             1122.78\n",
       "Noruega             275.50\n",
       "Polonia             163.70\n",
       "Portugal            643.53\n",
       "Reino Unido        2943.31\n",
       "Suecia             3248.56\n",
       "Suiza              1368.53\n",
       "Venezuela          2735.18\n",
       "Name: importe, dtype: float64"
      ]
     },
     "execution_count": 11,
     "metadata": {},
     "output_type": "execute_result"
    }
   ],
   "source": [
    "dfTotal.importe.groupby(dfTotal.pais).sum()"
   ]
  },
  {
   "cell_type": "code",
   "execution_count": 13,
   "id": "547733e8",
   "metadata": {},
   "outputs": [],
   "source": [
    "pd.set_option(\"display.max_rows\", None)"
   ]
  },
  {
   "cell_type": "code",
   "execution_count": 14,
   "id": "d887eccb",
   "metadata": {},
   "outputs": [
    {
     "data": {
      "text/plain": [
       "empresa           pais          \n",
       "Federal Shipping  Alemania          3646.99\n",
       "                  Argentina           55.54\n",
       "                  Austria           2107.10\n",
       "                  Belgica            279.73\n",
       "                  Brasil             823.84\n",
       "                  Canada             848.29\n",
       "                  Dinamarca          390.44\n",
       "                  Espanya            128.52\n",
       "                  Estados Unidos    5710.03\n",
       "                  Finlandia          265.68\n",
       "                  Francia           1790.99\n",
       "                  Irlanda            602.12\n",
       "                  Italia             203.36\n",
       "                  Mexico             418.34\n",
       "                  Noruega             38.64\n",
       "                  Polonia             54.02\n",
       "                  Portugal           256.04\n",
       "                  Reino Unido        973.75\n",
       "                  Suecia             532.95\n",
       "                  Suiza              625.22\n",
       "                  Venezuela          760.92\n",
       "Speedy Express    Alemania          3642.50\n",
       "                  Argentina          131.97\n",
       "                  Austria           2218.57\n",
       "                  Belgica            269.00\n",
       "                  Brasil            1542.92\n",
       "                  Canada             284.10\n",
       "                  Dinamarca          400.84\n",
       "                  Espanya            185.33\n",
       "                  Estados Unidos    2294.72\n",
       "                  Finlandia          278.01\n",
       "                  Francia           1149.98\n",
       "                  Irlanda            262.71\n",
       "                  Italia             452.65\n",
       "                  Mexico             176.31\n",
       "                  Noruega             13.37\n",
       "                  Polonia              8.72\n",
       "                  Portugal            67.72\n",
       "                  Reino Unido        735.88\n",
       "                  Suecia             968.70\n",
       "                  Suiza              250.53\n",
       "                  Venezuela          821.34\n",
       "United Package    Alemania          3993.79\n",
       "                  Argentina          411.07\n",
       "                  Austria           3065.83\n",
       "                  Belgica            731.41\n",
       "                  Brasil            2513.43\n",
       "                  Canada            1065.70\n",
       "                  Dinamarca          604.91\n",
       "                  Espanya            548.04\n",
       "                  Estados Unidos    5778.58\n",
       "                  Finlandia          399.58\n",
       "                  Francia           1264.49\n",
       "                  Irlanda           1890.41\n",
       "                  Italia             208.43\n",
       "                  Mexico             528.13\n",
       "                  Noruega            223.49\n",
       "                  Polonia            100.96\n",
       "                  Portugal           319.77\n",
       "                  Reino Unido       1233.68\n",
       "                  Suecia            1746.91\n",
       "                  Suiza              492.78\n",
       "                  Venezuela         1152.92\n",
       "Name: importe, dtype: float64"
      ]
     },
     "execution_count": 14,
     "metadata": {},
     "output_type": "execute_result"
    }
   ],
   "source": [
    "dfTotal.importe.groupby([dfTotal.empresa,dfTotal.pais]).sum()"
   ]
  },
  {
   "cell_type": "code",
   "execution_count": null,
   "id": "4e0aea61",
   "metadata": {},
   "outputs": [],
   "source": []
  }
 ],
 "metadata": {
  "kernelspec": {
   "display_name": "Python 3 (ipykernel)",
   "language": "python",
   "name": "python3"
  },
  "language_info": {
   "codemirror_mode": {
    "name": "ipython",
    "version": 3
   },
   "file_extension": ".py",
   "mimetype": "text/x-python",
   "name": "python",
   "nbconvert_exporter": "python",
   "pygments_lexer": "ipython3",
   "version": "3.8.5"
  }
 },
 "nbformat": 4,
 "nbformat_minor": 5
}

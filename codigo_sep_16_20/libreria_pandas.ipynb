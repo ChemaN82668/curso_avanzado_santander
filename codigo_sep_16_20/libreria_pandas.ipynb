{
 "cells": [
  {
   "cell_type": "markdown",
   "id": "79bd208a",
   "metadata": {},
   "source": [
    "# Librería pandas"
   ]
  },
  {
   "cell_type": "code",
   "execution_count": 1,
   "id": "aab8243c",
   "metadata": {},
   "outputs": [],
   "source": [
    "import numpy as np\n",
    "import pandas as pd\n",
    "from pandas import Series, DataFrame"
   ]
  },
  {
   "cell_type": "code",
   "execution_count": 2,
   "id": "0817f2a5",
   "metadata": {},
   "outputs": [
    {
     "data": {
      "text/plain": [
       "'2.0.3'"
      ]
     },
     "execution_count": 2,
     "metadata": {},
     "output_type": "execute_result"
    }
   ],
   "source": [
    "pd.__version__"
   ]
  },
  {
   "cell_type": "markdown",
   "id": "d16969c6",
   "metadata": {},
   "source": [
    "## Objeto Series"
   ]
  },
  {
   "cell_type": "code",
   "execution_count": 3,
   "id": "6d79429f",
   "metadata": {},
   "outputs": [
    {
     "data": {
      "text/plain": [
       "0    10\n",
       "1     2\n",
       "2     3\n",
       "3     4\n",
       "4     6\n",
       "dtype: int64"
      ]
     },
     "execution_count": 3,
     "metadata": {},
     "output_type": "execute_result"
    }
   ],
   "source": [
    "s1 = Series([10,2,3,4,6])\n",
    "s1"
   ]
  },
  {
   "cell_type": "code",
   "execution_count": 8,
   "id": "2eeef0a7",
   "metadata": {},
   "outputs": [
    {
     "data": {
      "text/plain": [
       "a    10\n",
       "i     2\n",
       "i     3\n",
       "o     4\n",
       "s     6\n",
       "dtype: int64"
      ]
     },
     "execution_count": 8,
     "metadata": {},
     "output_type": "execute_result"
    }
   ],
   "source": [
    "s2 = Series([10,2,3,4,6], index=list(\"aiios\"))\n",
    "s2"
   ]
  },
  {
   "cell_type": "code",
   "execution_count": 5,
   "id": "beda624a",
   "metadata": {},
   "outputs": [
    {
     "data": {
      "text/plain": [
       "10"
      ]
     },
     "execution_count": 5,
     "metadata": {},
     "output_type": "execute_result"
    }
   ],
   "source": [
    "s2[0]"
   ]
  },
  {
   "cell_type": "code",
   "execution_count": 6,
   "id": "974f351e",
   "metadata": {},
   "outputs": [
    {
     "data": {
      "text/plain": [
       "10"
      ]
     },
     "execution_count": 6,
     "metadata": {},
     "output_type": "execute_result"
    }
   ],
   "source": [
    "s2[\"a\"]"
   ]
  },
  {
   "cell_type": "code",
   "execution_count": 7,
   "id": "8b3af015",
   "metadata": {},
   "outputs": [
    {
     "data": {
      "text/plain": [
       "a    10\n",
       "d     2\n",
       "s     6\n",
       "dtype: int64"
      ]
     },
     "execution_count": 7,
     "metadata": {},
     "output_type": "execute_result"
    }
   ],
   "source": [
    "s2[[\"a\",\"d\",\"s\"]]"
   ]
  },
  {
   "cell_type": "code",
   "execution_count": 9,
   "id": "54ac4438",
   "metadata": {},
   "outputs": [
    {
     "data": {
      "text/plain": [
       "i    2\n",
       "i    3\n",
       "dtype: int64"
      ]
     },
     "execution_count": 9,
     "metadata": {},
     "output_type": "execute_result"
    }
   ],
   "source": [
    "s2[\"i\"]"
   ]
  },
  {
   "cell_type": "code",
   "execution_count": 10,
   "id": "49fb5e52",
   "metadata": {},
   "outputs": [
    {
     "data": {
      "text/plain": [
       "2"
      ]
     },
     "execution_count": 10,
     "metadata": {},
     "output_type": "execute_result"
    }
   ],
   "source": [
    "s2[1]"
   ]
  },
  {
   "cell_type": "code",
   "execution_count": 11,
   "id": "60f683a8",
   "metadata": {},
   "outputs": [
    {
     "data": {
      "text/plain": [
       "3"
      ]
     },
     "execution_count": 11,
     "metadata": {},
     "output_type": "execute_result"
    }
   ],
   "source": [
    "s2[2]"
   ]
  },
  {
   "cell_type": "code",
   "execution_count": 28,
   "id": "67747438",
   "metadata": {},
   "outputs": [],
   "source": [
    "s1 = Series(list(range(5)), index=list('adios'))\n",
    "s2 = Series(list(range(4)), index=list('hola'))\n",
    "s1 = s1 * 10\n",
    "s2 = s2 + 20"
   ]
  },
  {
   "cell_type": "code",
   "execution_count": 29,
   "id": "c4467ee7",
   "metadata": {
    "scrolled": true
   },
   "outputs": [
    {
     "data": {
      "text/plain": [
       "a     0\n",
       "d    10\n",
       "i    20\n",
       "o    30\n",
       "s    40\n",
       "dtype: int64"
      ]
     },
     "execution_count": 29,
     "metadata": {},
     "output_type": "execute_result"
    }
   ],
   "source": [
    "s1"
   ]
  },
  {
   "cell_type": "code",
   "execution_count": 30,
   "id": "6fe97d77",
   "metadata": {},
   "outputs": [
    {
     "data": {
      "text/plain": [
       "h    20\n",
       "o    21\n",
       "l    22\n",
       "a    23\n",
       "dtype: int64"
      ]
     },
     "execution_count": 30,
     "metadata": {},
     "output_type": "execute_result"
    }
   ],
   "source": [
    "s2"
   ]
  },
  {
   "cell_type": "code",
   "execution_count": 31,
   "id": "0fd54bb5",
   "metadata": {},
   "outputs": [
    {
     "data": {
      "text/plain": [
       "a    23.0\n",
       "d     NaN\n",
       "h     NaN\n",
       "i     NaN\n",
       "l     NaN\n",
       "o    51.0\n",
       "s     NaN\n",
       "dtype: float64"
      ]
     },
     "execution_count": 31,
     "metadata": {},
     "output_type": "execute_result"
    }
   ],
   "source": [
    "s1+s2"
   ]
  },
  {
   "cell_type": "code",
   "execution_count": 32,
   "id": "ca692199",
   "metadata": {},
   "outputs": [
    {
     "data": {
      "text/plain": [
       "a    23.0\n",
       "d    10.0\n",
       "h    20.0\n",
       "i    20.0\n",
       "l    22.0\n",
       "o    51.0\n",
       "s    40.0\n",
       "dtype: float64"
      ]
     },
     "execution_count": 32,
     "metadata": {},
     "output_type": "execute_result"
    }
   ],
   "source": [
    "suma = s1.add(s2, fill_value=0)\n",
    "suma"
   ]
  },
  {
   "cell_type": "code",
   "execution_count": 33,
   "id": "c495ccbe",
   "metadata": {},
   "outputs": [
    {
     "data": {
      "text/plain": [
       "pandas.core.series.Series"
      ]
     },
     "execution_count": 33,
     "metadata": {},
     "output_type": "execute_result"
    }
   ],
   "source": [
    "s1.reset_index(inplace=True, drop=True)\n",
    "type(s1)"
   ]
  },
  {
   "cell_type": "code",
   "execution_count": 34,
   "id": "68e28393",
   "metadata": {},
   "outputs": [
    {
     "data": {
      "text/plain": [
       "0     0\n",
       "1    10\n",
       "2    20\n",
       "3    30\n",
       "4    40\n",
       "dtype: int64"
      ]
     },
     "execution_count": 34,
     "metadata": {},
     "output_type": "execute_result"
    }
   ],
   "source": [
    "s1"
   ]
  },
  {
   "cell_type": "code",
   "execution_count": 35,
   "id": "f36c3e59",
   "metadata": {},
   "outputs": [
    {
     "data": {
      "text/plain": [
       "0    20\n",
       "1    21\n",
       "2    22\n",
       "3    23\n",
       "dtype: int64"
      ]
     },
     "execution_count": 35,
     "metadata": {},
     "output_type": "execute_result"
    }
   ],
   "source": [
    "s2.reset_index(inplace=True, drop=True)\n",
    "type(s2)\n",
    "s2"
   ]
  },
  {
   "cell_type": "code",
   "execution_count": 36,
   "id": "f937f10d",
   "metadata": {},
   "outputs": [
    {
     "data": {
      "text/plain": [
       "0    20.0\n",
       "1    31.0\n",
       "2    42.0\n",
       "3    53.0\n",
       "4     NaN\n",
       "dtype: float64"
      ]
     },
     "execution_count": 36,
     "metadata": {},
     "output_type": "execute_result"
    }
   ],
   "source": [
    "s1+s2"
   ]
  },
  {
   "cell_type": "code",
   "execution_count": 38,
   "id": "e128b7a3",
   "metadata": {},
   "outputs": [
    {
     "data": {
      "text/plain": [
       "0    20.0\n",
       "1    31.0\n",
       "2    42.0\n",
       "3    53.0\n",
       "4    40.0\n",
       "dtype: float64"
      ]
     },
     "execution_count": 38,
     "metadata": {},
     "output_type": "execute_result"
    }
   ],
   "source": [
    "suma = s1.add(s2, fill_value=0)\n",
    "suma"
   ]
  },
  {
   "cell_type": "code",
   "execution_count": 39,
   "id": "1f324838",
   "metadata": {},
   "outputs": [
    {
     "data": {
      "text/plain": [
       "2    42.0\n",
       "3    53.0\n",
       "dtype: float64"
      ]
     },
     "execution_count": 39,
     "metadata": {},
     "output_type": "execute_result"
    }
   ],
   "source": [
    "suma[suma > 40]"
   ]
  },
  {
   "cell_type": "code",
   "execution_count": 40,
   "id": "003ed535",
   "metadata": {},
   "outputs": [
    {
     "data": {
      "text/plain": [
       "2"
      ]
     },
     "execution_count": 40,
     "metadata": {},
     "output_type": "execute_result"
    }
   ],
   "source": [
    "(suma > 40).sum()"
   ]
  },
  {
   "cell_type": "code",
   "execution_count": 41,
   "id": "22dc8a69",
   "metadata": {},
   "outputs": [
    {
     "data": {
      "text/plain": [
       "0    20.0\n",
       "1    31.0\n",
       "2    40.0\n",
       "3    40.0\n",
       "4    40.0\n",
       "dtype: float64"
      ]
     },
     "execution_count": 41,
     "metadata": {},
     "output_type": "execute_result"
    }
   ],
   "source": [
    "suma[suma > 40]=40\n",
    "suma"
   ]
  },
  {
   "cell_type": "code",
   "execution_count": 42,
   "id": "dcfd1531",
   "metadata": {},
   "outputs": [
    {
     "name": "stdout",
     "output_type": "stream",
     "text": [
      "[20. 31. 40. 40. 40.]\n",
      "Index([0, 1, 2, 3, 4], dtype='int64')\n"
     ]
    }
   ],
   "source": [
    "print(suma.values)\n",
    "print(suma.index)"
   ]
  },
  {
   "cell_type": "code",
   "execution_count": 44,
   "id": "f842a1c5",
   "metadata": {},
   "outputs": [
    {
     "data": {
      "text/plain": [
       "a    3.0\n",
       "d    NaN\n",
       "h    NaN\n",
       "i    NaN\n",
       "l    NaN\n",
       "o    3.0\n",
       "s    4.0\n",
       "dtype: float64"
      ]
     },
     "execution_count": 44,
     "metadata": {},
     "output_type": "execute_result"
    }
   ],
   "source": [
    "s1 = Series(list(range(5)), index=list('adios'))\n",
    "s2 = Series(list(range(5)), index=list('holas'))\n",
    "\n",
    "np.maximum(s1, s2)"
   ]
  },
  {
   "cell_type": "code",
   "execution_count": null,
   "id": "da1b2227",
   "metadata": {},
   "outputs": [],
   "source": []
  }
 ],
 "metadata": {
  "kernelspec": {
   "display_name": "Python 3 (ipykernel)",
   "language": "python",
   "name": "python3"
  },
  "language_info": {
   "codemirror_mode": {
    "name": "ipython",
    "version": 3
   },
   "file_extension": ".py",
   "mimetype": "text/x-python",
   "name": "python",
   "nbconvert_exporter": "python",
   "pygments_lexer": "ipython3",
   "version": "3.8.5"
  }
 },
 "nbformat": 4,
 "nbformat_minor": 5
}

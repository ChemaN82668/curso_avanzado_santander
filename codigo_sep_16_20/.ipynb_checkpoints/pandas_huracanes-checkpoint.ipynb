{
 "cells": [
  {
   "cell_type": "markdown",
   "id": "cdaf0015",
   "metadata": {},
   "source": [
    "## Limpieza de ficheros con pandas"
   ]
  },
  {
   "cell_type": "markdown",
   "id": "5f786771",
   "metadata": {},
   "source": [
    "Limpiar las columnas y convertir tipos de datos de los ficheros de huracanes. Realizar un estudio de correlación entre el viento y la presión."
   ]
  },
  {
   "cell_type": "code",
   "execution_count": 1,
   "id": "d284289b",
   "metadata": {},
   "outputs": [],
   "source": [
    "import pandas as pd\n",
    "import numpy as np"
   ]
  },
  {
   "cell_type": "code",
   "execution_count": 2,
   "id": "a893a52b",
   "metadata": {},
   "outputs": [
    {
     "data": {
      "text/html": [
       "<div>\n",
       "<style scoped>\n",
       "    .dataframe tbody tr th:only-of-type {\n",
       "        vertical-align: middle;\n",
       "    }\n",
       "\n",
       "    .dataframe tbody tr th {\n",
       "        vertical-align: top;\n",
       "    }\n",
       "\n",
       "    .dataframe thead th {\n",
       "        text-align: right;\n",
       "    }\n",
       "</style>\n",
       "<table border=\"1\" class=\"dataframe\">\n",
       "  <thead>\n",
       "    <tr style=\"text-align: right;\">\n",
       "      <th></th>\n",
       "      <th>Date</th>\n",
       "      <th>Time</th>\n",
       "      <th>Lat</th>\n",
       "      <th>Lon</th>\n",
       "      <th>Wind</th>\n",
       "      <th>Pressure</th>\n",
       "      <th>Storm Type</th>\n",
       "      <th>Category</th>\n",
       "    </tr>\n",
       "  </thead>\n",
       "  <tbody>\n",
       "    <tr>\n",
       "      <th>0</th>\n",
       "      <td>Aug 30</td>\n",
       "      <td>15:00 GMT</td>\n",
       "      <td>16.4°</td>\n",
       "      <td>-30.3°</td>\n",
       "      <td>50 mph</td>\n",
       "      <td>1004 mb</td>\n",
       "      <td>Tropical Storm</td>\n",
       "      <td>-</td>\n",
       "    </tr>\n",
       "    <tr>\n",
       "      <th>1</th>\n",
       "      <td>Aug 30</td>\n",
       "      <td>21:00 GMT</td>\n",
       "      <td>16.4°</td>\n",
       "      <td>-31.2°</td>\n",
       "      <td>60 mph</td>\n",
       "      <td>1001 mb</td>\n",
       "      <td>Tropical Storm</td>\n",
       "      <td>-</td>\n",
       "    </tr>\n",
       "    <tr>\n",
       "      <th>2</th>\n",
       "      <td>Aug 31</td>\n",
       "      <td>03:00 GMT</td>\n",
       "      <td>16.4°</td>\n",
       "      <td>-32.2°</td>\n",
       "      <td>65 mph</td>\n",
       "      <td>999 mb</td>\n",
       "      <td>Tropical Storm</td>\n",
       "      <td>-</td>\n",
       "    </tr>\n",
       "    <tr>\n",
       "      <th>3</th>\n",
       "      <td>Aug 31</td>\n",
       "      <td>09:00 GMT</td>\n",
       "      <td>16.5°</td>\n",
       "      <td>-32.9°</td>\n",
       "      <td>70 mph</td>\n",
       "      <td>997 mb</td>\n",
       "      <td>Tropical Storm</td>\n",
       "      <td>-</td>\n",
       "    </tr>\n",
       "    <tr>\n",
       "      <th>4</th>\n",
       "      <td>Aug 31</td>\n",
       "      <td>15:00 GMT</td>\n",
       "      <td>16.9°</td>\n",
       "      <td>-33.8°</td>\n",
       "      <td>100 mph</td>\n",
       "      <td>979 mb</td>\n",
       "      <td>Hurricane</td>\n",
       "      <td>2</td>\n",
       "    </tr>\n",
       "  </tbody>\n",
       "</table>\n",
       "</div>"
      ],
      "text/plain": [
       "    Date       Time    Lat     Lon      Wind  Pressure      Storm Type   \\\n",
       "0  Aug 30  15:00 GMT  16.4°  -30.3°   50 mph   1004 mb   Tropical Storm   \n",
       "1  Aug 30  21:00 GMT  16.4°  -31.2°   60 mph   1001 mb   Tropical Storm   \n",
       "2  Aug 31  03:00 GMT  16.4°  -32.2°   65 mph    999 mb   Tropical Storm   \n",
       "3  Aug 31  09:00 GMT  16.5°  -32.9°   70 mph    997 mb   Tropical Storm   \n",
       "4  Aug 31  15:00 GMT  16.9°  -33.8°  100 mph    979 mb        Hurricane   \n",
       "\n",
       "  Category   \n",
       "0         -  \n",
       "1         -  \n",
       "2         -  \n",
       "3         -  \n",
       "4         2  "
      ]
     },
     "execution_count": 2,
     "metadata": {},
     "output_type": "execute_result"
    }
   ],
   "source": [
    "df = pd.read_csv(\"../ficheros_curso/csv/IRMA.csv\", sep=\";\")\n",
    "df.head()"
   ]
  },
  {
   "cell_type": "code",
   "execution_count": 3,
   "id": "09390906",
   "metadata": {},
   "outputs": [
    {
     "name": "stdout",
     "output_type": "stream",
     "text": [
      "<class 'pandas.core.frame.DataFrame'>\n",
      "RangeIndex: 130 entries, 0 to 129\n",
      "Data columns (total 8 columns):\n",
      " #   Column       Non-Null Count  Dtype \n",
      "---  ------       --------------  ----- \n",
      " 0   Date         130 non-null    object\n",
      " 1   Time         130 non-null    object\n",
      " 2   Lat          130 non-null    object\n",
      " 3   Lon          130 non-null    object\n",
      " 4   Wind         130 non-null    object\n",
      " 5   Pressure     130 non-null    object\n",
      " 6   Storm Type   130 non-null    object\n",
      " 7   Category     130 non-null    object\n",
      "dtypes: object(8)\n",
      "memory usage: 8.2+ KB\n"
     ]
    }
   ],
   "source": [
    "df.info()"
   ]
  },
  {
   "cell_type": "code",
   "execution_count": 4,
   "id": "c0d1069c",
   "metadata": {},
   "outputs": [
    {
     "data": {
      "text/plain": [
       "Index(['Date', 'Time', 'Lat', 'Lon', 'Wind', 'Pressure', 'Storm Type',\n",
       "       'Category'],\n",
       "      dtype='object')"
      ]
     },
     "execution_count": 4,
     "metadata": {},
     "output_type": "execute_result"
    }
   ],
   "source": [
    "df.columns = [col.strip() for col in df.columns]\n",
    "df.columns"
   ]
  },
  {
   "cell_type": "code",
   "execution_count": 5,
   "id": "28150529",
   "metadata": {},
   "outputs": [],
   "source": [
    "df['Lat'] = pd.to_numeric(df.Lat.str[:-1], downcast='float')\n",
    "df['Lon'] = pd.to_numeric(df.Lon.str[:-1], downcast='float')"
   ]
  },
  {
   "cell_type": "code",
   "execution_count": 6,
   "id": "4d05646b",
   "metadata": {},
   "outputs": [
    {
     "name": "stdout",
     "output_type": "stream",
     "text": [
      "<class 'pandas.core.frame.DataFrame'>\n",
      "RangeIndex: 130 entries, 0 to 129\n",
      "Data columns (total 8 columns):\n",
      " #   Column      Non-Null Count  Dtype  \n",
      "---  ------      --------------  -----  \n",
      " 0   Date        130 non-null    object \n",
      " 1   Time        130 non-null    object \n",
      " 2   Lat         130 non-null    float32\n",
      " 3   Lon         130 non-null    float32\n",
      " 4   Wind        130 non-null    object \n",
      " 5   Pressure    130 non-null    object \n",
      " 6   Storm Type  130 non-null    object \n",
      " 7   Category    130 non-null    object \n",
      "dtypes: float32(2), object(6)\n",
      "memory usage: 7.2+ KB\n"
     ]
    }
   ],
   "source": [
    "df.info()"
   ]
  },
  {
   "cell_type": "code",
   "execution_count": 7,
   "id": "9a7d2de8",
   "metadata": {},
   "outputs": [],
   "source": [
    "df['Wind'] = pd.to_numeric(df.Wind.str.replace(\" mph\",\"\"), downcast='integer')\n",
    "df['Pressure'] = pd.to_numeric(df.Pressure.str.replace(\" mb\",\"\"), downcast='integer')"
   ]
  },
  {
   "cell_type": "code",
   "execution_count": 8,
   "id": "7915d725",
   "metadata": {},
   "outputs": [
    {
     "name": "stdout",
     "output_type": "stream",
     "text": [
      "<class 'pandas.core.frame.DataFrame'>\n",
      "RangeIndex: 130 entries, 0 to 129\n",
      "Data columns (total 8 columns):\n",
      " #   Column      Non-Null Count  Dtype  \n",
      "---  ------      --------------  -----  \n",
      " 0   Date        130 non-null    object \n",
      " 1   Time        130 non-null    object \n",
      " 2   Lat         130 non-null    float32\n",
      " 3   Lon         130 non-null    float32\n",
      " 4   Wind        130 non-null    int16  \n",
      " 5   Pressure    130 non-null    int16  \n",
      " 6   Storm Type  130 non-null    object \n",
      " 7   Category    130 non-null    object \n",
      "dtypes: float32(2), int16(2), object(4)\n",
      "memory usage: 5.7+ KB\n"
     ]
    }
   ],
   "source": [
    "df.info()"
   ]
  },
  {
   "cell_type": "code",
   "execution_count": 10,
   "id": "0ed99e07",
   "metadata": {},
   "outputs": [],
   "source": [
    "df['DateTime'] = pd.to_datetime(\"2005 \" + df.Date + \" \" + df.Time.str.replace(\" GMT\",\"\"), format=\"%Y %b %d %H:%M\")"
   ]
  },
  {
   "cell_type": "code",
   "execution_count": 11,
   "id": "4db984a6",
   "metadata": {},
   "outputs": [
    {
     "data": {
      "text/html": [
       "<div>\n",
       "<style scoped>\n",
       "    .dataframe tbody tr th:only-of-type {\n",
       "        vertical-align: middle;\n",
       "    }\n",
       "\n",
       "    .dataframe tbody tr th {\n",
       "        vertical-align: top;\n",
       "    }\n",
       "\n",
       "    .dataframe thead th {\n",
       "        text-align: right;\n",
       "    }\n",
       "</style>\n",
       "<table border=\"1\" class=\"dataframe\">\n",
       "  <thead>\n",
       "    <tr style=\"text-align: right;\">\n",
       "      <th></th>\n",
       "      <th>Date</th>\n",
       "      <th>Time</th>\n",
       "      <th>Lat</th>\n",
       "      <th>Lon</th>\n",
       "      <th>Wind</th>\n",
       "      <th>Pressure</th>\n",
       "      <th>Storm Type</th>\n",
       "      <th>Category</th>\n",
       "      <th>DateTime</th>\n",
       "    </tr>\n",
       "  </thead>\n",
       "  <tbody>\n",
       "    <tr>\n",
       "      <th>0</th>\n",
       "      <td>Aug 30</td>\n",
       "      <td>15:00 GMT</td>\n",
       "      <td>16.4</td>\n",
       "      <td>-30.299999</td>\n",
       "      <td>50</td>\n",
       "      <td>1004</td>\n",
       "      <td>Tropical Storm</td>\n",
       "      <td>-</td>\n",
       "      <td>2005-08-30 15:00:00</td>\n",
       "    </tr>\n",
       "    <tr>\n",
       "      <th>1</th>\n",
       "      <td>Aug 30</td>\n",
       "      <td>21:00 GMT</td>\n",
       "      <td>16.4</td>\n",
       "      <td>-31.200001</td>\n",
       "      <td>60</td>\n",
       "      <td>1001</td>\n",
       "      <td>Tropical Storm</td>\n",
       "      <td>-</td>\n",
       "      <td>2005-08-30 21:00:00</td>\n",
       "    </tr>\n",
       "    <tr>\n",
       "      <th>2</th>\n",
       "      <td>Aug 31</td>\n",
       "      <td>03:00 GMT</td>\n",
       "      <td>16.4</td>\n",
       "      <td>-32.200001</td>\n",
       "      <td>65</td>\n",
       "      <td>999</td>\n",
       "      <td>Tropical Storm</td>\n",
       "      <td>-</td>\n",
       "      <td>2005-08-31 03:00:00</td>\n",
       "    </tr>\n",
       "    <tr>\n",
       "      <th>3</th>\n",
       "      <td>Aug 31</td>\n",
       "      <td>09:00 GMT</td>\n",
       "      <td>16.5</td>\n",
       "      <td>-32.900002</td>\n",
       "      <td>70</td>\n",
       "      <td>997</td>\n",
       "      <td>Tropical Storm</td>\n",
       "      <td>-</td>\n",
       "      <td>2005-08-31 09:00:00</td>\n",
       "    </tr>\n",
       "    <tr>\n",
       "      <th>4</th>\n",
       "      <td>Aug 31</td>\n",
       "      <td>15:00 GMT</td>\n",
       "      <td>16.9</td>\n",
       "      <td>-33.799999</td>\n",
       "      <td>100</td>\n",
       "      <td>979</td>\n",
       "      <td>Hurricane</td>\n",
       "      <td>2</td>\n",
       "      <td>2005-08-31 15:00:00</td>\n",
       "    </tr>\n",
       "  </tbody>\n",
       "</table>\n",
       "</div>"
      ],
      "text/plain": [
       "     Date       Time   Lat        Lon  Wind  Pressure      Storm Type  \\\n",
       "0  Aug 30  15:00 GMT  16.4 -30.299999    50      1004  Tropical Storm   \n",
       "1  Aug 30  21:00 GMT  16.4 -31.200001    60      1001  Tropical Storm   \n",
       "2  Aug 31  03:00 GMT  16.4 -32.200001    65       999  Tropical Storm   \n",
       "3  Aug 31  09:00 GMT  16.5 -32.900002    70       997  Tropical Storm   \n",
       "4  Aug 31  15:00 GMT  16.9 -33.799999   100       979       Hurricane   \n",
       "\n",
       "  Category            DateTime  \n",
       "0        - 2005-08-30 15:00:00  \n",
       "1        - 2005-08-30 21:00:00  \n",
       "2        - 2005-08-31 03:00:00  \n",
       "3        - 2005-08-31 09:00:00  \n",
       "4        2 2005-08-31 15:00:00  "
      ]
     },
     "execution_count": 11,
     "metadata": {},
     "output_type": "execute_result"
    }
   ],
   "source": [
    "df.head()"
   ]
  },
  {
   "cell_type": "code",
   "execution_count": 12,
   "id": "df9e91e7",
   "metadata": {},
   "outputs": [],
   "source": [
    "df.drop(columns=[\"Date\",\"Time\"], inplace=True)"
   ]
  },
  {
   "cell_type": "code",
   "execution_count": 13,
   "id": "b3f1465d",
   "metadata": {},
   "outputs": [
    {
     "data": {
      "text/html": [
       "<div>\n",
       "<style scoped>\n",
       "    .dataframe tbody tr th:only-of-type {\n",
       "        vertical-align: middle;\n",
       "    }\n",
       "\n",
       "    .dataframe tbody tr th {\n",
       "        vertical-align: top;\n",
       "    }\n",
       "\n",
       "    .dataframe thead th {\n",
       "        text-align: right;\n",
       "    }\n",
       "</style>\n",
       "<table border=\"1\" class=\"dataframe\">\n",
       "  <thead>\n",
       "    <tr style=\"text-align: right;\">\n",
       "      <th></th>\n",
       "      <th>Lat</th>\n",
       "      <th>Lon</th>\n",
       "      <th>Wind</th>\n",
       "      <th>Pressure</th>\n",
       "      <th>Storm Type</th>\n",
       "      <th>Category</th>\n",
       "      <th>DateTime</th>\n",
       "    </tr>\n",
       "  </thead>\n",
       "  <tbody>\n",
       "    <tr>\n",
       "      <th>0</th>\n",
       "      <td>16.4</td>\n",
       "      <td>-30.299999</td>\n",
       "      <td>50</td>\n",
       "      <td>1004</td>\n",
       "      <td>Tropical Storm</td>\n",
       "      <td>-</td>\n",
       "      <td>2005-08-30 15:00:00</td>\n",
       "    </tr>\n",
       "    <tr>\n",
       "      <th>1</th>\n",
       "      <td>16.4</td>\n",
       "      <td>-31.200001</td>\n",
       "      <td>60</td>\n",
       "      <td>1001</td>\n",
       "      <td>Tropical Storm</td>\n",
       "      <td>-</td>\n",
       "      <td>2005-08-30 21:00:00</td>\n",
       "    </tr>\n",
       "    <tr>\n",
       "      <th>2</th>\n",
       "      <td>16.4</td>\n",
       "      <td>-32.200001</td>\n",
       "      <td>65</td>\n",
       "      <td>999</td>\n",
       "      <td>Tropical Storm</td>\n",
       "      <td>-</td>\n",
       "      <td>2005-08-31 03:00:00</td>\n",
       "    </tr>\n",
       "    <tr>\n",
       "      <th>3</th>\n",
       "      <td>16.5</td>\n",
       "      <td>-32.900002</td>\n",
       "      <td>70</td>\n",
       "      <td>997</td>\n",
       "      <td>Tropical Storm</td>\n",
       "      <td>-</td>\n",
       "      <td>2005-08-31 09:00:00</td>\n",
       "    </tr>\n",
       "    <tr>\n",
       "      <th>4</th>\n",
       "      <td>16.9</td>\n",
       "      <td>-33.799999</td>\n",
       "      <td>100</td>\n",
       "      <td>979</td>\n",
       "      <td>Hurricane</td>\n",
       "      <td>2</td>\n",
       "      <td>2005-08-31 15:00:00</td>\n",
       "    </tr>\n",
       "  </tbody>\n",
       "</table>\n",
       "</div>"
      ],
      "text/plain": [
       "    Lat        Lon  Wind  Pressure      Storm Type Category  \\\n",
       "0  16.4 -30.299999    50      1004  Tropical Storm        -   \n",
       "1  16.4 -31.200001    60      1001  Tropical Storm        -   \n",
       "2  16.4 -32.200001    65       999  Tropical Storm        -   \n",
       "3  16.5 -32.900002    70       997  Tropical Storm        -   \n",
       "4  16.9 -33.799999   100       979       Hurricane        2   \n",
       "\n",
       "             DateTime  \n",
       "0 2005-08-30 15:00:00  \n",
       "1 2005-08-30 21:00:00  \n",
       "2 2005-08-31 03:00:00  \n",
       "3 2005-08-31 09:00:00  \n",
       "4 2005-08-31 15:00:00  "
      ]
     },
     "execution_count": 13,
     "metadata": {},
     "output_type": "execute_result"
    }
   ],
   "source": [
    "df.head()"
   ]
  },
  {
   "cell_type": "code",
   "execution_count": 15,
   "id": "f7f66c79",
   "metadata": {},
   "outputs": [
    {
     "data": {
      "text/plain": [
       "array([[ 1.        , -0.89322419],\n",
       "       [-0.89322419,  1.        ]])"
      ]
     },
     "execution_count": 15,
     "metadata": {},
     "output_type": "execute_result"
    }
   ],
   "source": [
    "t = np.corrcoef(df.Wind, df.Pressure)\n",
    "t"
   ]
  },
  {
   "cell_type": "code",
   "execution_count": 17,
   "id": "6c17494a",
   "metadata": {},
   "outputs": [
    {
     "data": {
      "text/plain": [
       "-89.32"
      ]
     },
     "execution_count": 17,
     "metadata": {},
     "output_type": "execute_result"
    }
   ],
   "source": [
    "resul = round(t[0][1] * 100, 2)\n",
    "resul"
   ]
  },
  {
   "cell_type": "code",
   "execution_count": 18,
   "id": "4685a388",
   "metadata": {},
   "outputs": [
    {
     "data": {
      "text/html": [
       "<div>\n",
       "<style scoped>\n",
       "    .dataframe tbody tr th:only-of-type {\n",
       "        vertical-align: middle;\n",
       "    }\n",
       "\n",
       "    .dataframe tbody tr th {\n",
       "        vertical-align: top;\n",
       "    }\n",
       "\n",
       "    .dataframe thead th {\n",
       "        text-align: right;\n",
       "    }\n",
       "</style>\n",
       "<table border=\"1\" class=\"dataframe\">\n",
       "  <thead>\n",
       "    <tr style=\"text-align: right;\">\n",
       "      <th></th>\n",
       "      <th>DateTime</th>\n",
       "      <th>Lat</th>\n",
       "      <th>Lon</th>\n",
       "      <th>Wind</th>\n",
       "      <th>Pressure</th>\n",
       "    </tr>\n",
       "  </thead>\n",
       "  <tbody>\n",
       "    <tr>\n",
       "      <th>0</th>\n",
       "      <td>2005-08-30 15:00:00</td>\n",
       "      <td>16.4</td>\n",
       "      <td>-30.299999</td>\n",
       "      <td>50</td>\n",
       "      <td>1004</td>\n",
       "    </tr>\n",
       "    <tr>\n",
       "      <th>1</th>\n",
       "      <td>2005-08-30 21:00:00</td>\n",
       "      <td>16.4</td>\n",
       "      <td>-31.200001</td>\n",
       "      <td>60</td>\n",
       "      <td>1001</td>\n",
       "    </tr>\n",
       "    <tr>\n",
       "      <th>2</th>\n",
       "      <td>2005-08-31 03:00:00</td>\n",
       "      <td>16.4</td>\n",
       "      <td>-32.200001</td>\n",
       "      <td>65</td>\n",
       "      <td>999</td>\n",
       "    </tr>\n",
       "    <tr>\n",
       "      <th>3</th>\n",
       "      <td>2005-08-31 09:00:00</td>\n",
       "      <td>16.5</td>\n",
       "      <td>-32.900002</td>\n",
       "      <td>70</td>\n",
       "      <td>997</td>\n",
       "    </tr>\n",
       "    <tr>\n",
       "      <th>4</th>\n",
       "      <td>2005-08-31 15:00:00</td>\n",
       "      <td>16.9</td>\n",
       "      <td>-33.799999</td>\n",
       "      <td>100</td>\n",
       "      <td>979</td>\n",
       "    </tr>\n",
       "  </tbody>\n",
       "</table>\n",
       "</div>"
      ],
      "text/plain": [
       "             DateTime   Lat        Lon  Wind  Pressure\n",
       "0 2005-08-30 15:00:00  16.4 -30.299999    50      1004\n",
       "1 2005-08-30 21:00:00  16.4 -31.200001    60      1001\n",
       "2 2005-08-31 03:00:00  16.4 -32.200001    65       999\n",
       "3 2005-08-31 09:00:00  16.5 -32.900002    70       997\n",
       "4 2005-08-31 15:00:00  16.9 -33.799999   100       979"
      ]
     },
     "execution_count": 18,
     "metadata": {},
     "output_type": "execute_result"
    }
   ],
   "source": [
    "df = df[['DateTime','Lat','Lon','Wind','Pressure']]\n",
    "df.head()"
   ]
  },
  {
   "cell_type": "code",
   "execution_count": 19,
   "id": "a5c26632",
   "metadata": {},
   "outputs": [
    {
     "name": "stdout",
     "output_type": "stream",
     "text": [
      "<class 'pandas.core.frame.DataFrame'>\n",
      "RangeIndex: 130 entries, 0 to 129\n",
      "Data columns (total 5 columns):\n",
      " #   Column    Non-Null Count  Dtype         \n",
      "---  ------    --------------  -----         \n",
      " 0   DateTime  130 non-null    datetime64[ns]\n",
      " 1   Lat       130 non-null    float32       \n",
      " 2   Lon       130 non-null    float32       \n",
      " 3   Wind      130 non-null    int16         \n",
      " 4   Pressure  130 non-null    int16         \n",
      "dtypes: datetime64[ns](1), float32(2), int16(2)\n",
      "memory usage: 2.7 KB\n"
     ]
    }
   ],
   "source": [
    "df.info()"
   ]
  },
  {
   "cell_type": "code",
   "execution_count": null,
   "id": "5f9d9d27",
   "metadata": {},
   "outputs": [],
   "source": []
  }
 ],
 "metadata": {
  "kernelspec": {
   "display_name": "Python 3 (ipykernel)",
   "language": "python",
   "name": "python3"
  },
  "language_info": {
   "codemirror_mode": {
    "name": "ipython",
    "version": 3
   },
   "file_extension": ".py",
   "mimetype": "text/x-python",
   "name": "python",
   "nbconvert_exporter": "python",
   "pygments_lexer": "ipython3",
   "version": "3.8.5"
  }
 },
 "nbformat": 4,
 "nbformat_minor": 5
}

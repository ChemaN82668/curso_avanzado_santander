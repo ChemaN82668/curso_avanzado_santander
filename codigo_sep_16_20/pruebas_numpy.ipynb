{
 "cells": [
  {
   "cell_type": "markdown",
   "id": "5ed157d5",
   "metadata": {},
   "source": [
    "## Pruebas con la librería numpy"
   ]
  },
  {
   "cell_type": "code",
   "execution_count": 1,
   "id": "ad0c41ac",
   "metadata": {},
   "outputs": [],
   "source": [
    "import numpy as np"
   ]
  },
  {
   "cell_type": "code",
   "execution_count": 2,
   "id": "d87d89a4",
   "metadata": {},
   "outputs": [
    {
     "name": "stdout",
     "output_type": "stream",
     "text": [
      "754 ms ± 58.1 ms per loop (mean ± std. dev. of 7 runs, 1 loop each)\n"
     ]
    }
   ],
   "source": [
    "%%timeit\n",
    "\n",
    "L = list(range(1000000))\n",
    "for _ in range(10): L2 = [i*2 for i in L]"
   ]
  },
  {
   "cell_type": "code",
   "execution_count": 3,
   "id": "9eae8659",
   "metadata": {},
   "outputs": [
    {
     "name": "stdout",
     "output_type": "stream",
     "text": [
      "16.8 ms ± 407 µs per loop (mean ± std. dev. of 7 runs, 100 loops each)\n"
     ]
    }
   ],
   "source": [
    "%%timeit\n",
    "\n",
    "arr = np.arange(1000000)\n",
    "for _ in range(10): arr2 = arr * 10"
   ]
  },
  {
   "cell_type": "code",
   "execution_count": 4,
   "id": "766418fd",
   "metadata": {},
   "outputs": [
    {
     "data": {
      "text/plain": [
       "array([1. , 2. , 3. , 4. , 5. , 9.5])"
      ]
     },
     "execution_count": 4,
     "metadata": {},
     "output_type": "execute_result"
    }
   ],
   "source": [
    "arr = np.array([1,2,3,4,5,9.5])\n",
    "arr"
   ]
  },
  {
   "cell_type": "code",
   "execution_count": 5,
   "id": "1c86014a",
   "metadata": {},
   "outputs": [
    {
     "data": {
      "text/plain": [
       "numpy.ndarray"
      ]
     },
     "execution_count": 5,
     "metadata": {},
     "output_type": "execute_result"
    }
   ],
   "source": [
    "type(arr)"
   ]
  },
  {
   "cell_type": "code",
   "execution_count": 6,
   "id": "1a36f769",
   "metadata": {},
   "outputs": [
    {
     "name": "stdout",
     "output_type": "stream",
     "text": [
      "float64\n",
      "(6,)\n",
      "1\n"
     ]
    }
   ],
   "source": [
    "print(arr.dtype)\n",
    "print(arr.shape)\n",
    "print(arr.ndim)"
   ]
  },
  {
   "cell_type": "code",
   "execution_count": 7,
   "id": "61af0be8",
   "metadata": {},
   "outputs": [
    {
     "name": "stdout",
     "output_type": "stream",
     "text": [
      "[1 2 3 4] uint8\n",
      "[1 2 3 4] uint16\n"
     ]
    }
   ],
   "source": [
    "arr = np.array([1,2,3,4], dtype=np.uint8)\n",
    "arr2 = np.array([1,2,3,4], dtype=\"u2\")\n",
    "\n",
    "print(arr, arr.dtype)\n",
    "print(arr2, arr2.dtype)\n",
    "\n"
   ]
  },
  {
   "cell_type": "code",
   "execution_count": 8,
   "id": "8791b13c",
   "metadata": {},
   "outputs": [
    {
     "name": "stdout",
     "output_type": "stream",
     "text": [
      "[1 2 3 4] uint8\n"
     ]
    }
   ],
   "source": [
    "arr3 = np.array([\"1\",\"2\",\"3\",\"4\"], dtype=np.uint8)\n",
    "print(arr3, arr3.dtype)"
   ]
  },
  {
   "cell_type": "code",
   "execution_count": 10,
   "id": "eb9e4194",
   "metadata": {},
   "outputs": [
    {
     "data": {
      "text/plain": [
       "array(['1', '2', '3', '4', '(5+8j)', '9.5'], dtype='<U64')"
      ]
     },
     "execution_count": 10,
     "metadata": {},
     "output_type": "execute_result"
    }
   ],
   "source": [
    "arr = np.array([1,\"2\",3,4,5+8j,9.5])\n",
    "arr"
   ]
  },
  {
   "cell_type": "code",
   "execution_count": 11,
   "id": "9ec671d3",
   "metadata": {},
   "outputs": [
    {
     "data": {
      "text/plain": [
       "array([[0., 0., 0., 0., 0., 0.],\n",
       "       [0., 0., 0., 0., 0., 0.],\n",
       "       [0., 0., 0., 0., 0., 0.],\n",
       "       [0., 0., 0., 0., 0., 0.],\n",
       "       [0., 0., 0., 0., 0., 0.]])"
      ]
     },
     "execution_count": 11,
     "metadata": {},
     "output_type": "execute_result"
    }
   ],
   "source": [
    "t = np.zeros((5,6))\n",
    "t"
   ]
  },
  {
   "cell_type": "code",
   "execution_count": 12,
   "id": "940915e6",
   "metadata": {},
   "outputs": [
    {
     "data": {
      "text/plain": [
       "array([[0., 0., 0., 0., 0., 0.],\n",
       "       [0., 0., 0., 0., 0., 0.],\n",
       "       [0., 0., 0., 0., 0., 0.],\n",
       "       [0., 0., 0., 0., 0., 0.],\n",
       "       [0., 0., 0., 0., 0., 0.]])"
      ]
     },
     "execution_count": 12,
     "metadata": {},
     "output_type": "execute_result"
    }
   ],
   "source": [
    "t = np.empty((5,6))\n",
    "t"
   ]
  },
  {
   "cell_type": "code",
   "execution_count": 14,
   "id": "f74057f9",
   "metadata": {},
   "outputs": [
    {
     "data": {
      "text/plain": [
       "array([[5., 5., 5., 5., 5., 5.],\n",
       "       [5., 5., 5., 5., 5., 5.],\n",
       "       [5., 5., 5., 5., 5., 5.],\n",
       "       [5., 5., 5., 5., 5., 5.],\n",
       "       [5., 5., 5., 5., 5., 5.]])"
      ]
     },
     "execution_count": 14,
     "metadata": {},
     "output_type": "execute_result"
    }
   ],
   "source": [
    "t2 = np.full_like(t, fill_value=5)\n",
    "t2"
   ]
  },
  {
   "cell_type": "code",
   "execution_count": 16,
   "id": "a5f247b1",
   "metadata": {},
   "outputs": [
    {
     "data": {
      "text/plain": [
       "array([ 8, 11, 14, 10, 11, 10, 11, 14, 12, 13,  6, 15, 13,  7, 13, 14, 10,\n",
       "       10, 11, 17,  4,  7,  2,  4,  6])"
      ]
     },
     "execution_count": 16,
     "metadata": {},
     "output_type": "execute_result"
    }
   ],
   "source": [
    "arr = np.random.randint(1,20, 25)\n",
    "arr"
   ]
  },
  {
   "cell_type": "code",
   "execution_count": 17,
   "id": "f3dec9a6",
   "metadata": {},
   "outputs": [
    {
     "data": {
      "text/plain": [
       "array([18, 21, 24, 20, 21, 20, 21, 24, 22, 23, 16, 25, 23, 17, 23, 24, 20,\n",
       "       20, 21, 27, 14, 17, 12, 14, 16])"
      ]
     },
     "execution_count": 17,
     "metadata": {},
     "output_type": "execute_result"
    }
   ],
   "source": [
    "arr2 = arr + 10\n",
    "arr2"
   ]
  },
  {
   "cell_type": "code",
   "execution_count": 20,
   "id": "15b589f4",
   "metadata": {},
   "outputs": [
    {
     "data": {
      "text/plain": [
       "array([ True,  True,  True,  True,  True,  True,  True,  True,  True,\n",
       "        True,  True,  True,  True,  True,  True,  True,  True,  True,\n",
       "        True,  True, False,  True, False, False,  True])"
      ]
     },
     "execution_count": 20,
     "metadata": {},
     "output_type": "execute_result"
    }
   ],
   "source": [
    "arr2 > 15"
   ]
  },
  {
   "cell_type": "code",
   "execution_count": 21,
   "id": "c46f7687",
   "metadata": {},
   "outputs": [
    {
     "data": {
      "text/plain": [
       "array([14,  6,  6,  5, 11, 15, 18,  9,  4,  5,  7,  4,  7, 18, 14, 14, 10,\n",
       "       11, 16,  1])"
      ]
     },
     "execution_count": 21,
     "metadata": {},
     "output_type": "execute_result"
    }
   ],
   "source": [
    "arr = np.random.randint(1,20, 20)\n",
    "arr"
   ]
  },
  {
   "cell_type": "code",
   "execution_count": 22,
   "id": "b371e2f2",
   "metadata": {},
   "outputs": [
    {
     "data": {
      "text/plain": [
       "array([12,  9,  5,  3, 19,  1,  5, 16, 10, 12,  9, 11, 16,  3,  9,  3, 18,\n",
       "       11,  6, 19])"
      ]
     },
     "execution_count": 22,
     "metadata": {},
     "output_type": "execute_result"
    }
   ],
   "source": [
    "arr2 = np.random.randint(1,20, 20)\n",
    "arr2"
   ]
  },
  {
   "cell_type": "code",
   "execution_count": 23,
   "id": "3ba8fca4",
   "metadata": {},
   "outputs": [
    {
     "data": {
      "text/plain": [
       "array([14,  9,  6,  5, 19, 15, 18, 16, 10, 12,  9, 11, 16, 18, 14, 14, 18,\n",
       "       11, 16, 19])"
      ]
     },
     "execution_count": 23,
     "metadata": {},
     "output_type": "execute_result"
    }
   ],
   "source": [
    "np.maximum(arr, arr2)"
   ]
  },
  {
   "cell_type": "code",
   "execution_count": 24,
   "id": "3ca366ab",
   "metadata": {},
   "outputs": [
    {
     "data": {
      "text/plain": [
       "array([12,  6,  5,  3, 11,  1,  5,  9,  4,  5,  7,  4,  7,  3,  9,  3, 10,\n",
       "       11,  6,  1])"
      ]
     },
     "execution_count": 24,
     "metadata": {},
     "output_type": "execute_result"
    }
   ],
   "source": [
    "np.minimum(arr, arr2)"
   ]
  },
  {
   "cell_type": "code",
   "execution_count": 25,
   "id": "e0efb0f9",
   "metadata": {},
   "outputs": [
    {
     "data": {
      "text/plain": [
       "9"
      ]
     },
     "execution_count": 25,
     "metadata": {},
     "output_type": "execute_result"
    }
   ],
   "source": [
    "(arr2 > 10).sum()"
   ]
  },
  {
   "cell_type": "code",
   "execution_count": 26,
   "id": "36c6df97",
   "metadata": {},
   "outputs": [
    {
     "data": {
      "text/plain": [
       "array([12, 19, 16, 12, 11, 16, 18, 11, 19])"
      ]
     },
     "execution_count": 26,
     "metadata": {},
     "output_type": "execute_result"
    }
   ],
   "source": [
    "arr2[arr2 > 10]"
   ]
  },
  {
   "cell_type": "code",
   "execution_count": 27,
   "id": "8d798bab",
   "metadata": {},
   "outputs": [
    {
     "data": {
      "text/plain": [
       "array([9, 9, 9, 6])"
      ]
     },
     "execution_count": 27,
     "metadata": {},
     "output_type": "execute_result"
    }
   ],
   "source": [
    "arr2[(arr2 > 5) & (arr2 < 10)]"
   ]
  },
  {
   "cell_type": "code",
   "execution_count": 28,
   "id": "8a23a09b",
   "metadata": {},
   "outputs": [
    {
     "data": {
      "text/plain": [
       "array([10,  9,  5,  3, 10,  1,  5, 10, 10, 10,  9, 10, 10,  3,  9,  3, 10,\n",
       "       10,  6, 10])"
      ]
     },
     "execution_count": 28,
     "metadata": {},
     "output_type": "execute_result"
    }
   ],
   "source": [
    "arr2[arr2 > 10]=10\n",
    "arr2"
   ]
  },
  {
   "cell_type": "code",
   "execution_count": 29,
   "id": "2b8e8817",
   "metadata": {},
   "outputs": [
    {
     "data": {
      "text/plain": [
       "array([[ 2, 34, 21,  9, 46],\n",
       "       [30, 18, 47,  2,  3],\n",
       "       [17, 26, 10, 35, 22],\n",
       "       [37, 10, 27, 13,  4],\n",
       "       [38,  8, 15,  3, 35]])"
      ]
     },
     "execution_count": 29,
     "metadata": {},
     "output_type": "execute_result"
    }
   ],
   "source": [
    "m = np.random.randint(1,50, 25).reshape(5,-1)\n",
    "m"
   ]
  },
  {
   "cell_type": "code",
   "execution_count": 30,
   "id": "74a0643d",
   "metadata": {},
   "outputs": [
    {
     "data": {
      "text/plain": [
       "array([[18, 47,  2],\n",
       "       [26, 10, 35],\n",
       "       [10, 27, 13]])"
      ]
     },
     "execution_count": 30,
     "metadata": {},
     "output_type": "execute_result"
    }
   ],
   "source": [
    "m[1:-1,1:-1]"
   ]
  },
  {
   "cell_type": "code",
   "execution_count": 31,
   "id": "00bc068c",
   "metadata": {},
   "outputs": [
    {
     "data": {
      "text/plain": [
       "array([[ 2, 34, 21,  9, 46],\n",
       "       [30, 18, 47,  2,  3]])"
      ]
     },
     "execution_count": 31,
     "metadata": {},
     "output_type": "execute_result"
    }
   ],
   "source": [
    "m[[True, True, False, False, False]]"
   ]
  },
  {
   "cell_type": "code",
   "execution_count": 32,
   "id": "d1018109",
   "metadata": {},
   "outputs": [
    {
     "data": {
      "text/plain": [
       "array([[30, 18, 47,  2,  3],\n",
       "       [37, 10, 27, 13,  4],\n",
       "       [ 2, 34, 21,  9, 46]])"
      ]
     },
     "execution_count": 32,
     "metadata": {},
     "output_type": "execute_result"
    }
   ],
   "source": [
    "m[[1,3,0]]"
   ]
  },
  {
   "cell_type": "code",
   "execution_count": 33,
   "id": "e6ddebdf",
   "metadata": {},
   "outputs": [
    {
     "data": {
      "text/plain": [
       "array([[ 2, 34, 21,  9, 46],\n",
       "       [30, 18, 47,  2,  3],\n",
       "       [17, 26, 10, 35, 22],\n",
       "       [37, 10, 27, 13,  4],\n",
       "       [38,  8, 15,  3, 35]])"
      ]
     },
     "execution_count": 33,
     "metadata": {},
     "output_type": "execute_result"
    }
   ],
   "source": [
    "m"
   ]
  },
  {
   "cell_type": "code",
   "execution_count": 34,
   "id": "c451a7eb",
   "metadata": {},
   "outputs": [
    {
     "data": {
      "text/plain": [
       "array([[ 2, 30, 21,  9, 30],\n",
       "       [30, 18, 30,  2,  3],\n",
       "       [17, 26, 10, 30, 22],\n",
       "       [30, 10, 27, 13,  4],\n",
       "       [30,  8, 15,  3, 30]])"
      ]
     },
     "execution_count": 34,
     "metadata": {},
     "output_type": "execute_result"
    }
   ],
   "source": [
    "np.where(m>30,30,m)"
   ]
  },
  {
   "cell_type": "code",
   "execution_count": 35,
   "id": "8bcc64ba",
   "metadata": {},
   "outputs": [
    {
     "data": {
      "text/plain": [
       "512"
      ]
     },
     "execution_count": 35,
     "metadata": {},
     "output_type": "execute_result"
    }
   ],
   "source": [
    "m.sum()"
   ]
  },
  {
   "cell_type": "code",
   "execution_count": 36,
   "id": "5c4ba27a",
   "metadata": {},
   "outputs": [
    {
     "data": {
      "text/plain": [
       "array([124,  96, 120,  62, 110])"
      ]
     },
     "execution_count": 36,
     "metadata": {},
     "output_type": "execute_result"
    }
   ],
   "source": [
    "m.sum(axis=0)"
   ]
  },
  {
   "cell_type": "code",
   "execution_count": 37,
   "id": "810a4d02",
   "metadata": {},
   "outputs": [
    {
     "data": {
      "text/plain": [
       "array([112, 100, 110,  91,  99])"
      ]
     },
     "execution_count": 37,
     "metadata": {},
     "output_type": "execute_result"
    }
   ],
   "source": [
    "m.sum(axis=1)"
   ]
  },
  {
   "cell_type": "code",
   "execution_count": 39,
   "id": "df115204",
   "metadata": {},
   "outputs": [
    {
     "name": "stdout",
     "output_type": "stream",
     "text": [
      "[23 42 24 25 44 32 20 32 27 44 26 40 22 36 27  5  8 25  3 19 31 36 25  8\n",
      " 45]\n"
     ]
    },
    {
     "data": {
      "text/plain": [
       "array([ 23,  65,  89, 114, 158, 190, 210, 242, 269, 313, 339, 379, 401,\n",
       "       437, 464, 469, 477, 502, 505, 524, 555, 591, 616, 624, 669],\n",
       "      dtype=int32)"
      ]
     },
     "execution_count": 39,
     "metadata": {},
     "output_type": "execute_result"
    }
   ],
   "source": [
    "m = np.random.randint(1,50, 25)\n",
    "print(m)\n",
    "np.cumsum(m)"
   ]
  },
  {
   "cell_type": "code",
   "execution_count": 40,
   "id": "ddf096ac",
   "metadata": {},
   "outputs": [],
   "source": [
    "x = np.random.randint (0, 50, 1000)\n",
    "y = x + np.random.normal (0, 10, 1000)\n",
    "\n",
    "t = np.corrcoef(x,y)"
   ]
  },
  {
   "cell_type": "code",
   "execution_count": 41,
   "id": "e7caaa86",
   "metadata": {},
   "outputs": [
    {
     "data": {
      "text/plain": [
       "array([[1.        , 0.80572369],\n",
       "       [0.80572369, 1.        ]])"
      ]
     },
     "execution_count": 41,
     "metadata": {},
     "output_type": "execute_result"
    }
   ],
   "source": [
    "t"
   ]
  },
  {
   "cell_type": "code",
   "execution_count": 42,
   "id": "f097df12",
   "metadata": {},
   "outputs": [
    {
     "data": {
      "text/plain": [
       "80.57"
      ]
     },
     "execution_count": 42,
     "metadata": {},
     "output_type": "execute_result"
    }
   ],
   "source": [
    "round(t[1][0] * 100,2)"
   ]
  },
  {
   "cell_type": "code",
   "execution_count": 43,
   "id": "c1faa31c",
   "metadata": {},
   "outputs": [
    {
     "data": {
      "text/plain": [
       "array([23, 42, 24, 25, 44, 32, 20, 32, 27, 44, 26, 40, 22, 36, 27,  5,  8,\n",
       "       25,  3, 19, 31, 36, 25,  8, 45])"
      ]
     },
     "execution_count": 43,
     "metadata": {},
     "output_type": "execute_result"
    }
   ],
   "source": [
    "m"
   ]
  },
  {
   "cell_type": "code",
   "execution_count": 45,
   "id": "f9dc9393",
   "metadata": {},
   "outputs": [
    {
     "data": {
      "text/plain": [
       "True"
      ]
     },
     "execution_count": 45,
     "metadata": {},
     "output_type": "execute_result"
    }
   ],
   "source": [
    "np.any(m>30)"
   ]
  },
  {
   "cell_type": "code",
   "execution_count": 46,
   "id": "0a3b4b46",
   "metadata": {},
   "outputs": [
    {
     "data": {
      "text/plain": [
       "False"
      ]
     },
     "execution_count": 46,
     "metadata": {},
     "output_type": "execute_result"
    }
   ],
   "source": [
    "np.all(m>30)"
   ]
  },
  {
   "cell_type": "code",
   "execution_count": 58,
   "id": "51b36dfa",
   "metadata": {},
   "outputs": [
    {
     "data": {
      "text/plain": [
       "array([[22, 43, 25, 17,  6, 45, 40, 30,  4, 38],\n",
       "       [13, 10, 45, 11, 13,  3, 27, 42, 46, 16],\n",
       "       [21, 28, 38, 32, 43, 38, 10, 17, 15, 22],\n",
       "       [ 5, 23, 46, 46,  7, 12, 14, 34, 46, 46],\n",
       "       [14, 31, 42, 44, 27, 19, 35, 43, 25,  6],\n",
       "       [19, 39, 39, 42, 41, 44,  3, 23,  8, 36],\n",
       "       [45, 16, 30, 42, 15, 48, 42, 13, 31, 48],\n",
       "       [27, 38, 39,  1,  3, 30, 38, 27,  9, 42],\n",
       "       [18, 43, 36, 31,  7, 12, 36, 13, 25, 16],\n",
       "       [16, 20, 48, 22, 25, 19,  6, 34, 16, 15],\n",
       "       [42, 20,  2,  9, 12, 37, 43, 21,  9, 25],\n",
       "       [20, 38, 27, 37, 17, 40, 46, 39, 42,  6],\n",
       "       [24,  2, 30, 45, 15, 26, 17, 40, 34, 38],\n",
       "       [ 3, 19, 47, 31, 20, 10, 25,  7,  3, 23],\n",
       "       [28, 44, 45, 33, 37, 23, 35, 43,  7, 49],\n",
       "       [11, 17, 26,  8, 35,  5,  8, 23, 42,  8],\n",
       "       [ 5, 25, 20, 11, 26, 29,  4, 41, 28,  2],\n",
       "       [45, 33, 25, 14,  5, 36, 19, 36, 33, 11],\n",
       "       [45,  4, 17, 34,  1, 24, 30, 44,  8, 20],\n",
       "       [40, 38, 36, 49, 49, 44, 15, 18, 47, 44]])"
      ]
     },
     "execution_count": 58,
     "metadata": {},
     "output_type": "execute_result"
    }
   ],
   "source": [
    "m = np.random.randint(1,50,200).reshape(20,-1)\n",
    "m"
   ]
  },
  {
   "cell_type": "code",
   "execution_count": 59,
   "id": "1d96fda7",
   "metadata": {},
   "outputs": [],
   "source": [
    "np.savetxt(\"../ficheros/matriz.csv\", m, delimiter=';', fmt=\"%d\")"
   ]
  },
  {
   "cell_type": "code",
   "execution_count": 60,
   "id": "3afa5c9b",
   "metadata": {},
   "outputs": [
    {
     "data": {
      "text/plain": [
       "array([[32.25, 30.  , 22.5 , 16.5 , 23.25,  3.  , 27.  , 10.5 ,  8.25,\n",
       "         9.  ],\n",
       "       [36.  , 26.25, 18.  , 18.75,  5.25, 21.  , 10.5 , 36.  , 12.  ,\n",
       "        29.25],\n",
       "       [ 9.  , 27.  , 30.  , 24.75,  8.25, 29.25, 18.75, 18.75,  3.  ,\n",
       "         0.75],\n",
       "       [33.  , 19.5 ,  9.  , 11.25, 27.75,  5.25,  6.  ,  3.  , 12.75,\n",
       "        14.25],\n",
       "       [13.5 , 21.75,  5.25, 12.75, 36.75,  6.75,  5.25, 30.75, 33.  ,\n",
       "        25.5 ],\n",
       "       [ 5.25,  9.  , 27.  , 33.  , 35.25,  6.  ,  5.25, 35.25, 25.5 ,\n",
       "         8.25],\n",
       "       [30.75,  6.75, 24.  ,  4.5 , 11.25, 18.  ,  6.75, 15.75, 12.75,\n",
       "        30.75],\n",
       "       [28.5 , 12.75, 10.5 , 10.5 ,  3.75,  9.75, 14.25,  8.25, 14.25,\n",
       "         3.  ],\n",
       "       [19.5 ,  1.5 ,  2.25, 34.5 , 33.  , 14.25,  2.25, 21.  , 12.75,\n",
       "        15.75],\n",
       "       [33.  , 16.5 , 31.5 , 23.25, 32.25, 27.  , 18.  ,  6.  , 12.  ,\n",
       "        21.75],\n",
       "       [13.5 ,  5.25, 29.25, 28.5 , 21.75, 20.25, 30.75,  4.5 , 24.75,\n",
       "        21.75],\n",
       "       [30.  , 23.25, 33.75,  1.5 ,  6.75, 34.5 , 21.75, 31.5 , 16.5 ,\n",
       "         8.25],\n",
       "       [25.5 , 24.75, 10.5 , 28.5 , 20.25, 33.75, 22.5 ,  0.75, 24.  ,\n",
       "        26.25],\n",
       "       [33.75,  4.5 , 23.25, 18.75, 36.75, 12.75, 26.25, 18.75,  7.5 ,\n",
       "        14.25],\n",
       "       [12.  ,  2.25, 17.25, 11.25,  3.75, 25.5 , 34.5 , 23.25, 30.75,\n",
       "        18.75],\n",
       "       [21.75, 33.  , 23.25, 24.75, 36.75, 21.  , 18.75,  8.25, 23.25,\n",
       "         8.25],\n",
       "       [28.5 , 25.5 ,  6.75,  2.25, 19.5 , 30.  , 14.25,  9.  , 28.5 ,\n",
       "        21.  ],\n",
       "       [35.25, 32.25,  3.  , 25.5 , 30.75,  6.75, 23.25,  0.75,  2.25,\n",
       "        21.  ],\n",
       "       [ 1.5 , 21.  , 13.5 ,  1.5 ,  9.75,  3.  , 36.75, 24.  , 15.  ,\n",
       "        24.  ],\n",
       "       [35.25, 15.  , 13.5 ,  3.75,  2.25, 13.5 , 18.  ,  6.75, 22.5 ,\n",
       "         3.  ]])"
      ]
     },
     "execution_count": 60,
     "metadata": {},
     "output_type": "execute_result"
    }
   ],
   "source": [
    "m2 = np.random.randint(1,50,200).reshape(20,-1)\n",
    "m2 = m2 * 0.75\n",
    "m2"
   ]
  },
  {
   "cell_type": "code",
   "execution_count": 61,
   "id": "4f0f1393",
   "metadata": {},
   "outputs": [],
   "source": [
    "np.savetxt(\"../ficheros/matriz.csv\", m, delimiter=';', fmt=\"%.2f\")"
   ]
  },
  {
   "cell_type": "code",
   "execution_count": 63,
   "id": "48c05897",
   "metadata": {},
   "outputs": [],
   "source": [
    "np.savez_compressed(\"../ficheros/matriz.npz\", a=m, b=m2)\n"
   ]
  },
  {
   "cell_type": "code",
   "execution_count": 65,
   "id": "539c19f0",
   "metadata": {},
   "outputs": [
    {
     "data": {
      "text/plain": [
       "array([[22, 43, 25, 17,  6, 45, 40, 30,  4, 38],\n",
       "       [13, 10, 45, 11, 13,  3, 27, 42, 46, 16],\n",
       "       [21, 28, 38, 32, 43, 38, 10, 17, 15, 22],\n",
       "       [ 5, 23, 46, 46,  7, 12, 14, 34, 46, 46],\n",
       "       [14, 31, 42, 44, 27, 19, 35, 43, 25,  6],\n",
       "       [19, 39, 39, 42, 41, 44,  3, 23,  8, 36],\n",
       "       [45, 16, 30, 42, 15, 48, 42, 13, 31, 48],\n",
       "       [27, 38, 39,  1,  3, 30, 38, 27,  9, 42],\n",
       "       [18, 43, 36, 31,  7, 12, 36, 13, 25, 16],\n",
       "       [16, 20, 48, 22, 25, 19,  6, 34, 16, 15],\n",
       "       [42, 20,  2,  9, 12, 37, 43, 21,  9, 25],\n",
       "       [20, 38, 27, 37, 17, 40, 46, 39, 42,  6],\n",
       "       [24,  2, 30, 45, 15, 26, 17, 40, 34, 38],\n",
       "       [ 3, 19, 47, 31, 20, 10, 25,  7,  3, 23],\n",
       "       [28, 44, 45, 33, 37, 23, 35, 43,  7, 49],\n",
       "       [11, 17, 26,  8, 35,  5,  8, 23, 42,  8],\n",
       "       [ 5, 25, 20, 11, 26, 29,  4, 41, 28,  2],\n",
       "       [45, 33, 25, 14,  5, 36, 19, 36, 33, 11],\n",
       "       [45,  4, 17, 34,  1, 24, 30, 44,  8, 20],\n",
       "       [40, 38, 36, 49, 49, 44, 15, 18, 47, 44]])"
      ]
     },
     "execution_count": 65,
     "metadata": {},
     "output_type": "execute_result"
    }
   ],
   "source": [
    "matrices = np.load(\"../ficheros/matriz.npz\")\n",
    "matrices[\"a\"]"
   ]
  },
  {
   "cell_type": "code",
   "execution_count": 68,
   "id": "ea52ed9d",
   "metadata": {},
   "outputs": [
    {
     "data": {
      "text/plain": [
       "['a', 'b']"
      ]
     },
     "execution_count": 68,
     "metadata": {},
     "output_type": "execute_result"
    }
   ],
   "source": [
    "list(matrices.keys())"
   ]
  },
  {
   "cell_type": "code",
   "execution_count": null,
   "id": "a5751a6b",
   "metadata": {},
   "outputs": [],
   "source": []
  }
 ],
 "metadata": {
  "kernelspec": {
   "display_name": "Python 3 (ipykernel)",
   "language": "python",
   "name": "python3"
  },
  "language_info": {
   "codemirror_mode": {
    "name": "ipython",
    "version": 3
   },
   "file_extension": ".py",
   "mimetype": "text/x-python",
   "name": "python",
   "nbconvert_exporter": "python",
   "pygments_lexer": "ipython3",
   "version": "3.8.5"
  }
 },
 "nbformat": 4,
 "nbformat_minor": 5
}

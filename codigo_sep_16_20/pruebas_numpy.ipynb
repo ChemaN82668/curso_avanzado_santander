{
 "cells": [
  {
   "cell_type": "markdown",
   "id": "02c56a75",
   "metadata": {},
   "source": [
    "## Pruebas con la librería numpy"
   ]
  },
  {
   "cell_type": "code",
   "execution_count": 1,
   "id": "63a94100",
   "metadata": {},
   "outputs": [],
   "source": [
    "import numpy as np"
   ]
  },
  {
   "cell_type": "code",
   "execution_count": 2,
   "id": "1f934435",
   "metadata": {},
   "outputs": [
    {
     "name": "stdout",
     "output_type": "stream",
     "text": [
      "754 ms ± 58.1 ms per loop (mean ± std. dev. of 7 runs, 1 loop each)\n"
     ]
    }
   ],
   "source": [
    "%%timeit\n",
    "\n",
    "L = list(range(1000000))\n",
    "for _ in range(10): L2 = [i*2 for i in L]"
   ]
  },
  {
   "cell_type": "code",
   "execution_count": 3,
   "id": "4542950d",
   "metadata": {},
   "outputs": [
    {
     "name": "stdout",
     "output_type": "stream",
     "text": [
      "16.8 ms ± 407 µs per loop (mean ± std. dev. of 7 runs, 100 loops each)\n"
     ]
    }
   ],
   "source": [
    "%%timeit\n",
    "\n",
    "arr = np.arange(1000000)\n",
    "for _ in range(10): arr2 = arr * 10"
   ]
  },
  {
   "cell_type": "code",
   "execution_count": 4,
   "id": "c5f917da",
   "metadata": {},
   "outputs": [
    {
     "data": {
      "text/plain": [
       "array([1. , 2. , 3. , 4. , 5. , 9.5])"
      ]
     },
     "execution_count": 4,
     "metadata": {},
     "output_type": "execute_result"
    }
   ],
   "source": [
    "arr = np.array([1,2,3,4,5,9.5])\n",
    "arr"
   ]
  },
  {
   "cell_type": "code",
   "execution_count": 5,
   "id": "9dafc9b0",
   "metadata": {},
   "outputs": [
    {
     "data": {
      "text/plain": [
       "numpy.ndarray"
      ]
     },
     "execution_count": 5,
     "metadata": {},
     "output_type": "execute_result"
    }
   ],
   "source": [
    "type(arr)"
   ]
  },
  {
   "cell_type": "code",
   "execution_count": 6,
   "id": "dcfcb85a",
   "metadata": {},
   "outputs": [
    {
     "name": "stdout",
     "output_type": "stream",
     "text": [
      "float64\n",
      "(6,)\n",
      "1\n"
     ]
    }
   ],
   "source": [
    "print(arr.dtype)\n",
    "print(arr.shape)\n",
    "print(arr.ndim)"
   ]
  },
  {
   "cell_type": "code",
   "execution_count": 7,
   "id": "1e163a9d",
   "metadata": {},
   "outputs": [
    {
     "name": "stdout",
     "output_type": "stream",
     "text": [
      "[1 2 3 4] uint8\n",
      "[1 2 3 4] uint16\n"
     ]
    }
   ],
   "source": [
    "arr = np.array([1,2,3,4], dtype=np.uint8)\n",
    "arr2 = np.array([1,2,3,4], dtype=\"u2\")\n",
    "\n",
    "print(arr, arr.dtype)\n",
    "print(arr2, arr2.dtype)\n",
    "\n"
   ]
  },
  {
   "cell_type": "code",
   "execution_count": 8,
   "id": "be41190d",
   "metadata": {},
   "outputs": [
    {
     "name": "stdout",
     "output_type": "stream",
     "text": [
      "[1 2 3 4] uint8\n"
     ]
    }
   ],
   "source": [
    "arr3 = np.array([\"1\",\"2\",\"3\",\"4\"], dtype=np.uint8)\n",
    "print(arr3, arr3.dtype)"
   ]
  },
  {
   "cell_type": "code",
   "execution_count": 10,
   "id": "9ed45c2f",
   "metadata": {},
   "outputs": [
    {
     "data": {
      "text/plain": [
       "array(['1', '2', '3', '4', '(5+8j)', '9.5'], dtype='<U64')"
      ]
     },
     "execution_count": 10,
     "metadata": {},
     "output_type": "execute_result"
    }
   ],
   "source": [
    "arr = np.array([1,\"2\",3,4,5+8j,9.5])\n",
    "arr"
   ]
  },
  {
   "cell_type": "code",
   "execution_count": 11,
   "id": "9fe8ad96",
   "metadata": {},
   "outputs": [
    {
     "data": {
      "text/plain": [
       "array([[0., 0., 0., 0., 0., 0.],\n",
       "       [0., 0., 0., 0., 0., 0.],\n",
       "       [0., 0., 0., 0., 0., 0.],\n",
       "       [0., 0., 0., 0., 0., 0.],\n",
       "       [0., 0., 0., 0., 0., 0.]])"
      ]
     },
     "execution_count": 11,
     "metadata": {},
     "output_type": "execute_result"
    }
   ],
   "source": [
    "t = np.zeros((5,6))\n",
    "t"
   ]
  },
  {
   "cell_type": "code",
   "execution_count": 12,
   "id": "e44e7b0b",
   "metadata": {},
   "outputs": [
    {
     "data": {
      "text/plain": [
       "array([[0., 0., 0., 0., 0., 0.],\n",
       "       [0., 0., 0., 0., 0., 0.],\n",
       "       [0., 0., 0., 0., 0., 0.],\n",
       "       [0., 0., 0., 0., 0., 0.],\n",
       "       [0., 0., 0., 0., 0., 0.]])"
      ]
     },
     "execution_count": 12,
     "metadata": {},
     "output_type": "execute_result"
    }
   ],
   "source": [
    "t = np.empty((5,6))\n",
    "t"
   ]
  },
  {
   "cell_type": "code",
   "execution_count": 14,
   "id": "a9b8da15",
   "metadata": {},
   "outputs": [
    {
     "data": {
      "text/plain": [
       "array([[5., 5., 5., 5., 5., 5.],\n",
       "       [5., 5., 5., 5., 5., 5.],\n",
       "       [5., 5., 5., 5., 5., 5.],\n",
       "       [5., 5., 5., 5., 5., 5.],\n",
       "       [5., 5., 5., 5., 5., 5.]])"
      ]
     },
     "execution_count": 14,
     "metadata": {},
     "output_type": "execute_result"
    }
   ],
   "source": [
    "t2 = np.full_like(t, fill_value=5)\n",
    "t2"
   ]
  },
  {
   "cell_type": "code",
   "execution_count": 16,
   "id": "a55a925f",
   "metadata": {},
   "outputs": [
    {
     "data": {
      "text/plain": [
       "array([ 8, 11, 14, 10, 11, 10, 11, 14, 12, 13,  6, 15, 13,  7, 13, 14, 10,\n",
       "       10, 11, 17,  4,  7,  2,  4,  6])"
      ]
     },
     "execution_count": 16,
     "metadata": {},
     "output_type": "execute_result"
    }
   ],
   "source": [
    "arr = np.random.randint(1,20, 25)\n",
    "arr"
   ]
  },
  {
   "cell_type": "code",
   "execution_count": 17,
   "id": "e1978b4f",
   "metadata": {},
   "outputs": [
    {
     "data": {
      "text/plain": [
       "array([18, 21, 24, 20, 21, 20, 21, 24, 22, 23, 16, 25, 23, 17, 23, 24, 20,\n",
       "       20, 21, 27, 14, 17, 12, 14, 16])"
      ]
     },
     "execution_count": 17,
     "metadata": {},
     "output_type": "execute_result"
    }
   ],
   "source": [
    "arr2 = arr + 10\n",
    "arr2"
   ]
  },
  {
   "cell_type": "code",
   "execution_count": 20,
   "id": "d6cb8b5b",
   "metadata": {},
   "outputs": [
    {
     "data": {
      "text/plain": [
       "array([ True,  True,  True,  True,  True,  True,  True,  True,  True,\n",
       "        True,  True,  True,  True,  True,  True,  True,  True,  True,\n",
       "        True,  True, False,  True, False, False,  True])"
      ]
     },
     "execution_count": 20,
     "metadata": {},
     "output_type": "execute_result"
    }
   ],
   "source": [
    "arr2 > 15"
   ]
  },
  {
   "cell_type": "code",
   "execution_count": 21,
   "id": "ac7dae21",
   "metadata": {},
   "outputs": [
    {
     "data": {
      "text/plain": [
       "array([14,  6,  6,  5, 11, 15, 18,  9,  4,  5,  7,  4,  7, 18, 14, 14, 10,\n",
       "       11, 16,  1])"
      ]
     },
     "execution_count": 21,
     "metadata": {},
     "output_type": "execute_result"
    }
   ],
   "source": [
    "arr = np.random.randint(1,20, 20)\n",
    "arr"
   ]
  },
  {
   "cell_type": "code",
   "execution_count": 22,
   "id": "3260febc",
   "metadata": {},
   "outputs": [
    {
     "data": {
      "text/plain": [
       "array([12,  9,  5,  3, 19,  1,  5, 16, 10, 12,  9, 11, 16,  3,  9,  3, 18,\n",
       "       11,  6, 19])"
      ]
     },
     "execution_count": 22,
     "metadata": {},
     "output_type": "execute_result"
    }
   ],
   "source": [
    "arr2 = np.random.randint(1,20, 20)\n",
    "arr2"
   ]
  },
  {
   "cell_type": "code",
   "execution_count": 23,
   "id": "8efe9119",
   "metadata": {},
   "outputs": [
    {
     "data": {
      "text/plain": [
       "array([14,  9,  6,  5, 19, 15, 18, 16, 10, 12,  9, 11, 16, 18, 14, 14, 18,\n",
       "       11, 16, 19])"
      ]
     },
     "execution_count": 23,
     "metadata": {},
     "output_type": "execute_result"
    }
   ],
   "source": [
    "np.maximum(arr, arr2)"
   ]
  },
  {
   "cell_type": "code",
   "execution_count": 24,
   "id": "2acb018e",
   "metadata": {},
   "outputs": [
    {
     "data": {
      "text/plain": [
       "array([12,  6,  5,  3, 11,  1,  5,  9,  4,  5,  7,  4,  7,  3,  9,  3, 10,\n",
       "       11,  6,  1])"
      ]
     },
     "execution_count": 24,
     "metadata": {},
     "output_type": "execute_result"
    }
   ],
   "source": [
    "np.minimum(arr, arr2)"
   ]
  },
  {
   "cell_type": "code",
   "execution_count": 25,
   "id": "175ef5e2",
   "metadata": {},
   "outputs": [
    {
     "data": {
      "text/plain": [
       "9"
      ]
     },
     "execution_count": 25,
     "metadata": {},
     "output_type": "execute_result"
    }
   ],
   "source": [
    "(arr2 > 10).sum()"
   ]
  },
  {
   "cell_type": "code",
   "execution_count": 26,
   "id": "dd7d2be7",
   "metadata": {},
   "outputs": [
    {
     "data": {
      "text/plain": [
       "array([12, 19, 16, 12, 11, 16, 18, 11, 19])"
      ]
     },
     "execution_count": 26,
     "metadata": {},
     "output_type": "execute_result"
    }
   ],
   "source": [
    "arr2[arr2 > 10]"
   ]
  },
  {
   "cell_type": "code",
   "execution_count": 27,
   "id": "74d18ea5",
   "metadata": {},
   "outputs": [
    {
     "data": {
      "text/plain": [
       "array([9, 9, 9, 6])"
      ]
     },
     "execution_count": 27,
     "metadata": {},
     "output_type": "execute_result"
    }
   ],
   "source": [
    "arr2[(arr2 > 5) & (arr2 < 10)]"
   ]
  },
  {
   "cell_type": "code",
   "execution_count": 28,
   "id": "04768a06",
   "metadata": {},
   "outputs": [
    {
     "data": {
      "text/plain": [
       "array([10,  9,  5,  3, 10,  1,  5, 10, 10, 10,  9, 10, 10,  3,  9,  3, 10,\n",
       "       10,  6, 10])"
      ]
     },
     "execution_count": 28,
     "metadata": {},
     "output_type": "execute_result"
    }
   ],
   "source": [
    "arr2[arr2 > 10]=10\n",
    "arr2"
   ]
  },
  {
   "cell_type": "code",
   "execution_count": null,
   "id": "791b0165",
   "metadata": {},
   "outputs": [],
   "source": []
  }
 ],
 "metadata": {
  "kernelspec": {
   "display_name": "Python 3 (ipykernel)",
   "language": "python",
   "name": "python3"
  },
  "language_info": {
   "codemirror_mode": {
    "name": "ipython",
    "version": 3
   },
   "file_extension": ".py",
   "mimetype": "text/x-python",
   "name": "python",
   "nbconvert_exporter": "python",
   "pygments_lexer": "ipython3",
   "version": "3.8.5"
  }
 },
 "nbformat": 4,
 "nbformat_minor": 5
}

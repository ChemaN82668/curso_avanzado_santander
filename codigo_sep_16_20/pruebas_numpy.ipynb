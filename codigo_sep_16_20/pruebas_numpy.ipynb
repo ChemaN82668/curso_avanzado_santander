{
 "cells": [
  {
   "cell_type": "markdown",
   "id": "d95b90ef",
   "metadata": {},
   "source": [
    "## Pruebas con la librería numpy"
   ]
  },
  {
   "cell_type": "code",
   "execution_count": 1,
   "id": "9273baa3",
   "metadata": {},
   "outputs": [],
   "source": [
    "import numpy as np"
   ]
  },
  {
   "cell_type": "code",
   "execution_count": 2,
   "id": "c0ce44d8",
   "metadata": {},
   "outputs": [
    {
     "name": "stdout",
     "output_type": "stream",
     "text": [
      "754 ms ± 58.1 ms per loop (mean ± std. dev. of 7 runs, 1 loop each)\n"
     ]
    }
   ],
   "source": [
    "%%timeit\n",
    "\n",
    "L = list(range(1000000))\n",
    "for _ in range(10): L2 = [i*2 for i in L]"
   ]
  },
  {
   "cell_type": "code",
   "execution_count": 3,
   "id": "0e0d42be",
   "metadata": {},
   "outputs": [
    {
     "name": "stdout",
     "output_type": "stream",
     "text": [
      "16.8 ms ± 407 µs per loop (mean ± std. dev. of 7 runs, 100 loops each)\n"
     ]
    }
   ],
   "source": [
    "%%timeit\n",
    "\n",
    "arr = np.arange(1000000)\n",
    "for _ in range(10): arr2 = arr * 10"
   ]
  },
  {
   "cell_type": "code",
   "execution_count": 4,
   "id": "13473522",
   "metadata": {},
   "outputs": [
    {
     "data": {
      "text/plain": [
       "array([1. , 2. , 3. , 4. , 5. , 9.5])"
      ]
     },
     "execution_count": 4,
     "metadata": {},
     "output_type": "execute_result"
    }
   ],
   "source": [
    "arr = np.array([1,2,3,4,5,9.5])\n",
    "arr"
   ]
  },
  {
   "cell_type": "code",
   "execution_count": 5,
   "id": "18b04e52",
   "metadata": {},
   "outputs": [
    {
     "data": {
      "text/plain": [
       "numpy.ndarray"
      ]
     },
     "execution_count": 5,
     "metadata": {},
     "output_type": "execute_result"
    }
   ],
   "source": [
    "type(arr)"
   ]
  },
  {
   "cell_type": "code",
   "execution_count": 6,
   "id": "0c284115",
   "metadata": {},
   "outputs": [
    {
     "name": "stdout",
     "output_type": "stream",
     "text": [
      "float64\n",
      "(6,)\n",
      "1\n"
     ]
    }
   ],
   "source": [
    "print(arr.dtype)\n",
    "print(arr.shape)\n",
    "print(arr.ndim)"
   ]
  },
  {
   "cell_type": "code",
   "execution_count": 7,
   "id": "f05a8876",
   "metadata": {},
   "outputs": [
    {
     "name": "stdout",
     "output_type": "stream",
     "text": [
      "[1 2 3 4] uint8\n",
      "[1 2 3 4] uint16\n"
     ]
    }
   ],
   "source": [
    "arr = np.array([1,2,3,4], dtype=np.uint8)\n",
    "arr2 = np.array([1,2,3,4], dtype=\"u2\")\n",
    "\n",
    "print(arr, arr.dtype)\n",
    "print(arr2, arr2.dtype)\n",
    "\n"
   ]
  },
  {
   "cell_type": "code",
   "execution_count": 8,
   "id": "cef32371",
   "metadata": {},
   "outputs": [
    {
     "name": "stdout",
     "output_type": "stream",
     "text": [
      "[1 2 3 4] uint8\n"
     ]
    }
   ],
   "source": [
    "arr3 = np.array([\"1\",\"2\",\"3\",\"4\"], dtype=np.uint8)\n",
    "print(arr3, arr3.dtype)"
   ]
  },
  {
   "cell_type": "code",
   "execution_count": 10,
   "id": "e9029766",
   "metadata": {},
   "outputs": [
    {
     "data": {
      "text/plain": [
       "array(['1', '2', '3', '4', '(5+8j)', '9.5'], dtype='<U64')"
      ]
     },
     "execution_count": 10,
     "metadata": {},
     "output_type": "execute_result"
    }
   ],
   "source": [
    "arr = np.array([1,\"2\",3,4,5+8j,9.5])\n",
    "arr"
   ]
  },
  {
   "cell_type": "code",
   "execution_count": 11,
   "id": "95611400",
   "metadata": {},
   "outputs": [
    {
     "data": {
      "text/plain": [
       "array([[0., 0., 0., 0., 0., 0.],\n",
       "       [0., 0., 0., 0., 0., 0.],\n",
       "       [0., 0., 0., 0., 0., 0.],\n",
       "       [0., 0., 0., 0., 0., 0.],\n",
       "       [0., 0., 0., 0., 0., 0.]])"
      ]
     },
     "execution_count": 11,
     "metadata": {},
     "output_type": "execute_result"
    }
   ],
   "source": [
    "t = np.zeros((5,6))\n",
    "t"
   ]
  },
  {
   "cell_type": "code",
   "execution_count": 12,
   "id": "9ef477cd",
   "metadata": {},
   "outputs": [
    {
     "data": {
      "text/plain": [
       "array([[0., 0., 0., 0., 0., 0.],\n",
       "       [0., 0., 0., 0., 0., 0.],\n",
       "       [0., 0., 0., 0., 0., 0.],\n",
       "       [0., 0., 0., 0., 0., 0.],\n",
       "       [0., 0., 0., 0., 0., 0.]])"
      ]
     },
     "execution_count": 12,
     "metadata": {},
     "output_type": "execute_result"
    }
   ],
   "source": [
    "t = np.empty((5,6))\n",
    "t"
   ]
  },
  {
   "cell_type": "code",
   "execution_count": 14,
   "id": "2cb6c7c8",
   "metadata": {},
   "outputs": [
    {
     "data": {
      "text/plain": [
       "array([[5., 5., 5., 5., 5., 5.],\n",
       "       [5., 5., 5., 5., 5., 5.],\n",
       "       [5., 5., 5., 5., 5., 5.],\n",
       "       [5., 5., 5., 5., 5., 5.],\n",
       "       [5., 5., 5., 5., 5., 5.]])"
      ]
     },
     "execution_count": 14,
     "metadata": {},
     "output_type": "execute_result"
    }
   ],
   "source": [
    "t2 = np.full_like(t, fill_value=5)\n",
    "t2"
   ]
  },
  {
   "cell_type": "code",
   "execution_count": 16,
   "id": "9827e6f0",
   "metadata": {},
   "outputs": [
    {
     "data": {
      "text/plain": [
       "array([ 8, 11, 14, 10, 11, 10, 11, 14, 12, 13,  6, 15, 13,  7, 13, 14, 10,\n",
       "       10, 11, 17,  4,  7,  2,  4,  6])"
      ]
     },
     "execution_count": 16,
     "metadata": {},
     "output_type": "execute_result"
    }
   ],
   "source": [
    "arr = np.random.randint(1,20, 25)\n",
    "arr"
   ]
  },
  {
   "cell_type": "code",
   "execution_count": 17,
   "id": "d5701dd2",
   "metadata": {},
   "outputs": [
    {
     "data": {
      "text/plain": [
       "array([18, 21, 24, 20, 21, 20, 21, 24, 22, 23, 16, 25, 23, 17, 23, 24, 20,\n",
       "       20, 21, 27, 14, 17, 12, 14, 16])"
      ]
     },
     "execution_count": 17,
     "metadata": {},
     "output_type": "execute_result"
    }
   ],
   "source": [
    "arr2 = arr + 10\n",
    "arr2"
   ]
  },
  {
   "cell_type": "code",
   "execution_count": 20,
   "id": "bd5a3295",
   "metadata": {},
   "outputs": [
    {
     "data": {
      "text/plain": [
       "array([ True,  True,  True,  True,  True,  True,  True,  True,  True,\n",
       "        True,  True,  True,  True,  True,  True,  True,  True,  True,\n",
       "        True,  True, False,  True, False, False,  True])"
      ]
     },
     "execution_count": 20,
     "metadata": {},
     "output_type": "execute_result"
    }
   ],
   "source": [
    "arr2 > 15"
   ]
  },
  {
   "cell_type": "code",
   "execution_count": 21,
   "id": "5101c95a",
   "metadata": {},
   "outputs": [
    {
     "data": {
      "text/plain": [
       "array([14,  6,  6,  5, 11, 15, 18,  9,  4,  5,  7,  4,  7, 18, 14, 14, 10,\n",
       "       11, 16,  1])"
      ]
     },
     "execution_count": 21,
     "metadata": {},
     "output_type": "execute_result"
    }
   ],
   "source": [
    "arr = np.random.randint(1,20, 20)\n",
    "arr"
   ]
  },
  {
   "cell_type": "code",
   "execution_count": 22,
   "id": "91fc519a",
   "metadata": {},
   "outputs": [
    {
     "data": {
      "text/plain": [
       "array([12,  9,  5,  3, 19,  1,  5, 16, 10, 12,  9, 11, 16,  3,  9,  3, 18,\n",
       "       11,  6, 19])"
      ]
     },
     "execution_count": 22,
     "metadata": {},
     "output_type": "execute_result"
    }
   ],
   "source": [
    "arr2 = np.random.randint(1,20, 20)\n",
    "arr2"
   ]
  },
  {
   "cell_type": "code",
   "execution_count": 23,
   "id": "c73d213d",
   "metadata": {},
   "outputs": [
    {
     "data": {
      "text/plain": [
       "array([14,  9,  6,  5, 19, 15, 18, 16, 10, 12,  9, 11, 16, 18, 14, 14, 18,\n",
       "       11, 16, 19])"
      ]
     },
     "execution_count": 23,
     "metadata": {},
     "output_type": "execute_result"
    }
   ],
   "source": [
    "np.maximum(arr, arr2)"
   ]
  },
  {
   "cell_type": "code",
   "execution_count": 24,
   "id": "3e1dfcf4",
   "metadata": {},
   "outputs": [
    {
     "data": {
      "text/plain": [
       "array([12,  6,  5,  3, 11,  1,  5,  9,  4,  5,  7,  4,  7,  3,  9,  3, 10,\n",
       "       11,  6,  1])"
      ]
     },
     "execution_count": 24,
     "metadata": {},
     "output_type": "execute_result"
    }
   ],
   "source": [
    "np.minimum(arr, arr2)"
   ]
  },
  {
   "cell_type": "code",
   "execution_count": 25,
   "id": "433a9328",
   "metadata": {},
   "outputs": [
    {
     "data": {
      "text/plain": [
       "9"
      ]
     },
     "execution_count": 25,
     "metadata": {},
     "output_type": "execute_result"
    }
   ],
   "source": [
    "(arr2 > 10).sum()"
   ]
  },
  {
   "cell_type": "code",
   "execution_count": 26,
   "id": "c2f72d69",
   "metadata": {},
   "outputs": [
    {
     "data": {
      "text/plain": [
       "array([12, 19, 16, 12, 11, 16, 18, 11, 19])"
      ]
     },
     "execution_count": 26,
     "metadata": {},
     "output_type": "execute_result"
    }
   ],
   "source": [
    "arr2[arr2 > 10]"
   ]
  },
  {
   "cell_type": "code",
   "execution_count": 27,
   "id": "3922dc8b",
   "metadata": {},
   "outputs": [
    {
     "data": {
      "text/plain": [
       "array([9, 9, 9, 6])"
      ]
     },
     "execution_count": 27,
     "metadata": {},
     "output_type": "execute_result"
    }
   ],
   "source": [
    "arr2[(arr2 > 5) & (arr2 < 10)]"
   ]
  },
  {
   "cell_type": "code",
   "execution_count": 28,
   "id": "2f60edc0",
   "metadata": {},
   "outputs": [
    {
     "data": {
      "text/plain": [
       "array([10,  9,  5,  3, 10,  1,  5, 10, 10, 10,  9, 10, 10,  3,  9,  3, 10,\n",
       "       10,  6, 10])"
      ]
     },
     "execution_count": 28,
     "metadata": {},
     "output_type": "execute_result"
    }
   ],
   "source": [
    "arr2[arr2 > 10]=10\n",
    "arr2"
   ]
  },
  {
   "cell_type": "code",
   "execution_count": 29,
   "id": "346336a9",
   "metadata": {},
   "outputs": [
    {
     "data": {
      "text/plain": [
       "array([[ 2, 34, 21,  9, 46],\n",
       "       [30, 18, 47,  2,  3],\n",
       "       [17, 26, 10, 35, 22],\n",
       "       [37, 10, 27, 13,  4],\n",
       "       [38,  8, 15,  3, 35]])"
      ]
     },
     "execution_count": 29,
     "metadata": {},
     "output_type": "execute_result"
    }
   ],
   "source": [
    "m = np.random.randint(1,50, 25).reshape(5,-1)\n",
    "m"
   ]
  },
  {
   "cell_type": "code",
   "execution_count": 30,
   "id": "c795fd5f",
   "metadata": {},
   "outputs": [
    {
     "data": {
      "text/plain": [
       "array([[18, 47,  2],\n",
       "       [26, 10, 35],\n",
       "       [10, 27, 13]])"
      ]
     },
     "execution_count": 30,
     "metadata": {},
     "output_type": "execute_result"
    }
   ],
   "source": [
    "m[1:-1,1:-1]"
   ]
  },
  {
   "cell_type": "code",
   "execution_count": 31,
   "id": "faffcfac",
   "metadata": {},
   "outputs": [
    {
     "data": {
      "text/plain": [
       "array([[ 2, 34, 21,  9, 46],\n",
       "       [30, 18, 47,  2,  3]])"
      ]
     },
     "execution_count": 31,
     "metadata": {},
     "output_type": "execute_result"
    }
   ],
   "source": [
    "m[[True, True, False, False, False]]"
   ]
  },
  {
   "cell_type": "code",
   "execution_count": 32,
   "id": "52063335",
   "metadata": {},
   "outputs": [
    {
     "data": {
      "text/plain": [
       "array([[30, 18, 47,  2,  3],\n",
       "       [37, 10, 27, 13,  4],\n",
       "       [ 2, 34, 21,  9, 46]])"
      ]
     },
     "execution_count": 32,
     "metadata": {},
     "output_type": "execute_result"
    }
   ],
   "source": [
    "m[[1,3,0]]"
   ]
  },
  {
   "cell_type": "code",
   "execution_count": 33,
   "id": "b5b3e14b",
   "metadata": {},
   "outputs": [
    {
     "data": {
      "text/plain": [
       "array([[ 2, 34, 21,  9, 46],\n",
       "       [30, 18, 47,  2,  3],\n",
       "       [17, 26, 10, 35, 22],\n",
       "       [37, 10, 27, 13,  4],\n",
       "       [38,  8, 15,  3, 35]])"
      ]
     },
     "execution_count": 33,
     "metadata": {},
     "output_type": "execute_result"
    }
   ],
   "source": [
    "m"
   ]
  },
  {
   "cell_type": "code",
   "execution_count": 34,
   "id": "7d359871",
   "metadata": {},
   "outputs": [
    {
     "data": {
      "text/plain": [
       "array([[ 2, 30, 21,  9, 30],\n",
       "       [30, 18, 30,  2,  3],\n",
       "       [17, 26, 10, 30, 22],\n",
       "       [30, 10, 27, 13,  4],\n",
       "       [30,  8, 15,  3, 30]])"
      ]
     },
     "execution_count": 34,
     "metadata": {},
     "output_type": "execute_result"
    }
   ],
   "source": [
    "np.where(m>30,30,m)"
   ]
  },
  {
   "cell_type": "code",
   "execution_count": 35,
   "id": "1b8cd3fb",
   "metadata": {},
   "outputs": [
    {
     "data": {
      "text/plain": [
       "512"
      ]
     },
     "execution_count": 35,
     "metadata": {},
     "output_type": "execute_result"
    }
   ],
   "source": [
    "m.sum()"
   ]
  },
  {
   "cell_type": "code",
   "execution_count": 36,
   "id": "601469e0",
   "metadata": {},
   "outputs": [
    {
     "data": {
      "text/plain": [
       "array([124,  96, 120,  62, 110])"
      ]
     },
     "execution_count": 36,
     "metadata": {},
     "output_type": "execute_result"
    }
   ],
   "source": [
    "m.sum(axis=0)"
   ]
  },
  {
   "cell_type": "code",
   "execution_count": 37,
   "id": "403cd097",
   "metadata": {},
   "outputs": [
    {
     "data": {
      "text/plain": [
       "array([112, 100, 110,  91,  99])"
      ]
     },
     "execution_count": 37,
     "metadata": {},
     "output_type": "execute_result"
    }
   ],
   "source": [
    "m.sum(axis=1)"
   ]
  },
  {
   "cell_type": "code",
   "execution_count": 39,
   "id": "119aba94",
   "metadata": {},
   "outputs": [
    {
     "name": "stdout",
     "output_type": "stream",
     "text": [
      "[23 42 24 25 44 32 20 32 27 44 26 40 22 36 27  5  8 25  3 19 31 36 25  8\n",
      " 45]\n"
     ]
    },
    {
     "data": {
      "text/plain": [
       "array([ 23,  65,  89, 114, 158, 190, 210, 242, 269, 313, 339, 379, 401,\n",
       "       437, 464, 469, 477, 502, 505, 524, 555, 591, 616, 624, 669],\n",
       "      dtype=int32)"
      ]
     },
     "execution_count": 39,
     "metadata": {},
     "output_type": "execute_result"
    }
   ],
   "source": [
    "m = np.random.randint(1,50, 25)\n",
    "print(m)\n",
    "np.cumsum(m)"
   ]
  },
  {
   "cell_type": "code",
   "execution_count": 40,
   "id": "9c5ce450",
   "metadata": {},
   "outputs": [],
   "source": [
    "x = np.random.randint (0, 50, 1000)\n",
    "y = x + np.random.normal (0, 10, 1000)\n",
    "\n",
    "t = np.corrcoef(x,y)"
   ]
  },
  {
   "cell_type": "code",
   "execution_count": 41,
   "id": "eff53a72",
   "metadata": {},
   "outputs": [
    {
     "data": {
      "text/plain": [
       "array([[1.        , 0.80572369],\n",
       "       [0.80572369, 1.        ]])"
      ]
     },
     "execution_count": 41,
     "metadata": {},
     "output_type": "execute_result"
    }
   ],
   "source": [
    "t"
   ]
  },
  {
   "cell_type": "code",
   "execution_count": 42,
   "id": "b503e163",
   "metadata": {},
   "outputs": [
    {
     "data": {
      "text/plain": [
       "80.57"
      ]
     },
     "execution_count": 42,
     "metadata": {},
     "output_type": "execute_result"
    }
   ],
   "source": [
    "round(t[1][0] * 100,2)"
   ]
  },
  {
   "cell_type": "code",
   "execution_count": 43,
   "id": "57dc2b32",
   "metadata": {},
   "outputs": [
    {
     "data": {
      "text/plain": [
       "array([23, 42, 24, 25, 44, 32, 20, 32, 27, 44, 26, 40, 22, 36, 27,  5,  8,\n",
       "       25,  3, 19, 31, 36, 25,  8, 45])"
      ]
     },
     "execution_count": 43,
     "metadata": {},
     "output_type": "execute_result"
    }
   ],
   "source": [
    "m"
   ]
  },
  {
   "cell_type": "code",
   "execution_count": 45,
   "id": "3311f568",
   "metadata": {},
   "outputs": [
    {
     "data": {
      "text/plain": [
       "True"
      ]
     },
     "execution_count": 45,
     "metadata": {},
     "output_type": "execute_result"
    }
   ],
   "source": [
    "np.any(m>30)"
   ]
  },
  {
   "cell_type": "code",
   "execution_count": 46,
   "id": "e867fd44",
   "metadata": {},
   "outputs": [
    {
     "data": {
      "text/plain": [
       "False"
      ]
     },
     "execution_count": 46,
     "metadata": {},
     "output_type": "execute_result"
    }
   ],
   "source": [
    "np.all(m>30)"
   ]
  },
  {
   "cell_type": "code",
   "execution_count": 47,
   "id": "eb7d4e0e",
   "metadata": {},
   "outputs": [
    {
     "data": {
      "text/plain": [
       "array([[22,  9, 48, 36, 45, 39, 45,  3, 18, 30],\n",
       "       [13,  7, 20,  3, 16,  3, 38, 16, 10, 12],\n",
       "       [23, 10, 37,  7, 44, 11, 45, 32, 42, 24],\n",
       "       [34,  2, 28,  6, 13,  7,  9,  4, 16,  4],\n",
       "       [ 7, 18, 20, 22,  9, 39, 39, 49, 35, 13],\n",
       "       [ 3,  8, 28, 18,  7, 48, 13, 27, 37, 15],\n",
       "       [49, 45, 27, 49, 10, 30, 20, 47, 29, 26],\n",
       "       [10, 27, 46, 38, 49,  7, 13, 21, 24, 14],\n",
       "       [14, 22, 28, 31,  2, 32, 28, 43,  8, 28],\n",
       "       [ 4, 18, 21,  2, 16, 23,  5, 21,  4,  9],\n",
       "       [25, 33, 32,  5, 10, 39, 25, 18, 48, 37],\n",
       "       [25, 11,  3, 42, 35,  6, 27, 20, 38,  1],\n",
       "       [21, 20, 39,  7, 49, 36,  5, 18, 41,  1],\n",
       "       [28, 33, 49, 39, 44, 26, 37, 49, 18, 38],\n",
       "       [16, 17, 28, 19, 19, 14, 32, 23, 44, 20],\n",
       "       [ 9,  1, 41,  1, 48,  3,  2, 42, 33, 39],\n",
       "       [45, 18, 40, 32,  6, 27, 10, 35, 23, 32],\n",
       "       [16, 21, 19, 21, 12, 41, 20,  9,  2, 19],\n",
       "       [ 4, 26, 22, 14, 11, 25,  4,  9, 11,  7],\n",
       "       [12,  7, 44, 15, 36, 37, 38,  9, 32, 28]])"
      ]
     },
     "execution_count": 47,
     "metadata": {},
     "output_type": "execute_result"
    }
   ],
   "source": [
    "m = np.random.randint(1,50,200).reshape(20,-1)\n",
    "m"
   ]
  },
  {
   "cell_type": "code",
   "execution_count": 54,
   "id": "0964ddc4",
   "metadata": {},
   "outputs": [],
   "source": [
    "np.savetxt(\"../ficheros/matriz.csv\", m, delimiter=';', fmt=\"%d\")"
   ]
  },
  {
   "cell_type": "code",
   "execution_count": 55,
   "id": "6f9b4c21",
   "metadata": {},
   "outputs": [
    {
     "data": {
      "text/plain": [
       "array([[20.25,  7.5 , 32.25, 27.  ,  2.25,  6.  , 23.25, 27.75,  0.75,\n",
       "        17.25],\n",
       "       [14.25,  7.5 , 18.  , 21.  , 31.5 , 27.  , 21.  , 15.75, 33.  ,\n",
       "        25.5 ],\n",
       "       [30.75, 24.  ,  9.  , 21.75, 15.75,  6.75,  2.25, 12.75,  0.75,\n",
       "        15.75],\n",
       "       [10.5 ,  5.25, 30.  , 20.25, 11.25, 30.75,  9.75,  6.75, 11.25,\n",
       "        22.5 ],\n",
       "       [15.  , 24.75,  9.75, 18.75, 33.  ,  9.  , 27.75,  7.5 , 13.5 ,\n",
       "        18.  ],\n",
       "       [12.  , 20.25, 34.5 , 26.25,  7.5 , 27.75,  6.  ,  5.25, 28.5 ,\n",
       "        34.5 ],\n",
       "       [18.75,  7.5 , 13.5 , 30.  ,  9.  ,  8.25,  9.  , 24.75, 10.5 ,\n",
       "        33.  ],\n",
       "       [30.75, 23.25,  9.75, 18.  , 35.25, 30.75,  9.75,  7.5 , 33.  ,\n",
       "        28.5 ],\n",
       "       [23.25, 21.  , 30.75, 34.5 , 34.5 , 21.  , 22.5 ,  5.25,  0.75,\n",
       "        12.  ],\n",
       "       [ 2.25, 21.75, 18.75,  6.75,  1.5 , 11.25,  0.75,  5.25, 19.5 ,\n",
       "        27.  ],\n",
       "       [15.75, 36.75,  9.  , 19.5 , 23.25, 15.  , 33.75, 31.5 , 11.25,\n",
       "         4.5 ],\n",
       "       [26.25, 27.75, 10.5 , 35.25, 18.  , 12.75, 19.5 , 15.  , 18.75,\n",
       "        13.5 ],\n",
       "       [33.  , 13.5 ,  5.25, 27.  , 13.5 , 15.75, 24.  , 24.  , 12.  ,\n",
       "        24.75],\n",
       "       [17.25, 10.5 , 16.5 , 15.  , 24.  , 24.  , 30.  , 34.5 , 21.  ,\n",
       "        24.  ],\n",
       "       [ 3.  ,  3.75, 22.5 , 27.  , 29.25, 21.  , 27.  , 21.75, 12.75,\n",
       "        12.75],\n",
       "       [20.25, 32.25, 35.25,  6.  ,  6.75, 30.  ,  7.5 , 23.25, 27.75,\n",
       "         3.75],\n",
       "       [ 9.75, 31.5 ,  4.5 , 22.5 ,  6.  ,  8.25, 10.5 , 33.  , 34.5 ,\n",
       "         2.25],\n",
       "       [33.75, 33.  ,  4.5 , 17.25, 12.  ,  3.  , 21.75,  4.5 , 26.25,\n",
       "        32.25],\n",
       "       [ 9.  ,  8.25, 26.25, 24.  ,  4.5 , 27.75, 23.25,  0.75, 32.25,\n",
       "        36.  ],\n",
       "       [30.75,  1.5 ,  9.  , 33.75, 21.75, 36.75, 31.5 , 12.  , 19.5 ,\n",
       "        11.25]])"
      ]
     },
     "execution_count": 55,
     "metadata": {},
     "output_type": "execute_result"
    }
   ],
   "source": [
    "m = np.random.randint(1,50,200).reshape(20,-1)\n",
    "m = m * 0.75\n",
    "m"
   ]
  },
  {
   "cell_type": "code",
   "execution_count": 56,
   "id": "b61e3aa3",
   "metadata": {},
   "outputs": [
    {
     "ename": "PermissionError",
     "evalue": "[Errno 13] Permission denied: '../ficheros/matriz.csv'",
     "output_type": "error",
     "traceback": [
      "\u001b[1;31m---------------------------------------------------------------------------\u001b[0m",
      "\u001b[1;31mPermissionError\u001b[0m                           Traceback (most recent call last)",
      "\u001b[1;32m<ipython-input-56-5f26f969e84b>\u001b[0m in \u001b[0;36m<module>\u001b[1;34m\u001b[0m\n\u001b[1;32m----> 1\u001b[1;33m \u001b[0mnp\u001b[0m\u001b[1;33m.\u001b[0m\u001b[0msavetxt\u001b[0m\u001b[1;33m(\u001b[0m\u001b[1;34m\"../ficheros/matriz.csv\"\u001b[0m\u001b[1;33m,\u001b[0m \u001b[0mm\u001b[0m\u001b[1;33m,\u001b[0m \u001b[0mdelimiter\u001b[0m\u001b[1;33m=\u001b[0m\u001b[1;34m';'\u001b[0m\u001b[1;33m,\u001b[0m \u001b[0mfmt\u001b[0m\u001b[1;33m=\u001b[0m\u001b[1;34m\"%.2f\"\u001b[0m\u001b[1;33m)\u001b[0m\u001b[1;33m\u001b[0m\u001b[1;33m\u001b[0m\u001b[0m\n\u001b[0m",
      "\u001b[1;32m<__array_function__ internals>\u001b[0m in \u001b[0;36msavetxt\u001b[1;34m(*args, **kwargs)\u001b[0m\n",
      "\u001b[1;32mc:\\python38\\lib\\site-packages\\numpy\\lib\\npyio.py\u001b[0m in \u001b[0;36msavetxt\u001b[1;34m(fname, X, fmt, delimiter, newline, header, footer, comments, encoding)\u001b[0m\n\u001b[0;32m   1366\u001b[0m     \u001b[1;32mif\u001b[0m \u001b[0m_is_string_like\u001b[0m\u001b[1;33m(\u001b[0m\u001b[0mfname\u001b[0m\u001b[1;33m)\u001b[0m\u001b[1;33m:\u001b[0m\u001b[1;33m\u001b[0m\u001b[1;33m\u001b[0m\u001b[0m\n\u001b[0;32m   1367\u001b[0m         \u001b[1;31m# datasource doesn't support creating a new file ...\u001b[0m\u001b[1;33m\u001b[0m\u001b[1;33m\u001b[0m\u001b[1;33m\u001b[0m\u001b[0m\n\u001b[1;32m-> 1368\u001b[1;33m         \u001b[0mopen\u001b[0m\u001b[1;33m(\u001b[0m\u001b[0mfname\u001b[0m\u001b[1;33m,\u001b[0m \u001b[1;34m'wt'\u001b[0m\u001b[1;33m)\u001b[0m\u001b[1;33m.\u001b[0m\u001b[0mclose\u001b[0m\u001b[1;33m(\u001b[0m\u001b[1;33m)\u001b[0m\u001b[1;33m\u001b[0m\u001b[1;33m\u001b[0m\u001b[0m\n\u001b[0m\u001b[0;32m   1369\u001b[0m         \u001b[0mfh\u001b[0m \u001b[1;33m=\u001b[0m \u001b[0mnp\u001b[0m\u001b[1;33m.\u001b[0m\u001b[0mlib\u001b[0m\u001b[1;33m.\u001b[0m\u001b[0m_datasource\u001b[0m\u001b[1;33m.\u001b[0m\u001b[0mopen\u001b[0m\u001b[1;33m(\u001b[0m\u001b[0mfname\u001b[0m\u001b[1;33m,\u001b[0m \u001b[1;34m'wt'\u001b[0m\u001b[1;33m,\u001b[0m \u001b[0mencoding\u001b[0m\u001b[1;33m=\u001b[0m\u001b[0mencoding\u001b[0m\u001b[1;33m)\u001b[0m\u001b[1;33m\u001b[0m\u001b[1;33m\u001b[0m\u001b[0m\n\u001b[0;32m   1370\u001b[0m         \u001b[0mown_fh\u001b[0m \u001b[1;33m=\u001b[0m \u001b[1;32mTrue\u001b[0m\u001b[1;33m\u001b[0m\u001b[1;33m\u001b[0m\u001b[0m\n",
      "\u001b[1;31mPermissionError\u001b[0m: [Errno 13] Permission denied: '../ficheros/matriz.csv'"
     ]
    }
   ],
   "source": [
    "np.savetxt(\"../ficheros/matriz.csv\", m, delimiter=';', fmt=\"%.2f\")"
   ]
  },
  {
   "cell_type": "code",
   "execution_count": null,
   "id": "687dd81c",
   "metadata": {},
   "outputs": [],
   "source": []
  }
 ],
 "metadata": {
  "kernelspec": {
   "display_name": "Python 3 (ipykernel)",
   "language": "python",
   "name": "python3"
  },
  "language_info": {
   "codemirror_mode": {
    "name": "ipython",
    "version": 3
   },
   "file_extension": ".py",
   "mimetype": "text/x-python",
   "name": "python",
   "nbconvert_exporter": "python",
   "pygments_lexer": "ipython3",
   "version": "3.8.5"
  }
 },
 "nbformat": 4,
 "nbformat_minor": 5
}

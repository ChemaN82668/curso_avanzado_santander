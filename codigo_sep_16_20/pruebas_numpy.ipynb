{
 "cells": [
  {
   "cell_type": "markdown",
   "id": "109df105",
   "metadata": {},
   "source": [
    "## Pruebas con la librería numpy"
   ]
  },
  {
   "cell_type": "code",
   "execution_count": 1,
   "id": "0f0978cd",
   "metadata": {},
   "outputs": [],
   "source": [
    "import numpy as np"
   ]
  },
  {
   "cell_type": "code",
   "execution_count": 2,
   "id": "890acd09",
   "metadata": {},
   "outputs": [
    {
     "name": "stdout",
     "output_type": "stream",
     "text": [
      "754 ms ± 58.1 ms per loop (mean ± std. dev. of 7 runs, 1 loop each)\n"
     ]
    }
   ],
   "source": [
    "%%timeit\n",
    "\n",
    "L = list(range(1000000))\n",
    "for _ in range(10): L2 = [i*2 for i in L]"
   ]
  },
  {
   "cell_type": "code",
   "execution_count": 3,
   "id": "77c45fde",
   "metadata": {},
   "outputs": [
    {
     "name": "stdout",
     "output_type": "stream",
     "text": [
      "16.8 ms ± 407 µs per loop (mean ± std. dev. of 7 runs, 100 loops each)\n"
     ]
    }
   ],
   "source": [
    "%%timeit\n",
    "\n",
    "arr = np.arange(1000000)\n",
    "for _ in range(10): arr2 = arr * 10"
   ]
  },
  {
   "cell_type": "code",
   "execution_count": 4,
   "id": "0973d9e1",
   "metadata": {},
   "outputs": [
    {
     "data": {
      "text/plain": [
       "array([1. , 2. , 3. , 4. , 5. , 9.5])"
      ]
     },
     "execution_count": 4,
     "metadata": {},
     "output_type": "execute_result"
    }
   ],
   "source": [
    "arr = np.array([1,2,3,4,5,9.5])\n",
    "arr"
   ]
  },
  {
   "cell_type": "code",
   "execution_count": 5,
   "id": "d14c6a07",
   "metadata": {},
   "outputs": [
    {
     "data": {
      "text/plain": [
       "numpy.ndarray"
      ]
     },
     "execution_count": 5,
     "metadata": {},
     "output_type": "execute_result"
    }
   ],
   "source": [
    "type(arr)"
   ]
  },
  {
   "cell_type": "code",
   "execution_count": 6,
   "id": "69a5c1b8",
   "metadata": {},
   "outputs": [
    {
     "name": "stdout",
     "output_type": "stream",
     "text": [
      "float64\n",
      "(6,)\n",
      "1\n"
     ]
    }
   ],
   "source": [
    "print(arr.dtype)\n",
    "print(arr.shape)\n",
    "print(arr.ndim)"
   ]
  },
  {
   "cell_type": "code",
   "execution_count": 7,
   "id": "4a0c0b74",
   "metadata": {},
   "outputs": [
    {
     "name": "stdout",
     "output_type": "stream",
     "text": [
      "[1 2 3 4] uint8\n",
      "[1 2 3 4] uint16\n"
     ]
    }
   ],
   "source": [
    "arr = np.array([1,2,3,4], dtype=np.uint8)\n",
    "arr2 = np.array([1,2,3,4], dtype=\"u2\")\n",
    "\n",
    "print(arr, arr.dtype)\n",
    "print(arr2, arr2.dtype)\n",
    "\n"
   ]
  },
  {
   "cell_type": "code",
   "execution_count": null,
   "id": "375454c6",
   "metadata": {},
   "outputs": [],
   "source": []
  }
 ],
 "metadata": {
  "kernelspec": {
   "display_name": "Python 3 (ipykernel)",
   "language": "python",
   "name": "python3"
  },
  "language_info": {
   "codemirror_mode": {
    "name": "ipython",
    "version": 3
   },
   "file_extension": ".py",
   "mimetype": "text/x-python",
   "name": "python",
   "nbconvert_exporter": "python",
   "pygments_lexer": "ipython3",
   "version": "3.8.5"
  }
 },
 "nbformat": 4,
 "nbformat_minor": 5
}
